{
 "cells": [
  {
   "cell_type": "markdown",
   "metadata": {
    "slideshow": {
     "slide_type": "slide"
    }
   },
   "source": [
    "**CS560 - Algorithms and Their Analysis**\n",
    "<br>\n",
    "Date: **4 October 2020**\n",
    "<br>\n",
    "Title: **Midterm 1 - Preparation**\n",
    "\n",
    "The exam will be evaluated at a maximum 20 points. Each problem is 5 points. Each subtask is 1 point.\n"
   ]
  },
  {
   "cell_type": "markdown",
   "metadata": {},
   "source": [
    "<h1 align=\"center\">Part 1: 5 October 2020</h1>"
   ]
  },
  {
   "cell_type": "markdown",
   "metadata": {},
   "source": [
    "- First Part of the Midterm Exam 1 will be related with writing the code using:\n",
    "  - 1A: Brutal force algorithm\n",
    "  - 1B: Divide and Conquer algorithm\n",
    "  - 2A: Heap data structure\n",
    "  - 2B: Quicksort"
   ]
  },
  {
   "cell_type": "markdown",
   "metadata": {},
   "source": [
    "<h1 align=\"center\">Part 2: 7 October 2020</h1>"
   ]
  },
  {
   "cell_type": "markdown",
   "metadata": {},
   "source": [
    "- Second Part of the Midterm Exam 1 will be related with application of:\n",
    "  - 1A: Master Theorem\n",
    "  - 1B: Recursion tree method.\n",
    "  - 2A: Perform the Heapsort procedures manually\n",
    "  - 2B: Perform the Quicksort procedures manually"
   ]
  },
  {
   "cell_type": "markdown",
   "metadata": {
    "slideshow": {
     "slide_type": "slide"
    }
   },
   "source": [
    "<h3 align=\"center\">Master Theorem: Practice Problems</h3>\n",
    "\n",
    "- Lets first remember the definition of the Theorem:\n",
    "\n",
    "  **Theorem**: Let $a \\geq1$ and $b > 1$ be constants, let $f(n)$ be a function, and let $T(n)$ be defined on the nonnegative integers by the recurrence:\n",
    "  \n",
    "  $$T(n) = aT(n/b) + f(n).$$\n",
    "  \n",
    "  Then $T(n)$ has the following **asymptotic bounds**:\n",
    "  \n",
    "  1. If $f(n) = O(n^{\\log_b a-\\epsilon})$ for some constant $\\epsilon > 0$, then $T(n) = \\Theta(n^{\\log_b a})$.\n",
    "  2. If $f(n) = \\Theta(n^{\\log_b a})$, then $T(n) = \\Theta(n^{\\log_b a} \\lg n)$.\n",
    "  3. If $f(n) = \\Omega(n^{\\log_b a + \\epsilon})$ for some constant $\\epsilon > 0$, and if $af(n/b) \\leq cf(n)$ for some constant $c < 1$ and all sufficiently large $n$, then $T(n) = \\Theta(f(n))$.\n",
    "  \n",
    "\n",
    "- For each of the following recurrences, give an expression for the runtime $T (n)$ if the recurrence can be solved with the Master Theorem. \n",
    "\n",
    "- Otherwise, indicate that the Master Theorem does not apply."
   ]
  },
  {
   "cell_type": "markdown",
   "metadata": {
    "slideshow": {
     "slide_type": "slide"
    }
   },
   "source": [
    "1. $$T(n) = 16 T(n/4) + n $$"
   ]
  },
  {
   "cell_type": "markdown",
   "metadata": {
    "slideshow": {
     "slide_type": "slide"
    }
   },
   "source": [
    "2. $$T(n) = 16 T(n/4) + n $$"
   ]
  },
  {
   "cell_type": "markdown",
   "metadata": {
    "slideshow": {
     "slide_type": "slide"
    }
   },
   "source": [
    "3. $$T(n) = 3 T(n/3) + n/2$$"
   ]
  },
  {
   "cell_type": "markdown",
   "metadata": {
    "slideshow": {
     "slide_type": "slide"
    }
   },
   "source": [
    "4. $$T(n) = 7 T(n/3) + n^2$$"
   ]
  },
  {
   "cell_type": "markdown",
   "metadata": {
    "slideshow": {
     "slide_type": "slide"
    }
   },
   "source": [
    "5. $$T(n) = 2^n T(n/2) + n^n$$"
   ]
  },
  {
   "cell_type": "markdown",
   "metadata": {
    "slideshow": {
     "slide_type": "slide"
    }
   },
   "source": [
    "6. $$T(n) = 2T(n/2) + \\frac{n}{\\log n}$$"
   ]
  },
  {
   "cell_type": "markdown",
   "metadata": {
    "slideshow": {
     "slide_type": "slide"
    }
   },
   "source": [
    "7. $$T(n) = 0.5T(n/2) + \\frac{1}{n}$$"
   ]
  },
  {
   "cell_type": "markdown",
   "metadata": {
    "slideshow": {
     "slide_type": "slide"
    }
   },
   "source": [
    "8. $$T(n) = 64 T(n/8) - n^2 \\log n $$"
   ]
  },
  {
   "cell_type": "markdown",
   "metadata": {},
   "source": [
    "<h1 align=\"center\">I wish you good luck on the exam</h1>"
   ]
  }
 ],
 "metadata": {
  "celltoolbar": "Slideshow",
  "kernelspec": {
   "display_name": "Python 3",
   "language": "python",
   "name": "python3"
  },
  "language_info": {
   "codemirror_mode": {
    "name": "ipython",
    "version": 3
   },
   "file_extension": ".py",
   "mimetype": "text/x-python",
   "name": "python",
   "nbconvert_exporter": "python",
   "pygments_lexer": "ipython3",
   "version": "3.7.3"
  }
 },
 "nbformat": 4,
 "nbformat_minor": 2
}
