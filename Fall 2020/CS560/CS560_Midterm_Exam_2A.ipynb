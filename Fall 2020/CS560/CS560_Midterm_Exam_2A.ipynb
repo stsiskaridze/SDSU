{
 "cells": [
  {
   "cell_type": "markdown",
   "metadata": {
    "slideshow": {
     "slide_type": "slide"
    }
   },
   "source": [
    "**CS560 - Algorithms and Their Analysis**\n",
    "<br>\n",
    "Date: **9 November 2020**\n",
    "<br>\n",
    "Title: **Midterm Exam 2 - Part A**\n",
    "\n",
    "You will receive a maximum of **10 points** for this part of the exam.\n",
    "\n",
    "\n",
    "**Points are distributed as follows**:\n",
    "- Problem 1: **5 point**.\n",
    "- Problem 2: **5 point**."
   ]
  },
  {
   "cell_type": "markdown",
   "metadata": {},
   "source": [
    "<h3 align=\"center\">Students ID Number</h3>\n",
    "\n",
    "\n",
    "- In the table below you can see your **ID** number. \n",
    "\n",
    "- Each student has their own unique **ID**.\n",
    "\n",
    "| ID |           Student          |\n",
    "|:--:|:---------------------------|\n",
    "|  1 | Levani   Abuladze          |\n",
    "|  2 | Beka Aivazashvili          |\n",
    "|  3 | Iza   Akhuashvili          |\n",
    "|  4 | Aleksandre   Begiashvili   |\n",
    "|  5 | Levan   Berelidze (He/Him) |\n",
    "|  6 | Daviti   Beriashvili       |\n",
    "|  7 | Giorgi   Chankseliani      |\n",
    "|  8 | Nikoloz   Gabunia          |\n",
    "|  9 | Nino   Giorgadze           |\n",
    "| 10 | Gocha   Gunashvili         |\n",
    "| 11 | Ani   Gverdtsiteli         |\n",
    "| 12 | Tornike   Iarajuli         |\n",
    "| 13 | Tornike   Jajanidze        |\n",
    "| 14 | Saba   Kalmakhelidze       |\n",
    "| 15 | Phuad   Karaev             |\n",
    "| 16 | Tinatin   Kotolashvili     |\n",
    "| 17 | Alexander   Kutaladze      |\n",
    "| 18 | Nineli   Lashkarashvili    |\n",
    "| 19 | Levan   Lobjanidze         |\n",
    "| 20 | Giorgi   Machavariani      |\n",
    "| 21 | Amiran   Malania           |\n",
    "| 22 | Ana   Maludze              |\n",
    "| 23 | Giorgi   Meladze           |\n",
    "| 24 | Marita   Merabishvili      |\n",
    "| 25 | Guga   Mirotadze           |\n",
    "| 26 | Giorgi   Natroshvili       |\n",
    "| 27 | Giorgi   Sandroshvili      |\n",
    "| 28 | Nikoloz   Shalikiani       |\n",
    "| 29 | Giorgi   Sharmiashvili     |\n",
    "| 30 | Ketevan   Shartava         |\n",
    "| 31 | Giorgi   Turdziladze       |"
   ]
  },
  {
   "cell_type": "markdown",
   "metadata": {},
   "source": [
    "<h3 align=\"center\">Problem 1A: Comparing two Strings</h3>\n",
    "\n",
    "- Given two strings $X$ and $Y$. \n",
    "\n",
    "  Determine the smallest set of $Z$ of deletion and insertion of the characters to get string $Y$ from the string $X$.\n",
    " \n",
    "- **Input**:\n",
    "\n",
    "  $X = \"kitten\"$\n",
    "  \n",
    "  $Y = \"sitting\"$\n",
    "\n",
    "-  **Output**:\n",
    "  \n",
    "   $\\text{-k +s i t t -e +i n +g}$\n",
    "  \n",
    "**Hint**: To solve this problem, use **Longest Common Subsequence** $Z$:\n",
    "\n",
    "- If a character is absent in the longest common subsequence $Z$, but present in the input $X$, it must have been **deleted** (indicated by the \"-\").\n",
    "  \n",
    "- If a character is present in the input $Y$, but absent in the longest common subsequence $Z$, it must have been  **inserted**  (indicated by the \"+\").\n",
    "  \n",
    "  \n",
    " \n",
    "\n"
   ]
  },
  {
   "cell_type": "markdown",
   "metadata": {},
   "source": [
    "<h3 align=\"center\">Problem 2A: No Train Delay</h3>\n",
    "\n",
    "- Given a **schedule** containing **arrival** and **departure** time of trains in a station.\n",
    "\n",
    "  Find minimum number of platforms needed in the station to avoid any delay in arrival of the trains.\n",
    "  \n",
    "  \n",
    "- **Input**:\n",
    "\n",
    "  $arrival = \\{1.00, 1.10, 2.00, 2.20, 2.50, 4.00 \\}$\n",
    "  \n",
    "  $departure = \\{1.30, 2.40, 2.20, 3.30, 3.00, 4.20 \\}$\n",
    "  \n",
    "  \n",
    "- **Output**:\n",
    "\n",
    "  $\\text{ Minimum platform needed is 2}$\n",
    "  \n",
    "  \n",
    "**Hint** : **Merge** arrival and departure time of the trains and then **sort** them in ascending order. **Introduce** the **counter** representing the **number of platforms**.\n",
    " \n",
    "- If train is scheduled to **arrive** next, **increase** the counter **by $1$**.\n",
    "\n",
    "- If train is scheduled to **depart** next, **decrease** the counter **by $1$**.\n",
    "\n",
    "- If two trains are scheduled to **arrive** and **depart at the same time, depart** the train first.\n"
   ]
  },
  {
   "cell_type": "markdown",
   "metadata": {},
   "source": [
    "<h1 align=\"center\">Wish you good luck!</h1>"
   ]
  }
 ],
 "metadata": {
  "celltoolbar": "Slideshow",
  "kernelspec": {
   "display_name": "Python 3",
   "language": "python",
   "name": "python3"
  },
  "language_info": {
   "codemirror_mode": {
    "name": "ipython",
    "version": 3
   },
   "file_extension": ".py",
   "mimetype": "text/x-python",
   "name": "python",
   "nbconvert_exporter": "python",
   "pygments_lexer": "ipython3",
   "version": "3.7.3"
  }
 },
 "nbformat": 4,
 "nbformat_minor": 2
}
