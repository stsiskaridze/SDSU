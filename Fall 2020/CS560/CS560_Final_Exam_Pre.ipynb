{
 "cells": [
  {
   "cell_type": "markdown",
   "metadata": {
    "slideshow": {
     "slide_type": "slide"
    }
   },
   "source": [
    "**CS560 - Algorithms and Their Analysis**\n",
    "<br>\n",
    "Date: **15 December 2020 from 10:00 to 13:00**\n",
    "<br>\n",
    "Title: **Final Exam**\n",
    "\n",
    "You will receive a maximum of **30 points** distributed as follows:\n",
    "\n",
    "- **Problem Solving (10 Points)**:\n",
    "  - Problem A1: **2 point**.\n",
    "  - Problem A2: **2 point**.\n",
    "  - Problem A3: **2 point**.\n",
    "  - Problem A4: **2 point**.\n",
    "  - Problem A5: **2 point**.\n",
    " \n",
    "\n",
    "- **Coding (10 Points)**:\n",
    "  - Problem B1: **5 point**.\n",
    "  - Problem B1: **5 point**.\n",
    "  \n",
    "\n",
    "- **Revision (10 Points)**:\n",
    "  - Problem C1: **1 point**.\n",
    "  - Problem C2: **1 point**.\n",
    "  - Problem C3: **1 point**.\n",
    "  - Problem C4: **1 point**.\n",
    "  - Problem C5: **1 point**.\n",
    "  - Problem C6: **1 point**.\n",
    "  - Problem C7: **1 point**.\n",
    "  - Problem C8: **1 point**.\n",
    "  - Problem C9: **1 point**.\n",
    "  - Problem C10: **1 point**.  "
   ]
  },
  {
   "cell_type": "markdown",
   "metadata": {},
   "source": [
    "<h3 align=\"center\">Students ID Number</h3>\n",
    "\n",
    "\n",
    "- In the table below you can see your **ID** number. \n",
    "\n",
    "- Each student has their own unique **ID**.\n",
    "\n",
    "| ID |           Student          |\n",
    "|:--:|:---------------------------|\n",
    "|  1 | Levani   Abuladze          |\n",
    "|  2 | Beka Aivazashvili          |\n",
    "|  3 | Iza   Akhuashvili          |\n",
    "|  4 | Aleksandre   Begiashvili   |\n",
    "|  5 | Levan   Berelidze (He/Him) |\n",
    "|  6 | Daviti   Beriashvili       |\n",
    "|  7 | Giorgi   Chankseliani      |\n",
    "|  8 | Nikoloz   Gabunia          |\n",
    "|  9 | Nino   Giorgadze           |\n",
    "| 10 | Gocha   Gunashvili         |\n",
    "| 11 | Ani   Gverdtsiteli         |\n",
    "| 12 | Tornike   Iarajuli         |\n",
    "| 13 | Tornike   Jajanidze        |\n",
    "| 14 | Saba   Kalmakhelidze       |\n",
    "| 15 | Phuad   Karaev             |\n",
    "| 16 | Tinatin   Kotolashvili     |\n",
    "| 17 | Alexander   Kutaladze      |\n",
    "| 18 | Nineli   Lashkarashvili    |\n",
    "| 19 | Levan   Lobjanidze         |\n",
    "| 20 | Giorgi   Machavariani      |\n",
    "| 21 | Amiran   Malania           |\n",
    "| 22 | Ana   Maludze              |\n",
    "| 23 | Giorgi   Meladze           |\n",
    "| 24 | Marita   Merabishvili      |\n",
    "| 25 | Guga   Mirotadze           |\n",
    "| 26 | Giorgi   Natroshvili       |\n",
    "| 27 | Giorgi   Sandroshvili      |\n",
    "| 28 | Nikoloz   Shalikiani       |\n",
    "| 29 | Giorgi   Sharmiashvili     |\n",
    "| 30 | Ketevan   Shartava         |\n",
    "| 31 | Giorgi   Turdziladze       |"
   ]
  },
  {
   "cell_type": "markdown",
   "metadata": {},
   "source": [
    "<h3 align=\"center\">Problems A1 - A5</h3>\n",
    "\n",
    "- **A1**: **Representations** and **classification** of graph\n",
    "\n",
    "\n",
    "- **A2**: **Breadth-First Search** or **Depth-First Search**\n",
    "\n",
    "\n",
    "- **A3**: **Kruskal’s Algorithm** or **Prim’s Algorithm**\n",
    "\n",
    "\n",
    "- **A4**: **The Bellman-Ford Algorithm** or **Single-Source Shortest Paths in Directed Acyclic Graphs** or **Dijkstra’s Algorithm**\n",
    "\n",
    "\n",
    "- **A5**: Unknown **brainwashing** problem!"
   ]
  },
  {
   "cell_type": "markdown",
   "metadata": {},
   "source": [
    "<h3 align=\"center\">Problems B1-B2</h3>\n",
    "\n",
    "- **B1**: Problems based on MST Algorithms\n",
    "\n",
    "\n",
    "- **B2**: Problems based on Single-Source Shortest Paths Algorithms"
   ]
  },
  {
   "cell_type": "markdown",
   "metadata": {},
   "source": [
    "<h3 align=\"center\">Problems C1-C10: </h3>\n",
    "\n",
    "- **10 quiz type questions** each with **5 possible answers**. \n",
    "\n",
    "\n",
    "- $C[i]$ will match the question from $Lecture[i]$, $i = 1, 2, ..., 9$.\n",
    "\n",
    "\n",
    "- $C[10]$ will match the question from $Lecture[13]$.\n",
    "\n",
    "\n",
    "- **Canvas** or **Testportal** platforms will be used!\n",
    "\n"
   ]
  },
  {
   "cell_type": "markdown",
   "metadata": {},
   "source": [
    "<h1 align=\"center\">Wish you good luck!</h1>"
   ]
  }
 ],
 "metadata": {
  "celltoolbar": "Slideshow",
  "kernelspec": {
   "display_name": "Python 3",
   "language": "python",
   "name": "python3"
  },
  "language_info": {
   "codemirror_mode": {
    "name": "ipython",
    "version": 3
   },
   "file_extension": ".py",
   "mimetype": "text/x-python",
   "name": "python",
   "nbconvert_exporter": "python",
   "pygments_lexer": "ipython3",
   "version": "3.7.3"
  }
 },
 "nbformat": 4,
 "nbformat_minor": 2
}
