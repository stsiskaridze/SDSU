{
 "cells": [
  {
   "cell_type": "markdown",
   "metadata": {
    "slideshow": {
     "slide_type": "slide"
    }
   },
   "source": [
    "**CS560 - Algorithms and Their Analysis**\n",
    "<br>\n",
    "Date: **28 October 2020**\n",
    "<br>\n",
    "\n",
    "Title: **Lecture 8**\n",
    "<br>\n",
    "Speaker: **Dr. Shota Tsiskaridze**\n",
    "<br>\n",
    "Teaching Assistant: **Levan Sanadiradze**\n",
    "\n",
    "Bibliography:\n",
    "<br> \n",
    " **Chapter 16.1 - 16.2**. Cormen, Thomas H. and Leiserson, Charles Eric and Rivest, Ronald Linn and Stein, Clifford Seth, *Introduction to Algorithms, 3rd Edition*, MIT Press, 2009\n",
    " \n"
   ]
  },
  {
   "cell_type": "markdown",
   "metadata": {},
   "source": [
    "<h1 align=\"center\">Greedy Algorithms</h1>\n",
    "\n",
    "\n",
    "- Algorithms for **optimization problems** typically **go through** a **sequence of steps**, with a set of choices at each step. \n",
    "\n",
    "\n",
    "- For many optimization problems, **using dynamic programming** to determine the best choices **is overkill**; \n",
    "\n",
    "\n",
    "- The simpler algorithms is **greedy algorithm** that always **makes the choice** that **looks best at the moment**. "
   ]
  },
  {
   "cell_type": "markdown",
   "metadata": {
    "slideshow": {
     "slide_type": "slide"
    }
   },
   "source": [
    "<h1 align=\"center\">An activity-Selection Problem</h1>\n",
    "\n",
    "- Suppose we have a **set** $S = \\{a_1, a_2, ..., a_n\\}$ of $n$ proposed **activities** that wish to use a **resource**, such as a **lecture hall**.\n",
    "\n",
    "\n",
    "- The **lecture hall** can serve **only one activity at a time**.\n",
    "\n",
    "\n",
    "- Each **activity** $a_i$ has a **start time** $s_i$ and a **finish time** $_i$, where $0 \\leq s_i < f_i < \\infty$, and takes place during the half-open time interval $[s_i, f_i)$.\n",
    "\n",
    "\n",
    "- Activities $a_i$ and $a_j$ are **compatible** if the intervals $[s_i, f_i)$ and $[s_j, f_j)$ **do not overlap**, i.e. when $s_i \\geq f_j$ or $s_j \\geq f_i$.\n",
    "\n",
    "\n",
    "- In the **activity-selection problem**, we wish to **select a maximum-size subset** of **mutually compatible activities**.\n",
    "\n",
    "\n",
    "- **Note**: We assume that the activities are **sorted** in **monotonically increasing order** of ****finish time:\n",
    "\n",
    "  $$f_1 \\leq f_2 \\leq f_3 \\leq \\cdots \\leq f_{n-1} \\leq f_n.$$\n"
   ]
  },
  {
   "cell_type": "markdown",
   "metadata": {},
   "source": [
    "<h1 align=\"center\">Example</h1>\n",
    "\n",
    "\n",
    "- Let's consider an example of a set $S$ of activities:\n",
    "\n",
    "|  $i$  | 1 | 2 | 3 | 4 | 5 | 6 | 7  | 8  | 9  | 10 | 11 |\n",
    "|:-----:|:-:|:-:|:-:|:-:|---|---|----|----|----|----|----|\n",
    "| $s_i$ | 1 | 3 | 0 | 5 | 3 | 5 | 6  | 8  | 8  | 2  | 12 |\n",
    "| $f_i$ | 4 | 5 | 6 | 7 | 9 | 9 | 10 | 11 | 12 | 14 | 16 |\n",
    "\n",
    "\n",
    "- For this example, the subset $\\{a_4, a_9, a_{11}\\}$ consists of **mutually compatible activities**.\n",
    "\n",
    "\n",
    "- However, it is not a maximum subset, sinve the subset $\\{a_1, a_4, a_{8}, a_{11}\\}$ is a **largest subset of mutually compatible activities**.\n",
    "\n",
    "\n",
    "- **Another largest subset** is $\\{a_2, a_4, a_{9}, a_{11}\\}$.\n",
    "\n",
    "\n",
    "\n",
    "- **Questions**: How to solve this problem?"
   ]
  },
  {
   "cell_type": "markdown",
   "metadata": {},
   "source": [
    "<h1 align=\"center\">Dynamic Pogramming Solution</h1>\n",
    "\n",
    "- We can easily verify that the activity-selection problem exhibits **optimal substructure**.\n",
    "\n",
    "\n",
    "- Let us denote by $S_{ij}$ the **set of activities** that **start after activity** $a_i$ **finishes** and that **finish before activity** $a_j$ **starts**.\n",
    "\n",
    "\n",
    "- Let us denote by $A_{ij}$ the **maximum set of mutually compatible activities** in $S_{ij}$.\n",
    "\n",
    "\n",
    "- If $a_k $ is some activity in $A_{ij}$, i.e. $a_k \\in A_{ij}$, then we are left with **two subproblems**:\n",
    "\n",
    "  - **Finding mutually compatible activities** in the set $S_{ik}$.\n",
    "  \n",
    "  - **Finding mutually compatible activities** in the set $S_{kj}$.\n",
    "  \n",
    "  \n",
    "- Let $A_{ik} = A_{ij} \\cup S_{ik}$ and $A_{kj} = A_{ij} \\cup S_{kj}$, so that:\n",
    "\n",
    "  - $A_{ik}$ contains the activities in $A_{ij}$ that finish before $a_k$ starts;\n",
    "    \n",
    "  - $A_{kj}$ contains the activities in $A_{ij}$ that start after $a_k$ finishes.\n",
    "\n",
    "\n",
    "- Thus, we have $A_{ij} = A_{ik} \\cup \\{a_k\\} \\cup A_{kj}$, and so the **maximum** set $A_{ij}$ of **mutually compatible activities** in $S_{ij}$ **is size of** $|A_{ij}| = |A_{ik}| + |A_{kj}| + 1$.\n",
    "\n",
    "\n",
    "- The usual **cut-and-paste argument** shows that the **optimal solution** $A_{ij}$ also **include optimal solutions** to the **two subproblems** for $S_{ik}$ and $S_{kj}$.\n",
    "\n",
    "\n",
    "- This way of **characterizing optimal substructure** suggests that we **might solve** the **activity-selection problem** by **dynamic programming**:\n",
    "\n",
    "  $$c[i,j] = \n",
    "  \\left\\{\\begin{matrix}\n",
    "  0 & \\text{ if } S_{ij} = \\varnothing \\\\\n",
    "  \\max_{a_k \\in S_{ij}} \\{c[i, k] + c[k, j] + 1\\} & \\text{ if } S_{ij} \\neq \\varnothing\n",
    "  \\end{matrix}\\right.\n",
    "  ,$$\n",
    "  \n",
    "  where $c[i,j]$ is an array storing the **optimal solution** for the $S_{ij}$.\n",
    "  \n",
    "  \n",
    "- We could then **develop a recursive algorithm** and **memoize it**, or we could work **bottom-up** and **fill in table entries**. **We will do this on next Seminar!**"
   ]
  },
  {
   "cell_type": "markdown",
   "metadata": {},
   "source": [
    "<h1 align=\"center\">Making the Greedy Choice</h1>\n",
    "\n",
    "- What do we mean by the **greedy choice** for the **activity-selection problem**? \n",
    "\n",
    "\n",
    "- Intuition suggests that we **should choose** an **activity** that **leaves** the **resource available** for as **many other activities** as **possible**.\n",
    "  \n",
    "\n",
    "- Now, of the activities we end up choosing, one of them **must be the first one to finish**.\n",
    "\n",
    "\n",
    "- Thus, we **choose the activity** in $S$ with the **earliest finish time**, since that would leave the resource available for as many of the activities as possible.\n",
    "\n",
    "\n",
    "- **Note**: Choosing the first activity to finish is **not the only way** to think of **making a greedy choice** for this problem. **We will do this on next Seminar!**\n",
    "\n",
    "\n",
    "- After making the greedy choice, we have **only one remaining subproblem** to solve: **finding activities that start after $a_1$ finishes**. \n",
    "  \n",
    "\n",
    "- Why don’t we have to **consider activities** that **finish before** $a_1$ **starts**? \n",
    "\n",
    "  We have that $s_1 < f_1$, and $f_1$ is the **earliest finish time** of **any activity**, and therefore **no activity can have a finish time less than or equal to** $s_1$. \n",
    "  \n",
    "  Thus, **all activities** that are compatible with activity $a_1$ must **start after** $a_1$ **finishes**.\n",
    "  \n",
    "  \n",
    "- Let $S_k = \\{a_i \\in S: f_k \\leq s_i \\}$ be the set of activities that **start after activity $a_k$ finishes**.\n",
    "\n",
    "\n",
    "- If we make the **greedy choice** of **activity** $a_1$, then $S_1$ remains as the **only subproblem** to solve.\n",
    "\n",
    "\n",
    "- **Optimal substructure tells** us that **if** $a_1$ is in the **optimal solution**, **then** an **optimal solution** to the **original problem** consists of **activity** $a_1$ and **all the activities** in an **optimal solution** to the **subproblem** $S_1$.\n",
    "\n",
    "\n",
    "- **One big question remains**: Is the **greedy choice** in which we **choose the first activity to finish** always part of some optimal solution?\n",
    "\n",
    "\n",
    "- **Theorem**:\n",
    "\n",
    "  - Consider any **nonempty subproblem** $S_k$, and let $a_m$ be an **activity** in $S_k$ with the **earliest finish time**. \n",
    "\n",
    "  - Then $a_m$ is **included** in **some maximum-size** subset of **mutually compatible activities** of $S_k$."
   ]
  },
  {
   "cell_type": "markdown",
   "metadata": {},
   "source": [
    "<h1 align=\"center\">A Recursive Greedy Algorithm</h1>\n",
    "\n",
    "- We can write a **straightforward**, **recursive procedure** to solve the activity-selection problem:"
   ]
  },
  {
   "cell_type": "code",
   "execution_count": 1,
   "metadata": {},
   "outputs": [],
   "source": [
    "import numpy as np\n",
    "\n",
    "def recursiveActivitySelector(s,f,k,n):\n",
    "    m = k + 1\n",
    "    while m < n and s[m] < f[k]:\n",
    "        m = m + 1\n",
    "    if m < n:\n",
    "        return np.insert(recursiveActivitySelector(s,f,m,n), 0, m)\n",
    "    else:\n",
    "        return np.empty(0)"
   ]
  },
  {
   "cell_type": "markdown",
   "metadata": {},
   "source": [
    "- In order to start, we **add the fictitious activity** $a_0$ with $f_0 = 0$:"
   ]
  },
  {
   "cell_type": "code",
   "execution_count": 2,
   "metadata": {
    "scrolled": true
   },
   "outputs": [
    {
     "data": {
      "text/plain": [
       "array([ 1.,  4.,  8., 11.])"
      ]
     },
     "execution_count": 2,
     "metadata": {},
     "output_type": "execute_result"
    }
   ],
   "source": [
    "s = [0, 1, 3, 0, 5, 3, 5,  6,  8,  8,  2, 12]\n",
    "f = [0, 4, 5, 6, 7, 9, 9, 10, 11, 12, 14, 16]\n",
    "\n",
    "A = recursiveActivitySelector(s,f,0,len(s))\n",
    "A"
   ]
  },
  {
   "cell_type": "markdown",
   "metadata": {},
   "source": [
    "- Assuming that the **activities** have **already been sorted by finish times**, the running time of the call `recursiveActivitySelector()` is $\\Theta(n)$."
   ]
  },
  {
   "cell_type": "markdown",
   "metadata": {},
   "source": [
    "<img src=\"images/L8_RAS.png\" width=\"800\" alt=\"Example\" />\n"
   ]
  },
  {
   "cell_type": "markdown",
   "metadata": {},
   "source": [
    "<h1 align=\"center\">An Iterative Greedy Algorithm</h1>\n",
    "\n",
    "- We easily can **convert** our **recursive procedure** to an **iterative one**."
   ]
  },
  {
   "cell_type": "code",
   "execution_count": 3,
   "metadata": {},
   "outputs": [],
   "source": [
    "def greedyActivitySelector(s,f):\n",
    "    n = len(s)\n",
    "    A = [1]\n",
    "    k=1\n",
    "    for m in range (2,n):\n",
    "        if s[m] >= f[k]:\n",
    "            A.append(m)\n",
    "            k = m\n",
    "    return A"
   ]
  },
  {
   "cell_type": "code",
   "execution_count": 4,
   "metadata": {
    "scrolled": true
   },
   "outputs": [
    {
     "data": {
      "text/plain": [
       "[1, 4, 8, 11]"
      ]
     },
     "execution_count": 4,
     "metadata": {},
     "output_type": "execute_result"
    }
   ],
   "source": [
    "s = [0, 1, 3, 0, 5, 3, 5,  6,  8,  8,  2, 12]\n",
    "f = [0, 4, 5, 6, 7, 9, 9, 10, 11, 12, 14, 16]\n",
    "\n",
    "A = greedyActivitySelector(s,f)\n",
    "A"
   ]
  },
  {
   "cell_type": "markdown",
   "metadata": {},
   "source": [
    "- The procedure works as follows:\n",
    "\n",
    "  The **variable $k$ indexes** the **most recent addition** to $A$, corresponding to the **activity** $a_k$ in the **recursive version**.\n",
    "  \n",
    "  Since we consider the **activities in order of monotonically increasing finish time**, $f_k$ is **always** the **maximum finish time** of **any activity** in $A$:\n",
    "  \n",
    "  $$f_k = max \\{f_i :  a_i \\in A\\}.$$\n",
    "  \n",
    "  **Lines 3-4**: Selects **activity** $a_1$, initializes $A$ to **contain just this activity**, and initializes $k$ to **index this activity**.\n",
    "\n",
    "  **Lines 5-8**: Finds the **earliest activity** in $S_k$ to finish."
   ]
  },
  {
   "cell_type": "markdown",
   "metadata": {},
   "source": [
    "- Assuming that the **activities** have **already been sorted by finish times**, the running time of the call `greedyActivitySelector()` is $\\Theta(n)$."
   ]
  },
  {
   "cell_type": "markdown",
   "metadata": {},
   "source": [
    "<h1 align=\"center\">Elements of the Greedy Strategy</h1>\n",
    "\n",
    "- In the **process** that we followed to develop a **greedy algorithm** we **went through** the following **steps**:\n",
    "\n",
    "  1. **Determine** the **optimal substructure** of the problem.\n",
    "  \n",
    "  2. **Develop** a **recursive solution**.\n",
    "  \n",
    "  3. **Show** that if we make the **greedy choice**, then only **one subproblem remains**.\n",
    "\n",
    "  4. **Prove** that it is **always safe** to **make the greedy choice**.\n",
    "\n",
    "  5. **Develop** a **recursive algorithm** that **implements the greedy strategy**.\n",
    "\n",
    "  6. **Convert** the **recursive algorithm** to an **iterative algorithm**.\n",
    "\n",
    "\n",
    "- In going through these steps, we saw in great detail the **dynamic-programming underpinnings** of a **greedy algorithm**.\n",
    "\n",
    "\n",
    "- **More generally**, we **design greedy algorithms** according to the following **sequence of steps**:\n",
    "\n",
    "  1. **Cast** the **optimization problem** as one in which we **make a choice** and are **left with one subproblem** to solve.\n",
    "\n",
    "  2. **Prove** that the **greedy choice is always safe**, i.e. there is always an optimal solution to the original problem that makes the greedy choice.\n",
    "  \n",
    "  3. **Demonstrate optimal substructure** by showing that, having made the greedy choice, what remains is a subproblem with the property that if we combine an optimal solution to the subproblem with the greedy choice we have made, we arrive at an optimal solution to the original problem."
   ]
  },
  {
   "cell_type": "markdown",
   "metadata": {},
   "source": [
    "<h1 align=\"center\">Key Ingradients of the Greedy Algorithms</h1>\n",
    "\n",
    "\n",
    "- How can we tell **whether a greedy algorithm will solve a particular optimization problem**? \n",
    "\n",
    "  **No way works all the time**, but the **greedy-choice property** and **optimal substructure** are the **two key ingredients**. \n",
    "  \n",
    "  If we **can demonstrate** that the **problem has these properties**, then we are well **on the way** to **developing a greedy algorithm** for it.\n",
    "  \n",
    "  \n",
    "\n",
    "- The **greedy-choice property**: \n",
    "\n",
    "  We can **assemble** a **globally optimal solution** by **making locally optimal (greedy) choices**. \n",
    "  \n",
    "  In other words, when we are considering which choice to make, we **make the choice** that looks best in the current problem, **without considering results from subproblems**.\n",
    "  \n",
    "\n",
    "\n",
    "- The **optimal substructure**: \n",
    "\n",
    "  An **optimal solution** to the problem **contains within** it **optimal solutions** to **subproblems**.\n",
    "  \n",
    "  This property is a **key ingredient** of assessing the applicability of **dynamic programming as well as greedy algorithms**.\n",
    "  \n",
    "  "
   ]
  },
  {
   "cell_type": "markdown",
   "metadata": {},
   "source": [
    "<h1 align=\"center\">Greedy VS Dynamic Programming</h1>\n",
    "\n",
    "\n",
    "- Because **both** the **greedy** and **dynamic-programming** strategies **exploit optimal substructure**, you might be **tempted to generate** a **dynamic-programming solution** to a problem when a **greedy solution** suffices\n",
    "\n",
    "\n",
    "- Conversely, you might **mistakenly think** that a **greedy solution works** when in fact a **dynamic-programming solution is required**.\n",
    "\n",
    "\n",
    "\n",
    "- Let's consider next **two problems**:\n",
    "\n",
    "  - **0-1 Knapsack Problem**:\n",
    "\n",
    "    - A **thief** robbing a store finds $n$ **items**. \n",
    "\n",
    "    - The $i$-th item is **worth** $p_i$ **dollars** and **weighs** $w_i$ **pounds**, where $p_i$ and $w_i$ are integers.   \n",
    "\n",
    "    - The **thief wants** to **take as valuable a load as possible**, but **he can carry at most** $W$ **pounds** in his knapsack, for some **integer** $W$ . \n",
    "\n",
    "    - **Which items should he take**?\n",
    "\n",
    "  - **Fractional Knapsack Problem**:\n",
    "\n",
    "    - The **setup is the same**, but the **thief can take fractions of items**, rather than having to make a **binary** (**0-1**) **choice for each item**.\n",
    "\n",
    "\n",
    "\n",
    "- Although the **problems are similar**, we **can solve** the **fractional knapsack problem**, but we **cannot solve** the **0-1 problem** by a **greedy strategy**\n",
    "\n",
    "\n",
    "- To demonstrate that this **greedy strategy does not work for the 0-1 knapsack problem**, let's consider the problem:\n",
    "\n",
    "|  $i$  |  1 |  2  |  3  |   | $W$ |\n",
    "|:-----:|:--:|:---:|:---:|:-:|:---:|\n",
    "| $p_i$ | 60 | 100 | 120 |   |     |\n",
    "| $w_i$ | 10 |  20 |  30 |   |  50 |\n",
    "\n",
    "\n",
    "- The **greedy strategy**, would **take item 1 first**, since the **value per pound** of **item 1** is **6 dollars** per pound, which is greater than the **value per pound** of either **item 2** (**5 dollars** per pound) or **item 3** (**4 dollars** per pound).\n",
    "\n",
    "\n",
    "- However, the **optimal solution** takes **items 2** and **item 3**, leaving item 1 behind.\n",
    "\n",
    "\n",
    "<img src=\"images/L8_FKP.png\" width=\"900\" alt=\"Example\" />\n"
   ]
  },
  {
   "cell_type": "markdown",
   "metadata": {
    "slideshow": {
     "slide_type": "slide"
    }
   },
   "source": [
    "<h1 align=\"center\">End of Lecture</h1>"
   ]
  }
 ],
 "metadata": {
  "kernelspec": {
   "display_name": "Python 3",
   "language": "python",
   "name": "python3"
  },
  "language_info": {
   "codemirror_mode": {
    "name": "ipython",
    "version": 3
   },
   "file_extension": ".py",
   "mimetype": "text/x-python",
   "name": "python",
   "nbconvert_exporter": "python",
   "pygments_lexer": "ipython3",
   "version": "3.7.3"
  }
 },
 "nbformat": 4,
 "nbformat_minor": 2
}
