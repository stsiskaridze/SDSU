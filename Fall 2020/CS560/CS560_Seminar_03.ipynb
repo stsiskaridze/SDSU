{
 "cells": [
  {
   "cell_type": "markdown",
   "metadata": {
    "slideshow": {
     "slide_type": "slide"
    }
   },
   "source": [
    "**CS560 - Algorithms and Their Analysis**\n",
    "<br>\n",
    "Date: **19 September 2020**\n",
    "\n",
    "\n",
    "Title: **Seminar 3**\n",
    "<br>\n",
    "Speaker: **Dr. Shota Tsiskaridze**\n",
    "<br>\n",
    "Teaching Assistant: **Levan Sanadiradze**"
   ]
  },
  {
   "cell_type": "markdown",
   "metadata": {
    "slideshow": {
     "slide_type": "slide"
    }
   },
   "source": [
    "<h2 align=\"center\">Feeback on Homework 1</h2>"
   ]
  },
  {
   "cell_type": "markdown",
   "metadata": {
    "slideshow": {
     "slide_type": "slide"
    }
   },
   "source": [
    "<h3 align=\"center\">Problem 5: Asymptotic Behavior of Polynomials</h3>\n",
    "\n",
    "- Let \n",
    "\n",
    "  $$p(n) = \\sum_{i=0}^d a_i n^i = a_0 + a_1 n + \\cdots + a_d n^d,$$\n",
    "  \n",
    "  where $a_d > 0$, be a degree-$d$ polynomial in $n$, and let $k\\in \\mathbb{N}$ be a constant. \n",
    "\n",
    "\n",
    "- Use the definitions of the asymptotic notations to prove the following properties:\n",
    "  \n",
    "  1. if $k \\geq d$, then $p(n) = O(n^k)$.\n",
    "  \n",
    "  2. if $k > d$, then $p(n) = o(n^k)$.\n",
    "  \n",
    "  3. if $k = d$, then $p(n) = \\Theta(n^k)$.\n",
    "  \n",
    "  4. if $k < d$, then $p(n) = \\omega(n^k)$.\n",
    "  \n",
    "  5. if $k \\leq d$, then $p(n) = \\Omega(n^k)$."
   ]
  },
  {
   "cell_type": "markdown",
   "metadata": {},
   "source": [
    "<h3 align=\"center\">Solution of Problem 5</h3>\n",
    "\n",
    "1. Lets remember the definition for $O(g(n))$:\n",
    "\n",
    "   For a given function $g(n)$ we denote by $O(g(n))$ the set of functions:\n",
    "   \n",
    "   $$O(g(n)) = \\left \\{f(n): \\exists \\text{ }c > 0 \\text{ and } n_0\\in\\mathbb{N} \\text{ such that } \\forall n > n_0 \\text{ is valid } 0 \\leq f(n) \\leq c g(n) \\right \\}.$$\n",
    "\n",
    "   In our case $f(n)=p(n)$ and $g(n) = n^k$.\n",
    "   \n",
    "   Since $k \\geq d$, for all $i=0, \\cdots d$ is valide $n^{i} \\leq n^{k}$, so we can write:\n",
    "   \n",
    "   $$p(n) = a_0 + a_1 n + \\cdots + a_d n^d \\leq a_{\\max}\\left ( n^k + n^k + \\cdots + n^k \\right ) = a_{\\max} (d+1) n^k.$$\n",
    "   \n",
    "   On the other hand, if $n_0 > a_{\\max} \\cdot d$, then for $n > n_0$ is valid $|a_i n^i| \\leq \\frac{a_{d}}{d}n^d$ and $p(n) \\geq 0$.\n",
    "   \n",
    "   Thus, for $c = a_{max} \\cdot (d+1)$ and $n_0 = a_{\\max} \\cdot d$ we get that $0 \\leq p(n) \\leq n^k$, i.e. $p(n) = O(n^k).$\n",
    "   \n",
    "\n",
    "2. The releation $f(n) = o(g(n))$ implies that:\n",
    "\n",
    "   $$\\lim_{n\\rightarrow \\infty} \\frac{f(n)}{g(n)} = 0.$$\n",
    "\n",
    "   In our case $f(n)=p(n)$ and $g(n) = n^k$, so we can write:\n",
    "   \n",
    "   $$\\lim_{n \\to \\infty}\\frac{f(n)}{g(n)} = \\lim_{n \\to \\infty} \\frac{a_0 + a_1 n + \\cdots + a_d n^d}{n^k} = \\lim_{n \\to \\infty} \\frac{a_0}{n^k} + \\lim_{n \\to \\infty} \\frac{a_1 n}{n^k} + \\cdots + \\lim_{n \\to \\infty}\\frac{a_d n^d}{n^k} = 0,$$\n",
    "   \n",
    "   thus, $p(n) = o(n^k),$\n",
    "\n",
    "\n",
    "3. Let's remember the **Theorem**:\n",
    "\n",
    "   For any two functions $f(n)$ and $g(n)$, we have $f(n) =  \\Theta(g(n))$ if and only if $f(n) = O(g(n))$ and $f(n) = \\Omega(g(n))$.\n",
    "\n",
    "   From **(1)** and **(5)** we have that $k \\geq d$ and $p(n) = O(n^k)$, and $k \\leq d$ and $p(n) = O(n^k)$. \n",
    "   \n",
    "   Therefore for $k=d$ the theorem is valid and we can write that $p(n) = \\Omega(n^k)$.\n",
    "\n",
    "\n",
    "4. The releation $f(n) = \\omega(g(n))$ implies that:\n",
    "\n",
    "   $$\\lim_{n\\rightarrow \\infty} \\frac{f(n)}{g(n)} = \\infty.$$\n",
    "\n",
    "   In our case $f(n)=p(n)$ and $g(n) = n^k$, so we can write:\n",
    "   \n",
    "   $$\\lim_{n \\to \\infty}\\frac{f(n)}{g(n)} = \\lim_{n \\to \\infty} \\frac{a_0 + a_1 n + \\cdots + a_d n^d}{n^k} = \\lim_{n \\to \\infty}\\frac{a_d n^d}{n^k} = \\infty,$$\n",
    "   \n",
    "   thus, $p(n) = \\omega(n^k),$\n",
    "\n",
    "\n",
    "5. Lets remember the definition for $\\Omega(g(n))$:\n",
    "\n",
    "   For a given function $g(n)$ we denote by $\\Omega(g(n))$ the set of functions:\n",
    "  \n",
    "  $$\\Omega(g(n)) = \\left \\{f(n): \\exists \\text{ }c > 0 \\text{ and } n_0\\in\\mathbb{N} \\text{ such that } \\forall n > n_0 \\text{ is valid } 0 \\leq c g(n) \\leq f(n) \\right \\}.$$\n",
    "  \n",
    "   First we need to choose $n_0$ to get $p(n)$ strickly positive defined.\n",
    "   If we choose $n_0 = a_{\\max} (d+1)$, then $p(n) \\leq a_{max} n^d \\leq a_{max} n^k \\leq 0$.\n",
    "   Thus, for $c = a_{\\max}$ and $n_0 = a_{max} (d+1)$ we get that $p(n) \\leq c n^k \\leq 0$, thus $p(n) = \\Omega(n^k)$."
   ]
  },
  {
   "cell_type": "markdown",
   "metadata": {
    "slideshow": {
     "slide_type": "slide"
    }
   },
   "source": [
    "<h3 align=\"center\">Master Theorem: Practice Problems</h3>\n",
    "\n",
    "- Lets first remember the definition of the Theorem:\n",
    "\n",
    "  **Theorem**: Let $a \\geq1$ and $b > 1$ be constants, let $f(n)$ be a function, and let $T(n)$ be defined on the nonnegative integers by the recurrence:\n",
    "  \n",
    "  $$T(n) = aT(n/b) + f(n).$$\n",
    "  \n",
    "  Then $T(n)$ has the following **asymptotic bounds**:\n",
    "  \n",
    "  1. If $f(n) = O(n^{\\log_b a-\\epsilon})$ for some constant $\\epsilon > 0$, then $T(n) = \\Theta(n^{\\log_b a})$.\n",
    "  2. If $f(n) = \\Theta(n^{\\log_b a})$, then $T(n) = \\Theta(n^{\\log_b a} \\lg n)$.\n",
    "  3. If $f(n) = \\Omega(n^{\\log_b a + \\epsilon})$ for some constant $\\epsilon > 0$, and if $af(n/b) \\leq cf(n)$ for some constant $c < 1$ and all sufficiently large $n$, then $T(n) = \\Theta(f(n))$.\n",
    "  \n",
    "\n",
    "- For each of the following recurrences, give an expression for the runtime $T (n)$ if the recurrence can be solved with the Master Theorem. \n",
    "\n",
    "- Otherwise, indicate that the Master Theorem does not apply."
   ]
  },
  {
   "cell_type": "markdown",
   "metadata": {
    "slideshow": {
     "slide_type": "slide"
    }
   },
   "source": [
    "1. $$T(n) = 16 T(n/4) + n $$"
   ]
  },
  {
   "cell_type": "markdown",
   "metadata": {
    "slideshow": {
     "slide_type": "slide"
    }
   },
   "source": [
    "2. $$T(n) = 16 T(n/4) + n $$"
   ]
  },
  {
   "cell_type": "markdown",
   "metadata": {
    "slideshow": {
     "slide_type": "slide"
    }
   },
   "source": [
    "3. $$T(n) = 3 T(n/3) + n/2$$"
   ]
  },
  {
   "cell_type": "markdown",
   "metadata": {
    "slideshow": {
     "slide_type": "slide"
    }
   },
   "source": [
    "4. $$T(n) = 7 T(n/3) + n^2$$"
   ]
  },
  {
   "cell_type": "markdown",
   "metadata": {
    "slideshow": {
     "slide_type": "slide"
    }
   },
   "source": [
    "5. $$T(n) = 2^n T(n/2) + n^n$$"
   ]
  },
  {
   "cell_type": "markdown",
   "metadata": {
    "slideshow": {
     "slide_type": "slide"
    }
   },
   "source": [
    "6. $$T(n) = 2T(n/2) + \\frac{n}{\\log n}$$"
   ]
  },
  {
   "cell_type": "markdown",
   "metadata": {
    "slideshow": {
     "slide_type": "slide"
    }
   },
   "source": [
    "7. $$T(n) = 0.5T(n/2) + \\frac{1}{n}$$"
   ]
  },
  {
   "cell_type": "markdown",
   "metadata": {
    "slideshow": {
     "slide_type": "slide"
    }
   },
   "source": [
    "8. $$T(n) = 64 T(n/8) - n^2 \\log n $$"
   ]
  },
  {
   "cell_type": "markdown",
   "metadata": {
    "slideshow": {
     "slide_type": "slide"
    }
   },
   "source": [
    "<h3 align=\"center\">Problems Related to The Maximum-Subarray Problem</h3>\n",
    "\n",
    "- Finding the maximum / minimum subset with constraints, for example, the length $i - j + 1$ of the subarray must be within the given limits.\n",
    "\n",
    "\n",
    "- Two-Dimensional Case of the Problem: Finding the Maximum / Minimum Submatrix.\n",
    "\n",
    "\n",
    "- Finding a subarray with a maximum / minimum average amount.\n"
   ]
  },
  {
   "cell_type": "markdown",
   "metadata": {
    "slideshow": {
     "slide_type": "slide"
    }
   },
   "source": [
    "<h1 align=\"center\">End of Seminar</h1>"
   ]
  }
 ],
 "metadata": {
  "kernelspec": {
   "display_name": "Python 3",
   "language": "python",
   "name": "python3"
  },
  "language_info": {
   "codemirror_mode": {
    "name": "ipython",
    "version": 3
   },
   "file_extension": ".py",
   "mimetype": "text/x-python",
   "name": "python",
   "nbconvert_exporter": "python",
   "pygments_lexer": "ipython3",
   "version": "3.7.3"
  }
 },
 "nbformat": 4,
 "nbformat_minor": 2
}
