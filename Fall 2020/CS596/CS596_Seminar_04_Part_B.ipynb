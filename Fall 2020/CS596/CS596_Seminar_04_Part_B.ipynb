{
 "cells": [
  {
   "cell_type": "markdown",
   "metadata": {
    "slideshow": {
     "slide_type": "slide"
    }
   },
   "source": [
    "**CS596 - Machine Learning**\n",
    "<br>\n",
    "Date: **28 September 2020**\n",
    "\n",
    "\n",
    "Title: **Seminar 4 - Part B**\n",
    "<br>\n",
    "Speaker: **Dr. Shota Tsiskaridze**\n",
    "<br>\n",
    "Teaching Assistant: **Levan Sanadiradze**"
   ]
  },
  {
   "cell_type": "code",
   "execution_count": null,
   "metadata": {},
   "outputs": [],
   "source": [
    "%load_ext autoreload\n",
    "%autoreload 2\n",
    "%matplotlib inline"
   ]
  },
  {
   "cell_type": "markdown",
   "metadata": {
    "slideshow": {
     "slide_type": "slide"
    }
   },
   "source": [
    "<h2 align=\"center\">Naive Bayes Classifier</h2>"
   ]
  },
  {
   "cell_type": "markdown",
   "metadata": {
    "slideshow": {
     "slide_type": "subslide"
    }
   },
   "source": [
    "<h3 align=\"center\">Naive Bayes classifier</h3>\n",
    "\n",
    "- **What does \"Naive\" mean?**\n",
    "\n",
    "  Naive Bayes classifiers assume **strong**, or **naive**, **independence between the events**.\n",
    "\n",
    "\n",
    "- **Where is Naive Bayes Classifier used?**\n",
    "  \n",
    "  A Naive Bayes classifier is a probabilistic machine learning model that’s used for classification task such as: \n",
    "  - **Text analysis**;\n",
    "  - **Spam filters**;\n",
    "  - **Medical diagnosis**;\n",
    "  - **Weather prediction**.\n",
    "  \n",
    "  \n",
    "- **Principle of Naive Bayes Classifier:**\n",
    "\n",
    "  The crux of the classifier is based on the **Extended Bayes' theorem**."
   ]
  },
  {
   "cell_type": "markdown",
   "metadata": {
    "slideshow": {
     "slide_type": "subslide"
    }
   },
   "source": [
    "<h3 align=\"center\">Extended Bayes' Theorem</h3>\n",
    "\n",
    "\n",
    "\n",
    "- Let $(\\Omega, \\Sigma, P)$ be a probability space.\n",
    "\n",
    "\n",
    "- **Extended Bayes' theorem**. \n",
    "\n",
    "  If $B_1, B_2, \\dots, B_n$ are conditionally independent events given $A$, such that \n",
    "$P(B_i) > 0$ for each $i \\in \\{1, 2, 3, \\dots , n \\}$ and $P(A)>0$, then:\n",
    "\n",
    "  $$P(A | B) = \n",
    "\\frac{P(B_1|A) \\times \\cdots \\times  P(B_n|A) \\times P(A)}{P(B_1|A) \\times \\cdots \\times P(B_n|A) \\times P(A) + P(B_1|\\overline{A}) \\times \\cdots \\times  P(B_n|\\overline{A}) \\times P(\\overline{A})},$$\n",
    "\n",
    "  where $\\overline{A} = \\Omega \\setminus A$ and $B = B_1 \\cap B_2 \\cap \\dots \\cap B_n$."
   ]
  },
  {
   "cell_type": "markdown",
   "metadata": {
    "slideshow": {
     "slide_type": "subslide"
    }
   },
   "source": [
    "<h3 align=\"center\">Practical Application from Scratch</h3>\n",
    "\n",
    "\n",
    "- Lets consider the **Game of golf** dataset.\n",
    "\n",
    "\n",
    "- Weather conditions: **Outlook, Temperature, Humidity, Wind**.\n",
    "\n",
    "\n",
    "- Each tuple classifies the conditions as **fit** (**Yes**) or **unfit** (**No**) for **Playing** golf.\n",
    "\n",
    "| Day |  Outlook | Temperature | Humidity | Wind   | Play |\n",
    "|:---:|:--------:|:-----------:|:--------:|:------:|:----:|\n",
    "|  0  |   Sunny  |     Hot     | High     | Weak   | No   |\n",
    "|  1  |   Sunny  |     Hot     | High     | Strong | No   |\n",
    "|  2  | Overcast |     Hot     | High     | Weak   | Yes  |\n",
    "| 3   | Rain     | Mild        | High     | Weak   | Yes  |\n",
    "| 4   | Rain     | Cool        | Normal   | Weak   | Yes  |\n",
    "| 5   | Rain     | Cool        | Normal   | Strong | No   |\n",
    "| 6   | Overcast | Cool        | Normal   | Strong | Yes  |\n",
    "| 7   | Sunny    | Mild        | High     | Weak   | No   |\n",
    "| 8   | Sunny    | Cool        | Normal   | Weak   | Yes  |\n",
    "| 9   | Rain     | Mild        | Normal   | Weak   | Yes  |\n",
    "| 10  | Sunny    | Mild        | Normal   | Strong | Yes  |\n",
    "| 11  | Overcast | Mild        | High     | Strong | Yes  |\n",
    "| 12  | Overcast | Hot         | Normal   | Weak   | Yes  |\n",
    "| 13  | Rain     | Mild        | High     | Strong | No   |\n"
   ]
  },
  {
   "cell_type": "markdown",
   "metadata": {
    "slideshow": {
     "slide_type": "subslide"
    }
   },
   "source": [
    "- First, we need to calculate individual probabilities with respect to each weather conditions (feature):\n",
    "\n",
    "|  Outlook |     |    |               |               |$|$| Temperature |     |    |               |               |\n",
    "|:---------|:---:|:--:|:-------------:|:-------------:|---|:------------|:---:|:--:|:-------------:|:-------------:|\n",
    "|          | Yes | No |     P(Yes)    |     P(No)     |$|$|             | Yes | No |     P(Yes)    |     P(No)     |\n",
    "|   Sunny  |     |    |               |               |$|$|             |     |    |               |               |\n",
    "| Overcast |     |    |               |               |$|$|             |     |    |               |               |\n",
    "|   Rainy  |     |    |               |               |$|$|             |     |    |               |               |\n",
    "|   Total  |     |    |               |               |$|$|             |     |    |               |               |\n",
    "\n",
    "| Humidity |     |    |               |               |$|$| Wind  |     |    |               |               |\n",
    "|:---------|:---:|:--:|:-------------:|:-------------:|---|:------|:---:|:--:|:-------------:|:-------------:|\n",
    "|          | Yes | No |     P(Yes)    |     P(No)     |$|$|       | Yes | No |     P(Yes)    |     P(No)     |\n",
    "|   High   |     |    |               |               |$|$|       |     |    |               |               |\n",
    "|   Norm   |     |    |               |               |$|$|       |     |    |               |               |\n",
    "|   Total  |     |    |               |               |$|$|       |     |    |               |               |\n",
    "\n",
    "|       | Play |   Probability  |\n",
    "|:-----:|:----:|:--------------:|\n",
    "|  Yes  |      |                |\n",
    "|   No  |      |                |\n",
    "| Total |      |                |"
   ]
  },
  {
   "cell_type": "code",
   "execution_count": null,
   "metadata": {
    "slideshow": {
     "slide_type": "skip"
    }
   },
   "outputs": [],
   "source": []
  },
  {
   "cell_type": "markdown",
   "metadata": {
    "slideshow": {
     "slide_type": "subslide"
    }
   },
   "source": [
    "<h3 align=\"center\">Exercise 1</h3>\n",
    "\n",
    "Now, suppose we have a **Day** with the following values:\n",
    "- Outlook = Rain\n",
    "- Temperature = Mild\n",
    "- Humidity = High\n",
    "- Wind = Weak\n",
    "\n",
    "Predict whether \"we can **Play** on that day or not.\""
   ]
  },
  {
   "cell_type": "markdown",
   "metadata": {
    "slideshow": {
     "slide_type": "fragment"
    }
   },
   "source": [
    "- First, we need to define our events:\n",
    "\n",
    "  - $A \\text{  }: \\{ \\text{ Play = ______ }\\}$\n",
    "  - $B_1 : \\{ \\text{Outlook = ______ }\\}$\n",
    "  - $B_2 : \\{ \\text{Temperature = ______ }\\}$\n",
    "  - $B_3 : \\{ \\text{Humidity = ______ }\\}$\n",
    "  - $B_4 : \\{ \\text{Windy = ______ }\\}$"
   ]
  },
  {
   "cell_type": "markdown",
   "metadata": {
    "slideshow": {
     "slide_type": "subslide"
    }
   },
   "source": [
    "- Second, we need to write down the conditional probabilites for our instance:\n",
    "\n",
    "|                         |                                    |\n",
    "|:-----------------------:|:----------------------------------:|\n",
    "|$P(B_1|A) = \\frac{\\;}{\\;}$ | $P(B_1|\\overline{A}) = \\frac{\\;}{\\;}$|\n",
    "|$P(B_2|A) = \\frac{\\;}{\\;}$ | $P(B_2|\\overline{A}) = \\frac{\\;}{\\;}$|\n",
    "|$P(B_3|A) = \\frac{\\;}{\\;}$ | $P(B_3|\\overline{A}) = \\frac{\\;}{\\;}$|\n",
    "|$P(A)     = \\frac{\\;}{\\;}$| $P(\\overline{A})      = \\frac{\\;}{\\;}$   |\n",
    "\n",
    "- Third, we use the Extended Bayes' Theorem and obtain the final probability:\n",
    "\n",
    "$$P(A|B) = \\frac{\n",
    "\\frac{\\;}{\\;} \\frac{\\;}{\\;} \\frac{\\;}{\\;} \\frac{\\;}{\\;} \\frac{\\;}{\\;}\n",
    "}{\n",
    "\\frac{\\;}{\\;} \\frac{\\;}{\\;} \\frac{\\;}{\\;}  \\frac{\\;}{\\;} \\frac{\\;}{\\;} + \\frac{\\;}{\\;} \\frac{\\;}{\\;} \\frac{\\;}{\\;} \\frac{\\;}{\\;}  \\frac{\\;}{\\;}\n",
    "} = $$\n"
   ]
  },
  {
   "cell_type": "code",
   "execution_count": null,
   "metadata": {},
   "outputs": [],
   "source": []
  },
  {
   "cell_type": "markdown",
   "metadata": {
    "slideshow": {
     "slide_type": "subslide"
    }
   },
   "source": [
    "<h3 align=\"center\">Exercise 2</h3>\n",
    "\n",
    "- Now, suppose we have a **Day** with the following values:\n",
    "  - Outlook = Rain\n",
    "  - Humidity = High\n",
    "  - Wind = Weak\n",
    "\n",
    "\n",
    "- Predict whether we can **Play** on that day or not."
   ]
  },
  {
   "cell_type": "markdown",
   "metadata": {
    "slideshow": {
     "slide_type": "fragment"
    }
   },
   "source": [
    "- First, we need to define our events:\n",
    "\n",
    "  - $A \\text{  }: \\{ \\text{ Play = ______ }\\}$\n",
    "  - $B_1 : \\{ \\text{Outlook = ______ }\\}$\n",
    "  - $B_2 : \\{ \\text{Humidity = ______ }\\}$\n",
    "  - $B_3 : \\{ \\text{Wind = ______ }\\}$"
   ]
  },
  {
   "cell_type": "markdown",
   "metadata": {
    "slideshow": {
     "slide_type": "subslide"
    }
   },
   "source": [
    "- Second, we need to write down the conditional probabilites for our instance:\n",
    "\n",
    "|                         |                                    |\n",
    "|:-----------------------:|:----------------------------------:|\n",
    "|$P(B_1|A) = \\frac{\\;}{\\;}$ | $P(B_1|\\overline{A}) = \\frac{\\;}{\\;}$|\n",
    "|$P(B_2|A) = \\frac{\\;}{\\;}$ | $P(B_2|\\overline{A}) = \\frac{\\;}{\\;}$|\n",
    "|$P(B_3|A) = \\frac{\\;}{\\;}$ | $P(B_3|\\overline{A}) = \\frac{\\;}{\\;}$|\n",
    "|$P(A)     = \\frac{\\;}{\\;}$| $P(\\overline{A})      = \\frac{\\;}{\\;}$   |\n",
    "\n",
    "- Third, we use the Extended Bayes' Theorem and obtain the final probability:\n",
    "\n",
    "$$P(A|B) = \\frac{\n",
    "\\frac{\\;}{\\;} \\frac{\\;}{\\;} \\frac{\\;}{\\;} \\frac{\\;}{\\;}\n",
    "}{\n",
    "\\frac{\\;}{\\;} \\frac{\\;}{\\;} \\frac{\\;}{\\;}  \\frac{\\;}{\\;} + \\frac{\\;}{\\;} \\frac{\\;}{\\;} \\frac{\\;}{\\;} \\frac{\\;}{\\;} \n",
    "} = $$\n"
   ]
  },
  {
   "cell_type": "code",
   "execution_count": null,
   "metadata": {},
   "outputs": [],
   "source": []
  },
  {
   "cell_type": "markdown",
   "metadata": {},
   "source": [
    "<h3 align=\"center\">Implementation using Python</h3>\n"
   ]
  },
  {
   "cell_type": "code",
   "execution_count": 2,
   "metadata": {},
   "outputs": [],
   "source": [
    "# 0. Import the required Libraries\n",
    "import numpy as np\n",
    "import pandas as pd\n",
    "from sklearn.model_selection import train_test_split\n",
    "from sklearn.naive_bayes import GaussianNB\n",
    "from sklearn import metrics"
   ]
  },
  {
   "cell_type": "code",
   "execution_count": 3,
   "metadata": {
    "scrolled": true
   },
   "outputs": [
    {
     "data": {
      "text/html": [
       "<div>\n",
       "<style scoped>\n",
       "    .dataframe tbody tr th:only-of-type {\n",
       "        vertical-align: middle;\n",
       "    }\n",
       "\n",
       "    .dataframe tbody tr th {\n",
       "        vertical-align: top;\n",
       "    }\n",
       "\n",
       "    .dataframe thead th {\n",
       "        text-align: right;\n",
       "    }\n",
       "</style>\n",
       "<table border=\"1\" class=\"dataframe\">\n",
       "  <thead>\n",
       "    <tr style=\"text-align: right;\">\n",
       "      <th></th>\n",
       "      <th>Outlook</th>\n",
       "      <th>Temperature</th>\n",
       "      <th>Humidity</th>\n",
       "      <th>Wind</th>\n",
       "      <th>Play</th>\n",
       "    </tr>\n",
       "  </thead>\n",
       "  <tbody>\n",
       "    <tr>\n",
       "      <th>0</th>\n",
       "      <td>Sunny</td>\n",
       "      <td>Hot</td>\n",
       "      <td>High</td>\n",
       "      <td>Weak</td>\n",
       "      <td>No</td>\n",
       "    </tr>\n",
       "    <tr>\n",
       "      <th>1</th>\n",
       "      <td>Sunny</td>\n",
       "      <td>Hot</td>\n",
       "      <td>High</td>\n",
       "      <td>Strong</td>\n",
       "      <td>No</td>\n",
       "    </tr>\n",
       "    <tr>\n",
       "      <th>2</th>\n",
       "      <td>Overcast</td>\n",
       "      <td>Hot</td>\n",
       "      <td>High</td>\n",
       "      <td>Weak</td>\n",
       "      <td>Yes</td>\n",
       "    </tr>\n",
       "    <tr>\n",
       "      <th>3</th>\n",
       "      <td>Rain</td>\n",
       "      <td>Mild</td>\n",
       "      <td>High</td>\n",
       "      <td>Weak</td>\n",
       "      <td>Yes</td>\n",
       "    </tr>\n",
       "    <tr>\n",
       "      <th>4</th>\n",
       "      <td>Rain</td>\n",
       "      <td>Cool</td>\n",
       "      <td>Normal</td>\n",
       "      <td>Weak</td>\n",
       "      <td>Yes</td>\n",
       "    </tr>\n",
       "  </tbody>\n",
       "</table>\n",
       "</div>"
      ],
      "text/plain": [
       "    Outlook Temperature Humidity    Wind Play\n",
       "0     Sunny         Hot     High    Weak   No\n",
       "1     Sunny         Hot     High  Strong   No\n",
       "2  Overcast         Hot     High    Weak  Yes\n",
       "3      Rain        Mild     High    Weak  Yes\n",
       "4      Rain        Cool   Normal    Weak  Yes"
      ]
     },
     "execution_count": 3,
     "metadata": {},
     "output_type": "execute_result"
    }
   ],
   "source": [
    "# 1. Read in the Data file\n",
    "\n",
    "def strip_txt(txt:str) -> str:\n",
    "    return txt.replace(\"'\", '').strip() if txt else txt\n",
    "\n",
    "fi = \"data./golf.csv\"\n",
    "file_handler = open(fi, \"r\")\n",
    "\n",
    "df = pd.read_csv(file_handler, converters={'Outlook':     strip_txt,\n",
    "                                           'Temperature': strip_txt,\n",
    "                                           'Humidity':    strip_txt,\n",
    "                                           'Wind':        strip_txt,\n",
    "                                           'Play':        strip_txt})\n",
    "df.head()"
   ]
  },
  {
   "cell_type": "code",
   "execution_count": 4,
   "metadata": {
    "scrolled": true
   },
   "outputs": [
    {
     "data": {
      "text/html": [
       "<div>\n",
       "<style scoped>\n",
       "    .dataframe tbody tr th:only-of-type {\n",
       "        vertical-align: middle;\n",
       "    }\n",
       "\n",
       "    .dataframe tbody tr th {\n",
       "        vertical-align: top;\n",
       "    }\n",
       "\n",
       "    .dataframe thead th {\n",
       "        text-align: right;\n",
       "    }\n",
       "</style>\n",
       "<table border=\"1\" class=\"dataframe\">\n",
       "  <thead>\n",
       "    <tr style=\"text-align: right;\">\n",
       "      <th></th>\n",
       "      <th>Outlook</th>\n",
       "      <th>Temperature</th>\n",
       "      <th>Humidity</th>\n",
       "      <th>Wind</th>\n",
       "      <th>Play</th>\n",
       "    </tr>\n",
       "  </thead>\n",
       "  <tbody>\n",
       "    <tr>\n",
       "      <th>0</th>\n",
       "      <td>1</td>\n",
       "      <td>1</td>\n",
       "      <td>1</td>\n",
       "      <td>2</td>\n",
       "      <td>0</td>\n",
       "    </tr>\n",
       "    <tr>\n",
       "      <th>1</th>\n",
       "      <td>1</td>\n",
       "      <td>1</td>\n",
       "      <td>1</td>\n",
       "      <td>1</td>\n",
       "      <td>0</td>\n",
       "    </tr>\n",
       "    <tr>\n",
       "      <th>2</th>\n",
       "      <td>2</td>\n",
       "      <td>1</td>\n",
       "      <td>1</td>\n",
       "      <td>2</td>\n",
       "      <td>1</td>\n",
       "    </tr>\n",
       "    <tr>\n",
       "      <th>3</th>\n",
       "      <td>3</td>\n",
       "      <td>2</td>\n",
       "      <td>1</td>\n",
       "      <td>2</td>\n",
       "      <td>1</td>\n",
       "    </tr>\n",
       "    <tr>\n",
       "      <th>4</th>\n",
       "      <td>3</td>\n",
       "      <td>3</td>\n",
       "      <td>2</td>\n",
       "      <td>2</td>\n",
       "      <td>1</td>\n",
       "    </tr>\n",
       "  </tbody>\n",
       "</table>\n",
       "</div>"
      ],
      "text/plain": [
       "   Outlook  Temperature  Humidity  Wind  Play\n",
       "0        1            1         1     2     0\n",
       "1        1            1         1     1     0\n",
       "2        2            1         1     2     1\n",
       "3        3            2         1     2     1\n",
       "4        3            3         2     2     1"
      ]
     },
     "execution_count": 4,
     "metadata": {},
     "output_type": "execute_result"
    }
   ],
   "source": [
    "# 2. Data Cleansing and Feature Selection\n",
    "\n",
    "# We need to map our data to numbers\n",
    "# This is done because the naive Bayes implementation in sklearn cannot deal with strings\n",
    "Outlook     = {'Sunny':  1, 'Overcast': 2, 'Rain': 3}\n",
    "Temperature = {'Hot':    1, 'Mild':     2, 'Cool': 3}\n",
    "Humidity    = {'High':   1, 'Normal':   2}\n",
    "Wind        = {'Strong': 1, 'Weak':     2}\n",
    "Play        = {'Yes':    1, 'No':       0}\n",
    "\n",
    "df.Outlook     = [Outlook[item]     for item in df.Outlook.astype(str)]\n",
    "df.Temperature = [Temperature[item] for item in df.Temperature.astype(str)]\n",
    "df.Humidity    = [Humidity[item]    for item in df.Humidity.astype(str)]\n",
    "df.Wind        = [Wind[item]        for item in df.Wind.astype(str)]\n",
    "df.Play        = [Play[item]        for item in df.Play.astype(str)]\n",
    "\n",
    "df.head()"
   ]
  },
  {
   "cell_type": "code",
   "execution_count": 30,
   "metadata": {
    "scrolled": false
   },
   "outputs": [
    {
     "data": {
      "text/html": [
       "<div>\n",
       "<style scoped>\n",
       "    .dataframe tbody tr th:only-of-type {\n",
       "        vertical-align: middle;\n",
       "    }\n",
       "\n",
       "    .dataframe tbody tr th {\n",
       "        vertical-align: top;\n",
       "    }\n",
       "\n",
       "    .dataframe thead th {\n",
       "        text-align: right;\n",
       "    }\n",
       "</style>\n",
       "<table border=\"1\" class=\"dataframe\">\n",
       "  <thead>\n",
       "    <tr style=\"text-align: right;\">\n",
       "      <th></th>\n",
       "      <th>Outlook</th>\n",
       "      <th>Temperature</th>\n",
       "      <th>Humidity</th>\n",
       "      <th>Wind</th>\n",
       "    </tr>\n",
       "  </thead>\n",
       "  <tbody>\n",
       "    <tr>\n",
       "      <th>9</th>\n",
       "      <td>3</td>\n",
       "      <td>2</td>\n",
       "      <td>2</td>\n",
       "      <td>2</td>\n",
       "    </tr>\n",
       "    <tr>\n",
       "      <th>1</th>\n",
       "      <td>1</td>\n",
       "      <td>1</td>\n",
       "      <td>1</td>\n",
       "      <td>1</td>\n",
       "    </tr>\n",
       "    <tr>\n",
       "      <th>7</th>\n",
       "      <td>1</td>\n",
       "      <td>2</td>\n",
       "      <td>1</td>\n",
       "      <td>2</td>\n",
       "    </tr>\n",
       "    <tr>\n",
       "      <th>10</th>\n",
       "      <td>1</td>\n",
       "      <td>2</td>\n",
       "      <td>2</td>\n",
       "      <td>1</td>\n",
       "    </tr>\n",
       "    <tr>\n",
       "      <th>3</th>\n",
       "      <td>3</td>\n",
       "      <td>2</td>\n",
       "      <td>1</td>\n",
       "      <td>2</td>\n",
       "    </tr>\n",
       "  </tbody>\n",
       "</table>\n",
       "</div>"
      ],
      "text/plain": [
       "    Outlook  Temperature  Humidity  Wind\n",
       "9         3            2         2     2\n",
       "1         1            1         1     1\n",
       "7         1            2         1     2\n",
       "10        1            2         2     1\n",
       "3         3            2         1     2"
      ]
     },
     "execution_count": 30,
     "metadata": {},
     "output_type": "execute_result"
    }
   ],
   "source": [
    "# 3: Data splitting into Training and Test sets\n",
    "X = df[['Outlook', 'Temperature', 'Humidity', 'Wind']]\n",
    "Y = df[['Play']]\n",
    "\n",
    "X_train, X_test, y_train, y_test = train_test_split(X, Y, test_size=0.4, random_state=0) \n",
    "X_train.head()"
   ]
  },
  {
   "cell_type": "code",
   "execution_count": 31,
   "metadata": {
    "scrolled": true
   },
   "outputs": [
    {
     "data": {
      "text/html": [
       "<div>\n",
       "<style scoped>\n",
       "    .dataframe tbody tr th:only-of-type {\n",
       "        vertical-align: middle;\n",
       "    }\n",
       "\n",
       "    .dataframe tbody tr th {\n",
       "        vertical-align: top;\n",
       "    }\n",
       "\n",
       "    .dataframe thead th {\n",
       "        text-align: right;\n",
       "    }\n",
       "</style>\n",
       "<table border=\"1\" class=\"dataframe\">\n",
       "  <thead>\n",
       "    <tr style=\"text-align: right;\">\n",
       "      <th></th>\n",
       "      <th>Play</th>\n",
       "    </tr>\n",
       "  </thead>\n",
       "  <tbody>\n",
       "    <tr>\n",
       "      <th>8</th>\n",
       "      <td>1</td>\n",
       "    </tr>\n",
       "    <tr>\n",
       "      <th>6</th>\n",
       "      <td>1</td>\n",
       "    </tr>\n",
       "    <tr>\n",
       "      <th>4</th>\n",
       "      <td>0</td>\n",
       "    </tr>\n",
       "    <tr>\n",
       "      <th>11</th>\n",
       "      <td>1</td>\n",
       "    </tr>\n",
       "    <tr>\n",
       "      <th>2</th>\n",
       "      <td>1</td>\n",
       "    </tr>\n",
       "    <tr>\n",
       "      <th>13</th>\n",
       "      <td>0</td>\n",
       "    </tr>\n",
       "  </tbody>\n",
       "</table>\n",
       "</div>"
      ],
      "text/plain": [
       "    Play\n",
       "8      1\n",
       "6      1\n",
       "4      0\n",
       "11     1\n",
       "2      1\n",
       "13     0"
      ]
     },
     "execution_count": 31,
     "metadata": {},
     "output_type": "execute_result"
    }
   ],
   "source": [
    "# 4: Training and Prediction\n",
    "model = GaussianNB() \n",
    "model.fit(X_train, y_train.values.ravel()) \n",
    "y_pred = model.predict(X_test)\n",
    "y_test - y_pred.reshape(-1, 1)"
   ]
  },
  {
   "cell_type": "code",
   "execution_count": 32,
   "metadata": {},
   "outputs": [
    {
     "name": "stdout",
     "output_type": "stream",
     "text": [
      "Gaussian Naive Bayes model accuracy(in %): 33.33333333333333\n"
     ]
    }
   ],
   "source": [
    "# 5: Accuracy evaluation\n",
    "print(\"Gaussian Naive Bayes model accuracy(in %):\", metrics.accuracy_score(y_test, y_pred)*100)"
   ]
  },
  {
   "cell_type": "code",
   "execution_count": 33,
   "metadata": {
    "scrolled": false
   },
   "outputs": [
    {
     "data": {
      "text/html": [
       "<div>\n",
       "<style scoped>\n",
       "    .dataframe tbody tr th:only-of-type {\n",
       "        vertical-align: middle;\n",
       "    }\n",
       "\n",
       "    .dataframe tbody tr th {\n",
       "        vertical-align: top;\n",
       "    }\n",
       "\n",
       "    .dataframe thead th {\n",
       "        text-align: right;\n",
       "    }\n",
       "</style>\n",
       "<table border=\"1\" class=\"dataframe\">\n",
       "  <thead>\n",
       "    <tr style=\"text-align: right;\">\n",
       "      <th></th>\n",
       "      <th>Outlook</th>\n",
       "      <th>Temperature</th>\n",
       "      <th>Humidity</th>\n",
       "      <th>Wind</th>\n",
       "      <th>Play</th>\n",
       "      <th>prediction</th>\n",
       "    </tr>\n",
       "  </thead>\n",
       "  <tbody>\n",
       "    <tr>\n",
       "      <th>9</th>\n",
       "      <td>3</td>\n",
       "      <td>2</td>\n",
       "      <td>2</td>\n",
       "      <td>2</td>\n",
       "      <td>1</td>\n",
       "      <td>1</td>\n",
       "    </tr>\n",
       "    <tr>\n",
       "      <th>1</th>\n",
       "      <td>1</td>\n",
       "      <td>1</td>\n",
       "      <td>1</td>\n",
       "      <td>1</td>\n",
       "      <td>0</td>\n",
       "      <td>0</td>\n",
       "    </tr>\n",
       "    <tr>\n",
       "      <th>7</th>\n",
       "      <td>1</td>\n",
       "      <td>2</td>\n",
       "      <td>1</td>\n",
       "      <td>2</td>\n",
       "      <td>0</td>\n",
       "      <td>0</td>\n",
       "    </tr>\n",
       "    <tr>\n",
       "      <th>10</th>\n",
       "      <td>1</td>\n",
       "      <td>2</td>\n",
       "      <td>2</td>\n",
       "      <td>1</td>\n",
       "      <td>1</td>\n",
       "      <td>1</td>\n",
       "    </tr>\n",
       "    <tr>\n",
       "      <th>3</th>\n",
       "      <td>3</td>\n",
       "      <td>2</td>\n",
       "      <td>1</td>\n",
       "      <td>2</td>\n",
       "      <td>1</td>\n",
       "      <td>1</td>\n",
       "    </tr>\n",
       "    <tr>\n",
       "      <th>0</th>\n",
       "      <td>1</td>\n",
       "      <td>1</td>\n",
       "      <td>1</td>\n",
       "      <td>2</td>\n",
       "      <td>0</td>\n",
       "      <td>0</td>\n",
       "    </tr>\n",
       "    <tr>\n",
       "      <th>5</th>\n",
       "      <td>3</td>\n",
       "      <td>3</td>\n",
       "      <td>2</td>\n",
       "      <td>1</td>\n",
       "      <td>0</td>\n",
       "      <td>0</td>\n",
       "    </tr>\n",
       "    <tr>\n",
       "      <th>12</th>\n",
       "      <td>2</td>\n",
       "      <td>1</td>\n",
       "      <td>2</td>\n",
       "      <td>2</td>\n",
       "      <td>1</td>\n",
       "      <td>1</td>\n",
       "    </tr>\n",
       "  </tbody>\n",
       "</table>\n",
       "</div>"
      ],
      "text/plain": [
       "    Outlook  Temperature  Humidity  Wind  Play  prediction\n",
       "9         3            2         2     2     1           1\n",
       "1         1            1         1     1     0           0\n",
       "7         1            2         1     2     0           0\n",
       "10        1            2         2     1     1           1\n",
       "3         3            2         1     2     1           1\n",
       "0         1            1         1     2     0           0\n",
       "5         3            3         2     1     0           0\n",
       "12        2            1         2     2     1           1"
      ]
     },
     "execution_count": 33,
     "metadata": {},
     "output_type": "execute_result"
    }
   ],
   "source": [
    "# 6. build a dataframe to show the expected vs predicted values\n",
    "test_data = pd.concat([X_train, y_train], axis=1)\n",
    "test_data[\"prediction\"] = model.predict(X_train)\n",
    "test_data"
   ]
  },
  {
   "cell_type": "code",
   "execution_count": 34,
   "metadata": {},
   "outputs": [
    {
     "name": "stdout",
     "output_type": "stream",
     "text": [
      "Predicted Value: [1]\n"
     ]
    }
   ],
   "source": [
    "# 7. Predict new value\n",
    "new_Val = np.array([3, 2, 1, 2]).reshape(1, -1)\n",
    "Play = model.predict(new_Val)\n",
    "print(\"Predicted Value:\", Play)"
   ]
  },
  {
   "cell_type": "markdown",
   "metadata": {
    "slideshow": {
     "slide_type": "slide"
    }
   },
   "source": [
    "<h1 align=\"center\">End of Seminar</h1>"
   ]
  }
 ],
 "metadata": {
  "kernelspec": {
   "display_name": "Python 3",
   "language": "python",
   "name": "python3"
  },
  "language_info": {
   "codemirror_mode": {
    "name": "ipython",
    "version": 3
   },
   "file_extension": ".py",
   "mimetype": "text/x-python",
   "name": "python",
   "nbconvert_exporter": "python",
   "pygments_lexer": "ipython3",
   "version": "3.7.3"
  }
 },
 "nbformat": 4,
 "nbformat_minor": 2
}
