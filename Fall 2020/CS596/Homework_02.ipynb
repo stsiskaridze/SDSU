{
 "cells": [
  {
   "cell_type": "markdown",
   "metadata": {},
   "source": [
    "**Levan Sanadiradze**\n",
    "\n",
    "**RedID: 821 008 884**"
   ]
  },
  {
   "cell_type": "markdown",
   "metadata": {
    "slideshow": {
     "slide_type": "notes"
    }
   },
   "source": [
    "**Artificial Inteligence (CS550)**\n",
    "\n",
    "Title: **Homework №2**\n",
    "<br>\n",
    "Deadline: **6 May 2020**\n",
    "\n",
    "Homework will be evaluated maximum by **6 points**.\n",
    "Each problem is **one point**. "
   ]
  },
  {
   "cell_type": "markdown",
   "metadata": {
    "slideshow": {
     "slide_type": "slide"
    }
   },
   "source": [
    "<h3 align=\"center\">Problem 1: Probability Distributions</h3>\n",
    "\n",
    "Consider the following probability distributions (choose the number that corresponds to your number in the student's list):\n",
    "0. uniform\n",
    "1. bernoulli distribution\n",
    "2. binomial distribution\n",
    "3. geometric distribution\n",
    "4. hypergeometric distribution\n",
    "5. poisson\n",
    "6. beta\n",
    "7. gamma\n",
    "8. students\n",
    "9. chi_squared\n",
    "11. Gaussian distribution\n",
    "\n",
    "Perform the following tasks:\n",
    "- define the **distribution function**\n",
    "- choose the **definition area** of the distribution function\n",
    "- **generate 1000 events** with chosen distribution function\n",
    "- add **Gaussian noise**\n",
    "- choose the **binning** and plot the **histogramm **(do not forget to normalize it)\n",
    "- **fit** the resulting histogram with the true distribution function, **identify errors**\n",
    "- make a **final graph** showing: the resulting histogram, the true distribution and the results of fitting with the identified errors\n",
    "\n",
    "**Note**: In the case of **discrete** and **continuouse** distributions, **do both**!\n",
    "\n",
    "**Note**: Do not forget to **include** the **labels and units**!\n",
    "\n",
    "**Hint**: You can use this source:\n",
    "\n",
    "https://www.boost.org/doc/libs/1_58_0/libs/math/doc/html/math_toolkit/dist_ref/dists/"
   ]
  },
  {
   "cell_type": "code",
   "execution_count": 2,
   "metadata": {},
   "outputs": [
    {
     "data": {
      "image/png": "[encoded data removed]",
      "text/plain": [
       "<Figure size 432x288 with 1 Axes>"
      ]
     },
     "metadata": {
      "needs_background": "light"
     },
     "output_type": "display_data"
    },
    {
     "data": {
      "image/png": "[encoded data removed]",
      "text/plain": [
       "<Figure size 432x288 with 1 Axes>"
      ]
     },
     "metadata": {
      "needs_background": "light"
     },
     "output_type": "display_data"
    }
   ],
   "source": [
    "import numpy as np\n",
    "import scipy.stats as stats\n",
    "import matplotlib.pyplot as plt\n",
    "\n",
    "\n",
    "dof = 9\n",
    "raw = np.random.standard_t(dof, [1000])\n",
    "noise = np.random.normal(0, 1.0, size = [1000])\n",
    "lnspc = np.linspace(-5, 5, 1000)\n",
    "\n",
    "data = raw + noise\n",
    "\n",
    "# plt.hist(raw, bins = 100, range=[-5, 5], density = True)\n",
    "# plt.show()\n",
    "\n",
    "hist = plt.hist(data, bins = 20, range=[-5, 5], density = True)\n",
    "plt.show()\n",
    "\n",
    "hist = plt.hist(data, bins = 20, range=[-5, 5], density = True)\n",
    "\n",
    "\n",
    "p = stats.t.fit(raw, dof)\n",
    "pdf_g = stats.t.pdf(lnspc, p[0], p[1], p[2])\n",
    "plt.plot(lnspc, pdf_g, linewidth = 3, label='True') \n",
    "\n",
    "p_noised = stats.t.fit(data, dof)\n",
    "pdf_g_noised = stats.t.pdf(lnspc, p_noised[0], p_noised[1], p_noised[2])\n",
    "plt.plot(lnspc, pdf_g_noised, linewidth = 3, label='Fit') \n",
    "plt.legend()\n",
    "plt.show()"
   ]
  },
  {
   "cell_type": "markdown",
   "metadata": {
    "slideshow": {
     "slide_type": "slide"
    }
   },
   "source": [
    "<h3 align=\"center\">Problem 2: Bias of an Estimator</h3>\n",
    "\n",
    "Suppose $X_1, X_2, ..., X_n$ are **independent and identically distributed** (**i.i.d.**) random variables with \n",
    "**expectation** $\\mu$ and **variance** $\\sigma^2$.\n",
    "\n",
    "The **sample mean** and **uncorrected sample variance** are defined as:\n",
    "\n",
    "$$\\overline{X} = \\frac{1}{n}\\sum_{i=1}^{n} X_i \\text{ and } S^2 = \\frac{1}{n}\\sum_{i=1}^{n} \\left ( X_i - \\overline{X} \\right )^2.$$\n",
    "\n",
    "(a) Compute the **sample mean** and compare it with the **population mean** $\\mu$.\n",
    "\n",
    "(b) Compute the **expected value** of the **uncorrected sample variance**, $\\mathbf{E}[S^2]$, and compare it with the **population variance** $\\sigma^2$.\n",
    "\n",
    "(c) How to **change** the **sample variance** to get **unbiased estimator** of the **population variance** $\\sigma^2$.\n",
    "\n",
    "**Note**: the **expectation value** and the **sample mean** are different things!\n"
   ]
  },
  {
   "cell_type": "markdown",
   "metadata": {},
   "source": [
    "**(a)**\n",
    "$$\n",
    "E(\\frac{1}{n}\\sum_{i=1}^{n} X_i) = \\frac{1}{n}\\sum_{i=1}^{n} E(X_i) = \\frac{1}{n}\\sum_{i=1}^{n} \\mu = \\frac{1}{n} n \\mu = \\mu\n",
    "$$\n",
    "$$\n",
    "\\overline{X} = \\mu\n",
    "$$"
   ]
  },
  {
   "cell_type": "markdown",
   "metadata": {},
   "source": [
    "**(b)**\n",
    "$$\n",
    "E(S^2) = E[\\frac{1}{n}\\sum_{i=1}^{n} ( X_i - \\overline{X} )^2] = \\frac{1}{n} E[\\sum_{i=1}^{n} ( X_i - \\overline{X} )^2] \\text{   (1)}\n",
    "$$\n",
    "$$\n",
    "E[\\sum_{i=1}^{n} ( X_i - \\overline{X} )^2] = \n",
    "E[\\sum_{i=1}^{n} (X_i^2 - 2X_i\\overline{X} + \\overline{X}^2)] = \n",
    "E[\\sum_{i=1}^{n} X_i^2 - \\sum_{i=1}^{n} 2X_i\\overline{X} + \\sum_{i=1}^{n}\\overline{X}^2] = \n",
    "E[\\sum_{i=1}^{n} X_i^2 - 2\\overline{X}\\sum_{i=1}^{n} X_i + n\\overline{X}^2] =\n",
    "E[\\sum_{i=1}^{n} X_i^2 - 2\\overline{X}n\\overline{X} + n\\overline{X}^2] =\n",
    "E[\\sum_{i=1}^{n} X_i^2 - 2n\\overline{X}^2 + n\\overline{X}^2] =\n",
    "E[\\sum_{i=1}^{n} X_i^2 - n\\overline{X}^2] =\n",
    "\\sum_{i=1}^{n} E[X_i^2] - E[n\\overline{X}^2] =\n",
    "\\sum_{i=1}^{n} E[X_i^2] - n E[\\overline{X}^2] \\text{  (2)}\n",
    "$$\n",
    "\n",
    "Now let's use these two formulas:\n",
    "$$\n",
    "E[X_i^2] = \\sigma^2 + \\mu^2\n",
    "$$\n",
    "$$\n",
    "E[\\overline{X}^2] = \\frac{\\sigma^2}{n} + \\mu^2\n",
    "$$\n",
    "Substitute them into the **(2)**:\n",
    "\n",
    "$$\n",
    "E[\\sum_{i=1}^{n} ( X_i - \\overline{X} )^2] = \n",
    "\\sum_{i=1}^{n} E[X_i^2] - n E[\\overline{X}^2] = \n",
    "\\sum_{i=1}^{n} (\\sigma^2 + \\mu^2) - n (\\frac{\\sigma^2}{n} + \\mu^2) = n\\sigma^2 + n\\mu^2 - \\sigma^2 - n\\mu^2 = n \\sigma^2 - \\sigma^2 = (n - 1)\\sigma^2\n",
    "$$\n",
    "\n",
    "and substitue this into **(1)**:\n",
    "$$\n",
    "E(S^2) = \\frac{1}{n} E[\\sum_{i=1}^{n} ( X_i - \\overline{X} )^2] = \\frac{1}{n} (n - 1)\\sigma^2 = \\frac{n - 1}{n}\\sigma^2 \n",
    "$$\n",
    "\n",
    "We can conclude from the result that the **uncorrected sample variance** is biased and underestimates the population variance $\\sigma^2$"
   ]
  },
  {
   "cell_type": "markdown",
   "metadata": {},
   "source": [
    "**(c)**\n",
    "<br>\n",
    "divide on $n - 1$ instead of dividing by $n$:\n",
    "$$\n",
    "S^2 = \\frac{1}{n - 1}\\sum_{i=1}^{n} \\left ( X_i - \\overline{X} \\right )^2\n",
    "$$\n",
    "This would give unbiased estimate of $\\sigma^2$ as:\n",
    "$$\n",
    "E(S^2) = \\frac{1}{n - 1} E[\\sum_{i=1}^{n} ( X_i - \\overline{X} )^2] = \\frac{1}{n - 1} (n - 1)\\sigma^2 = \\sigma^2 \n",
    "$$"
   ]
  },
  {
   "cell_type": "markdown",
   "metadata": {
    "slideshow": {
     "slide_type": "slide"
    }
   },
   "source": [
    "<h3 align=\"center\">Problem 3: Correlation Table</h3>\n",
    "\n",
    "Given a **correlation table** of a random vector $(X,Y)$:\n",
    "\n",
    "| X\\Y |  -6  |  0  |   3  |\n",
    "|:---:|:----:|:---:|:----:|\n",
    "|  -2 |  0.1 |  0  |  0.2 |\n",
    "|  0  | 0.05 |  a  |   0  |\n",
    "|  1  |   0  | 0.2 | 0.05 |\n",
    "|  7  |  0.1 |  0  |  0.1 |\n",
    "\n",
    "\n",
    "(a) Find the **value** of the missing entry $a$;\n",
    "\n",
    "(b) Find the **distribution** of a random variable $X$, i.e. $\\operatorname{P}(X = x_i)$;\n",
    "\n",
    "(c) Find the **expectation** and **variance** of a random variable $X$, i.e. $\\operatorname{E}[X]$ and $\\operatorname{Var}[X]$;\n",
    "\n",
    "(d) Find the **distribution** of a random variable $Y$, i.e. $\\operatorname{P}(Y = y_i)$;\n",
    "\n",
    "(e) Find the **expectation** and **variance** of a random variable $Y$, i.e. $\\operatorname{E}[Y]$ and $\\operatorname{Var}[Y]$;\n",
    "\n",
    "(f) Find the **covariance** of the random variables $X$ and $Y$, i.e. $\\operatorname{Cov}(X, Y)$;\n",
    "\n",
    "(g) Find the **сorrelation сoefficient** of the random variables $X$ and $Y$, i.e. $\\rho(X, Y)$."
   ]
  },
  {
   "cell_type": "markdown",
   "metadata": {},
   "source": [
    "**(a)**\n",
    "\n",
    "Sum of all entries = $ 0.1 + 0 + 0.2 + 0.05 + a + 0 + 0 + 0.2 + 0.05 + 0.1 + 0 + 0.1 = 1$\n",
    "\n",
    "$0.8 + a = 1$, thus $a = 0.2$"
   ]
  },
  {
   "cell_type": "markdown",
   "metadata": {},
   "source": [
    "**(b)**\n",
    "\n",
    "$P(X = -2) = 0.1 + 0 + 0.2 = 0.3$\n",
    "\n",
    "$P(X = 0) = 0.05 + 0.2 + 0 = 0.25$\n",
    "\n",
    "$P(X = 1) = 0 + 0.2 + 0.05 = 0.25$\n",
    "\n",
    "$P(X = 7) = 0.1 + 0 + 0.1 = 0.2$"
   ]
  },
  {
   "cell_type": "markdown",
   "metadata": {},
   "source": [
    "**(c)**\n",
    "\n",
    "$E[X] = -2 \\cdot 0.3 + 0 \\cdot 0.25 + 1 \\cdot 0.25 + 7 \\cdot 0.2 = 1.05$\n",
    "\n",
    "$E[X^2] = -2^2 \\cdot 0.3 + 0^2 \\cdot 0.25 + 1^2 \\cdot 0.25 + 7^2 \\cdot 0.2 = 4 \\cdot 0.3 + 1 \\cdot 0.25 + 49 \\cdot 0.2 = 11.25$\n",
    "\n",
    "$Var[X] = E[X^2] - E[X]^2 = 11.25 - 1.05^2 = 11.25 - 1.1025 = 10.1475$"
   ]
  },
  {
   "cell_type": "markdown",
   "metadata": {},
   "source": [
    "**(d)**\n",
    "\n",
    "$P(Y = -6) = 0.1 + 0.05 + 0 + 0.1 = 0.25$\n",
    "\n",
    "$P(Y = 0) = 0 + 0.2 + 0.2 + 0 = 0.4$\n",
    "\n",
    "$P(Y = 3) = 0.2 + 0 + 0.05 + 0.1 = 0.35$"
   ]
  },
  {
   "cell_type": "markdown",
   "metadata": {},
   "source": [
    "**(e)**\n",
    "\n",
    "$E[Y] = -6 \\cdot 0.25 + 0 \\cdot 0.4 + 3 \\cdot 0.35 = -0.45$\n",
    "\n",
    "$E[Y^2] = 36 \\cdot 0.25 + 0 \\cdot 0.4 + 9 \\cdot 0.35 = 12.15$\n",
    "\n",
    "$Var[Y] = 12.15 - (-0.45)^2 = 11.9475$"
   ]
  },
  {
   "cell_type": "markdown",
   "metadata": {},
   "source": [
    "**(f)**\n",
    "\n",
    "$\n",
    "E[XY] = \n",
    "(-2) \\cdot (-6) \\cdot 0.1 + (-2) \\cdot 0 \\cdot 0 + (-2) \\cdot 3 \\cdot 0.2 +\n",
    "0 \\cdot (-6) \\cdot 0.5 + 0 \\cdot 0 \\cdot 0.2 + 0 \\cdot 3 \\cdot 0 +\n",
    "1 \\cdot (-6) \\cdot 0 + 1 \\cdot 0 \\cdot 0.2 + 1 \\cdot 3 \\cdot 0.05 +\n",
    "7 \\cdot -6 \\cdot 0.1 + 7 \\cdot 0 \\cdot 0 + 7 \\cdot 3 \\cdot 0.1 \n",
    "=\n",
    "(-2) \\cdot (-6) \\cdot 0.1 + (-2) \\cdot 3 \\cdot 0.2 + 1 \\cdot 3 \\cdot 0.05 +7 \\cdot -6 \\cdot 0.1 + 7 \\cdot 3 \\cdot 0.1 \n",
    "= \n",
    "-1.95\n",
    "$\n",
    "\n",
    "$Cov(X, Y) = E[XY] - E[X]E[Y] = -1.95 - 1.05 \\cdot (-0.45) = -1.4775$"
   ]
  },
  {
   "cell_type": "markdown",
   "metadata": {},
   "source": [
    "**(g)**\n",
    "\n",
    "$\n",
    "\\rho(X, Y) = \\frac {Cov(X, Y)} { \\sqrt { Var[X] \\cdot Var[Y] }} \n",
    "= \n",
    "\\frac { -1.4775 } { \\sqrt { 10.1475 \\cdot 11.9475 }}\n",
    "= \n",
    "\\frac { -1.4775 } { \\sqrt { 10.1475 \\cdot 11.9475 }} \n",
    "=\n",
    "\\frac { -1.4775 } { 11.01078 }\n",
    "=\n",
    "-0.13419\n",
    "$"
   ]
  },
  {
   "cell_type": "markdown",
   "metadata": {},
   "source": [
    "<h3 align=\"center\">Problem 4: Naive Bayes Algorithm</h3>\n",
    "\n",
    "Lets consider a dataset of a Car Showroom:\n",
    "\n",
    "| Car № |        Maker        |  Type  | Color | Sell |\n",
    "|:-----:|:-------------------:|:------:|:-----:|:----:|\n",
    "|   1   | TATA Motors Limited | Sports |  Red  |  Yes |\n",
    "|   2   |  FORD Motor Company | Sports | Black |  Yes |\n",
    "|   3   | TATA Motors Limited |   Suv  |  Red  |  No  |\n",
    "|   4   |  FORD Motor Company |   Suv  |  Red  |  No  |\n",
    "|   5   | TATA Motors Limited | Sports | Black |  Yes |\n",
    "|   6   |  FORD Motor Company | Sports | Black |  No  |\n",
    "|   7   | TATA Motors Limited |   Suv  |  Red  |  No  |\n",
    "|   8   | TATA Motors Limited |   Suv  |  Red  |  Yes |\n",
    "|   9   |  FORD Motor Company |   Suv  | Black |  No  |\n",
    "|   10  |  FORD Motor Company |   Suv  | Black |  Yes |\n",
    "\n",
    "1. Suppose that we have a **black sports** car manufactured by **TATA Motors**, what is the probability of selling it?\n",
    "\n",
    "2. Write a Python code that receives the **car parameter as input** and gives the **probability of selling the car as output**."
   ]
  },
  {
   "cell_type": "markdown",
   "metadata": {},
   "source": [
    "| Maker | Sell = Yes | Sell = No | P(Sell = Yes) | P(Sell = No) |\n",
    "|:-----:|:----:|:----:|:----:|:----:|\n",
    "| TATA  | 3 | 2 | $\\frac{3}{5}$ | $\\frac{2}{5}$ |\n",
    "| FORD  | 2 | 3 | $\\frac{2}{5}$ | $\\frac{3}{5}$ |\n",
    "| **TOTAL**  | 5 | 5 | 1 | 1 |\n",
    "\n",
    "| Type | Sell = Yes | Sell = No | P(Sell = Yes) | P(Sell = No) |\n",
    "|:-----:|:----:|:----:|:----:|:----:|\n",
    "| Sports  | 3 | 1 | $\\frac{3}{5}$ | $\\frac{1}{5}$ |\n",
    "| Suv  | 2 | 4 | $\\frac{2}{5}$ | $\\frac{4}{5}$ |\n",
    "| **TOTAL**  | 5 | 5 | 1 | 1 |\n",
    "\n",
    "| Color | Sell = Yes | Sell = No | P(Sell = Yes) | P(Sell = No) |\n",
    "|:-----:|:----:|:----:|:----:|:----:|\n",
    "| Red  | 2 | 3 | $\\frac{2}{5}$ | $\\frac{3}{5}$ |\n",
    "| Black  | 3 | 2 | $\\frac{3}{5}$ | $\\frac{2}{5}$ |\n",
    "| **TOTAL**  | 5 | 5 | 1 | 1 |\n",
    "\n",
    "| Sell | Count | P |\n",
    "|:-----:|:----:|:----:|\n",
    "| Yes  | 5 | $\\frac{1}{2}$ |\n",
    "| No  | 5 | $\\frac{1}{2}$ | \n",
    "| **TOTAL**  | 10 | 1 |"
   ]
  },
  {
   "cell_type": "markdown",
   "metadata": {},
   "source": [
    "**1.**\n",
    "\n",
    "$\\{A\\}: \\{ Sell = Yes \\}$\n",
    "\n",
    "$\\{B_1\\}: \\{ Maker = TATA \\}$\n",
    "\n",
    "$\\{B_2\\}: \\{ Type = Sports \\}$\n",
    "\n",
    "$\\{B_3\\}: \\{ Color = Black \\}$\n",
    "\n",
    "$$\n",
    "P(A|B) = \\frac {P(B_1|A) P(B_2|A) P(B_3|A) P(A)} {P(B_1|A) P(B_2|A) P(B_3|A) P(A) + P(B_1|\\overline{A}) P(B_2|\\overline{A}) P(B_3|\\overline{A}) P(\\overline{A})} =\n",
    "\\frac {\\frac{3}{5} \\frac{3}{5} \\frac{3}{5} \\frac{1}{2}} {\\frac{3}{5} \\frac{3}{5} \\frac{3}{5} \\frac{1}{2} + \\frac{2}{5} \\frac{1}{5} \\frac{2}{5} \\frac{1}{2}} =\n",
    "\\frac {\\frac{27}{250}} {\\frac{27}{250} + \\frac{2}{125}} = \\frac{27}{31}\n",
    "$$\n",
    "\n",
    "**2.**"
   ]
  },
  {
   "cell_type": "code",
   "execution_count": 25,
   "metadata": {},
   "outputs": [
    {
     "data": {
      "text/plain": [
       "0.8709677419354838"
      ]
     },
     "execution_count": 25,
     "metadata": {},
     "output_type": "execute_result"
    }
   ],
   "source": [
    "import pandas as pd\n",
    "\n",
    "data = [['TATA', 'Sports', 'Red',   'Yes'], \\\n",
    "        ['FORD', 'Sports', 'Black', 'Yes'], \\\n",
    "        ['TATA', 'Suv',    'Red',   'No' ], \\\n",
    "        ['FORD', 'Suv',    'Red',   'No' ], \\\n",
    "        ['TATA', 'Sports', 'Black', 'Yes'], \\\n",
    "        ['FORD', 'Sports', 'Black', 'No' ], \\\n",
    "        ['TATA', 'Suv',    'Red',   'No' ], \\\n",
    "        ['TATA', 'Suv',    'Red',   'Yes'], \\\n",
    "        ['FORD', 'Suv',    'Black', 'No' ], \\\n",
    "        ['FORD', 'Suv',    'Black', 'Yes']]\n",
    "\n",
    "df = pd.DataFrame(data, columns = ['Maker', 'Type', 'Color', 'Sell'])\n",
    "\n",
    "df[(df['Type'] == 'Sports') & (df['Sell'] == 'Yes')]\n",
    "\n",
    "def _getCounts(DF, column = None, value = None):\n",
    "    if value is None:\n",
    "        column = None\n",
    "    c1 = len(DF[(DF[column] == value if column is not None else True) & (DF['Sell'] == 'Yes')].index)\n",
    "    c2 = len(DF[(DF[column] == value if column is not None else True) & (DF['Sell'] == 'No')].index)\n",
    "    \n",
    "    return c1, c2\n",
    "\n",
    "\n",
    "def getProbability(DF, Maker = None, Type = None, Color = None):\n",
    "    Count = len(DF.index)\n",
    "    YesCount = len(DF[DF['Sell'] == 'Yes'].index)\n",
    "    NoCount = Count - YesCount\n",
    "    \n",
    "    Numerator = 1\n",
    "    Denominator = 1\n",
    "    \n",
    "    if Maker is not None:\n",
    "        c1, c2 = _getCounts(DF, 'Maker', Maker)\n",
    "        Numerator *= c1 / YesCount\n",
    "        Denominator *= c2 / NoCount\n",
    "        del c1, c2\n",
    "        \n",
    "    if Type is not None:\n",
    "        c1, c2 = _getCounts(DF, 'Type', Type)\n",
    "        Numerator *= c1 / YesCount\n",
    "        Denominator *= c2 / NoCount\n",
    "        del c1, c2\n",
    "        \n",
    "    if Color is not None:\n",
    "        c1, c2 = _getCounts(DF, 'Color', Color)\n",
    "        Numerator *= c1 / YesCount\n",
    "        Denominator *= c2 / NoCount\n",
    "        del c1, c2\n",
    "        \n",
    "    yc, nc = _getCounts(DF)\n",
    "    Numerator *= yc\n",
    "    Denominator *= nc\n",
    "    Denominator += Numerator\n",
    "    \n",
    "    return Numerator / Denominator\n",
    "    \n",
    "    \n",
    "getProbability(df, 'TATA', 'Sports', 'Black')"
   ]
  },
  {
   "cell_type": "markdown",
   "metadata": {
    "slideshow": {
     "slide_type": "slide"
    }
   },
   "source": [
    "<h3 align=\"center\">Problem 5: Gradient Descent Method</h3>\n",
    "\n",
    "Given a function of two variables: \n",
    "$$f(x,y) = x^2 + 2y^2 + e^{x+y}.$$\n",
    "\n",
    "Find the minimum of this function using the gradient descent method.\n",
    "For initial data, take the following conditions:\n",
    "- starting point: $(0,0)$;\n",
    "- step size multiplier: $0.1$;\n",
    "- precision (absolute value of gradient): $0.05$.\n",
    "\n",
    "How many iterations are necessary to obtain the required precision? (write python code)."
   ]
  },
  {
   "cell_type": "code",
   "execution_count": 39,
   "metadata": {},
   "outputs": [
    {
     "name": "stdout",
     "output_type": "stream",
     "text": [
      "10 iterations.\n"
     ]
    }
   ],
   "source": [
    "import numpy as np\n",
    "\n",
    "def f(x, y):\n",
    "    return (x ** 2) + 2 *(y ** 2) + np.exp(x + y)\n",
    "\n",
    "def df_dx(x, y):\n",
    "    return 2 * x + np.exp(x + y)\n",
    "\n",
    "def df_dy(x, y):\n",
    "    return 4 * y + np.exp(x + y)\n",
    "\n",
    "def magn(x, y):\n",
    "    return np.sqrt(x ** 2 + y ** 2)\n",
    "\n",
    "def step(x, y, ssm):\n",
    "    dx = df_dx(x, y)\n",
    "    dy = df_dy(x, y)\n",
    "    \n",
    "    x -= ssm * dx\n",
    "    y -= ssm * dy\n",
    "    \n",
    "    \n",
    "    return x, y, f(x, y), magn(dx, dy)\n",
    "\n",
    "def findMinima(x, y, ssm, targP):\n",
    "    p = targP + 100\n",
    "    i = 0\n",
    "    \n",
    "    while p > targP:\n",
    "        x, y, v, p = step(x, y, ssm)\n",
    "        i += 1\n",
    "        \n",
    "    return i, x, y, v, p\n",
    "        \n",
    "i, x, y, v, p = findMinima(0, 0, 0.1, 0.05)\n",
    "\n",
    "print(i, \"iterations.\")"
   ]
  },
  {
   "cell_type": "markdown",
   "metadata": {
    "slideshow": {
     "slide_type": "slide"
    }
   },
   "source": [
    "<h3 align=\"center\">Problem 6: Automatic Differentiation</h3>\n",
    "\n",
    "Consider the function: $$z(x, y) = \\sin{\\left( x^2y + xy^2\\right )}.$$\n",
    "\n",
    "1. Build a **computation grap** and calculate the values for each node, propagating from the bottom (the input variables) to the top (the output function) at point $A = (1, 1)$.\n",
    "\n",
    "2. Consider the seed values $\\dot{w}_1 = \\frac{\\partial w_1}{\\partial x} = 1$ and $\\dot{w}_2 = \\frac{\\partial w_2}{\\partial x} = 1$, and calculate the partial derivatives of each connection between operations, represented by the edges, i.e. $\\dot{w}_i = \\frac{\\partial w_i}{\\partial x}$.\n",
    "\n",
    "3. Calculate the partial derivative $\\frac{\\partial z}{\\partial x}$ at point $A = (1, 1)$ using the **forward accumulation**.\n",
    "\n",
    "4. Consider the seed values $\\bar{w}_n = \\frac{\\partial z}{\\partial w_n} = 1$ and calculate the subexpresion varibales $\\bar{w}_i$ for each connection between operations, i.e. $\\bar{w}_i = \\frac{\\partial z}{\\partial w_i}$.\n",
    "\n",
    "5. Calculate the partial derivative $\\frac{\\partial z}{\\partial y}$ at point $A = (1, 1)$ using the **reverse accumulation**."
   ]
  },
  {
   "cell_type": "markdown",
   "metadata": {},
   "source": [
    "**1.**\n",
    "\n",
    "<img src=\"Graph.png\"/> \n",
    "\n",
    "$$\n",
    "N_1 = 1; N_2 = 1;\n",
    "$$\n",
    "$$\n",
    "N_3 = N_1^2 = 1; N_4 = N_2 ^ 2 = 1\n",
    "$$\n",
    "$$\n",
    "N_5 = N_3 \\cdot N_2 = 1; N_6 = N_1 \\cdot N_4 = 1\n",
    "$$\n",
    "$$\n",
    "N_7 = N_5 + N_6 = 2; N_8 = sin(N_7) = sin(2)\n",
    "$$"
   ]
  },
  {
   "cell_type": "markdown",
   "metadata": {},
   "source": [
    "**2.**\n",
    "\n",
    "$$\n",
    "E_1 = \\frac {\\partial N_3} {\\partial N_1} \\cdot 1 = \\frac {\\partial N_1^2} {\\partial N_1} \\cdot 1 = 2N_1\n",
    "$$\n",
    "$$\n",
    "E_2 = \\frac {\\partial N_6} {\\partial N_1} \\cdot 0 = \\frac {\\partial N_1 \\cdot N_4} {\\partial N_1} \\cdot 0 = 0\n",
    "$$\n",
    "$$\n",
    "E_3 = \\frac {\\partial N_5} {\\partial N_2} \\cdot 1 = \\frac {\\partial N_3 \\cdot N_2} {\\partial N_2} \\cdot 1 = N_3 \\cdot 1 = N_1^2\n",
    "$$\n",
    "$$\n",
    "E_4 = \\frac {\\partial N_4} {\\partial N_2} \\cdot 0 = \\frac {\\partial N_2^2} {\\partial N_2} \\cdot 0 = 0\n",
    "$$\n",
    "$$\n",
    "E_5 = \\frac {\\partial N_5} {\\partial N_3} \\cdot E_1 = \\frac{\\partial N_3\\cdot N_2}{\\partial N_3} \\cdot E_1 = 0\n",
    "$$\n",
    "$$\n",
    "E_6 = \\frac {\\partial N_6} {\\partial N_4} \\cdot E_2 = \\frac{\\partial N_1\\cdot N_4}{\\partial N_4} \\cdot E_2 = 0\n",
    "$$\n",
    "$$\n",
    "E_7 = \\frac {\\partial N_7} {\\partial N_5} \\cdot (E_5 + E_3) = \\frac {\\partial N_5 + N_6} {\\partial N_5} \\cdot (E_5 + E_3) = 2N_1 + N_1^2\n",
    "$$\n",
    "$$\n",
    "E_8 = \\frac {\\partial N_7} {\\partial N_6} \\cdot (E_6 + E_2) = \\frac {\\partial N_5 + N_6} {\\partial N_6} \\cdot (E_6 + E_2) = 0\n",
    "$$\n",
    "$$\n",
    "E_9 = \\frac {\\partial N_8} {\\partial N_7} \\cdot (E_7 + E_6) = \\frac {\\partial sin(N_7)} {\\partial N_7} \\cdot (E_7 + E_6) = cos(N_7) \\cdot (2N_1 + N_1^2)\n",
    "$$"
   ]
  },
  {
   "cell_type": "markdown",
   "metadata": {},
   "source": [
    "**3.**\n",
    "\n",
    "$$\n",
    "\\frac {\\partial z} {\\partial x} = \n",
    "E_9 =\n",
    "cos(2) \\cdot (2 + 1) = 3cos(2)\n",
    "$$"
   ]
  },
  {
   "cell_type": "markdown",
   "metadata": {},
   "source": [
    "**4.**\n",
    "\n",
    "$$\n",
    "E_9 = \\frac {\\partial N_8} {\\partial N_7} \\cdot 1 = cos(N_7)\n",
    "$$\n",
    "$$\n",
    "E_8 = \\frac {\\partial N_7} {\\partial N_6} \\cdot E_9 = 1 \\cdot E_9 = cos(N_7)\n",
    "$$\n",
    "$$\n",
    "E_7 = \\frac {\\partial N_7} {\\partial N_5} \\cdot E_9 = 1 \\cdot E_9 = cos(N_7)\n",
    "$$\n",
    "$$\n",
    "E_6 = \\frac {\\partial N_6} {\\partial N_4} \\cdot E_8 = N_1 \\cdot cos(N_7)\n",
    "$$\n",
    "$$\n",
    "E_5 = \\frac {\\partial N_5} {\\partial N_3} \\cdot E_7 = N_2 \\cdot cos(N_7)\n",
    "$$\n",
    "$$\n",
    "E_4 = \\frac {\\partial N_4} {\\partial N_2} \\cdot E_6 = 2N_2 \\cdot N_1 \\cdot cos(N_7)\n",
    "$$\n",
    "$$\n",
    "E_3 = \\frac {\\partial N_5} {\\partial N_2} \\cdot E_7 = N_1^2 \\cdot cos(N_7)\n",
    "$$\n",
    "$$\n",
    "E_2 = \\frac {\\partial N_6} {\\partial N_1} \\cdot E_8 = N_2^2 \\cdot cos(N_7)\n",
    "$$\n",
    "$$\n",
    "E_1 = \\frac {\\partial N_3} {\\partial N_1} \\cdot E_5 = 2N_1 \\cdot N_2 \\cdot cos(N_7)\n",
    "$$"
   ]
  },
  {
   "cell_type": "markdown",
   "metadata": {},
   "source": [
    "**5.**\n",
    "\n",
    "$$\n",
    "\\frac {\\partial z} {\\partial x} = \n",
    "\\frac {\\partial N_8} {\\partial N_1} =\n",
    "E_1 + E_3 = N_1^2 cos(N_7) + 2N_1N_2cos(N_7) = cos(2) + 2cos(2) = 3cos(2)\n",
    "$$"
   ]
  }
 ],
 "metadata": {
  "kernelspec": {
   "display_name": "Python 3",
   "language": "python",
   "name": "python3"
  },
  "language_info": {
   "codemirror_mode": {
    "name": "ipython",
    "version": 3
   },
   "file_extension": ".py",
   "mimetype": "text/x-python",
   "name": "python",
   "nbconvert_exporter": "python",
   "pygments_lexer": "ipython3",
   "version": "3.7.3"
  }
 },
 "nbformat": 4,
 "nbformat_minor": 2
}
