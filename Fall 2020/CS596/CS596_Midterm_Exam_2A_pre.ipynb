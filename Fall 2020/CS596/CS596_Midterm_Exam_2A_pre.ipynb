{
 "cells": [
  {
   "cell_type": "markdown",
   "metadata": {
    "slideshow": {
     "slide_type": "slide"
    }
   },
   "source": [
    "**CS596 - Machine Learning**\n",
    "<br>\n",
    "Date: **9 November 2020**\n",
    "<br>\n",
    "Title: **Midterm Exam 2 - Part A**\n",
    "\n",
    "You will receive a maximum of **10 points** for this part of the exam.\n",
    "\n",
    "\n",
    "**Points are distributed as follows**:\n",
    "- Problem 1: **1 point**.\n",
    "- Problem 2: **2 point**.\n",
    "- Problem 3: **2 point**.\n",
    "- Problem 4: **2 point**.\n",
    "- Problem 5: **3 point**."
   ]
  },
  {
   "cell_type": "markdown",
   "metadata": {},
   "source": [
    "<h3 align=\"center\">Students ID Number</h3>\n",
    "\n",
    "\n",
    "- In the table below you can see your **ID** number. \n",
    "\n",
    "- Each student has their own unique **ID**.\n",
    "\n",
    "| ID |           Student          |\n",
    "|:--:|:---------------------------|\n",
    "|  1 | Levani   Abuladze          |\n",
    "|  2 | Beka Aivazashvili          |\n",
    "|  3 | Iza   Akhuashvili          |\n",
    "|  4 | Aleksandre   Begiashvili   |\n",
    "|  5 | Levan   Berelidze          |\n",
    "|  6 | Daviti   Beriashvili       |\n",
    "|  7 | Giorgi   Chankseliani      |\n",
    "|  8 | Nikoloz   Gabunia          |\n",
    "|  9 | Davit Garuchava            |\n",
    "| 10 | Nino   Giorgadze           |\n",
    "| 11 | Ani Gverdtsiteli           |\n",
    "| 12 | Tornike   Iarajuli         |\n",
    "| 13 | Tornike   Jajanidze        |\n",
    "| 14 | Tamar Jalaghonia           |\n",
    "| 15 | Saba   Kalmakhelidze       |\n",
    "| 16 | Tinatin   Kotolashvili     |\n",
    "| 17 | Alexander   Kutaladze      |\n",
    "| 18 | Nineli   Lashkarashvili    |\n",
    "| 19 | Giorgi   Machavariani      |\n",
    "| 20 | Amiran   Malania           |\n",
    "| 21 | Ana   Maludze              |\n",
    "| 22 | Giorgi   Meladze           |\n",
    "| 23 | Marita   Merabishvili      |\n",
    "| 24 | Guga   Mirotadze           |\n",
    "| 25 | Giorgi   Natroshvili       |\n",
    "| 26 | Giorgi   Sandroshvili      |\n",
    "| 27 | Nikoloz   Shalikiani       |\n",
    "| 28 | Nino Shareidze             |\n",
    "| 29 | Ketevan   Shartava         |\n",
    "| 30 | Giorgi   Turdziladze       |"
   ]
  },
  {
   "cell_type": "markdown",
   "metadata": {
    "slideshow": {
     "slide_type": "slide"
    }
   },
   "source": [
    "<h3 align=\"center\">Problem 1A: Calculating the Spatial Size</h3>\n",
    "\n",
    "- Compute the **spatial size** of the output volume of the Convolutional Layer neuron if the **input volume size** ($W$), the **filter size** ($F$), the **stride** with which they are applied ($S$), and the amount of **zero padding** used ($P$) on the border, are as follows:\n",
    "\n",
    "  $$\\{W, F, S, P\\} = \\{7, 3, 1, 0\\}$$\n"
   ]
  },
  {
   "cell_type": "markdown",
   "metadata": {
    "slideshow": {
     "slide_type": "slide"
    }
   },
   "source": [
    "<h3 align=\"center\">Problem 2A: Building Neuron</h3>\n",
    "\n",
    "- **Express** the entire chain of calculations of the **3-input neuron** with the following pataremters:\n",
    "\n",
    "$$\n",
    "\\mathbf{x}= \\begin{vmatrix}\n",
    "-2 \\\\ 1 \\\\-1 \n",
    "\\end{vmatrix},\n",
    "\\mathbf{w}= \\begin{vmatrix}\n",
    "1 \\\\ -2 \\\\ 3\n",
    "\\end{vmatrix}\n",
    ",\n",
    "\\mathbf{o}= \\begin{vmatrix}\n",
    "\\times \\\\ + \\\\ \\times \\\\ +\n",
    "\\end{vmatrix} \n",
    ",\n",
    "b = -\\pi\n",
    "\\text{ and } \n",
    "\\textbf{Hyperbolic Tangent} \n",
    "\\text{ activation function.}\n",
    "$$\n",
    "\n",
    "<img src=\"images/ME2_P2A.png\" width=\"800\" alt=\"Example\" />\n"
   ]
  },
  {
   "cell_type": "markdown",
   "metadata": {
    "slideshow": {
     "slide_type": "slide"
    }
   },
   "source": [
    "<h3 align=\"center\">Problem 3A: Applying Filters</h3>\n",
    "\n",
    "- Given the **input layer** of the Convolutional Neural Network."
   ]
  },
  {
   "cell_type": "code",
   "execution_count": null,
   "metadata": {},
   "outputs": [],
   "source": []
  },
  {
   "cell_type": "markdown",
   "metadata": {},
   "source": [
    "- What will be the **output** of the **Conv+RELU layer** of the next filter:"
   ]
  },
  {
   "cell_type": "code",
   "execution_count": null,
   "metadata": {},
   "outputs": [],
   "source": []
  },
  {
   "cell_type": "markdown",
   "metadata": {},
   "source": [
    "- You can assume that **stride** is equal to $1$ and **padding** is $0$."
   ]
  },
  {
   "cell_type": "markdown",
   "metadata": {
    "slideshow": {
     "slide_type": "slide"
    }
   },
   "source": [
    "<h3 align=\"center\">Problem 4A: Applying Pool</h3>\n",
    "\n",
    "- Given the **input layer** of the Convolutional Neural Network."
   ]
  },
  {
   "cell_type": "code",
   "execution_count": null,
   "metadata": {},
   "outputs": [],
   "source": []
  },
  {
   "cell_type": "markdown",
   "metadata": {},
   "source": [
    "- What will be the **output** of the **Pooling layer** of the **max operation** with **stride** equal to $2$:"
   ]
  },
  {
   "cell_type": "markdown",
   "metadata": {
    "slideshow": {
     "slide_type": "slide"
    }
   },
   "source": [
    "<h3 align=\"center\">Problem 5A: LSTM of the Recurrent Neural Network</h3>\n",
    "\n",
    "- Given the **LSTM Cell** of the Recurrent Neural Network:\n",
    "\n",
    "  <img src=\"images/ME2_P5A.png\" width=\"800\" alt=\"Example\" />\n",
    "\n",
    "- **Express** the entire chain of calculations of with the following **parameters**:\n",
    "\n",
    "  - $c_{t-1} = 1$,\n",
    "  - $h_{t-1} = 1$\n",
    "  - $[W_f, W_i, W_C, W_o]^T = [1, 1, 1, 1]^T$\n",
    "  - $[b_f, b_i, b_C, b_o]^T = [1, 1, 1, 1]^T$\n",
    "  \n",
    "\n",
    "- **Note**: all numbers should be **rounded** to to the nearest **thousandth** ($0.001$).\n",
    "\n",
    "\n",
    "\n"
   ]
  },
  {
   "cell_type": "markdown",
   "metadata": {},
   "source": [
    "<h1 align=\"center\">Wish you good luck!</h1>"
   ]
  }
 ],
 "metadata": {
  "kernelspec": {
   "display_name": "Python 3",
   "language": "python",
   "name": "python3"
  },
  "language_info": {
   "codemirror_mode": {
    "name": "ipython",
    "version": 3
   },
   "file_extension": ".py",
   "mimetype": "text/x-python",
   "name": "python",
   "nbconvert_exporter": "python",
   "pygments_lexer": "ipython3",
   "version": "3.7.3"
  }
 },
 "nbformat": 4,
 "nbformat_minor": 2
}
