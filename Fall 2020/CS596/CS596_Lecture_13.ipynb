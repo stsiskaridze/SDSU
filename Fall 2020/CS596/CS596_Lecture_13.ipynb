{
 "cells": [
  {
   "cell_type": "markdown",
   "metadata": {
    "slideshow": {
     "slide_type": "slide"
    }
   },
   "source": [
    "**CS596 - Machine Learning**\n",
    "<br>\n",
    "Date: **7 December 2020**\n",
    "\n",
    "\n",
    "Title: **Lecture 13**\n",
    "<br>\n",
    "Speaker: **Dr. Shota Tsiskaridze**\n",
    "<br>\n",
    "Teaching Assistant: **Levan Sanadiradze**"
   ]
  },
  {
   "cell_type": "markdown",
   "metadata": {
    "slideshow": {
     "slide_type": "slide"
    }
   },
   "source": [
    "<h1 align=\"center\">Reinforcement Learning</h1>\n",
    "\n",
    "\n",
    "- Read the sources and wath the following videos:\n",
    "\n",
    "  **Sources**:\n",
    "\n",
    "  https://towardsdatascience.com/what-is-a-markov-decision-process-anyways-bdab65fd310c\n",
    "  \n",
    "  https://towardsdatascience.com/fundamental-iterative-methods-of-reinforcement-learning-df8ff078652a\n",
    "  \n",
    "  **Videos**:\n",
    "\n",
    "  <a href = \"https://www.youtube.com/watch?v=KovN7WKI9Y0\">Markov Decision Processes (MDP)</a>\n",
    "\n",
    "  <a href = \"https://www.youtube.com/watch?\">MDP Continued</a>\n",
    "\n",
    "  <a href = \"https://www.youtube.com/watch?v=zZAolrnCxPA\"> Passive Reinforcement Learning</a>\n",
    "\n",
    "  <a href = \"https://www.youtube.com/watch?v=OVaZblMjaMY\">Active Reinforcement Learning</a>"
   ]
  },
  {
   "cell_type": "markdown",
   "metadata": {
    "slideshow": {
     "slide_type": "slide"
    }
   },
   "source": [
    "\n",
    "<h1 align=\"center\">End of Lecture</h1>"
   ]
  }
 ],
 "metadata": {
  "kernelspec": {
   "display_name": "Python 3",
   "language": "python",
   "name": "python3"
  },
  "language_info": {
   "codemirror_mode": {
    "name": "ipython",
    "version": 3
   },
   "file_extension": ".py",
   "mimetype": "text/x-python",
   "name": "python",
   "nbconvert_exporter": "python",
   "pygments_lexer": "ipython3",
   "version": "3.7.3"
  }
 },
 "nbformat": 4,
 "nbformat_minor": 2
}
