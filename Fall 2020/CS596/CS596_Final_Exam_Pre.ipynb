{
 "cells": [
  {
   "cell_type": "markdown",
   "metadata": {
    "slideshow": {
     "slide_type": "slide"
    }
   },
   "source": [
    "**CS596 - Machine Learning**\n",
    "<br>\n",
    "Date: **16 November 2020 from 18:00 to 21:00**\n",
    "<br>\n",
    "Title: **Final Exam**\n",
    "\n",
    "You will receive a maximum of **30 points** distributed as follows:\n",
    "\n",
    "- **Problem Solving (10 Points)**:\n",
    "  - Problem A1: **2 point**.\n",
    "  - Problem A2: **2 point**.\n",
    "  - Problem A3: **2 point**.\n",
    "  - Problem A4: **2 point**.\n",
    "  - Problem A5: **2 point**.\n",
    " \n",
    "\n",
    "- **Coding (10 Points)**:\n",
    "  - Problem B1: **5 point**.\n",
    "  - Problem B1: **5 point**.\n",
    "  \n",
    "\n",
    "- **Revision (10 Points)**:\n",
    "  - Problem C1: **1 point**.\n",
    "  - Problem C2: **1 point**.\n",
    "  - Problem C3: **1 point**.\n",
    "  - Problem C4: **1 point**.\n",
    "  - Problem C5: **1 point**.\n",
    "  - Problem C6: **1 point**.\n",
    "  - Problem C7: **1 point**.\n",
    "  - Problem C8: **1 point**.\n",
    "  - Problem C9: **1 point**.\n",
    "  - Problem C10: **1 point**.  "
   ]
  },
  {
   "cell_type": "markdown",
   "metadata": {},
   "source": [
    "<h3 align=\"center\">Students ID Number</h3>\n",
    "\n",
    "\n",
    "- In the table below you can see your **ID** number. \n",
    "\n",
    "- Each student has their own unique **ID**.\n",
    "\n",
    "| ID |           Student          |\n",
    "|:--:|:---------------------------|\n",
    "|  1 | Levani   Abuladze          |\n",
    "|  2 | Beka Aivazashvili          |\n",
    "|  3 | Iza   Akhuashvili          |\n",
    "|  4 | Aleksandre   Begiashvili   |\n",
    "|  5 | Levan   Berelidze          |\n",
    "|  6 | Daviti   Beriashvili       |\n",
    "|  7 | Giorgi   Chankseliani      |\n",
    "|  8 | Nikoloz   Gabunia          |\n",
    "|  9 | Davit Garuchava            |\n",
    "| 10 | Nino   Giorgadze           |\n",
    "| 11 | Ani Gverdtsiteli           |\n",
    "| 12 | Tornike   Iarajuli         |\n",
    "| 13 | Tornike   Jajanidze        |\n",
    "| 14 | Tamar Jalaghonia           |\n",
    "| 15 | Saba   Kalmakhelidze       |\n",
    "| 16 | Tinatin   Kotolashvili     |\n",
    "| 17 | Alexander   Kutaladze      |\n",
    "| 18 | Nineli   Lashkarashvili    |\n",
    "| 19 | Giorgi   Machavariani      |\n",
    "| 20 | Amiran   Malania           |\n",
    "| 21 | Ana   Maludze              |\n",
    "| 22 | Giorgi   Meladze           |\n",
    "| 23 | Marita   Merabishvili      |\n",
    "| 24 | Guga   Mirotadze           |\n",
    "| 25 | Giorgi   Natroshvili       |\n",
    "| 26 | Giorgi   Sandroshvili      |\n",
    "| 27 | Nikoloz   Shalikiani       |\n",
    "| 28 | Nino Shareidze             |\n",
    "| 29 | Ketevan   Shartava         |\n",
    "| 30 | Giorgi   Turdziladze       |"
   ]
  },
  {
   "cell_type": "markdown",
   "metadata": {},
   "source": [
    "<h3 align=\"center\">Problems A1 - A5</h3>\n",
    "\n",
    "- **A1**: **Maximum Margin Classifier** (same as in **Problem 6** of **Homework 4**)\n",
    "\n",
    "\n",
    "\n",
    "- **A2**: **K-Means Clustering** (same as in **Problem 9** of **Homework 4**)\n",
    "\n",
    "\n",
    "- **A3**: **SVD Computation** (same as in **Problem 2** of **Homework 5**)\n",
    "\n",
    "\n",
    "- **A4**: **Kullback-Leibler Divergence** (same as in **Problem 4** of **Homework 5**)\n",
    "\n",
    "\n",
    "- **A5**: **Value Iteration** (**Lecture 13**)"
   ]
  },
  {
   "cell_type": "markdown",
   "metadata": {},
   "source": [
    "<h3 align=\"center\">Problems B1-B2</h3>\n",
    "\n",
    "- **B1**: **Clustering** problems based on **Hierarchical Clustering** or **𝐾-Means Clustering** (with **Elbow Method**)\n",
    "\n",
    "\n",
    "- **B2**:  **Dimensionality Reduction** problems based on **PCA** or **t-SNE**"
   ]
  },
  {
   "cell_type": "markdown",
   "metadata": {},
   "source": [
    "<h3 align=\"center\">Problems C1-C10: </h3>\n",
    "\n",
    "- **10 quiz type questions** each with **5 possible answers**. \n",
    "\n",
    "\n",
    "- $C[i]$ will match the question from $Lecture[i]$, $i = 1, 2, ..., 9$.\n",
    "\n",
    "\n",
    "- $C[10]$ will match the question from $Lecture[13]$.\n",
    "\n",
    "\n",
    "- **Canvas** or **Testportal** platforms will be used!\n",
    "\n"
   ]
  },
  {
   "cell_type": "markdown",
   "metadata": {},
   "source": [
    "<h1 align=\"center\">Wish you good luck!</h1>"
   ]
  }
 ],
 "metadata": {
  "kernelspec": {
   "display_name": "Python 3",
   "language": "python",
   "name": "python3"
  },
  "language_info": {
   "codemirror_mode": {
    "name": "ipython",
    "version": 3
   },
   "file_extension": ".py",
   "mimetype": "text/x-python",
   "name": "python",
   "nbconvert_exporter": "python",
   "pygments_lexer": "ipython3",
   "version": "3.7.3"
  }
 },
 "nbformat": 4,
 "nbformat_minor": 2
}
