{
 "cells": [
  {
   "cell_type": "markdown",
   "metadata": {
    "slideshow": {
     "slide_type": "slide"
    }
   },
   "source": [
    "**CS596 - Machine Learning**\n",
    "<br>\n",
    "Date: **2 September 2020**\n",
    "\n",
    "\n",
    "Title: **Lecture 2: Appendix A**\n",
    "<br>\n",
    "Speaker: **Dr. Shota Tsiskaridze**\n",
    "<br>\n",
    "Teaching Assistant: **Levan Sanadiradze**"
   ]
  },
  {
   "cell_type": "markdown",
   "metadata": {
    "slideshow": {
     "slide_type": "slide"
    }
   },
   "source": [
    "<h1 align=\"center\">Appendix A</h1>"
   ]
  },
  {
   "cell_type": "markdown",
   "metadata": {
    "slideshow": {
     "slide_type": "slide"
    }
   },
   "source": [
    "<h3 align=\"center\">System of Linear Equations</h3>\n",
    "\n",
    "- In **Linear Algebra** we typically use **different notation**.\n",
    "\n",
    "\n",
    "- A general system of $m$ **linear equations** with $n$ **unknowns** can be written as:\n",
    "  \n",
    "$$\n",
    "\\begin{matrix}\n",
    "a_{11} x_1 + a_{12} x_2 + \\cdots + a_{1n} x_n = b_1\\\\ \n",
    "a_{21} x_1 + a_{22} x_2 + \\cdots + a_{2n} x_n = b_2\\\\  \n",
    "\\vdots \\\\\n",
    "a_{m1} x_1 + a_{12} x_2 + \\cdots + a_{mn} x_n = b_m\n",
    "\\end{matrix}\n",
    "$$\n",
    "\n",
    "  where $x_j$ are the unknowns, $a_{ij}$ are the coefficients of the system, and $b_i$ are the constant terms.\n",
    "<br>\n",
    "\n",
    "- We can write this system of linear equations in the equivalent matrix form:\n",
    "\n",
    "  $$A \\mathbf{x} = \\mathbf{b},$$\n",
    "\n",
    "  where $A = \n",
    "\\begin{bmatrix}\n",
    "a_{11} & a_{12} & \\cdots & a_{1n}\\\\\n",
    "a_{21} & a_{22} & \\cdots & a_{1n}\\\\ \n",
    "\\vdots & \\vdots & \\ddots & \\vdots \\\\\n",
    "a_{m1} & a_{m2} &\\cdots & a_{mn}\\\\\n",
    "\\end{bmatrix} \\in \\mathbb{R}^{m \\times n}$, \n",
    "$\\mathbf{x} = \\begin{bmatrix}\n",
    "x_{1}\\\\ \n",
    "x_{2}\\\\ \n",
    "\\vdots\\\\\n",
    "x_{n}\n",
    "\\end{bmatrix}  \\in \\mathbb{R}^{n}$ and $\\mathbf{b} = \\begin{bmatrix}\n",
    "b_{1}\\\\ \n",
    "b_{2}\\\\ \n",
    "\\vdots\\\\\n",
    "b_{m}\n",
    "\\end{bmatrix}  \\in \\mathbb{R}^{m}$."
   ]
  },
  {
   "cell_type": "markdown",
   "metadata": {
    "slideshow": {
     "slide_type": "slide"
    }
   },
   "source": [
    "<h3 align=\"center\">Solving a linear system</h3>\n",
    "\n",
    "- There are **several algorithms** for solving a system of linear equations:\n",
    "  - **Elimination of variables**. The simplest method for solving a system of linear equations by repeatedly eliminating the variables.\n",
    "  \n",
    "  \n",
    "- **Gaussian elimination**. The matrix is modified using elementary row operations until it reaches reduced **Row Echelon Form**:\n",
    " - **Type 1:** Swap the positions of two rows;\n",
    " - **Type 2:** Multiply a row by a nonzero scalar;\n",
    " - **Type 3:** Add to one row a scalar multiple of another.\n",
    "\n",
    "\n",
    "- **Cramer's rule**. An explicit formula for the solution of a system of linear equations, with each variable given by a fraction of two determinants;\n",
    "\n",
    "\n",
    "- **Matrix solution**: If the matrix $A$ is square and has full rank then the system has a unique solution given by $x = A^{-1}b$."
   ]
  },
  {
   "cell_type": "markdown",
   "metadata": {
    "slideshow": {
     "slide_type": "slide"
    }
   },
   "source": [
    "<h3 align=\"center\">Column Space</h3>\n",
    "\n",
    "- Let $A$ be an $m \\times n$ matrix, with column vectors $\\mathbf{v}_1, \\mathbf{v}_2, \\cdots, \\mathbf{v}_n$, where $\\mathbf{v}_i \\in \\mathbb{R}^m$.\n",
    "\n",
    "\n",
    "- The **set** of **all possible linear combinations** of column vectors $\\mathbf{v}_1, \n",
    "\\cdots, \\mathbf{v}_n$ is called the **column space**, $C(A)$:\n",
    "\n",
    "  $$\\mathbf{v} = \\alpha_1 \\mathbf{v}_1 + \\cdots + \\alpha_n \\mathbf{v}_n,$$\n",
    "\n",
    "  where $\\alpha_1, ..., \\alpha_n \\in \\mathbb{R}$ are the scalars.\n",
    "\n",
    "\n",
    "- Any **linear combination of the column vectors** can be written as the **product of $A$** with a **column vector**:\n",
    "\n",
    "$$\\mathbf{v} = \n",
    "\\alpha_1\n",
    "\\begin{bmatrix}\n",
    "a_{11}\\\\ \n",
    "\\vdots\\\\\n",
    "a_{m1}\n",
    "\\end{bmatrix}\n",
    "+ \\cdots + \\alpha_n\n",
    "\\begin{bmatrix}\n",
    "a_{1n}\\\\ \n",
    "\\vdots\\\\\n",
    "a_{mn}\n",
    "\\end{bmatrix}\n",
    "=\n",
    "\\begin{bmatrix}\n",
    "\\alpha_1 a_{11} + \\cdots + \\alpha_n a_{1n}\\\\\n",
    "\\alpha_1 a_{21} + \\cdots + \\alpha_n a_{2n}\\\\\n",
    "\\vdots \\\\\n",
    "\\alpha_1 a_{m1} + \\cdots + \\alpha_n a_{mn}\n",
    "\\end{bmatrix}\n",
    "=\n",
    "\\begin{bmatrix}\n",
    "a_{11} & \\cdots & a_{1n}\\\\\n",
    "\\vdots & \\vdots & \\ddots\\\\\n",
    "a_{m1} & \\cdots & a_{mn}\\\\\n",
    "\\end{bmatrix}\n",
    "\\begin{bmatrix}\n",
    "\\alpha_{1}\\\\ \n",
    "\\vdots\\\\\n",
    "\\alpha_{n}\n",
    "\\end{bmatrix}\n",
    "= A \n",
    "\\begin{bmatrix}\n",
    "\\alpha_{1}\\\\ \n",
    "\\vdots\\\\\n",
    "\\alpha_{n}\n",
    "\\end{bmatrix}\n",
    "$$ \n",
    "\n",
    "- Therefore, the **column space** of $A$ is the same as the **range** of the corresponding matrix **transformation**."
   ]
  },
  {
   "cell_type": "markdown",
   "metadata": {
    "slideshow": {
     "slide_type": "slide"
    }
   },
   "source": [
    "<h3 align=\"center\">Projection onto Column Space</h3>\n",
    "\n",
    "- Let's consider a **system of linear equations** in the matrix form $A \\mathbf{x} = \\mathbf{b}$.\n",
    "\n",
    "\n",
    "- If $\\mathbf{b} \\notin C(A)$, then the system does not have a solution.\n",
    "\n",
    "\n",
    "- We can find an **approximate solution** by projecting $\\mathbf{b}$ onto $C(A)$. \n",
    "\n",
    "\n",
    "- Let's multiply both sides by $A^T$:\n",
    "\n",
    "  $$A^TA \\mathbf{x} = A^T\\mathbf{b},$$\n",
    "\n",
    "  i.e. we've got the system of **Normal Equation**.\n",
    "  \n",
    "\n",
    "- If $A^TA$ has inverse, then we can **find solution analytically**, by simply solving the system of equations:\n",
    "\n",
    "  $$\\hat{\\mathbf{x}} = (A^TA)^{-1}A^T \\mathbf{b} \\equiv A^{+}\\mathbf{b} .$$\n",
    "\n",
    "\n",
    "- $A^{+} = (A^TA)^{-1}A^T$ is also called the **Pseudoinverse** of the matrix $A$."
   ]
  },
  {
   "cell_type": "markdown",
   "metadata": {
    "slideshow": {
     "slide_type": "slide"
    }
   },
   "source": [
    "<h3 align=\"center\">Invertability of $A^TA$</h3>\n",
    "\n",
    "- When $A^TA$ is **not**  invertible?\n",
    "  \n",
    "  \n",
    "- $A^T A$ is not invertible if some **columns** are **linearly dependent**.\n",
    "\n",
    "\n",
    "- For example, when we have **too many features** $(m < n)$.\n",
    "\n",
    "\n",
    "- **Solution**:\n",
    "  - Remove the linear dependency;\n",
    "  - Delete some features."
   ]
  },
  {
   "cell_type": "markdown",
   "metadata": {
    "slideshow": {
     "slide_type": "slide"
    }
   },
   "source": [
    "<h3 align=\"center\">Regularization in case of Normal Equations</h3>\n",
    "\n",
    "- As we expressed above, analytical solution of the Normal Equation is:\n",
    "\n",
    "  $$\\hat{\\boldsymbol{\\theta}} = (X^TX)^{-1}X^T\\mathbf{y} = X^{+}\\mathbf{y}.$$\n",
    "\n",
    "\n",
    "-  We add **regularization term** as:\n",
    "\n",
    "  $$\\hat{\\boldsymbol{\\theta}} = (X^TX + \\lambda E^{+})^{-1}X^T\\mathbf{y} = X^{+}\\mathbf{y},$$\n",
    "\n",
    "  where $E^{+} \\in \\mathbb{R}^{(n+1)\\times(n+1)}$ and is almost identity matrix:\n",
    "\n",
    "$$\n",
    "E^{+} = \\begin{bmatrix}\n",
    "0 & 0 & \\cdots & 0\\\\\n",
    "0 & 1 & \\cdots & 0\\\\ \n",
    "0 & \\vdots & \\ddots & \\vdots \\\\\n",
    "0 & 0 &\\cdots & 1\n",
    "\\end{bmatrix}.\n",
    "$$\n",
    "\n",
    "\n",
    "- Matrix $X^TX + \\lambda E^{+}$ is **allways invertible**!\n"
   ]
  }
 ],
 "metadata": {
  "celltoolbar": "Slideshow",
  "kernelspec": {
   "display_name": "Python 3",
   "language": "python",
   "name": "python3"
  },
  "language_info": {
   "codemirror_mode": {
    "name": "ipython",
    "version": 3
   },
   "file_extension": ".py",
   "mimetype": "text/x-python",
   "name": "python",
   "nbconvert_exporter": "python",
   "pygments_lexer": "ipython3",
   "version": "3.7.3"
  }
 },
 "nbformat": 4,
 "nbformat_minor": 2
}