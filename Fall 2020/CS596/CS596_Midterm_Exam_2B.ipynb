{
 "cells": [
  {
   "cell_type": "markdown",
   "metadata": {
    "slideshow": {
     "slide_type": "slide"
    }
   },
   "source": [
    "**CS596 - Machine Learning**\n",
    "<br>\n",
    "Date: **11 November 2020**\n",
    "<br>\n",
    "Title: **Midterm Exam 2 - Part B**\n",
    "\n",
    "You will receive a maximum of **10 points** for this part of the exam.\n",
    "\n",
    "\n",
    "**Points are distributed as follows**:\n",
    "- Problem 1: **1 point**.\n",
    "- Problem 2: **2 point**.\n",
    "- Problem 3: **2 point**.\n",
    "- Problem 4: **2 point**.\n",
    "- Problem 5: **3 point**."
   ]
  },
  {
   "cell_type": "markdown",
   "metadata": {
    "slideshow": {
     "slide_type": "slide"
    }
   },
   "source": [
    "<h3 align=\"center\">Problem 1B: Calculating the Spatial Size</h3>\n",
    "\n",
    "-  Using **Python**, write a **function** that computes the **spatial size** of the output volume of the Convolutional Layer neuron taking as an input the **volume size** ($W$), the **filter size** ($F$), the **stride** with which they are applied ($S$), and the amount of **zero padding** used ($P$) on the border.\n",
    "\n",
    "\n",
    "- Do not forget that the **ouptut** should be the **integer number**!\n",
    "\n",
    "\n",
    "- **Check** the correctness of your function using the input that maches your **student ID** in **Problem 1A**."
   ]
  },
  {
   "cell_type": "markdown",
   "metadata": {
    "slideshow": {
     "slide_type": "slide"
    }
   },
   "source": [
    "<h3 align=\"center\">Problem 2B: Building Neuron</h3>\n",
    "\n",
    "- Consider the **neuron** that matches your **student ID** in **Problem 2A**.\n",
    "\n",
    "\n",
    "- Using **Python**, write the **function** that:\n",
    "  - takes as an **input** vector $\\mathbf{x}$;\n",
    "  - **process** the input using the **global** variables $\\mathbf{w}$;\n",
    "  - **applies** the corresponding **activation function** that is **def**ined as in **Lecture 7**.\n",
    "  - gives the result of this neuron as an **output**.\n",
    " \n",
    " \n",
    "- **Check** the correctness of your function using the input that maches your **student ID** in **Problem 2A**.\n",
    "\n",
    "<img src=\"images/ME2_P2A.png\" width=\"800\" alt=\"Example\" />\n"
   ]
  },
  {
   "cell_type": "markdown",
   "metadata": {
    "slideshow": {
     "slide_type": "slide"
    }
   },
   "source": [
    "<h3 align=\"center\">Problem 3B: Applying Filters</h3>\n",
    "\n",
    "- Using **Python**, write a **function** that takes as an **input**:\n",
    "  - $W$ (**input layer**): **square matrix** of any **size > 0**;\n",
    "  - $F$ (**filter**): **square matrix** of any **size > 0**;\n",
    "  - $S$ (**stride**): **integer** $\\geq$ 0;\n",
    "  - $P$ (**padding**): **integer** $\\geq$ 0.\n",
    "  - $A$ (**activation function**): \n",
    "\n",
    "  and gives as an **ouput** the result of applying the **filter** $F$ on **input layer** $W$.\n",
    " \n",
    "\n",
    "- If the **input parameters are incompatible**, print the error messege: **Wrong input Parameters!**.\n",
    "\n",
    "\n",
    " \n",
    "- **Check** the correctness of your function using the input that maches your **student ID** in **Problem 3A**.\n"
   ]
  },
  {
   "cell_type": "markdown",
   "metadata": {
    "slideshow": {
     "slide_type": "slide"
    }
   },
   "source": [
    "<h3 align=\"center\">Problem 4B: Applying Pool</h3>\n",
    "\n",
    "- Using **Python**, write a **function** that takes as an **input**:\n",
    "  - $W$ (**input layer**): **square matrix** of any **size > 0**;\n",
    "  - $F$ (**pooling layer**): **square matrix** of any **size > 0**;\n",
    "  - $S$ (**stride**): **integer** $\\geq$ F;\n",
    "  - $P$ (**padding**): **integer** $\\geq$ 0.\n",
    "\n",
    "  and gives as an **ouput** the result of applying the **pooling layer** $F$ of the **max operation** on **input layer** $W$.\n",
    "  \n",
    "\n",
    "- If the **input parameters are incompatible**, print the error messege: **Wrong input Parameters!**.\n",
    "\n",
    "\n",
    "- **Check** the correctness of your function using the input that maches your **student ID** in **Problem 4A**."
   ]
  },
  {
   "cell_type": "markdown",
   "metadata": {},
   "source": [
    "- What will be the **output** of the **Pooling layer** of the **max operation** with $2 \\times 2$ filters  with **stride** equal to $2$:"
   ]
  },
  {
   "cell_type": "markdown",
   "metadata": {
    "slideshow": {
     "slide_type": "slide"
    }
   },
   "source": [
    "<h3 align=\"center\">Problem 5B: LSTM of the Recurrent Neural Network</h3>\n",
    "\n",
    "- Using **Python**, write a **function** that \n",
    "  - takes as an **input**:\n",
    "    - x_t: **input vector** ($x_t$) of size $n$.\n",
    "    - c_t_1: real value that represents the cell state $c_{t-1}$.\n",
    "    - h_t_1: real value that represents the cell state $h_{t-1}$.\n",
    "  \n",
    "  - **process** the data using the **global** variable $W$ and $b$ that represents **weight vectors** and the **bias** $b$ of the size $[4][n+1]$ and $[4]$ respectively.\n",
    "  \n",
    "  - gives as an **output** two values $c_{t}$ and $h_{t}$.\n",
    "  \n",
    "\n",
    "- If the **input parameters are incompatible**, print the error messege: **Wrong input Parameters!**.\n",
    "\n",
    "\n",
    "- **Check** the correctness of your function using the input that maches your **student ID** in **Problem 5A**.\n",
    "\n",
    "  <img src=\"images/ME2_P5A.png\" width=\"800\" alt=\"Example\" />\n",
    "\n"
   ]
  },
  {
   "cell_type": "markdown",
   "metadata": {},
   "source": [
    "<h1 align=\"center\">Wish you good luck!</h1>"
   ]
  }
 ],
 "metadata": {
  "kernelspec": {
   "display_name": "Python 3",
   "language": "python",
   "name": "python3"
  },
  "language_info": {
   "codemirror_mode": {
    "name": "ipython",
    "version": 3
   },
   "file_extension": ".py",
   "mimetype": "text/x-python",
   "name": "python",
   "nbconvert_exporter": "python",
   "pygments_lexer": "ipython3",
   "version": "3.7.3"
  }
 },
 "nbformat": 4,
 "nbformat_minor": 2
}
