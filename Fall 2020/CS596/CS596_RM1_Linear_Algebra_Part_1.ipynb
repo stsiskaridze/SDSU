{
 "cells": [
  {
   "cell_type": "markdown",
   "metadata": {
    "slideshow": {
     "slide_type": "slide"
    }
   },
   "source": [
    "<h1 align=\"center\">Linear Algebra (Part I)</h1>"
   ]
  },
  {
   "cell_type": "markdown",
   "metadata": {
    "slideshow": {
     "slide_type": "slide"
    }
   },
   "source": [
    "<h3 align=\"center\">Fields</h3>\n",
    "\n",
    "$\\textbf{Definition}$. Set $\\mathcal{F}$ is called a $field$ if next conditions are satisfied:\n",
    "\n",
    "(A) To every pair of elements  $\\alpha \\in \\mathcal{F}$ and $\\beta \\in \\mathcal{F}$ there corresponds an element $\\alpha + \\beta \\in \\mathcal{F}$, called the $sum$ of $\\alpha$ and $\\beta$, in such a way that:<br>\n",
    "&emsp; 1. addition is commutative: $\\alpha + \\beta = \\beta + \\alpha$;<br>\n",
    "&emsp; 2. addition is associative: $\\alpha + (\\beta + \\gamma) = (\\alpha + \\beta) + \\gamma$;<br>\n",
    "&emsp; 3. there exists a unique element $0$ (called $zero$) such that $\\alpha + 0 = \\alpha$ for every $\\alpha \\in \\mathcal{F}$;<br>\n",
    "&emsp; 4. to every element $\\alpha \\in \\mathcal{F}$ there corresponds a unique element $-\\alpha$ such that $\\alpha + (-\\alpha) = 0$.\n",
    "\n",
    "(B) To every pair of elements  $\\alpha \\in \\mathcal{F}$ and $\\beta \\in \\mathcal{F}$ there corresponds an element $\\alpha \\cdot \\beta \\in \\mathcal{F}$, called the $product$ of $\\alpha$ and $\\beta$, in such a way that:<br>\n",
    "&emsp; 1. multiplication is commutative: $\\alpha \\cdot \\beta = \\beta \\cdot \\alpha$;<br>\n",
    "&emsp; 2. multiplication is associative: $\\alpha \\cdot (\\beta \\cdot \\gamma) = (\\alpha \\cdot \\beta) \\cdot \\gamma$;<br>\n",
    "&emsp; 3. there exists a unique $\\bf{non-zero}$ element $1$ (called $one$) such that $\\alpha \\cdot 1 = \\alpha$ for every $\\alpha \\in \\mathcal{F}$;<br>\n",
    "&emsp; 4. to every $\\bf{non-zero}$ element $\\alpha \\in \\mathcal{F}$ there corresponds a unique element $\\alpha^{-1}$ such that $\\alpha \\cdot \\alpha^{-1} = 1$.\n",
    "\n",
    "(C) Multiplication is distributive with respect to addition: $\\alpha \\cdot (\\beta + \\gamma) = \\alpha \\cdot \\beta + \\alpha \\cdot \\gamma$;"
   ]
  },
  {
   "cell_type": "markdown",
   "metadata": {
    "slideshow": {
     "slide_type": "subslide"
    }
   },
   "source": [
    "<h3 align=\"center\">Examples</h3>\n",
    "<br>\n",
    "Are the main number systems the fields (Yes/No)? Why?"
   ]
  },
  {
   "cell_type": "markdown",
   "metadata": {
    "slideshow": {
     "slide_type": "fragment"
    }
   },
   "source": [
    " - Natural numbers $\\mathbb{N_1} = \\{1, 2, 3, ...\\}$?"
   ]
  },
  {
   "cell_type": "markdown",
   "metadata": {
    "slideshow": {
     "slide_type": "fragment"
    }
   },
   "source": [
    " - Natural numbers  $\\mathbb{N_0} = \\{0, 1, 2, 3, ...\\}$?"
   ]
  },
  {
   "cell_type": "markdown",
   "metadata": {
    "slideshow": {
     "slide_type": "fragment"
    }
   },
   "source": [
    " - Integers $\\mathbb{Z} = \\{..., -3, -2, -1, 0, 1, 2, 3, ...\\}$?"
   ]
  },
  {
   "cell_type": "markdown",
   "metadata": {
    "slideshow": {
     "slide_type": "fragment"
    }
   },
   "source": [
    " - Rational numbers $\\mathbb{Q} = \\left \\{ \\frac{\\alpha}{\\beta} \\right \\} $, where $\\alpha$ and $\\beta$ are integers and $\\beta \\neq 0$?\n"
   ]
  },
  {
   "cell_type": "markdown",
   "metadata": {
    "slideshow": {
     "slide_type": "fragment"
    }
   },
   "source": [
    " - Real numbers $\\mathbb{R}$?"
   ]
  },
  {
   "cell_type": "markdown",
   "metadata": {
    "slideshow": {
     "slide_type": "fragment"
    }
   },
   "source": [
    " - Complex numbers $\\mathbb{C} = \\{\\alpha + i{\\beta}\\}$, where $i = \\sqrt{-1}$ and $\\alpha$ and $\\beta$ are real numbers?"
   ]
  },
  {
   "cell_type": "markdown",
   "metadata": {
    "slideshow": {
     "slide_type": "subslide"
    }
   },
   "source": [
    "<h3 align=\"center\">Exercises 1.1</h3>\n",
    "\n",
    "Prove, that if $\\mathcal{F}$ is a field, and $\\alpha, \\beta, \\gamma \\in \\mathcal{F}$ then:\\\n",
    "&emsp;  (a) $0 + \\alpha = \\alpha$;\\\n",
    "&emsp;  (b) If $\\alpha + \\beta = \\alpha + \\gamma$ then $\\beta = \\gamma$;\\\n",
    "&emsp;  (c) $\\alpha + (\\beta - \\alpha) = \\beta$. (Here $\\beta - \\alpha = \\beta + (-\\alpha)$);\\\n",
    "&emsp;  (d) $\\alpha \\cdot 0 = 0 \\cdot \\alpha  = 0$;\\\n",
    "&emsp;  (e) $(-1) \\cdot \\alpha = -\\alpha$;\\\n",
    "&emsp;  (f) $(-\\alpha) \\cdot (-\\beta) = \\alpha \\cdot \\beta$;\\\n",
    "&emsp;  (g) If $\\alpha \\cdot \\beta = 0$, then either $\\alpha = 0$ or $\\beta = 0$ (or both)."
   ]
  },
  {
   "cell_type": "markdown",
   "metadata": {
    "slideshow": {
     "slide_type": "subslide"
    }
   },
   "source": [
    "<h3 align=\"center\">Exercises 1.2</h3>\n",
    "\n",
    "Let $n$ be an integer, $n \\geq 2$, and let $Z_n$ be the set of all positive integers less than $n$:\n",
    "\n",
    "$$Z_n = \\{0, 1, 2, ..., n-1\\}.$$\n",
    "\n",
    "Let's define sum and product in $Z_n$ in the following way:\n",
    "- $\\alpha + \\beta$ be the least positive remainder obtained by dividing the (ordinary) sum by $n$;\n",
    "- $\\alpha \\cdot \\beta$ be the least positive remainder obtained by dividing the (ordinary) product by $n$.\n",
    "\n",
    "&emsp;  (a) Prove that $Z_n$ is a field if and only if $n$ is a prime number;\\\n",
    "&emsp;  (b) What is $(-3)$ in $Z_5$?\\\n",
    "&emsp;  (c) What is $\\frac{1}{5}$ in $Z_7$?"
   ]
  },
  {
   "cell_type": "markdown",
   "metadata": {
    "slideshow": {
     "slide_type": "subslide"
    }
   },
   "source": [
    "<h3 align=\"center\">Exercises 1.3</h3>\n",
    "\n",
    " \n",
    "The $\\textbf{Ex.} \\space \\textbf{1.2}$ shows that not quite all the laws of elementary arithmetics hold in fields. In instance, $1+1 = 0$ in $Z_2$.\n",
    "\n",
    "Prove that if $\\mathcal{F}$ is a field, then either the result of repeatedly adding $1$ to itself is always different from $0$, or else the first time that it is equal to $0$ occurs when the number of summands is a prime."
   ]
  },
  {
   "cell_type": "markdown",
   "metadata": {
    "slideshow": {
     "slide_type": "subslide"
    }
   },
   "source": [
    "<h3 align=\"center\">Exercises 1.4</h3>\n",
    "\n",
    "Let $\\mathbb{Q}\\left ( \\sqrt{2} \\right )$ be the set of all real numbers of the form $\\alpha + \\beta \\cdot \\sqrt{2}$, where $\\alpha$ and $\\beta$ are rational, i.e. $\\alpha, \\beta \\in \\mathbb{Q}$.\\\n",
    "&emsp;  (a) Is $\\mathbb{Q}\\left ( \\sqrt{2} \\right )$ a field?\\\n",
    "&emsp;  (b) What if $\\alpha$ and $\\beta$ are required to be integers?\n"
   ]
  },
  {
   "cell_type": "markdown",
   "metadata": {
    "slideshow": {
     "slide_type": "subslide"
    }
   },
   "source": [
    "<h3 align=\"center\">Exercises 1.5</h3>\n",
    "\n",
    "Let $\\mathcal{F}$ be the set of all (ordered) pairs $(\\alpha, \\beta)$ of real numbers $\\alpha, \\beta \\in \\mathbb{R}$.\n",
    "\n",
    "&emsp;  (a) Does $\\mathcal{F}$ become a field if addition and multiplication are defined as:\n",
    "\n",
    "   $$(\\alpha, \\beta) + (\\gamma, \\delta) = (\\alpha + \\gamma, \\beta + \\delta);$$\n",
    "   $$(\\alpha, \\beta) \\cdot (\\gamma, \\delta) = (\\alpha \\cdot \\gamma, \\beta \\cdot \\delta).$$\n",
    "   \n",
    "&emsp;  (b) Does $\\mathcal{F}$ become a field if addition and multiplication are defined as:\n",
    "\n",
    "   $$(\\alpha, \\beta) + (\\gamma, \\delta) = (\\alpha + \\gamma, \\beta + \\delta);$$\n",
    "   $$(\\alpha, \\beta) \\cdot (\\gamma, \\delta) = (\\alpha \\cdot \\gamma - \\beta \\cdot \\delta, \\alpha \\cdot \\delta + \\beta \\cdot \\gamma ).$$\n",
    " \n",
    "&emsp;  (c) What happens if in (a) and (b) we consider not real but complex numbers instead?\n"
   ]
  },
  {
   "cell_type": "markdown",
   "metadata": {
    "slideshow": {
     "slide_type": "slide"
    }
   },
   "source": [
    "<h3 align=\"center\">Vector spaces</h3>\n",
    "\n",
    " \n",
    "$\\textbf{Definition}$. A $vector$ $space$, defined on field $\\mathcal{F}$, is a set $\\mathcal{V}$ of elements called $vectors$ satisfying the following axioms:\n",
    "\n",
    "(A) To every pair of vectors $x \\in \\mathcal{V}$ and $y \\in \\mathcal{V}$, there corresponds a vector $x + y$, called the $sum$ of $x$ and $y$, in such a way that:<br>\n",
    "&emsp; 1. addition is commutative: $x + y = y + x$;<br>\n",
    "&emsp; 2. addition is associative: $x + (y + z) = (x + y) + z$;<br>\n",
    "&emsp; 3. there exists a unique vector $0$ (called the $origin$) such that $x + 0 = x$ for every $x \\in \\mathcal{V}$;<br>\n",
    "&emsp; 4. to every vector $x \\in V$ there corresponds a unique element $-x$ such that $x + (-x) = 0$.\n",
    "\n",
    "(B) To every pair, $\\alpha \\in \\mathcal{F}$ and $x \\in \\mathcal{V}$, there corresponds a vector $\\alpha \\cdot x \\in \\mathcal{V}$, called the $product$ of $\\alpha$ and $x$, in such a way that:<br>\n",
    "&emsp; 1. multiplication by scalars is associative: $\\alpha \\cdot(\\beta \\cdot x) = (\\alpha \\cdot\\beta) \\cdot x$;<br>\n",
    "&emsp; 2. for every vector $x \\in \\mathcal{V}$: $1\\cdot x = x$.\n",
    "\n",
    "(C) &nbsp; 1. Multiplication by scalars is distributive with respect to vector addition: $\\alpha \\cdot(x + y) = \\alpha \\cdot x + \\alpha \\cdot y$;<br>\n",
    "&emsp;&emsp; 2. Multiplication by vectors is distributive with respect to scalar addition: $(\\alpha + \\beta) \\cdot x = \\alpha \\cdot x + \\beta \\cdot x$."
   ]
  },
  {
   "cell_type": "markdown",
   "metadata": {
    "slideshow": {
     "slide_type": "subslide"
    }
   },
   "source": [
    "<h3 align=\"center\">Examples</h3>\n",
    "\n",
    "1. Let's take any scalar field $\\mathcal{F}$ and consider $\\mathcal{F}^n$, the set of all $n$-tuples of scalars from $\\mathcal{F}$.<br>\n",
    "If $x = (\\xi_1, \\xi_2, ..., \\xi_n)$ and $y = (\\eta_1, \\eta_2, ..., \\eta_n)$ are elements of $\\mathcal{F}^n$, and $\\alpha \\in \\mathcal{F}$, we can write, by definition:\n",
    "$$x+y = (\\xi_1 + \\eta_1, \\xi_2 + \\eta_2, ..., \\xi_n + \\eta_n);$$\n",
    "$$\\alpha \\cdot x = (\\alpha \\cdot \\xi_1, \\alpha \\cdot \\xi_2, ..., \\alpha \\cdot \\xi_n);$$\n",
    "$$0 = (0, 0, ..., 0);$$\n",
    "$$-x = (-\\xi_1, -\\xi_2, ..., -\\xi_n).$$\n",
    "It is easy to verify that all parts of our axioms (A), (B), and (C) are satisfied so that $\\mathcal{F}^n$ is a vector space.\n",
    "2. if $\\mathcal{F} \\equiv \\mathbb{R}$, then will be called $n$-$dimensional$ $real$ $coordinate$ $space$.\n",
    "3. if $\\mathcal{F} \\equiv \\mathbb{C}$, then will be called $n$-$dimensional$ $complex$ $coordinate$ $space$.\n",
    "4. Let's $\\mathcal{P}$ be the set of all polynomials, with complex coefficients, in a variable $t$. We can interpret vector\n",
    "addition and scalar multiplication as the ordinary addition of two polynomials and the multiplication of a polynomial by a complex number. The origin in $\\mathcal{P}$ is the polynomial identically zero.\n",
    "It is easy to verify that all parts of our axioms (A), (B), and (C) are satisfied so that $\\mathcal{P}$ is a complex vector space.\n"
   ]
  },
  {
   "cell_type": "markdown",
   "metadata": {
    "slideshow": {
     "slide_type": "subslide"
    }
   },
   "source": [
    "<h3 align=\"center\">Exercises 2.1</h3>\n",
    "\n",
    "Prove, that if $x \\in \\mathcal{V}$, $y \\in \\mathcal{V}$ and $\\alpha \\in \\mathcal{F}$, then the following relations hold:\\\n",
    "&emsp; (a) $0 + x = x$;\\\n",
    "&emsp; (b) $-0 = 0$;\\\n",
    "&emsp; (c) $\\alpha \\cdot 0 = 0$;\\\n",
    "&emsp; (d) $0 \\cdot x = 0$. (Observe that the same symbol is used on both sides of this equation;\n",
    "on the left it denotes a scalar, on the right it denotes a vector);\\\n",
    "&emsp; (e) If $\\alpha \\cdot x = 0$, then either $\\alpha =0$ or $x = 0$ (or both);\\\n",
    "&emsp; (f) $-x = (-1) \\cdot x$;\\\n",
    "&emsp; (g) $y + (x - y) = x$. (Here $x-y=x+(-y)$)."
   ]
  },
  {
   "cell_type": "markdown",
   "metadata": {
    "slideshow": {
     "slide_type": "subslide"
    }
   },
   "source": [
    "<h3 align=\"center\">Exercises 2.2</h3>\n",
    "\n",
    "If $p$ is a prime number, then $Z_p^n$ is a vector space over $Z_p$. \n",
    "\n",
    "How many vectors are there in this space?"
   ]
  },
  {
   "cell_type": "markdown",
   "metadata": {
    "slideshow": {
     "slide_type": "subslide"
    }
   },
   "source": [
    "<h3 align=\"center\">Exercises 2.3</h3>\n",
    "\n",
    "Let $\\mathcal{V}$ be the set of all (ordered) pair of real numbers. <br>\n",
    "If $x = (\\xi_1, \\xi_2)$ and $y = (\\eta_1, \\eta_2)$ are elements of $\\mathcal{V}$, write:\n",
    "$$x + y =(\\xi_1 + \\eta_1, \\xi_2 + \\eta_2);$$\n",
    "$$\\alpha \\cdot x = (\\alpha \\cdot \\xi_1, 0);$$\n",
    "$$0 = (0,0);$$\n",
    "$$-x = (-\\xi_1, -\\xi_2).$$\n",
    "Is $\\mathcal{V}$ a vector space with respect to these definitions of the linear operations? Why?\n",
    "\n"
   ]
  },
  {
   "cell_type": "markdown",
   "metadata": {
    "slideshow": {
     "slide_type": "subslide"
    }
   },
   "source": [
    "<h3 align=\"center\">Exercises 2.4</h3>\n",
    "\n",
    "Sometimes a subset of a vector space is itself a vector space (with respect to the linear operations already given). Consider, for example, the vector space $\\mathbb{C}^3$ and the subsets $\\mathcal{V} \\subset \\mathbb{C}^3$ consisting of those vectors $x = (\\xi_1, \\xi_2, \\xi_3)$ for wich:\\\n",
    "&emsp; (a) $\\xi_1$ is real;\\\n",
    "&emsp; (b) $\\xi_1 = 0$;\\\n",
    "&emsp; (c) either $\\xi_1 = 0$ or $\\xi_2 = 0$;\\\n",
    "&emsp; (d) $\\xi_1 + \\xi_2 = 0$ ;\\\n",
    "&emsp; (e) $\\xi_1 + \\xi_2 = 1$.\\\n",
    "In which of these cases is $\\mathcal{V}$ a vector space?\n"
   ]
  },
  {
   "cell_type": "markdown",
   "metadata": {
    "slideshow": {
     "slide_type": "subslide"
    }
   },
   "source": [
    "<h3 align=\"center\">Exercises 2.5</h3>\n",
    "\n",
    "Consider the vector space $\\mathcal{P}$ and the subsets $\\mathcal{V}\\subset \\mathcal{P}$ consisting of those vectors (polynomials) $x$ for which:\\\n",
    "&emsp; (a) $x$ has degree $3$;\\\n",
    "&emsp; (b) $2 \\cdot x(0) = x(1)$;\\\n",
    "&emsp; (c) $x(t)\\geq 0$ whenever $0 \\leq t \\leq 1$;\\\n",
    "&emsp; (d) $x(t) = x(1-t)$ for all $t$.\\\n",
    "In which of these cases is $\\mathcal{V}$ a vector space?\n"
   ]
  },
  {
   "cell_type": "markdown",
   "metadata": {
    "slideshow": {
     "slide_type": "slide"
    }
   },
   "source": [
    "<h3 align=\"center\">Linear dependence</h3>\n",
    "\n",
    "$\\textbf{Definition}$. A finite set $\\{ x_i \\} \\in \\mathcal{V}$ of vectors is $linearly$ $dependent$ if there exists a corresponding set $\\{ \\alpha_i \\} \\in \\mathcal{F}$ of scalars, not all zero, such that:\n",
    "$$\\sum_i \\alpha_i \\cdot x_i = 0.$$\n",
    "\n",
    "If $\\sum_i \\alpha_i \\cdot x_i = 0$ implies that $ \\alpha_i =0$ for each $i$, the set $\\{ x_i \\}$ is $linearly$ $independent$. "
   ]
  },
  {
   "cell_type": "markdown",
   "metadata": {
    "slideshow": {
     "slide_type": "subslide"
    }
   },
   "source": [
    "<h3 align=\"center\">Examples</h3>\n",
    "\n",
    "The vectors $x, y$ and $z$ in the vector space $\\mathcal{P}$, defined by:\\\n",
    "$$x(t)=1-t,$$\n",
    "$$y(t)=1-t^2,$$\n",
    "$$z(t)=t \\cdot (1-t),$$\n",
    "\n",
    "are linearly dependet, since $x - y + z =0$.\n",
    "\n",
    "However, the infinite set of vectors $x_0, x_1, x_2, ...,$ defined by:\n",
    "$$x_0(t)=1,$$ $$x_1(t)=t,$$ $$x_2(t)=t^2,$$ $$...$$\n",
    "are linearly independent set."
   ]
  },
  {
   "cell_type": "markdown",
   "metadata": {
    "slideshow": {
     "slide_type": "slide"
    }
   },
   "source": [
    "<h3 align=\"center\">Linear combinations</h3>\n",
    "\n",
    "Whenever $x = \\sum_i \\alpha_i x_i$, we say that $x$ is a linear combination of $\\{ x_i \\}$.\n",
    "<br>\n",
    "The following theorem is the fundamental result concerning linear dependence:\n",
    "\n",
    "$\\textbf{Theorem} \\space \\textbf{1}$. The set of $non-zero$ vectors $x_1, x_2, ..., x_n$ is linearly dependent if and only if some $x_k$, $2 \\leq k \\leq n$, is a linear combination of the preceding ones."
   ]
  },
  {
   "cell_type": "markdown",
   "metadata": {
    "slideshow": {
     "slide_type": "fragment"
    }
   },
   "source": [
    "$\\textbf{Proof}$. Let's suppose that the vectors $x_1, x_2, ..., x_n$ are linearly dependent, and let $k$ be the first integer between 2 and $n$ for which $x_1, x_2, ..., x_n$ are linearly dependent. Then:\n",
    "\n",
    "$$\\alpha_1 x_1 + \\alpha_2 x_2 + ... + \\alpha_n x_n = 0$$\n",
    "\n",
    "for a suitable set of $\\alpha$'s (not all zero). Moreover, whatever the $\\alpha$'s, we cannot have $\\alpha_k = 0$, for then we should have a linear dependence relation among $x_1, x_2, ..., x_n$, contrary to the definition of $k$. \n",
    "\n",
    "This proves the necessity of our condition; sufficiency is clear since every set containing a linearly dependent set is itself such."
   ]
  },
  {
   "cell_type": "markdown",
   "metadata": {
    "slideshow": {
     "slide_type": "slide"
    }
   },
   "source": [
    "<h3 align=\"center\">Bases</h3>\n",
    "\n",
    "$\\textbf{Definition}$. A basis (or a coordinate system) in a vector space $\\mathcal{V}$ is a set $\\mathcal{X}$ of linearly independent vectors such that every vector in $\\mathcal{V}$ is a linear combination of elements of $\\mathcal{X}$.\n",
    "\n",
    "$\\textbf{Definition}$. A vector space $\\mathcal{V}$ is finite-dimensional if it has a finite basis.\n",
    "\n",
    "$\\textbf{Theorem} \\space \\textbf{2}$. If $\\mathcal{V}$ is a finite-dimensional vector space, then every linearly independent set of vectors can be extended to a basis."
   ]
  },
  {
   "cell_type": "markdown",
   "metadata": {
    "slideshow": {
     "slide_type": "subslide"
    }
   },
   "source": [
    "$\\textbf{Proof}$. Let $\\{ y_1, y_2, ..., y_m \\}$ is any set of linearly independent vectors in $\\mathcal{V}$.\n",
    "Since $\\mathcal{V}$ is a finite-dimensional, it has a finite basis, say $\\{x_1, x_2, ..., x_n\\}$.\n",
    "We consider the set $\\mathcal{S}$ of vectors:\n",
    "\n",
    "$$\\mathcal{S} = \\{y_1, ..., y_m, x_1, ..., x_n\\},$$\n",
    "\n",
    "in this order, and we apply to this set the $\\textbf{Theorem} \\space \\textbf{1}$ several times in succession.\n",
    "\n",
    "In the first place, the set $\\mathcal{S}$ is linearly dependent, since the $y$'s are (as are all vectors) linear combinations of the $x$'s. \n",
    "Hence some vector of $\\mathcal{S}$ is a linear combination of the preceding ones. \n",
    "Let $z$ be the first such vector. \n",
    "Then $z$ is different from any $y_i$, $i = \\overline{1, m}$ (since the $y$'s are linearly independent), \n",
    "so that $z$ is equal to some $x_i$. We consider the new set $\\mathcal{S}'$ of vectors:\n",
    "\n",
    "$$\\mathcal{S}' = \\{y_1, ..., y_m, x_1, ..., x_{i-1}, x_{i+1}, ..., x_n\\}.$$\n",
    "\n",
    "We observe that every vector in $\\mathcal{V}$ is a linear combination of vectors in $\\mathcal{S}'$, since by means of $y_1, ..., y_m, x_1, ..., x_{i-1}, x_{i+1}, ..., x_n$ we may express $x_i$, and then by means of $x_1, ..., x_{i-1}, x_i, x_{i+1}$ we may express any vector (The $x$'s form a basis). If $\\mathcal{S}'$ is linearly independent, we are done. \n",
    "If it is not, we apply the $\\textbf{Theorem} \\space \\textbf{1}$ again and again the same way till we reach a linearly independent set containing $y_1, y_2, ..., y_m$, in terms of which we may express every vector in $\\mathcal{V}$. This last set is a basis containing the $y$'s."
   ]
  },
  {
   "cell_type": "markdown",
   "metadata": {
    "slideshow": {
     "slide_type": "subslide"
    }
   },
   "source": [
    "<h3 align=\"center\">Exercises 3.1</h3>\n",
    "\n",
    "(a) Prove that the four vectors:\n",
    "\n",
    "$$x = (1, 0, 0),$$\n",
    "$$y = (0, 1, 0),$$\n",
    "$$z = (0, 0, 1),$$\n",
    "$$u = (1, 1, 1),$$\n",
    "\n",
    "in $\\mathbb{C}^3$ form a linearly dependent set, but any three of them are linearly independent.\n",
    "\n",
    "(b) Prove that, if the vectors $x, y, z$ and $u$ in $\\mathcal{P}$ are defined as:\n",
    "$$x(t)= 1,$$\n",
    "$$y(t)= t,$$\n",
    "$$z(t)= t^2,$$\n",
    "$$u(t)= 1+t+t^2,$$\n",
    "then $x, y, z$ and $u$ are linearly dependent, but any three of them are linearly independent."
   ]
  },
  {
   "cell_type": "markdown",
   "metadata": {
    "slideshow": {
     "slide_type": "subslide"
    }
   },
   "source": [
    "<h3 align=\"center\">Exercises 3.2</h3>\n",
    "\n",
    "Is it true that if $x$, $y$ and $z$ are linearly independent vectors, then so also are $x+y$, $y+z$ and $z+x$?"
   ]
  },
  {
   "cell_type": "markdown",
   "metadata": {
    "slideshow": {
     "slide_type": "subslide"
    }
   },
   "source": [
    "<h3 align=\"center\">Exercises 3.3</h3>\n",
    "\n",
    "(a) Under what conditions on the scalar $\\xi$ are the vectors $(1 + \\xi, 1 - \\xi)$ and $(1 + \\xi, 1 - \\xi)$ in $\\mathbb{C}^2$ linear dependent?\n",
    "\n",
    "(b) Under what conditions on the scalar $\\xi$ are the vectors $(\\xi, 1, 0)$, $(1, \\xi, 1)$ and $(0, 1, \\xi)$  in $\\mathbb{R}^3$ linear dependent? \n",
    "\n",
    "(c) What is the answer to (b) for $\\mathbb{Q}^3$ (in place of $\\mathbb{R}^3$)?"
   ]
  },
  {
   "cell_type": "markdown",
   "metadata": {
    "slideshow": {
     "slide_type": "subslide"
    }
   },
   "source": [
    "<h3 align=\"center\">Exercises 3.4</h3>\n",
    "\n",
    "(a) Find two bases in $\\mathbb{C}^4$ such that the only vectors common to both are $(0, 0, 1, 1)$ and $(1, 1, 0, 0)$.\n",
    "\n",
    "(b) Find two bases in $\\mathbb{C}^4$ that have no vectors in common so that one of them contains the vectors $(1, 0, 0, 0)$ and $(1, 1, 0, 0)$ and the other one contains the vectors $(1, 1, 1,0)$ and $(1, 1, 1, 1)$.\n"
   ]
  },
  {
   "cell_type": "markdown",
   "metadata": {
    "slideshow": {
     "slide_type": "subslide"
    }
   },
   "source": [
    "<h3 align=\"center\">Exercises 3.5</h3>\n",
    "\n",
    "Consider the set of all those vectors in $\\mathbb{C}^3$ each of whose coordinates is either $0$ or $1$.\n",
    "\n",
    "How many different bases does this set contain?\n"
   ]
  },
  {
   "cell_type": "markdown",
   "metadata": {
    "slideshow": {
     "slide_type": "slide"
    }
   },
   "source": [
    "<h3 align=\"center\">Dimension</h3>\n",
    "\n",
    "$\\textbf{Theorem} \\space \\textbf{3}$. The number of elements in any basis of a finite-dimensional vector space $\\mathcal{V}$ is the same as in any other basis."
   ]
  },
  {
   "cell_type": "markdown",
   "metadata": {
    "slideshow": {
     "slide_type": "fragment"
    }
   },
   "source": [
    "$\\textbf{Definition}$. The dimension of a finite-dimensional vector space $\\mathcal{V}$ is the number of elements in a basis of $\\mathcal{V}$."
   ]
  },
  {
   "cell_type": "markdown",
   "metadata": {
    "slideshow": {
     "slide_type": "fragment"
    }
   },
   "source": [
    "$\\textbf{Theorem} \\space \\textbf{4}$. Every set of $n + 1$ vectors in an $n$-dimensional vector space $\\mathcal{V}$ is linearly dependent.\n",
    "A set of $n$ vectors in $\\mathcal{V}$ is a basis if and only if it is linearly independent, or, alternatively, if and only if every vector in $\\mathcal{V}$ is a linear combination of elements of the set."
   ]
  },
  {
   "cell_type": "markdown",
   "metadata": {
    "slideshow": {
     "slide_type": "subslide"
    }
   },
   "source": [
    "$\\textbf{Proof}$. Let $\\mathcal{X} = \\{x_1, x_2, ..., x_n\\}$ and $\\mathcal{Y} = \\{ y_1, y_2, ..., y_m \\}$ are two bases of $\\mathcal{V}$.\n",
    "We assume that every vector in $\\mathcal{V}$ is is a linear combination of the $x$'s, and we assume that the $y$'s are linearly independent. \n",
    "<br>\n",
    "We may apply the $\\textbf{Theorem} \\space \\textbf{1}$ to the set $\\mathcal{S}$ of the vectors:\n",
    "$$\\mathcal{S} = \\{ y_m, x_1, ..., x_n \\}.$$\n",
    "Again we know that every vector is a linear combination of vectors of $\\mathcal{S}$ and that $\\mathcal{S}$ is linearly dependent. Reasoning just as before, we obtain a set $\\mathcal{S}'$ of vectors:\n",
    "$$\\mathcal{S}' = \\{y_m, x_1, ..., x_{i-1}, x_{i+1} x_n \\}.$$\n",
    "again with the property that every vector is a linear combination of vectors $\\mathcal{S}'$.\n",
    "<br>\n",
    "Now we write $y_{m-1}$ in front of $\\mathcal{S}'$:\n",
    "$$\\mathcal{S}'' = \\{ y_{m-1}, y_m, x_1, ..., x_{i-1}, x_{i+1} x_n\\},$$ \n",
    "and apply the same argument.\n",
    "\n",
    "\n",
    "Continuing in this way, we see that the $x$'s will not be exhausted before the $y$'s, since otherwise the remaining $y$'s would have to be linear combinations of the ones already incorporated into $\\mathcal{S}$, whereas we know that the $y$'s are linearly independent. Therefore $n \\geq m$.\n",
    "\n",
    "Consequently, if both $\\mathcal{X}$ and $\\mathcal{Y}$ are bases (so that they each have both properties), then $n \\geq m$ and $m \\geq n$, therefore $n \\equiv m$."
   ]
  },
  {
   "cell_type": "markdown",
   "metadata": {
    "slideshow": {
     "slide_type": "slide"
    }
   },
   "source": [
    "<h3 align=\"center\">Morphism</h3>\n",
    "\n",
    "$\\textbf{Definition}$. $Morphism$  is the special relation $\\mathcal{M}$ between two sets $A$ and $B$, such that for every $x\\in A$ and every $y^{'}, y^{''} \\in B$, if $x \\mathcal{M}{y^{'}}$ and $x \\mathcal{M} {y^{''}}$ then $y^{'}={y^{''}}$.\n",
    "\n",
    "Relations among morphisms are often depicted as: $\\mathcal{M}:A \\to B$."
   ]
  },
  {
   "cell_type": "markdown",
   "metadata": {
    "slideshow": {
     "slide_type": "fragment"
    }
   },
   "source": [
    "$\\textbf{Definition}$. A morphism $\\mathcal{M}: A \\to B$ is called a $monomorphism$, if for each pair of elements $x^{'}, x^{''} \\in A$ if $\\mathcal{M}(x^{'}) = \\mathcal{M}(x^{''})$ then $x^{'} = x^{''}$."
   ]
  },
  {
   "cell_type": "markdown",
   "metadata": {
    "slideshow": {
     "slide_type": "fragment"
    }
   },
   "source": [
    "$\\textbf{Definition}$. A morphism $\\mathcal{M}:A \\to B$ is called a $epimorphism$, if for all $y \\in B$ there exists at least one $x \\in A$ such that $\\mathcal{M}(x) = y$."
   ]
  },
  {
   "cell_type": "markdown",
   "metadata": {
    "slideshow": {
     "slide_type": "fragment"
    }
   },
   "source": [
    "$\\textbf{Definition}$. A morphism $\\mathcal{M}:A \\to B$ is called a $bimorphism$ if it is monomorphism and epimorphism simultaneously."
   ]
  },
  {
   "cell_type": "markdown",
   "metadata": {
    "slideshow": {
     "slide_type": "slide"
    }
   },
   "source": [
    "<h3 align=\"center\">Isomorphism</h3>\n",
    "\n",
    "\n",
    "$\\textbf{Definition}$. Two vector spaces $\\mathcal{U}$ and $\\mathcal{V}$, over the same field $\\mathcal{F}$, \n",
    "are $isomorphic$ if there is a one-to-one correspondence between the vectors $x \\in \\mathcal{U}$ and $y \\in \\mathcal{V}$, say $y = T(x)$, such that:\n",
    "$$T(\\alpha_1 \\cdot x_1 + \\alpha_2 \\cdot x_2) = \\alpha_1 \\cdot T(x_1) + \\alpha_2 \\cdot T(x_2).$$\n",
    "In other words, $\\mathcal{U}$ and $\\mathcal{V}$ are isomorphic if there is a one-to-one correspondence that preserves all linear relations."
   ]
  },
  {
   "cell_type": "markdown",
   "metadata": {
    "slideshow": {
     "slide_type": "fragment"
    }
   },
   "source": [
    "$\\textbf{Theorem} \\space \\textbf{5}$. Every $n$-dimensional vector space $\\mathcal{V}$ over a field $\\mathcal{F}$ is isomorphic to $\\mathcal{F}^n$."
   ]
  },
  {
   "cell_type": "markdown",
   "metadata": {
    "slideshow": {
     "slide_type": "fragment"
    }
   },
   "source": [
    "$\\textbf{Proof}$. \n",
    "Let $\\mathcal{X} = \\{x_1, x_2, ..., x_n\\}$ be a basis in $\\mathcal{V}$.\n",
    "Each $x \\in \\mathcal{V}$ can be written in the from $x = \\xi_1 x_1 + ... + \\xi_n x_n$, \n",
    "and we know that the scalars $\\xi_1, ..., \\xi_n$ are uniquely determined by $x$.\n",
    "<br>\n",
    "We introduce the one-to-one correspondence between $\\mathcal{V}$ and $\\mathcal{F}^n$ as:\n",
    "$$x \\rightleftharpoons (\\xi1, ..., \\xi_n).$$\n",
    "If $y = \\eta_1 x_1 + ... + \\eta_n x_n$, then:\n",
    "$$\\alpha x + \\beta y = (\\alpha \\xi_1 + \\beta \\eta_1) x_1 + ... + (\\alpha \\xi_n + \\beta \\eta_n) x_n,$$\n",
    "this establishes the desired isomorphism."
   ]
  },
  {
   "cell_type": "markdown",
   "metadata": {
    "slideshow": {
     "slide_type": "slide"
    }
   },
   "source": [
    "<h3 align=\"center\"> Classification of morphisms</h3>\n",
    "\n",
    "We introdued two type of sets: scalar fields $\\mathcal{F}$ and vector spaces $\\mathcal{V}$.\n",
    "<br>\n",
    "One can consider morphisms $\\mathcal{M}$ between these type of sets, i.e. both $A$ and $B$ could be either $\\mathcal{F}$ or $\\mathcal{V}$.\n",
    "<br>\n",
    "Thus, different types of morphisms take place and each of them has its own name:\n",
    "\n",
    "- If $\\mathcal{M}: \\mathcal{F} \\to \\mathcal{F}$, then $\\mathcal{M}$ is a $function$ and is danoted as $f(t)$;\n",
    "\n",
    "- If $\\mathcal{M}: \\mathcal{F} \\to \\mathcal{V}$, then $\\mathcal{M}$, is a $parametric$ $function$ and is denoted as $x(t)$;\n",
    "\n",
    "- If $\\mathcal{M}: \\mathcal{V} \\to \\mathcal{F}$, then $\\mathcal{M}$ is a $functional$ and is denoted as $y(x)$;\n",
    "\n",
    "- If $\\mathcal{M}: \\mathcal{V} \\to \\mathcal{V}$, then $\\mathcal{M}$ is a $transformation$ (or $operator$) and is denoted as $A(x)$.\n",
    "\n",
    "The most interesting ones for linear algebra are last two cases.\n",
    "\n",
    "\n",
    "\n"
   ]
  },
  {
   "cell_type": "markdown",
   "metadata": {
    "slideshow": {
     "slide_type": "slide"
    }
   },
   "source": [
    "<h3 align=\"center\">Linear functional and dual space</h3>\n",
    "\n",
    "\n",
    "$\\textbf{Definition}$. A $linear functional$ on a vector space $\\mathcal{V}$ over a field $\\mathcal{F}$, is a scalar-valued function $y$ defined for every vector $x \\in \\mathcal{V}$, with the property that:\n",
    "\n",
    "$$y(\\alpha_1 x_1 + \\alpha_2 x_2)= \\alpha_1 y(x_1) + \\alpha_2 y(x_2)$$\n",
    "\n",
    "for any $x_1, x_2 \\in \\mathcal{V}$ and $\\alpha_1, \\alpha_2 \\in \\mathcal{F}$.\n",
    "\n",
    "Let $\\mathcal{V}$ be any vector space and let $\\mathcal{V}'$ be the collection of all linear functionals on $\\mathcal{V}$.\n",
    "<br>\n",
    "Let's define by $0$ the linear functional $y(x) = 0$ for all $x\\in \\mathcal{V}$.\n",
    "<br>\n",
    "If $y_1, y_2 \\in \\mathcal{V}$ are linear functional an $\\alpha_1, \\alpha_2 \\in \\mathcal{F}$ are scalars, let us write $y$ for the function defined by:\n",
    "\n",
    "$$y(x)=\\alpha_1 y_1(x) + \\alpha_2 y_2(x).$$\n",
    "\n",
    "It is easy to see that $y$ is a linear functional and with these definitions of the linear concepts (zero, addition, scalar multiplication), the set $\\mathcal{V}'$ forms a vector space.\n",
    "\n",
    "$\\textbf{Definition}$. The set of all linear functionals on $\\mathcal{V}$ is called the $dual$ $space$ of $\\mathcal{V}$.\n"
   ]
  },
  {
   "cell_type": "markdown",
   "metadata": {
    "slideshow": {
     "slide_type": "subslide"
    }
   },
   "source": [
    "<h3 align=\"center\">Exercises 4.1</h3>\n",
    "\n",
    "Consider the set $\\mathbb{C}$ of complex numbers as a real vector space.\n",
    "\n",
    "Suppose that for each $x = \\xi_1 + i\\xi_2$ in $\\mathbb{C}$, where $\\xi_1, \\xi_2 \\in \\mathbb{R}$, the function $y$ is defined by:\n",
    "\n",
    "&emsp; (a) $y(x) = \\xi_1$;\n",
    "\n",
    "&emsp; (b) $y(x) = \\xi_2$;\n",
    "\n",
    "&emsp; (c) $y(x) = \\xi_1^2$;\n",
    "\n",
    "&emsp; (d) $y(x) = \\xi_1 - i\\xi_2$;\n",
    "\n",
    "&emsp; (e) $y(x) = \\sqrt{\\xi_1^2 + \\xi_2^2}$.\n",
    "\n",
    "In which of these cases is $y$ a linear functional?\n"
   ]
  },
  {
   "cell_type": "markdown",
   "metadata": {
    "slideshow": {
     "slide_type": "subslide"
    }
   },
   "source": [
    "<h3 align=\"center\">Exercises 4.2</h3>\n",
    "\n",
    "Suppose that for each $x \\in \\mathcal{P}$ the function $y$ is defined by:\n",
    "\n",
    "&emsp; (a) $y(x) = \\int_{-1}^{2} x(t)dt$;\n",
    "\n",
    "&emsp; (b) $y(x) = \\int_{0}^{2} (x(t))^2dt$;\n",
    "\n",
    "&emsp; (c) $y(x) = \\int_{0}^{1} t^2 x(t)dt$;\n",
    "\n",
    "&emsp; (d) $y(x) = \\int_{0}^{1} x(t^2)dt$;\n",
    "\n",
    "&emsp; (e) $y(x) = \\frac{dx}{dt}$;\n",
    "\n",
    "&emsp; (f) $y(x) = \\left.\\begin{matrix} \\frac{d^2x}{dt^2} \\end{matrix}\\right|_{t=1}$.\n",
    "\n",
    "In which of these cases is $y$ a linear functional?\n"
   ]
  },
  {
   "cell_type": "markdown",
   "metadata": {
    "slideshow": {
     "slide_type": "slide"
    }
   },
   "source": [
    "<h3 align=\"center\">Dual bases</h3>\n",
    "\n",
    "\n",
    "$\\textbf{Theorem} \\space \\textbf{6}$. \n",
    "If $\\mathcal{V}$ is an $n$-dimensional vector space over a field $\\mathcal{F}$, \n",
    "if $\\mathcal{X} = \\{x_1, ..., x_n\\}$ is a basis in $\\mathcal{V}$, \n",
    "and if $\\{\\alpha_1, ..., \\alpha_n\\}$ is any set of $n$ scalars from $\\mathcal{F}$, \n",
    "then there is one and only one linear functional $y$ on $\\mathcal{V}$ such that $y(x_i)=\\alpha_i$ for $i = \\overline{1,n}$."
   ]
  },
  {
   "cell_type": "markdown",
   "metadata": {
    "slideshow": {
     "slide_type": "fragment"
    }
   },
   "source": [
    "$\\textbf{Proof}$. \n",
    "Every $x$ in $\\mathcal{V}$ may be written in the form $x = \\xi_1 x_1 + ... + \\xi_n x_n$ in one and only one way.\n",
    "<br>\n",
    "If $y$ is any linear functional, then:\n",
    "\n",
    "$$y(x) = y(\\xi_1 x_1 + ... + \\xi_n x_n) = \\xi_1 y(x_1) + ... + \\xi_n y(x_n).$$\n",
    "\n",
    "From this relation the uniqueness of $y$ is clear: if $y(x_i)=\\alpha_i$, \n",
    "then the value of $y(x)$ is determined, for every $x$, by $y(x) = \\xi_i \\alpha_i$. \n",
    "<br>\n",
    "The argument can also be turned around: if we define $y$ by $y(x) = \\xi_1 \\alpha_1 + ... + \\xi_n \\alpha_n$, then $y$ is indeed a linear functional, and $y(x_i) = \\alpha_i$."
   ]
  },
  {
   "cell_type": "markdown",
   "metadata": {
    "slideshow": {
     "slide_type": "subslide"
    }
   },
   "source": [
    "$\\textbf{Theorem} \\space \\textbf{7}$. \n",
    "If $\\mathcal{V}$ is an $n$-dimensional vector space over a field $\\mathcal{F}$ and if $\\mathcal{X} = \\{ x_1, ..., x_n \\}$ is a basis in $\\mathcal{V}$, then there is a uniquely determined basis $\\mathcal{X}'$ in $\\mathcal{V}'$, $\\mathcal{X}' = \\{ y_1, ..., y_n \\}$, with the property that $y_i(x_j) = \\delta_{ij}$. Consequently the dual space of an $n$-dimensional space is $n$-dimensional.\n",
    "\n",
    "$\\textbf{Definition}$. The basis $\\mathcal{X}'$ is called the $dual$ $basis$ of $\\mathcal{X}$."
   ]
  },
  {
   "cell_type": "markdown",
   "metadata": {
    "slideshow": {
     "slide_type": "subslide"
    }
   },
   "source": [
    "$\\textbf{Proof}$. \n",
    "It follows from $\\textbf{Theorem} \\space \\textbf{6}$ that, for each $j = \\overline 1, n$, a unique $y_j \\in \\mathcal{V}'$ can be found so that $y_j(x_i)= \\delta_{ij}$. \n",
    "We have only to prove that the set $\\mathcal{X}' = \\{ y_1, ... , y_n\\}$ is a basis in $\\mathcal{V}'$.\n",
    "<br>\n",
    "In the first place, $\\mathcal{X}'$ is a linearly independent set. Indeed, from $\\alpha_1 y_1 + ... + \\alpha_n y_n = 0$ we have:\n",
    "$$(\\alpha_i y_i + ... + \\alpha_n y_n)(x) = \\alpha_1 y_1(x) + ... + \\alpha_n y_n(x) = 0$$\n",
    "for all $x$, in particular for $x = x_i$, therefore:\n",
    "$$0 = \\sum_{j=1}^{n} \\alpha_j y_j(x_i) = \\sum_{j=1}^{n} \\alpha_j \\delta_{ij} = \\alpha_i.$$\n",
    "In the second place, every $y$ in $\\mathcal{V}'$ is a linear combination of $y_i, ..., y_n$.\n",
    "<br>\n",
    "To prove this, write $y(x_i)=\\alpha_i$, then, for $x = \\sum_{i=1}^{n}\\xi_i x_i$, we have:\n",
    "$$y(x) = \\xi_1 \\alpha_1 + ... + \\xi_n \\alpha_n.$$\n",
    "On the other hand:\n",
    "$$y_j(x) = \\sum_{i=1}^{n} \\xi_i y_j(x_i) = \\xi_j,$$\n",
    "so that, substituting in the preceding equation, we get:\n",
    "$$y(x) = \\alpha_1 y_1(x) + ... + \\alpha_n y_n(x) = (\\alpha_1 y_1 + ... + \\alpha_n y_n)(x).$$\n",
    "Consequently $y = \\alpha_1 y_1 + ... + \\alpha_n y_n$, and the proof of the theorem is complete.\n"
   ]
  },
  {
   "cell_type": "markdown",
   "metadata": {
    "slideshow": {
     "slide_type": "subslide"
    }
   },
   "source": [
    "$\\textbf{Theorem} \\space \\textbf{8}$. \n",
    "If $u$ and $v$ are any two different vectors of the $n$-dimensional vector space $\\mathcal{V}$, \n",
    "then there exists a linear functional $y$ on $\\mathcal{V}$ such that $y(u) \\neq y(v)$.\n",
    "Or, equivalently, \n",
    "to any non-zero vector $x \\in \\mathcal{V}$ there corresponds a $y \\in \\mathcal{V}'$ such that $y(x) \\neq 0$."
   ]
  },
  {
   "cell_type": "markdown",
   "metadata": {
    "slideshow": {
     "slide_type": "fragment"
    }
   },
   "source": [
    "$\\textbf{Proof}$.\n",
    "That the two statements in the theorem are indeed equivalent is seen by considering $x = u - v$.\n",
    "<br>\n",
    "We shall, accordingly, prove the latter statement only.\n",
    "<br>\n",
    "Let $\\mathcal{X} = \\{x_1, ..., x_n\\}$ be any basis in $\\mathcal{V}$, \n",
    "and let $\\mathcal{X}' = \\{y_1, ..., y_n\\}$ be the dual basis in $\\mathcal{V}'$.\n",
    "<br>\n",
    "If $x = \\sum_{i=1}^{n} \\xi_i x_i$, then (as above) $y_j(x)=\\xi_j$. Hence $y(x)=0$ for all $y \\in \\mathcal{V}'$.\n",
    "<br>\n",
    "And, in particular, if $y_j(x)=0$ for $j=\\overline{1, n}$, then $x=0$."
   ]
  },
  {
   "cell_type": "markdown",
   "metadata": {
    "slideshow": {
     "slide_type": "subslide"
    }
   },
   "source": [
    "<h3 align=\"center\">Exercises 5.1</h3>\n",
    "\n",
    "Let's take any scalar field $\\mathcal{F}$ and consider the vector space $\\mathcal{V} = \\mathcal{F}^1$ over the field $\\mathcal{F}$.\n",
    "\n",
    "It is easy to see that $\\mathcal{V}$ is one dimensional vector space, i.e. the basis in $\\mathcal{V}$ consists of one vector.\n",
    "\n",
    "Let's consider two bases $\\{x_1\\}, \\{x_2\\} \\in \\mathcal{V}$ and corresponding dual bases $\\{y_1\\},\\{y_2\\} \\in \\mathcal{V}'$: \n",
    "\n",
    "$$y_1 (x_1) = 1, y_2 (x_2) = 1.$$\n",
    "\n",
    "Since the dimension is equal to one, we can express $x_2$ through $x_1$ and $y_2$ through $y_1$:\n",
    "\n",
    "$$x_2 = \\alpha x_1, y_2 = \\beta y_1.$$\n",
    "\n",
    "How do $\\alpha$ and $\\beta$ depend on each other?"
   ]
  },
  {
   "cell_type": "markdown",
   "metadata": {
    "slideshow": {
     "slide_type": "slide"
    }
   },
   "source": [
    "<h3 align=\"center\">Brackets and Reflexivity</h3>\n",
    "\n",
    "To simplify the calculations we wish to introduce a \"brackets\" notation that may appear weird at first sight but that will clarify many situations later on:\n",
    "$$[x,y] = y(x).$$\n",
    "In terms of this notation the defining property of a linear functional is:\n",
    "$$[\\alpha_1 x_1 + \\alpha_2 x_2, y] = \\alpha_1 [x_1, y] + \\alpha_2 [x_2, y],$$\n",
    "and the definition of the linear operations for linear functionals is:\n",
    "$$[x,\\alpha_1 y_1 + \\alpha_2 y_2] = \\alpha_1 [x, y_1] + \\alpha_2 [x, y_2].$$\n",
    "\n",
    "Now, we are interested to form the dual space for $\\mathcal{V}'$, i.e. $\\mathcal{V}''$.\n",
    "<br>\n",
    "With this notation it is easy to discuss the relation between $\\mathcal{V}$ and $\\mathcal{V}''$.\n",
    "\n",
    "$\\textbf{Theorem} \\space \\textbf{9}$. \n",
    "If $\\mathcal{V}$ is a finite-dimensional vector space, \n",
    "then corresponding to every linear functional $z_0 \\in \\mathcal{V}'$ there is a vector $x_0 \\in \\mathcal{V}$ such,\n",
    "that $z_0(y) = [x_0, y] = y(x_0)$ for every $y \\in \\mathcal{V}'$. The correspondence $z_0 \\rightleftharpoons x_0$ between $\\mathcal{V}''$ and $\\mathcal{V}$ is an isomorphism.\n",
    "\n",
    "$\\textbf{Definition}$.\n",
    "The correspondence described in this statement is called the $natural$ $correspondence$ between $\\mathcal{V}''$ and $\\mathcal{V}$, because it is not basis dependent."
   ]
  },
  {
   "cell_type": "markdown",
   "metadata": {
    "slideshow": {
     "slide_type": "subslide"
    }
   },
   "source": [
    "$\\textbf{Proof}$. \n",
    "Let us view the correspondence from the standpoint of going from $\\mathcal{V}$ to $\\mathcal{V}''$.\n",
    "In other words, to every $x_0 \\in \\mathcal{V}$ we make correspond a vector $z_0 \\in \\mathcal{V}''$ defined by $z_0(y)=y(x_0)$ for every $y \\in \\mathcal{V}'$. \n",
    "Since $[x,y]$ depends linearly on $x$, the transformation $x_0 \\to z_0$ is linear.\n",
    "\n",
    "We shall show that this transformation is one-to-one, as far as it goes.\n",
    "We assert, in other words, that if $x_1, x_2 \\in \\mathcal{V}$, and if $z_1, z_2 \\in \\mathcal{V}''$ are the corresponding vectors, \n",
    "so that $z_1(y)=[x_1, y]$ and $z_2(y)=[x2, y]$ for all $y \\in  \\mathcal{V}'$, and if $z_1 = z_2$, then $x_1 = x_2$. To say that $z_1 = z_2$ means that $[x_1, y] = [x_2, y]$ for every $y \\in \\mathcal{V}'$. \n",
    "The desired conclusion follows from $\\textbf{Theorem} \\space \\textbf{8}$.\n"
   ]
  }
 ],
 "metadata": {
  "celltoolbar": "Slideshow",
  "kernelspec": {
   "display_name": "Python 3",
   "language": "python",
   "name": "python3"
  },
  "language_info": {
   "codemirror_mode": {
    "name": "ipython",
    "version": 3
   },
   "file_extension": ".py",
   "mimetype": "text/x-python",
   "name": "python",
   "nbconvert_exporter": "python",
   "pygments_lexer": "ipython3",
   "version": "3.7.3"
  }
 },
 "nbformat": 4,
 "nbformat_minor": 2
}
