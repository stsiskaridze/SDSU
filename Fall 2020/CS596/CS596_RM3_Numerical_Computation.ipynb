{
 "cells": [
  {
   "cell_type": "markdown",
   "metadata": {
    "slideshow": {
     "slide_type": "slide"
    }
   },
   "source": [
    "<h1 align=\"center\">Numerical Computation</h1>"
   ]
  },
  {
   "cell_type": "markdown",
   "metadata": {
    "slideshow": {
     "slide_type": "slide"
    }
   },
   "source": [
    "<h3 align=\"center\">Basics of order theory</h3>\n",
    "\n",
    "Let \"$\\leq$\" be a binary relation over a set $X$, defined by some set $X_{\\leq} \\subset (X , X)$. \n",
    "<br>\n",
    "If $(x,y) \\in X_{\\leq}$, then we say that $x$ is **related** to $y$, and denote $x \\leq y$.\n",
    "\n",
    "$\\textbf{Definition}$. A **partial order** is a binary relation \"$\\leq$\" over a set $X$ with the following properties:\n",
    "\n",
    "&emsp; 1. order is **reflexive**: $x \\leq x$, for all $x\\in X$,\n",
    "<br> &emsp; &emsp; i.e.  for all $x \\in X$ we have $(x,x) \\in X_{\\leq}$;\n",
    "<br> &emsp; 2. order is **transitive**: if $x \\leq y$ and $y \\leq z$, then $x \\leq z$,\n",
    "<br> &emsp; &emsp; i.e. if $(x,y) \\in X_{\\leq}$ and $(y,z) \\in X_{\\leq}$, then $(x,z) \\in X_{\\leq}$;\n",
    "<br> &emsp; 3. order is **anti-symmetric**: if $x \\leq y$ and $y \\leq x$, then $x = y$.\n",
    "<br> &emsp; &emsp; i.e. if $(x,y) \\in X_{\\leq}$ and $(y,x) \\in X_{\\leq}$, then $x = y$.\n",
    "\n",
    "\n",
    "$\\textbf{Definition}$. A **linear order** is a partial order under which **every pair of elements is comparable**, i.e.:\n",
    "\n",
    "&emsp; 4. order is **connexive**: or $x \\leq y$ or $y \\leq x$,\n",
    "<br> &emsp; &emsp; i.e. if $x,y \\in X$, then or $(x,y) \\in X_{\\leq}$ or $(y,x) \\in X_{\\leq}$.\n",
    "\n",
    "\n"
   ]
  },
  {
   "cell_type": "markdown",
   "metadata": {
    "slideshow": {
     "slide_type": "subslide"
    }
   },
   "source": [
    "<h3 align=\"center\">Ordered field</h3>\n",
    "\n",
    "Let set $X$ be a field, i.e. $X \\equiv \\mathcal{F}$.\n",
    "\n",
    "$\\textbf{Definition}$. A field $\\mathcal{F}$ is called an **ordered field** if a **linear order** is defined for its elements, and this order is **consistent with the addition and multiplication** operations, i.e.:\n",
    "\n",
    "\n",
    "&emsp; 5. order is consistent with **addition**: if $x \\leq y$, then for any $z$ we have: $x + z \\leq y + z$,\n",
    "<br> &emsp; &emsp; i.e. if $x,y \\in X$ and $z \\in X$, then or $(x+z,y+z) \\in X_{\\leq}$;\n",
    "\n",
    "&emsp; 6. order is consistent with **multiplication**: if $0 \\leq x$ and $0 \\leq y$, then $0\\leq x\\cdot y$,\n",
    "<br> &emsp; &emsp; i.e. if $x,y \\in X$ and $(0,x) \\in X_{\\leq}$ and $(0,y) \\in X_{\\leq}$, then $(0, x \\cdot y)\\in X_{\\leq}$.\n",
    "\n",
    "In other words, field $F$ is an **ordered field** if all $6$ axioms are satisfied."
   ]
  },
  {
   "cell_type": "markdown",
   "metadata": {
    "slideshow": {
     "slide_type": "subslide"
    }
   },
   "source": [
    "<h3 align=\"center\">Examples 1</h3>\n",
    "\n",
    "Let's consider the field $Z_p$, where $p$ is a prime number and $Z_p$ is the set of all positive integers less than $p$:\n",
    "\n",
    "$$Z_p = \\{0, 1, 2, ..., p-1\\}.$$\n",
    "\n",
    "The sum and product in $Z_p$ is defined in the following way:\n",
    "\n",
    "&emsp; $\\bullet$ $\\alpha + \\beta$ be the least positive remainder obtained by dividing the (ordinary) sum by $p$;\n",
    "<br> &emsp; $\\bullet$ $\\alpha \\cdot \\beta$ be the least positive remainder obtained by dividing the (ordinary) product by $p$.\n",
    "\n",
    "Is a field $Z_p$ an **ordered field** in the \"natural\" sence?"
   ]
  },
  {
   "cell_type": "markdown",
   "metadata": {
    "slideshow": {
     "slide_type": "fragment"
    }
   },
   "source": [
    "$\\textbf{Solution}$. \n",
    "\n",
    "Let's consider $Z_3$ and assume that it's an **ordered field**. A \"natural\" order tells that: $0 \\leq 1$, $1 \\leq 2$ and $0 \\leq 2$.\n",
    "<br>\n",
    "If, for instance, we take $x = 1 $, $y=2$ and $z = 1$, then from the axiom of **consistency with the addition** $(5)$, \n",
    "<br> we have: $1 + 1 \\leq 2 + 1$, i.e. $2 \\leq 0$, since $1 + 1 = 2$ and $2 + 1 = 0$. This contradicts the natural order."
   ]
  },
  {
   "cell_type": "markdown",
   "metadata": {
    "slideshow": {
     "slide_type": "subslide"
    }
   },
   "source": [
    "<h3 align=\"center\">Examples 2</h3>\n",
    "\n",
    "Is a complex field $\\mathbb{C}$ an **ordered field**?"
   ]
  },
  {
   "cell_type": "markdown",
   "metadata": {
    "slideshow": {
     "slide_type": "fragment"
    }
   },
   "source": [
    "$\\textbf{Solution}$. \n",
    "\n",
    "Let's assume that complex field $\\mathbb{C}$ is an **ordered field**.\n",
    "From the axiom of **consistency with multiplication** $(6)$, \n",
    "<br> we have that, if $x \\neq 0$ and $0 \\leq x$, then $0 \\leq x \\cdot x$, i.e. the square of any element is non-negative. \n",
    "<br>But $i^2 = i\\cdot i = -1$, i.e. the imaginary unit $i$ cannot exist in **ordered complex field** $\\mathbb{C}$."
   ]
  },
  {
   "cell_type": "markdown",
   "metadata": {
    "slideshow": {
     "slide_type": "slide"
    }
   },
   "source": [
    "<h3 align=\"center\">Normed vector spaces</h3>\n",
    "\n",
    "$\\textbf{Definition}$. A **norm** on a vector space $\\mathcal{V}$ over an ordered field $\\mathcal{F}$, is a function $\\left \\| \\text{ . } \\right \\|: X \\to \\mathcal{F}$, with the following properties:\n",
    "\n",
    "&emsp; &ensp; $\\bullet$ $\\left \\| x \\right \\| \\geq 0$, for all $x \\in X$;\n",
    "<br>\n",
    "&emsp; &ensp; $\\bullet$ $\\left \\| x \\right \\| = 0$ implies that $x = 0$.\n",
    "<br>\n",
    "&emsp; &ensp; $\\bullet$ $\\left \\| \\alpha x \\right \\| = |\\alpha| \\cdot \\left \\| x \\right \\|$, for all $x \\in \\mathcal{V}$ and $\\alpha \\in \\mathcal{F}$;\n",
    "<br>\n",
    "&emsp; &ensp; $\\bullet$ $\\left \\| x + y \\right \\| \\leq \\left \\| x \\right \\| + \\left \\| y \\right \\|$, for all $x,y \\in \\mathcal{V}$;\n",
    "\n",
    "In other words, the definition states that:\n",
    "<br>\n",
    "&emsp; &ensp; $\\bullet$ norm is **nonnegative**;\n",
    "<br>\n",
    "&emsp; &ensp; $\\bullet$ norm is **strictly positive**;\n",
    "<br>\n",
    "&emsp; &ensp; $\\bullet$ norm is **homogenous**;\n",
    "<br>\n",
    "&emsp; &ensp; $\\bullet$ norm satisfies the **tirangle inequality**.\n",
    "\n",
    "\n",
    "$\\textbf{Definition}$. A **normed vector space** $(\\mathcal{V}, \\left \\| \\text{ . } \\right \\|)$ is a vector space $\\mathcal{V}$ equipped with a norm $\\left \\| \\text{ . } \\right \\|$."
   ]
  },
  {
   "cell_type": "markdown",
   "metadata": {
    "slideshow": {
     "slide_type": "subslide"
    }
   },
   "source": [
    "<h3 align=\"center\">Examples of Norm</h3>\n",
    "\n",
    "Let $\\mathcal{V} = \\mathbb{R}^n$ be a vector space over an ordered field $\\mathbb{R}$, and let $p \\geq 1$ be a real number $p\\in \\mathbb{R}$.\n",
    "<br>\n",
    "The $p$-**norm** of a vector $x = \\{\\xi_1, ..., \\xi_n\\}$, also known as **Hölder norm**,  is defined as:\n",
    "$$\\left \\| \\text{ x } \\right \\|_{p} = \\left ( \\sum_{i=1}^{n} |\\xi_i|^p \\right )^{\\frac{1}{p}}.$$\n",
    "\n",
    "&emsp; &ensp; $\\bullet$ When $p=1$, we get the $L_1$ norm, also known as **Manhattan Distance** or **Taxicab norm**:\n",
    "$$\\left \\| \\text{ x } \\right \\|_{1} = \\sum_{i=1}^{n} |\\xi_i|.$$\n",
    "&emsp; &ensp; $\\bullet$ When $p=2$, we get the $L_2$ norm, also known as **Euclidian norm**: \n",
    "$$\\left \\| \\text{ x } \\right \\|_{2} = \\sqrt{ \\sum_{i=1}^{n} |\\xi_i|^2}$$\n",
    "&emsp; &ensp; $\\bullet$ When $p=+\\infty$, we get the $L_\\infty$, also known as **infinity norm** or **maximum norm**: \n",
    "\n",
    "$$\\left \\| \\text{ x } \\right \\|_{\\infty} = \\max_{i} |\\xi_i|$$\n",
    "\n",
    "\n"
   ]
  },
  {
   "cell_type": "markdown",
   "metadata": {
    "slideshow": {
     "slide_type": "subslide"
    }
   },
   "source": [
    "<h3 align=\"center\">Visualisation of Norm</h3>\n",
    "\n",
    "A visual representation of these norms is provided by the set of elements $x \\in \\mathbb{R}^n$, where $\\left \\| x \\right \\| = 1$, or the so-called **unit sphere**.\n",
    "In the flat case, i.e. for $\\mathbb{R}^2$, the unit sphere for different norms is shown below:\n",
    "\n",
    "<img src=\"images/RM_Norm.png\" alt=\"Example\" />"
   ]
  },
  {
   "cell_type": "markdown",
   "metadata": {
    "slideshow": {
     "slide_type": "subslide"
    }
   },
   "source": [
    "<h3 align=\"center\">Exercises 14.1</h3>\n",
    "\n",
    "Prove the norm properties of the **Taxibac**, **Euclidian** and **Maximum** norms."
   ]
  },
  {
   "cell_type": "markdown",
   "metadata": {
    "slideshow": {
     "slide_type": "subslide"
    }
   },
   "source": [
    "<h3 align=\"center\">Operator norm</h3>\n",
    "\n",
    "Let $(\\mathcal{U}, \\left \\| \\text{ . } \\right \\|_u)$ and $(\\mathcal{V}, \\left \\| \\text{ . } \\right \\|_v)$ be a normed vector spaces over an ordered field $\\mathcal{F}$.\n",
    "\n",
    "$\\textbf{Definition}$. A linear transformation $A: \\mathcal{U} \\to \\mathcal{V}$ is called **bounded transformation**, if and only if there exists a scalar $c\\in \\mathcal{F}$ such that:\n",
    "\n",
    "$$\\left \\| A x \\right \\|_v \\leq c \\cdot \\left \\| x \\right \\|_u,$$\n",
    "for all $x\\in \\mathcal{U}$. \n",
    "\n",
    "$\\textbf{Definition}$. The **norm** of bounded transformation $A: \\mathcal{U} \\to \\mathcal{V}$ is a function $\\left \\| \\text{ . } \\right \\|: A \\to \\mathcal{F}$, with the following properties:\n",
    "\n",
    "$$\\left \\| A \\right \\| = max \\left \\{\\left \\| Ax \\right \\|_v: x\\in X \\text{ and } \\left \\| x \\right \\|_u =1 \\right \\} = sup \\left \\{ \\frac{\\left \\| Ax \\right \\|_v}{ \\left \\| x \\right \\|_u }: x\\in X \\text { and } x \\neq 0 \\right \\}$$\n",
    "\n",
    "$\\textbf{Statement}$. If $\\mathcal{U}$ is finite-dimensional, then every transformation $A: \\mathcal{U} \\to \\mathcal{V}$ is bounded transformation, i.e. it has a norm.\n"
   ]
  },
  {
   "cell_type": "markdown",
   "metadata": {
    "slideshow": {
     "slide_type": "slide"
    }
   },
   "source": [
    "<h3 align=\"center\">Matrix norms</h3>\n",
    "\n",
    "$\\bullet$ **Matrix norms induced by transformation norms**:\n",
    "<br> &ensp;\n",
    "These norms treat $m \\times n$ matrix $A$ as a linear transformation from $m$-dimensional vector space $\\mathcal{U}$ to \n",
    "<br> &ensp;$n$-dimensional vector space $\\mathcal{V}$, and define the matrix norm as the corresponding transformation norm.\n",
    "\n",
    "&ensp; For example, if the $p$-norm for vectors is used for both vector spaces, then the matrix norm is defined as:\n",
    "\n",
    "$$\\left \\| A \\right \\|_p = \\sup_{x\\neq 0} \\frac{\\left \\| Ax \\right \\|_p}{\\left \\| x \\right \\|_p}.$$\n",
    "\n",
    "$\\bullet$ **Entrywise matrix norms**:\n",
    "<br> &ensp;\n",
    "These norms treat $ m \\times n$ matrix $A$ as a vector of size $m \\cdot n$, and one of the familiar vector norms are used.\n",
    "\n",
    "&ensp; For example, using the $p$-norm for vectors, we get:\n",
    "$$\\left \\| A \\right \\|_p = \\left ( \\sum_{i=1}^{n} \\sum_{j=1}^{m} |\\alpha_{ij}^p| \\right )^{1/p}.$$\n",
    "\n",
    "\n",
    "$\\bullet$ **Schatten matrix norms**:\n",
    "<br> &ensp; \n",
    "The **Schatten** $p$-**norms** arise when applying the $p$-norm to the vector of **singular values** of a matrix $A$.\n",
    "<br> &ensp;\n",
    "If the singular values of the matrix $A$ are denoted by $\\sigma_i$, then the **Schatten** $p$-norm is defined by:\n",
    "\n",
    "$$\\left \\| A \\right \\|_p = \\left ( \\sum_{i=1}^{min\\{m,n\\}} \\sigma_i^p(A) \\right )^{1/p}.$$"
   ]
  },
  {
   "cell_type": "markdown",
   "metadata": {
    "slideshow": {
     "slide_type": "subslide"
    }
   },
   "source": [
    "<h3 align=\"center\">Matrix norms induced by transformation norms</h3>\n",
    "\n",
    "In the special cases of  $ p = 1, 2, \\infty$, the **induced matrix norms** can be computed or estimated by:\n",
    "\n",
    "$\\bullet$ $p = 1$:\n",
    "$$\\left \\| A \\right \\|_1 = \\max_{1 \\leq j \\leq n} \\sum_{i=1}^{m} |\\alpha_{ij}|,$$\n",
    "&ensp; which is called **L1 norm** and is simply the maximum absolute column sum of the matrix $A$;\n",
    "\n",
    "$\\bullet$ $p = 2$:\n",
    "$$\\left \\| A \\right \\|_2 = \\max_{i} \\sigma_{i} = \\sigma_{max}(A),$$\n",
    "&ensp; where $\\sigma_{i}$ represents the **singulars value** of the matrix $A$.\n",
    "<br>\n",
    "&ensp; This norm is called **L2 norm**, or **Spectral norm**, of the matrix $A$.\n",
    "\n",
    "$\\bullet$ $p = \\infty$:\n",
    "$$\\left \\| A \\right \\|_\\infty = \\max_{1 \\leq i \\leq m} \\sum_{j=1}^{n} |\\alpha_{ij}|,$$\n",
    "which is called the **L$_\\infty$ norm**, or **Infinit norm**, and is simply the maximum absolute row sum of the matrix $A$;\n",
    "\n"
   ]
  },
  {
   "cell_type": "markdown",
   "metadata": {
    "slideshow": {
     "slide_type": "subslide"
    }
   },
   "source": [
    "<h3 align=\"center\">Entrywise matrix norms</h3>\n",
    "\n",
    "In the special cases of  $ p = 1, 2, \\infty$, the **entrywise matrix norms** can be computed or estimated by:\n",
    "\n",
    "$\\bullet$ $p = 1$:\n",
    "$$\\left \\| A \\right \\|_{sum} = \\sum_{i=1}^{n} \\sum_{j=1}^{m} |\\alpha_{ij}|,$$\n",
    "&ensp; which is called **L$_{sum}$ norm** and is simply the absolute sum of all elements of the matrix $A$;\n",
    "\n",
    "$\\bullet$ $p = 2$:\n",
    "$$\\left \\| A \\right \\|_F = \\sqrt{\\sum_{i=1}^{n} \\sum_{j=1}^{m} |\\alpha_{ij}|^2},$$\n",
    "&ensp; which is called the **Frobenius norm** or the **Hilbert–Schmidt norm** of the matrix $A$.\n",
    "\n",
    "$\\bullet$ $p = \\infty$:\n",
    "$$\\left \\| A \\right \\|_{max}  = \\max_{i,j} |\\alpha_{ij}|.$$\n",
    "&ensp; which is called the **Maximum norm** and is simply the maximum absolute element the matrix $A$;\n",
    "\n"
   ]
  },
  {
   "cell_type": "markdown",
   "metadata": {
    "slideshow": {
     "slide_type": "subslide"
    }
   },
   "source": [
    "<h3 align=\"center\">Schatten matrix norms</h3>\n",
    "\n",
    "In the special cases of  $ p = 1, 2, \\infty$, the **Schatten matrix norm** can be computed or estimated by:\n",
    "\n",
    "$\\bullet$ $p = 1$:\n",
    "$$\\left \\| A \\right \\|_* = \\sum_{i=1}^{min\\{m,n\\}} \\sigma_i(A) = Tr(\\sqrt{A^*A}),$$\n",
    "&ensp; \n",
    "which is called the **trace norm**, or **nuclear norm**, of the matrix $A$;\n",
    "\n",
    "\n",
    "$\\bullet$ $p = 2$:\n",
    "$$\\left \\| A \\right \\|_F = \\sqrt{ \\sum_{i=1}^{min\\{m,n\\}} \\sigma_i^2(A) } = \\sqrt{Tr(A^*A)} = \\sqrt{\\sum_{i=1}^{n} \\sum_{j=1}^{m} |\\alpha_{ij}|^2} $$\n",
    "&ensp; \n",
    "which yields the **Frobenius norm** of the matrix $A$.\n",
    "\n",
    "\n",
    "$\\bullet$ $p = \\infty$:\n",
    "$$\\left \\| A \\right \\|_2 = \\sigma_{max} (A)$$\n",
    "\n",
    "which yields the **L2 norm**, or **Spectral norm**, of the matrix $A$.\n",
    "\n"
   ]
  },
  {
   "cell_type": "markdown",
   "metadata": {
    "slideshow": {
     "slide_type": "subslide"
    }
   },
   "source": [
    "<h3 align=\"center\">Examples of norm equivalence</h3>\n",
    "\n",
    "Let $A$ be an $m \\times n$ matrix of rank $r$, then the following inequalities hold:\n",
    "\n",
    "- $\\left \\| A \\right \\|_1 \\leq \\sqrt{m}\\left \\| A \\right \\|_2 \\leq  \\sqrt{mn} \\left \\| A \\right \\|_1;$\n",
    "\n",
    "- $\\left \\| A \\right \\|_2 \\leq \\left \\| A \\right \\|_F \\leq  \\sqrt{r} \\left \\| A \\right \\|_2;$\n",
    "\n",
    "- $\\left \\| A \\right \\|_\\infty \\leq \\sqrt{n} \\left \\| A \\right \\|_2 \\leq  \\sqrt{mn} \\left \\| A \\right \\|_\\infty;$\n",
    "\n",
    "- $\\left \\| A \\right \\|_F \\leq \\left \\| A \\right \\|_* \\leq  \\sqrt{r} \\left \\| A \\right \\|_F;$\n",
    "\n",
    "- $\\left \\| A \\right \\|_{max} \\leq \\left \\| A \\right \\|_2 \\leq  \\sqrt{mn} \\left \\| A \\right \\|_{max};$\n",
    "\n",
    "Another useful inequality between matrix norms is:\n",
    "\n",
    "- $\\left \\| A \\right \\|_2 \\leq \\sqrt{\\left \\| A \\right \\|_1 \\left \\| A \\right \\|_\\infty};$"
   ]
  },
  {
   "cell_type": "markdown",
   "metadata": {
    "slideshow": {
     "slide_type": "subslide"
    }
   },
   "source": [
    "<h3 align=\"center\">Examples</h3>\n",
    "\n",
    "For example, for:\n",
    "$$A = \\begin{bmatrix}\n",
    "5  &  6 & 3  \\\\\n",
    "-1 &  0 & 1  \\\\\n",
    "1  &  3 & -1 \\\\\n",
    "\\end{bmatrix},$$\n",
    "we have:\n",
    "\n",
    "$\\bullet$ $\\left \\| A \\right \\|_1 = max(5 + |-1| + 1; 6 + 0 + 3; 3 + 1 + |-1|) = max(7, 9, 5) = 9;$\n",
    "<br>$\\bullet$ $\\left \\| A \\right \\|_2 = max(8.54; 2.04; 0.92) = 8.54$;\n",
    "<br>$\\bullet$ $\\left \\| A \\right \\|_\\infty = max(5 + 6 + 3; |-1| + 0 + 1; 1 + 3 + |-1|) = max(14, 2, 5) = 14;$\n",
    "<br>$\\bullet$ $\\left \\| A \\right \\|_{sum} = 5 + |-1| + 1 + 6 + 0 + 3 + 1 + |-1| = 21;$\n",
    "<br>$\\bullet$ $\\left \\| A \\right \\|_F = \\sqrt{5^2 + (-1)^2 + 1^2 + 6^2 + 0^2 + 3^2 + 3^2 + 1^2 + (-1)^2} = \\sqrt{83};$\n",
    "<br>$\\bullet$ $\\left \\| A \\right \\|_{max} = max(5; |-1|; 1; 6; 0; 3; 3; 1; |-1|) = 6;$\n",
    "<br>$\\bullet$ $\\left \\| A \\right \\|_{*} = 8.54 + 2.04 + 0.92 = 11.5;$"
   ]
  },
  {
   "cell_type": "markdown",
   "metadata": {
    "slideshow": {
     "slide_type": "slide"
    }
   },
   "source": [
    "<h3 align=\"center\">Metric spaces</h3>\n",
    "\n",
    "$\\textbf{Definition}$. A **metric** on a set $X$ is a **distance function** $d: (X,X) \\to \\mathcal{F}$ ($\\mathcal{F}$ is an **ordered field**), with the following properties:\n",
    "\n",
    "&emsp; &ensp; $\\bullet$ $d(x, y) \\geq 0$  for all $x,y \\in X$, and $d(x,y) = 0$ if and only if $x = y$;\n",
    "<br>\n",
    "&emsp; &ensp; $\\bullet$ $d(x, y) = d(y, x)$ for all $x,y \\in X$;\n",
    "<br>\n",
    "&emsp; &ensp; $\\bullet$ $d(x, y)\\leq{d(x,z)+d(z,y)}$ for all $x, y, z \\in X$.\n",
    "\n",
    "In other words, the definition states that:\n",
    "\n",
    "&emsp; &ensp; $\\bullet$ distance is **nonnegative**, and the only point at zero distance from $x\\in X$ is $x$ itself;\n",
    "<br>\n",
    "&emsp; &ensp; $\\bullet$ the distance is a **symmetric** funciton;\n",
    "<br>\n",
    "&emsp; &ensp; $\\bullet$ distance satisfies the **tirangle inequality**.\n",
    "\n",
    "\n",
    "$\\textbf{Definition}$. A **metric space** $(X,d)$ is a set $X$ equipped with a metric $d$.\n",
    "\n",
    "\n"
   ]
  },
  {
   "cell_type": "markdown",
   "metadata": {
    "slideshow": {
     "slide_type": "subslide"
    }
   },
   "source": [
    "<h3 align=\"center\">Metric versus Norm</h3>\n",
    "\n",
    "$\\textbf{Statement}$. A **normed vector space** $(\\mathcal{V}, \\left \\| \\text{ . } \\right \\|)$ is a **metric space** $(\\mathcal{V}, d)$ with the metric:\n",
    "\n",
    "$$d(x,y) = \\left \\| x - y \\right \\|,$$\n",
    "\n",
    "in other words, if you have **norm**, you have a **metric**.\n",
    "\n",
    "The converse is not allways true. For example, let $\\delta$ be the discrete metric:\n",
    "\n",
    "$$\\delta(x, y) = \\left\\{\\begin{matrix}\n",
    "0 \\text{ for } x = y \\\\\n",
    "1 \\text{ for }  x \\neq y\\\\\n",
    "\\end{matrix}\\right. .$$\n",
    "\n",
    "Then $δ$ clearly does not satisfy the **homogeneity property** of the a metric induced by a norm:\n",
    "\n",
    "$$\\delta(\\alpha x, \\alpha y)= |\\alpha| \\cdot \\delta(x,y).$$"
   ]
  },
  {
   "cell_type": "markdown",
   "metadata": {
    "slideshow": {
     "slide_type": "slide"
    }
   },
   "source": [
    "<h3 align=\"center\">Basics of topology</h3>\n",
    "\n",
    "Let $(X,d)$ be a metric space over an ordered field $\\mathbb{R}$.\n",
    "\n",
    "$\\textbf{Definition}$. An **open ball** of radius $r \\in \\mathbb{R}$ with center in $x \\in X$ \n",
    "is the set $B(x, r) = \\{ y| d(x, y) < r \\}$."
   ]
  },
  {
   "cell_type": "markdown",
   "metadata": {
    "slideshow": {
     "slide_type": "fragment"
    }
   },
   "source": [
    "$\\textbf{Statement}  \\space \\textbf{1}$. For any $x \\in X$ and any $r \\in \\mathbb{R}$, and for any element $y \\in B(x, r)$ there exists $r' \\in \\mathbb{R}$ such that $B(y, r') \\subset B(x, r)$."
   ]
  },
  {
   "cell_type": "markdown",
   "metadata": {
    "slideshow": {
     "slide_type": "fragment"
    }
   },
   "source": [
    "$\\textbf{Proof}$. Let's consider $x \\in R$, $r \\in \\mathbb{R}$, $y \\in B(x, r)$, and $l = d(x, y)$. From the problem statement\n",
    "$l = d(x, y) \\lt r$, therefore $r' = r - l \\gt 0$. If we take $z \\in B(y, r')$, then, from triangle inequality, we have that $d(x, z) \\lt r$ $d(x, z) \\leq d(x, y) + d(y, z)$, but $d(x, y) = l$ and $d(y, z) \\lt r' = r - l$ therefore $d(x, z) \\lt l + r - l = r$, which implies that $z \\in B(x, r)$. So we've got thet each element of $B(y, r')$ belongs to $B(x, r)$."
   ]
  },
  {
   "cell_type": "markdown",
   "metadata": {
    "slideshow": {
     "slide_type": "subslide"
    }
   },
   "source": [
    "$\\textbf{Definition}$. The set $U \\subset X$ is open in metric space $(X, d)$, if for all point $x \\in U$, there exists $r \\in \\mathbb{R}$ such that $B(x, r) \\subset U$.\n",
    "\n",
    "$\\textbf{Statement}  \\space \\textbf{2}$.\n",
    "<br> &emsp; $\\bullet$ For any $\\mathcal{U} = \\{U | U$ is open in $(X, d)\\}$ holds $V = \\bigcup_{U \\in \\mathcal{U}} U$ is open in $(X, d)$;\n",
    "<br> &emsp; $\\bullet$ For any two $U, V \\subset X$ open in $(X, d)$ holds: $W = U \\cap V$ is open in $(X, d)$;\n",
    "<br> &emsp; $\\bullet$ $X$ is open in $(X, d)$;\n",
    "<br> &emsp; $\\bullet$ $\\emptyset$ is open in $(X, d)$;"
   ]
  },
  {
   "cell_type": "markdown",
   "metadata": {
    "slideshow": {
     "slide_type": "fragment"
    }
   },
   "source": [
    "$\\textbf{Proof}$. \n",
    "<br> $\\bullet$ Let's consider any point $x \\in V$. From the problem statement, there exists such open $U_x \\in \\mathcal{U}$, that $x \\in U_x$, therefore for some $r \\in \\mathbb{R}$: $B(x, r) \\subset U_x$. But $U_x \\subset V$, therefore  $B(x, r) \\subset U_x \\subset V$, i.e. $B(x, r) \\subset V$;\n",
    "<br> $\\bullet$ Let's consider any point $x \\in W$. From the problem statement, $x \\in U$ and $x \\in V$, therefore there exist $r_u$ and $r_v$, such that $B(x, r_u) \\subset U$ and $B(x, r_v) \\subset V$. Let's denote $r = min(r_u, r_v)$, then $B(x, r) \\subset U$ and $B(x, r) \\subset V$, and by definition, $B(x, r) \\subset W$;\n",
    "<br> $\\bullet$ Let's consider any point $x \\in X$, then by deinition, for any $r \\in \\mathbb{R}$ $B(x, r) \\subset X$, i.e. $X$ is open in $(X, d)$:\n",
    "<br> $\\bullet$ $\\emptyset$ is open due to the fact that you can not choose the point from $\\emptyset$, therefore the statement will be true."
   ]
  },
  {
   "cell_type": "markdown",
   "metadata": {
    "slideshow": {
     "slide_type": "subslide"
    }
   },
   "source": [
    "$\\textbf{Statement}  \\space \\textbf{3}$. For any finity set $U_1, ..., U_n$ of open sets in $(X, d)$, the set $V =\\bigcap_{i=1}^{n}U$ is open in $(X, d)$."
   ]
  },
  {
   "cell_type": "markdown",
   "metadata": {
    "slideshow": {
     "slide_type": "fragment"
    }
   },
   "source": [
    "$\\textbf{Proof}$. \n",
    "\n",
    "Let's consider any point $x \\in V$. From the problem statement, $x \\in V$ implies that $x \\in U_i$ for all $i = \\overline{1, n}$, therefore there exist $r_1, r_2, ..., r_n \\in \\mathbb{R}$, such that $B(x, r_i) \\subset U_i$ for all $i = \\overline{1, n}$. \n",
    "\n",
    "Let's denote $r = min(r_1, r_2, ..., r_n)$. Due to the fact that we have finite number of elements $\\rightarrow$ $r>0$. Therefore $B(x, r) \\subset U_i$ for all $i = \\overline{1, n}$, and $B(x, r) \\subset V$."
   ]
  },
  {
   "cell_type": "markdown",
   "metadata": {
    "slideshow": {
     "slide_type": "subslide"
    }
   },
   "source": [
    "$\\textbf{Definition}$. Subset $U \\subset X$ in metric space $(X, d)$ is called **open subset** if it is open in $(X, d)$"
   ]
  },
  {
   "cell_type": "markdown",
   "metadata": {
    "slideshow": {
     "slide_type": "fragment"
    }
   },
   "source": [
    "$\\textbf{Definition}$. The set $U \\subset X$ is open if and only if for any point $x \\in U$, there exists the open neighbourhood $V$ of $x$ such that $V \\subset U$."
   ]
  },
  {
   "cell_type": "markdown",
   "metadata": {
    "slideshow": {
     "slide_type": "fragment"
    }
   },
   "source": [
    "$\\textbf{Statement}  \\space \\textbf{4}$. The set $U \\subset X$ is open if and only if for each point $x \\in U$ there exists the open neighbourhood $V$ of $x$ such that $V \\subset U$."
   ]
  },
  {
   "cell_type": "markdown",
   "metadata": {
    "slideshow": {
     "slide_type": "fragment"
    }
   },
   "source": [
    "$\\textbf{Proof}$. \n",
    "\n",
    "$\\bullet$ Let's assume, that $U$ is open, then by definition, for any point $x \\in U$, there exists $r \\in \\mathbb{R}$ such that $B(x, r) \\subset U$. $V=B(x, r) \\subset U$ is a good candidate for the open neighbourhood.\n",
    "\n",
    "$\\bullet$ Let's assume, that for each point $x \\in U$ there exists the open neighborhood $V$ of $x$, such that $V \\subset U$.\n",
    "<br>\n",
    "Since $V$ is an open set, then for each $x$ there should exist $r \\in \\mathbb{R}$ such that $B(x, r) \\subset V$. But $V \\subset U$, therefore $B(x, r) \\subset U$, Q.E.D."
   ]
  },
  {
   "cell_type": "markdown",
   "metadata": {
    "slideshow": {
     "slide_type": "subslide"
    }
   },
   "source": [
    "$\\textbf{Definition}$. The set $V \\subset X$ is **closed** if $U = X - V$ is open in $(X, d)$."
   ]
  },
  {
   "cell_type": "markdown",
   "metadata": {
    "slideshow": {
     "slide_type": "fragment"
    }
   },
   "source": [
    "$\\textbf{Statement}  \\space \\textbf{5}$. If the set $U \\subset X$ is open in $(X, d)$, then $V = X - U$ is closed in $(X, d)$ "
   ]
  },
  {
   "cell_type": "markdown",
   "metadata": {
    "slideshow": {
     "slide_type": "fragment"
    }
   },
   "source": [
    "$\\textbf{Proof}$. \n",
    "<br>\n",
    "Let's consider $V = X - U$. Since $U = X - V$ is open in $(X, d)$, then, by definition, we get that $V$ is closed."
   ]
  },
  {
   "cell_type": "markdown",
   "metadata": {
    "slideshow": {
     "slide_type": "subslide"
    }
   },
   "source": [
    "$\\textbf{Definition}$. An **open ball** of radius $r \\in \\mathbb{R}$ with center in $x \\in X$ is the set $\\overline{{B}(x, r)} = \\{y | d(x, y) \\le r \\}$."
   ]
  },
  {
   "cell_type": "markdown",
   "metadata": {
    "slideshow": {
     "slide_type": "fragment"
    }
   },
   "source": [
    "$\\textbf{Statement}  \\space \\textbf{6}$. The closed ball is closed subset in $(X, d)$."
   ]
  },
  {
   "cell_type": "markdown",
   "metadata": {
    "slideshow": {
     "slide_type": "fragment"
    }
   },
   "source": [
    "$\\textbf{Proof}$.\n",
    "<br>\n",
    "From the problem statement, we have some $x \\in X$ and $r_x \\in \\mathbb{R}$. Let's denote $U = \\overline{{B}(x, r_x)}$ and $V = X - U$, and consider any point $y \\in V$. From the definition of $V$ we have that $d(x,y) = d_{xy}> r_x$. \n",
    "\n",
    "Now let's take $r_y = d_{xy} - r_x$, and consider open ball $B(y, r_y)$. If $z \\in B(y, r_y)$, then $d(y, z)=d_{yz} < r_y \\rightarrow d_{yz} + r_x < r_y + r_x \\rightarrow d_{yz} + r_x < d_{xy} \\rightarrow r_x < d_{xy} - d_{yz}$.\n",
    "<br>\n",
    "But from the triangle inequality we hava $d_{x,y} - d_{y,z} \\leq d_{xz}$, therefore $r_x < d_{xz}$, which means that $z \\notin U$, i.e. $z \\in V$ and $B(y, r_y) \\subset V$."
   ]
  },
  {
   "cell_type": "markdown",
   "metadata": {
    "slideshow": {
     "slide_type": "subslide"
    }
   },
   "source": [
    "$\\textbf{Statement}  \\space \\textbf{7}$.\n",
    "<br>$\\bullet$ For any $\\mathcal{V} = \\{V | V$ is closed in $(X, d)\\}$ holds $\\bigcap_{V \\in \\mathcal{V}} V$ is closed in $(X, d)$\n",
    "<br>$\\bullet$ For any two $V_1, V_2 \\subset X$ closed in $(X, d)$ holds: $V_1 \\cup V_2$ is closed in $(X, d)$\n",
    "<br>$\\bullet$ $X$ is closed in $(X, d)$\n",
    "<br>$\\bullet$ $\\emptyset$ is closed in $(X, d)$"
   ]
  },
  {
   "cell_type": "markdown",
   "metadata": {
    "slideshow": {
     "slide_type": "fragment"
    }
   },
   "source": [
    "$\\textbf{Proof}$.\n",
    "<br> Let's for each $V \\in \\mathcal{V}$ consider $U = X - V$ and define the set $\\mathcal{U} = \\{U | V$ is closed in $(X, d)\\}$. \n",
    "<br> By definition, $U$ will be the open set, therefore $\\mathcal{U} = \\{U | U$ is open in $(X, d)\\}$, so we reduced this task to the **statement (2)**.\n"
   ]
  },
  {
   "cell_type": "markdown",
   "metadata": {
    "slideshow": {
     "slide_type": "subslide"
    }
   },
   "source": [
    "$\\textbf{Statement}  \\space \\textbf{8}$. For any finity set $U_1, ... U_n$ of closed sets in $(X, d)$, the set $\\bigcup_{i=1}^{n}U$ is closed in $(X, d)$."
   ]
  },
  {
   "cell_type": "markdown",
   "metadata": {
    "slideshow": {
     "slide_type": "fragment"
    }
   },
   "source": [
    "$\\textbf{Proof}$.\n",
    "<br> Let's denote $V_1 = U_1 \\cup U_2$. From the **statement (7)**, we have $V_1$ is closed in $(X, d)$. Using the principle of induction, denote $V_{i+1} = U_i \\cup V_i$, and from the **statement (7)**, we will have that all $V_i$ will be closed in $(X, d)$, including the $V_n$, which will be equal to $V_n=\\bigcup_{i=1}^{n}U$.\n"
   ]
  },
  {
   "cell_type": "markdown",
   "metadata": {
    "slideshow": {
     "slide_type": "subslide"
    }
   },
   "source": [
    "$\\textbf{Definition}$. A **closure** of the set $A \\subset X$ is the set $Cl(A) = \\bigcap\\{F \\subset X | F \\text{ is closed in } (X, d)\\}$ (the smallest set which contains $A$)."
   ]
  },
  {
   "cell_type": "markdown",
   "metadata": {
    "slideshow": {
     "slide_type": "fragment"
    }
   },
   "source": [
    "$\\textbf{Definition}$. A **frontier** of the set $A \\subset X$ is the set $Cl(A) - Int(A)$."
   ]
  },
  {
   "cell_type": "markdown",
   "metadata": {
    "slideshow": {
     "slide_type": "fragment"
    }
   },
   "source": [
    "$\\textbf{Definition}$. The set $A \\subset X$ in metric space $(X, d)$ is called **bounded** if there exists $r \\in \\mathbb{R}$ such that $d(x, y) < r$ for each $x, y \\in A$."
   ]
  },
  {
   "cell_type": "markdown",
   "metadata": {
    "slideshow": {
     "slide_type": "slide"
    }
   },
   "source": [
    "<h3 align=\"center\">Sequences and limits</h3>\n",
    "\n",
    "Let $(X,d)$ be a metric space over an ordered field $\\mathbb{R}$.\n",
    "\n",
    "$\\textbf{Definition}$. A **sequence** is an **enumerated** collection of objects in which repetitions are allowed.\n",
    "<br>\n",
    "In other words, the **sequenc**e as a **bijection** from $\\mathbb{N}$ to some set $A$.\n",
    "\n",
    "We write the finit sequence as $(x_n)_{n=1}^{N} = (x_1, x_2, \\dots x_N)$ for some $N \\in \\mathbb{N}$.\n",
    "<br>\n",
    "For infinite sequence, we write $(x_n)_{n=1}^{\\infty} = (x_1, x_2, x_3, \\dots)$."
   ]
  },
  {
   "cell_type": "markdown",
   "metadata": {
    "slideshow": {
     "slide_type": "fragment"
    }
   },
   "source": [
    "$\\textbf{Definition}$. We say that point $x \\in X$ is a **limit of the sequence** $(x_n)_{n=1}^{\\infty}$ and write:\n",
    "\n",
    "$$\\lim_{n \\to \\infty}{x_n} = x,$$\n",
    "\n",
    "if for any open set $U \\subset X$, such that $x \\in U$, there exists $N \\in \\mathbb{N}$, such that $x_n \\in U$ for any $n > N$."
   ]
  },
  {
   "cell_type": "markdown",
   "metadata": {
    "slideshow": {
     "slide_type": "subslide"
    }
   },
   "source": [
    "$\\textbf{Statement}  \\space \\textbf{9}$. $\\lim_{n\\to\\infty}{x_n}= x \\in X$ if and only if for any $r \\in \\mathbb{R}$ there exists $N \\in \\mathbb{N}$ such that: $x_n \\in B(x, r)$ for any $n > N$."
   ]
  },
  {
   "cell_type": "markdown",
   "metadata": {
    "slideshow": {
     "slide_type": "fragment"
    }
   },
   "source": [
    "$\\textbf{Proof}$.\n",
    " - Let's assume that $x \\in X$ is a limit of the sequence $(x_i)_{i=1}^{\\infty}$, and for choosen $r$ consider $U = B(x,r)$. From the problem statement, there exist $N \\in \\mathbb{N}$ such that $x_n \\in U=B(x,r)$ for every $n>N$.\n",
    "<br>\n",
    " - Now let's assume that $x \\in X$ and for the sequence $(x_i)_{i=1}^{\\infty}$ for every $r \\in \\mathbb{R}$ there exists $N \\in \\mathbb{N}$ such that: $x_n \\in B(x, r)$ for every $n > N$. Let's consider any open set $U \\subset X$ such that $x \\in U$. Since $U$ is opens set, there exists $r_0 \\in \\mathbb{R}$ such that $B(x, r_0) \\subset U$.  From the problem statement, we have that for $r_o$ there must exists $N \\in \\mathbb{N}$ such that $x_n \\in B(x,r_0)$ for every $n>N$. But $B(x, r_0) \\subset U$, therefore $x_n \\in U$ for all $n > N$."
   ]
  },
  {
   "cell_type": "markdown",
   "metadata": {
    "slideshow": {
     "slide_type": "subslide"
    }
   },
   "source": [
    "$\\textbf{Definition}$. **Convergent sequence**, or **Cauchy sequence**, is a sequence $(x_n)_{n=1}^{\\infty} = (x_1, x_2, x_3, \\dots)$ such that, for any $r \\in \\mathbb{R}$ there exists $N \\in \\mathbb{N}$ such that $d(x_n, x_m) < r$ for any $n, m > N$."
   ]
  },
  {
   "cell_type": "markdown",
   "metadata": {
    "slideshow": {
     "slide_type": "fragment"
    }
   },
   "source": [
    "$\\textbf{Statement}  \\space \\textbf{10}$. If $x = \\lim_{n\\to\\infty}{x_n}$ and $x \\in X$, then $(x_n)_{i=n}^{\\infty} = (x_1, x_2,  x_3 \\dots)$ is a Cauchy sequence."
   ]
  },
  {
   "cell_type": "markdown",
   "metadata": {
    "slideshow": {
     "slide_type": "fragment"
    }
   },
   "source": [
    "$\\textbf{Proof}$.\n",
    "<br>\n",
    "Let's assumte that $x\\in X$ is a limit o the sequence $(x_i)_{i=1}^{\\infty}$,i.e. $x = \\lim_{n\\to\\infty}{x_n}$, then for every open set $U=B(x,r_0)\\subset X$ such that $x \\in B(x,r_0)$ there exists $n_0 \\in \\mathbb{R}$ such that $x_i \\in B(x,r_0)$ for every $i > n_0$.\n",
    "\n",
    "Let's take $i, j > n_0$, then from the definition of the open ball $B(x, r_0) = \\{y|d(x, y) \\lt r_0 \\}$ and from triangle inequality, we have $d(x_i, x_j) \\leq d(x_i,x) + d(x,x_j) < 2r_0$. Taking $r_0 = r/2$ we get for $n_0 \\in \\mathbb{N}$  that $d(x_i,x_j)<r$ for all $i, j > n_0$, i.e. $(x_i)_{i=1}^{\\infty}$ is convergent sequence."
   ]
  },
  {
   "cell_type": "markdown",
   "metadata": {
    "slideshow": {
     "slide_type": "subslide"
    }
   },
   "source": [
    "<h3 align=\"center\">Limit properties</h3>\n",
    "\n",
    "- The limit of a sequence is unique defined.\n",
    "- $\\lim _{n\\to \\infty }(a_{n}\\pm b_{n})=\\lim _{n\\to \\infty }a_{n}\\pm \\lim _{n\\to \\infty }b_{n}$\n",
    "<br>\n",
    "- $\\lim _{n\\to \\infty }ca_{n}=c\\cdot \\lim _{n\\to \\infty }a_{n}$\n",
    "<br>\n",
    "- $\\lim _{n\\to \\infty }(a_{n}\\cdot b_{n})=(\\lim _{n\\to \\infty }a_{n})\\cdot (\\lim _{n\\to \\infty }b_{n})$\n",
    "<br>\n",
    "- $\\lim _{n\\to \\infty }\\left({\\frac {a_{n}}{b_{n}}}\\right)={\\frac {\\lim \\limits _{n\\to \\infty }a_{n}}{\\lim \\limits _{n\\to \\infty }b_{n}}}$ provided $\\lim _{n\\to \\infty }b_{n}\\neq 0$\n",
    "<br>\n",
    "- $\\lim _{n\\to \\infty }a_{n}^{p}=\\left[\\lim _{n\\to \\infty }a_{n}\\right]^{p}$\n",
    "<br>\n",
    "- if $a_{i}\\leq b_{i}$ for some $n_0 \\in \\mathbb{R}^n$ and all $i > n_0$ then ${\\displaystyle \\lim _{n\\to \\infty }a_{n}\\leq \\lim _{n\\to \\infty }b_{n}}$\n",
    "<br>\n",
    "- If $a_{i}\\leq c_{i}\\leq b_{i}$ for some $n_0 \\in \\mathbb{R}^n$ and all $i > n_0$ and $\\lim _{n\\to \\infty }a_{n}=\\lim _{n\\to \\infty }b_{n}=L$ then $\\lim _{n\\to \\infty }{c_n} = L$\n",
    "- If a sequence is bounded and monotonic then it is convergent.\n",
    "<br>\n",
    "- A sequence is convergent if and only if every subsequence is convergent.\n",
    "<br>"
   ]
  },
  {
   "cell_type": "markdown",
   "metadata": {
    "slideshow": {
     "slide_type": "subslide"
    }
   },
   "source": [
    "<h3 align=\"center\">Examples</h3>\n",
    "\n",
    "Let's consider the sequence:\n",
    "$$x_n = \\left\\{\\begin{matrix}\n",
    "-\\frac{1}{2} \\text{ if } n \\text{ is odd} \\\\\n",
    " \\frac{1}{2} \\text{ if } n \\text{ is even} \\\\\n",
    "\\end{matrix}\\right. .$$\n",
    "\n",
    "Every subset of this set in discret space is open and close simultaneously.\n",
    "<br>\n",
    "Therefore, this sequence is bounded but does not converges."
   ]
  },
  {
   "cell_type": "markdown",
   "metadata": {
    "slideshow": {
     "slide_type": "slide"
    }
   },
   "source": [
    "<h3 align=\"center\">Limits of functions</h3>\n",
    "\n",
    "Let $(X, d_x)$ and $(Y, d_Y)$ be a metric spaces over an ordered field $\\mathcal{R}$.\n",
    "<br>\n",
    "Let's consider the subset $S \\subset X$ and some function $f:S \\to Y$.\n",
    "\n",
    "$\\textbf{Definition}$. The **limit of a function** $f$ at some limit point $x$ of the subset $S$, $x \\in X$, is a point $y \\in Y $ if:\n",
    "\n",
    "1) for each open neighborhood of $y \\in V \\subset Y$, there exists the open neighborhood of $x \\in U \\subset X$ such that $f(U \\cap S) \\subset V$;\n",
    "<br>\n",
    "2) for each open ball $B(y, r_y) \\subset Y$ there exists the ball $B(x, r_x) \\subset X$ such that $f(B(x, r_x) \\cap S) \\subset B(y, r_y)$;\n",
    "<br>\n",
    "3) for any $r_y \\in \\mathbb{R}$ there exists $r_x \\in \\mathbb{R}$ such that for every $z \\in S$ with $d_X(x, z) < r_x$ implies that $d_Y(f(z), y) < r_y$.\n",
    "\n",
    "We write: $\\lim_{x \\to c}f(x) = y$\n",
    "\n",
    "$\\textbf{Statement} \\space \\textbf{11}$. These three definitions of the limit of a function are equiualent definitions."
   ]
  },
  {
   "cell_type": "markdown",
   "metadata": {
    "slideshow": {
     "slide_type": "subslide"
    }
   },
   "source": [
    "$\\textbf{Proof}$.\n",
    "\n",
    "$1 \\rightarrow 2$: Let's consider $B(y, r_y) \\subset Y$. Since it's open, we may use it as an open neighborhood of $y \\in Y$. From the problem statement, there exists the open neighborhood $x \\in U \\subset X$ such that $f(U \\cap S) \\subset V$. Since $U$ is open, we can find $r_x \\in \\mathbb{R}$ so that open ball $B(x,r_x) \\subset U$. Therefore, $f(B(x, r_x) \\cap S) \\subset f(U \\cap S) \\subset B(y, r_y)$.\n",
    "\n",
    "$2 \\rightarrow 3$: Let's take any $r_y \\in \\mathbb{R}$ and consider open ball $B(y,r_y) \\subset Y$. From the problem statement, there exists the ball $B(x,r_x) \\subset X$ such that $f(B(x,r_x) \\cap S) \\subset B(y,r_y)$. Therefore, if we take $z \\in B(x,r_x)$ (which means that $d_X(x,z)<r_x$), then $f(z) \\in B(y,r_y)$ (which means that $d_Y(f(z),y)< r_y$).\n",
    "\n",
    "$3 \\rightarrow 1$: Lets consider some open neighborhood of $y\\in V \\subset Y$ and some element $z \\neq y \\in V$. Let's denote $d_Y(y,z) = r_y$. From the problem statement, for $r_y$ there exists $r_x \\in \\mathbb{R}$ such that for every $s \\in S$ with $d_X(x,s)<r_x$ we have that $d_Y(f(s),y)<r_y$. But $s \\in d_X(x,s)<r_x$ and $s \\in S$ is the same as $B(x,r_x) \\cap S$ and it's an open neighborhood of $x$ as an intersection of two open sets. Now lets for all points $y\\in V_y$ consider the corresponding open neighborhood $B_y(x,r_x) \\cup S$. From the statement (2), we know that any union of open sets is an open set, therefore $U = \\bigcup B_y(x,r_x) \\cap S$ will be an open neighborhood of $x \\in S \\subset X$ and $f(x) \\in V$, where $V = \\bigcup Vy$."
   ]
  },
  {
   "cell_type": "markdown",
   "metadata": {
    "slideshow": {
     "slide_type": "slide"
    }
   },
   "source": [
    "<h3 align=\"center\">Continuous functions</h3>\n",
    "\n",
    "$\\textbf{Definition}$. The function $f:(X, d_X) \\to (Y, d_Y)$ is called continuous in point $x_0 \\in X$ if: \n",
    "\n",
    "1. $\\forall \\varepsilon >0 \\text{ } \\exists \\delta >0 \\text { that } \\forall x \\in X \\text { such that } d_X(x,x_0) < \\delta \\text{ valid } d_Y(f(x), f(x_0)) < \\varepsilon;$\n",
    "\n",
    "2. $\\forall$ open neighborhood of $f(x_0) \\in V \\subset Y$ there exists the open neighborhood $x_0 \\in U \\subset X$ such that $f(U) \\subset V$,\n",
    "\n",
    "and we write $\\lim_{x \\to x_0}f(x) = f(x_0)$"
   ]
  },
  {
   "cell_type": "markdown",
   "metadata": {
    "slideshow": {
     "slide_type": "fragment"
    }
   },
   "source": [
    "\n",
    "$\\textbf{Definition}$. The function $f:(X, d_X) \\to (Y, d_Y)$ is continuous if it is continuous $\\forall x \\in X$."
   ]
  },
  {
   "cell_type": "markdown",
   "metadata": {
    "slideshow": {
     "slide_type": "fragment"
    }
   },
   "source": [
    "$\\textbf{Statement} \\space \\textbf{12}$. $\\lim_{n\\to\\infty}{x_n}= x \\in X$ if and only if for any $r \\in \\mathbb{R}$ there exists $N \\in \\mathbb{N}$ such that: $x_n \\in B(x, r)$ for any $n > N$."
   ]
  },
  {
   "cell_type": "markdown",
   "metadata": {
    "slideshow": {
     "slide_type": "subslide"
    }
   },
   "source": [
    "$\\textbf{Proof}$.\n",
    "<br>\n",
    "1) Let's consider $x \\in U = f^{-1}(V)$. If function $f:(X, d_X) \\to (Y, d_Y)$ is continuous $\\forall x \\in U$ then for each $f(x) \\in V$ there exists open neighborhood$x\\in U' \\subset X$ such that $f(U') \\subset V$. Lets take $U''= U \\cap U'$, which will be also open neighborhood of $x$ and $U'' \\subset U$, therefore $U = f^{-1}(V)$ is open set in $X$.\n",
    "\n",
    "\n",
    "Now let's assume that $\\forall$ open set $V \\subset Y$ the $f^{-1}(V)$ is open in $X$, and take any $x \\in X$. Then for any open neighborhood of $f(x_0) \\in V \\subset Y$ valid $U' = f^{-1}(V)$ is open. Let's take $U''= U \\cap U'$, which will be also open  neighborhood of $x_0 \\in U'' \\subset X$ and $f(U'') \\subset V$.\n",
    "\n",
    "2) Let's consider any closed set $V \\subset Y$, then $\\bar{V} = Y \\setminus V$ is an open set. Since $f:(X, d_X) \\to (Y, d_Y)$ is continuous, then $U = f^{-1}(\\bar{V})$ is open set in $X$. But $\\bar{U} = f^{-1}(V) = X \\setminus U$, therefore it's closed set in $X$.\n",
    "\n",
    "Now let's assume that $\\forall$ closed set $V \\subset Y$ the $U = f^{-1}(V)$ is closed in $X$. But $\\bar{U}$ is an open set in $X$ and $\\bar{V}$ is an open set $Y$ and $\\bar{U} = f^{-1}(\\bar{V})$, therefore, from 1) we get that function $f$ is continuous.\n",
    "\n",
    "3) Let's assume that $f:(X, d_X) \\to (Y, d_Y)$ and $g:(Y, d_Y) \\to (Z, d_Z)$ are continuous functions.\n",
    "<br>Let's introduce the following notation:\n",
    "<br>\n",
    "Composition of the functions $f$ and $g$ is $h=gf:(X, d_X) \\to (Z, d_Z)$.\n",
    "<br>\n",
    "For any $x_0 \\in X$ let's  $y_0 = f(x_0)$ and $z_0 = g(f(x_0))=h(x_0)$\n",
    "\n",
    "Now consider any open neighborhood of $z_0 \\in W \\subset Z$. Since $g$ is a continuous function, then for any open neighborhood of $W \\subset Z$ there exists open neighborhood of $y_0 \\in V \\subset Y$ such that $g(V) \\subset W$. On the other hand, $f$ is a continuous function, for open neighborhood $y_0 \\in V \\subset Y$ there exists open neighborhood of $x_0 \\in U \\subset X$ such that $f(U)\\subset V$. Therefore $h(U) = g(f(U)) \\subset W $, i.e. $h$ is a continuous function."
   ]
  },
  {
   "cell_type": "markdown",
   "metadata": {
    "slideshow": {
     "slide_type": "slide"
    }
   },
   "source": [
    "<h3 align=\"center\">Derivatives</h3>\n",
    "\n",
    "Let $U \\subset \\mathbb{R}$ be a open subset and $f:U \\subset \\mathbb{R} \\to \\mathbb{R} $:\n",
    "\n",
    "$\\textbf{Definition}$. Function has a **derivative** at point $x_0 \\in \\mathbb{R}$ if for every $h \\in \\mathbb{R}$ there exists the limit of:\n",
    "$$\\lim_{h \\to 0}\\frac{f(x_0 + h) - f(x_0)}{h}.$$\n",
    "This limit point is called **derivate at point** $x_0$ and denoted by $f'(x_0)$.\n",
    "\n",
    "$\\textbf{Definition}$. A function is **differentiable** if it has derivative at any point $x\\in U$.\n",
    "\n",
    "<center><img src=\"images/RM_Derivative.gif\" width=\"550\" height=\"300\" alt=\"Example\" /></center>"
   ]
  },
  {
   "cell_type": "markdown",
   "metadata": {
    "slideshow": {
     "slide_type": "subslide"
    }
   },
   "source": [
    "<h3 align=\"center\">Derivative Properties</h3>\n",
    "\n",
    "Let $f:\\mathbb{R} \\to \\mathbb{R}$ and $g:\\mathbb{R} \\to \\mathbb{R}$ be differentiable functions, then for any $x\\in \\mathbb{R}$:\n",
    "<br> &emsp; $\\bullet$ $(f + g)'(x) = f'(x) + g'(x)$;\n",
    "<br> &emsp; $\\bullet$ $(af(x))' = af'(x)$;\n",
    "<br> &emsp; $\\bullet$ $(fg)'(x) = f'(x)g(x) + f(x)g'(x)$;\n",
    "<br> &emsp; $\\bullet$ $(g \\circ f)'(x) = g'(f(x)) f'(x)$ (also known as **chain rule**).\n",
    "\n",
    "Derivatives of some known functions:\n",
    "\n",
    "| Derivatives of Power Functions                  | Derivatives of trigonometric functions                          | Derivatives of inverse trigonometric functions                  |\n",
    "|-------------------------------------------------|-----------------------------------------------------------------|-----------------------------------------------------------------|\n",
    "|                     $(c)'=0$                    |                  $\\left(\\sin x\\right)'=\\cos x$                  |     $\\left(\\arcsin x\\right)'={\\dfrac {1}{\\sqrt {1-x^{2}}}}$     |\n",
    "|          $\\left(x^{a}\\right)'=ax^{a-1}$         |                  $\\left(\\cos x\\right)'=-\\sin x$                 |     $\\left(\\arccos x\\right)'=-{\\dfrac {1}{\\sqrt {1-x^{2}}}}$    |\n",
    "|         $\\left(a^{x}\\right)'=a^{x}\\ln a$        |  $\\left(\\operatorname {tg} x\\right)'={\\dfrac {1}{\\cos ^{2}x}}$  |  $\\left(\\operatorname {arctg} x\\right)'={\\dfrac {1}{1+x^{2}}}$  |\n",
    "| $\\left(\\log _{a}x\\right)'={\\dfrac {1}{x\\ln a}}$ | $\\left(\\operatorname {ctg} x\\right)'=-{\\dfrac {1}{\\sin ^{2}x}}$ | $\\left(\\operatorname {arcctg} x\\right)'=-{\\dfrac {1}{1+x^{2}}}$ |"
   ]
  },
  {
   "cell_type": "markdown",
   "metadata": {
    "slideshow": {
     "slide_type": "subslide"
    }
   },
   "source": [
    "<h3 align=\"center\">Partial derivatives</h3>\n",
    "\n",
    "Let $\\overrightarrow{f}:\\mathbb{R}^n \\to \\mathbb{R}^m$ be a vector function between two normed vector spaces.\n",
    "\n",
    "$\\textbf{Definition}$. The **partial derivative** of an function $\\overrightarrow{f} = f(x_1, \\dots, x_m$) in the direction $x_i$ at the point ($a_1, \\dots, a_n$) is defined as:\n",
    "\n",
    "$$\n",
    "\\frac{\\partial f}{\\partial x_i}(a_1, \\ldots, a_n) = \\lim_{h \\to 0}\\frac{f(a_1, \\ldots, a_i+h,\\ldots,a_n) - f(a_1,\\ldots, a_i, \\dots,a_n)}{h}\n",
    "$$\n",
    "\n",
    "All the variables are fixed except $x_i$. That choice of fixed values determines a function of one variable\n",
    "\n",
    "$$f_{a_1,\\ldots,a_{i-1},a_{i+1},\\ldots,a_n}(x_i) = f(a_1,\\ldots,a_{i-1},x_i,a_{i+1},\\ldots,a_n)$$\n",
    "\n",
    "and by definition,\n",
    "\n",
    "$$\\frac{df_{a_1,\\ldots,a_{i-1},a_{i+1},\\ldots,a_n}}{dx_i}(a_i) = \\frac{\\partial f}{\\partial x_i}(a_1,\\ldots,a_n)$$"
   ]
  },
  {
   "cell_type": "markdown",
   "metadata": {
    "slideshow": {
     "slide_type": "subslide"
    }
   },
   "source": [
    "<h3 align=\"center\">Jacobian matrix</h3>\n",
    "\n",
    "Let $\\overrightarrow{f} = \\{f_1,  ..., f_m\\}:\\mathbb{R}^n \\to \\mathbb{R}^m$ be a function such that each of its partial derivatives exist on $\\mathbb{R}^n$.\n",
    "<br>\n",
    "This function takes a vector $\\overrightarrow{x}\\in \\mathbb{R}^n$ as input and produces the vector $\\overrightarrow{f}(\\overrightarrow{x})\\in \\mathbb{R}^m$ as an output.\n",
    "\n",
    "$\\textbf{Definition}$. The Jacobian matrix of $\\overrightarrow{f}$ is defined to be an $m \\times n$ matrix, denoted by $\\mathbf{J}$, whose $\\mathbf{J}_{ij} = \\frac{\\partial f_i}{ \\partial x_j}$:\n",
    "\n",
    "$$\\mathbf{J} = \\begin{bmatrix}\n",
    "\\frac{\\partial \\overrightarrow{f}}{\\partial x_1} & \\cdots  &  \\frac{\\partial \\overrightarrow{f}}{\\partial x_n}\n",
    "\\end{bmatrix}\n",
    "= \n",
    "\\begin{bmatrix}\n",
    "\\frac{\\partial f_1}{\\partial x_1} & \\cdots & \\frac{\\partial f_1}{\\partial x_n}\\\\ \n",
    "\\vdots & \\ddots & \\vdots\\\\ \n",
    "\\frac{\\partial f_m}{\\partial x_1} & \\cdots & \\frac{\\partial f_m}{\\partial x_n}\n",
    "\\end{bmatrix}$$\n",
    "\n",
    "Generalized **chain rule** for the Jacobian:\n",
    "<br> &emsp; $\\bullet$ if $\\overrightarrow{f} : \\mathbb{R}^n \\to \\mathbb{R}^m$ and $\\overrightarrow{g} : \\mathbb{R}^m \\to \\mathbb{R}^l$ then for any $x \\in \\mathbb{R}^n$:\n",
    "$$\\mathbf{J}_{\\overrightarrow{g} \\circ \\overrightarrow{f}}(x) = \\mathbf{J}_{\\overrightarrow{g}}(\\overrightarrow{f}(x)) \\mathbf{J}_{\\overrightarrow{f}}(x)\n",
    "$$\n"
   ]
  },
  {
   "cell_type": "markdown",
   "metadata": {
    "slideshow": {
     "slide_type": "subslide"
    }
   },
   "source": [
    "<h3 align=\"center\">Directional derivative</h3>\n",
    "\n",
    "Let $U$ be an open subset of $\\mathbb{R}^n$. \n",
    "\n",
    "$\\textbf{Definition}$. The **directional derivative** of a function $f: U \\subset \\mathbb{R}^n \\to \\mathbb{R}$ with respect to any vector $\\mathbf{v} \\in \\mathbb{R}^n$ is define as:\n",
    "$$\\nabla_{\\mathbf{v}}{f}(\\mathbf{x}) = \\lim_{h \\rightarrow 0}{\\frac{f(\\mathbf{x} + h\\mathbf{v}) - f(\\mathbf{x})}{h}}.$$ "
   ]
  },
  {
   "cell_type": "markdown",
   "metadata": {
    "slideshow": {
     "slide_type": "fragment"
    }
   },
   "source": [
    "<h3 align=\"center\">Total derivative</h3>\n",
    "\n",
    "Let $U$ be an open subset of $\\mathbb{R}^n$. \n",
    "\n",
    "$\\textbf{Definition}$. A function $f: U \\to \\mathbb{R}^m$ is said to be (**totally**) **differentiable** at a point $a \\in U$, if there exists a linear transformation $df_a: \\mathbb{R}^n \\to \\mathbb{R}^m$, such that:\n",
    "\n",
    "$$ \\lim_{x\\rightarrow a}\\frac{\\|f(x)-f(a)-df_a(x-a)\\|}{\\|x-a\\|}=0.$$\n"
   ]
  },
  {
   "cell_type": "markdown",
   "metadata": {
    "slideshow": {
     "slide_type": "slide"
    }
   },
   "source": [
    "<h3 align=\"center\">Gradient</h3>\n",
    "\n",
    "Let $f :\\mathbb{R}^n \\to \\mathbb{R}$ be a function such that each of its partial derivatives exist on $\\mathbb{R}^n$.\n",
    "\n",
    "$\\textbf{Definition}$. The gradient of the function $f$, denoted by $\\nabla f$, is a vector of it's Jacobian matrix:\n",
    "\n",
    "$$ \\nabla f = \\mathbf{J} = \n",
    "\\begin{bmatrix}\n",
    "\\frac{\\partial f}{\\partial x_1} & \\cdots  &  \\frac{\\partial f}{\\partial x_n}\n",
    "\\end{bmatrix}\n",
    "$$\n",
    "Gradient properties:\n",
    "<br> &emsp; $\\bullet$ $\\nabla\\left(\\alpha f+\\beta g\\right)(a) = \\alpha \\nabla f(a) + \\beta\\nabla g (a)$;\n",
    "<br> &emsp; $\\bullet$ $\\nabla (fg)(a) = f(a)\\nabla g(a) + g(a)\\nabla f(a)$;\n",
    "<br> &emsp; $\\bullet$ $(f\\circ g)'(c) = \\nabla f(a)\\cdot g'(c)$ (**Chain rule**).\n",
    "\n",
    "The **relationship** between the **gradien**t and the **derivative in the direction**:\n",
    "\n",
    "$$\\big(\\nabla f(x)\\big)\\cdot \\mathbf{v} = \\nabla_{\\mathbf v}f(x).$$\n",
    "\n",
    "The **relationship** between the **gradient** and the **differential derivative** (if function is differentiable in $x$):\n",
    "\n",
    "$$(\\nabla f)_x\\cdot v = df_x(v).$$"
   ]
  },
  {
   "cell_type": "markdown",
   "metadata": {
    "slideshow": {
     "slide_type": "subslide"
    }
   },
   "source": [
    "<h3 align=\"center\">Geometrical interpretation of gradient</h3>\n",
    "\n",
    "Gradient points to the steepest slope and it's magnitude gives the rate of increase in that direction:\n",
    "\n",
    "$$\\big(\\nabla f(x)\\big)\\cdot \\mathbf{v} = \\nabla_{\\mathbf v}f(x)$$\n",
    "\n",
    "<center><img src=\"images/RM_Gradient.gif\" width=\"600\" height=\"300\" alt=\"Example\" /></center>"
   ]
  },
  {
   "cell_type": "markdown",
   "metadata": {
    "slideshow": {
     "slide_type": "slide"
    }
   },
   "source": [
    "<h3 align=\"center\">Extrema</h3>\n",
    "\n",
    "$\\textbf{Definition}$. A funciton $f$ on a metrix space $X$ has a **global**, or **absolute**, **maximum** at point $x\\in X$, if:\n",
    "\n",
    "$$f(x) \\geq f({x}') \\text{ for any } {x}' \\in X.$$\n",
    "\n",
    "$\\textbf{Definition}$. A funciton $f$ on a metrix space $X$ has a **global**, or **absolute**, **minimum** at point $x\\in X$, if:\n",
    "\n",
    "$$f(x) \\leq f({x}') \\text{ for any } {x}' \\in X.$$"
   ]
  },
  {
   "cell_type": "markdown",
   "metadata": {
    "slideshow": {
     "slide_type": "fragment"
    }
   },
   "source": [
    "$\\textbf{Definition}$. A funciton $f$ on a metrix space $X$ has a **local**, or **relative**, **maximum** at point $x\\in X$, \n",
    "<br> \n",
    "if there exists an open neighborhood of $x$, call it $U_x$, such that:\n",
    "\n",
    "$$f(x) \\geq f({x}') \\text{ for any } {x}' \\in U.$$\n",
    "\n",
    "$\\textbf{Definition}$. A funciton $f$ on a metrix space $X$ has a **local**, or **relative**, **minimum** at point $x\\in X$, \n",
    "<br>\n",
    "if there exists an open neighborhood of $x$, call it $U_x$, such that:\n",
    "\n",
    "$$f(x) \\leq f({x}') \\text{ for any } {x}' \\in U.$$"
   ]
  },
  {
   "cell_type": "markdown",
   "metadata": {
    "slideshow": {
     "slide_type": "subslide"
    }
   },
   "source": [
    "<h3 align=\"center\">Fermat's theorem</h3>\n",
    "\n",
    "Let $U$ be an open subset of $\\mathbb{R}^n$ and suppose that function $f: U \\to \\mathbb{R}$ is **differentiable** at point $x \\in U$. \n",
    "\n",
    "$\\textbf{Fermat's theorem}$. If $f$ has a **local extremum** (**maximum** or **minimum**) in $x \\in U$, then: \n",
    "\n",
    "$$\\nabla f(x) = 0.$$\n",
    "\n",
    "<center><img src=\"images/RM_Extrema.jpg\" width=\"1500\" height=\"300\" alt=\"Example\" /></center>"
   ]
  },
  {
   "cell_type": "markdown",
   "metadata": {
    "slideshow": {
     "slide_type": "subslide"
    }
   },
   "source": [
    "<h3 align=\"center\">Hessian  matrix</h3>\n",
    "\n",
    "Let $f:\\mathbb{R}^n \\to \\mathbb{R}$ be a function such that all **second partial derivatives** exist on $\\mathbb{R}$.\n",
    "<br>\n",
    "This function takes a vector $\\overrightarrow{x}\\in \\mathbb{R}^n$ as input and produces a scalar $f(\\overrightarrow{x})\\in \\mathbb{R}$ as an output.\n",
    "\n",
    "$\\textbf{Definition}$. The Hessian matrix of $f$ is a square $n \\times n$ matrix, denoted by $\\mathbf{H}$, whose $\\mathbf{H}_{ij} = \\frac{\\partial^2 f}{ \\partial x_i \\partial x_j}$:\n",
    "$$\\mathbf{H} = \n",
    "\\begin{bmatrix}\n",
    "\\frac{\\partial^2 f}{\\partial x_1^2} & \\frac{\\partial^2 f}{\\partial x_1 \\partial x_2} & \\cdots & \\frac{\\partial^2 f}{\\partial x_1 \\partial x_n}\\\\\n",
    "\\frac{\\partial^2 f}{\\partial x_2 \\partial x_1} & \\frac{\\partial^2 f}{\\partial x_2^2} & \\cdots & \\frac{\\partial^2 f}{\\partial x_2 \\partial x_n}\\\\\n",
    "\\vdots & \\vdots & \\ddots & \\vdots\\\\ \n",
    "\\frac{\\partial^2 f}{\\partial x_n \\partial x_1} & \\frac{\\partial^2 f}{\\partial x_n \\partial x_2} & \\cdots & \\frac{\\partial^2 f}{\\partial x_n^2}\n",
    "\\end{bmatrix}$$\n",
    "If the **Hessian matrix**:\n",
    "<br> &emsp; $\\bullet$ is **positive definite** at $x$, then $f$ attains an isolated **local minimum** at $x$\n",
    "<br> &emsp; $\\bullet$ is **negative definite** at $x$, then $f$ attains an isolated **local maximum** at $x$. \n",
    "<br> &emsp; $\\bullet$ has **both positive and negative eigenvalues** then $x$ is a **saddle point** for $f$.\n"
   ]
  },
  {
   "cell_type": "markdown",
   "metadata": {
    "slideshow": {
     "slide_type": "slide"
    }
   },
   "source": [
    "<h3 align=\"center\">Gradient descent method</h3>\n",
    "\n",
    "**Gradient descent** is:\n",
    "<br> &emsp; $\\bullet$ a first-order iterative optimization algorithm for finding the local minimum of a differentiable function.\n",
    "<br> &emsp; $\\bullet$ based on the observation that $f(x)$ decreases **fastest** if one goes in the direction of a **negative gradient.**\n",
    "\n",
    "It **starts with a guess** $x_0$  for a local minumum of $f$, and consider the **sequence** $x_0, x_1, x_2 ...$  such that:\n",
    "$$x_{n+1} = x_n  - \\gamma \\nabla f(x_n),$$\n",
    "where $\\gamma$ is a **step size** and is allowed to change at every iteration.  \n",
    "\n",
    "<center><img src=\"images/RM_Gradient_Descent_2.png\" width=\"650\" height=\"300\" alt=\"Example\" /></center>\n",
    "\n",
    "<center><img src=\"images/RM_Gradient_Descent.gif\" width=\"650\" height=\"300\" alt=\"Example\" /></center>\n"
   ]
  }
 ],
 "metadata": {
  "celltoolbar": "Slideshow",
  "kernelspec": {
   "display_name": "Python 3",
   "language": "python",
   "name": "python3"
  },
  "language_info": {
   "codemirror_mode": {
    "name": "ipython",
    "version": 3
   },
   "file_extension": ".py",
   "mimetype": "text/x-python",
   "name": "python",
   "nbconvert_exporter": "python",
   "pygments_lexer": "ipython3",
   "version": "3.7.3"
  }
 },
 "nbformat": 4,
 "nbformat_minor": 2
}
