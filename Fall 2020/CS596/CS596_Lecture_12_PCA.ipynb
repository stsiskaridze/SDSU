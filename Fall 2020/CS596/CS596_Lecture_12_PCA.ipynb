{
 "cells": [
  {
   "cell_type": "markdown",
   "metadata": {
    "slideshow": {
     "slide_type": "slide"
    }
   },
   "source": [
    "**CS596 - Machine Learning**\n",
    "<br>\n",
    "Date: **30 November 2020**\n",
    "\n",
    "\n",
    "Title: **Lecture 12**\n",
    "<br>\n",
    "Speaker: **Dr. Shota Tsiskaridze**\n",
    "<br>\n",
    "Teaching Assistant: **Levan Sanadiradze**"
   ]
  },
  {
   "cell_type": "markdown",
   "metadata": {
    "slideshow": {
     "slide_type": "slide"
    }
   },
   "source": [
    "<h1 align=\"center\">Dimensionality Reduction</h1>"
   ]
  },
  {
   "cell_type": "markdown",
   "metadata": {
    "slideshow": {
     "slide_type": "slide"
    }
   },
   "source": [
    "<h3 align=\"center\">Principal Component Analysis (PCA)</h3>\n",
    "\n",
    "- **Principal Component Analysis (PCA)** is a dimensionality reduction technique that enables you to identify correlations and patterns in a data set so that it can be transformed into a data set of significantly lower dimension without loss of any important information.\n",
    "\n",
    "\n",
    "- The standard context for PCA as an exploratory data analysis tool involves a dataset with observations on $m$ numerical $vectors$, for each of $n$ $features$. \n",
    "\n",
    "\n",
    "- These $m$ numerical values define $n$-dimensional vectors $\\{x_1, ..., x_m\\}$, where $x_i = \\{x_{1i}, ..., x_{ni}\\}$ for $i = \\overline{1, m}$. ($x_{ij} \\in \\mathbb{R}$ for $i=\\overline{1,m}$ and $j=\\overline{1,n}$).\n",
    "\n",
    "\n",
    "- Or, equivalently, data is defined as $m \\times n$ data matrix $X =(x_{ij})$."
   ]
  },
  {
   "cell_type": "markdown",
   "metadata": {
    "slideshow": {
     "slide_type": "slide"
    }
   },
   "source": [
    "<h3 align=\"center\">Application of matrices for solving a system of linear equations</h3>\n",
    "\n",
    "- A general system of $m$ linear equations with $n$ unknowns can be written as:\n",
    "  \n",
    "  $$\\begin{matrix}\n",
    "\\alpha_{11} x_1 + \\alpha_{12} x_2 + \\cdots + \\alpha_{1n} x_n = b_1\\\\ \n",
    "\\alpha_{21} x_1 + \\alpha_{22} x_2 + \\cdots + \\alpha_{2n} x_n = b_2\\\\  \n",
    "\\vdots \\\\\n",
    "\\alpha_{m1} x_1 + \\alpha_{12} x_2 + \\cdots + \\alpha_{mn} x_n = b_m\n",
    "\\end{matrix}$$\n",
    "\n",
    "  where $x_1, ..., x_n$ are the unknowns, $\\alpha_{11}, ..., \\alpha_{mn}$ are the coefficients of the system, and $b_1, ..., b_m$ are the constant terms.\n",
    "\n",
    "\n",
    "- We can write this system of linear equations in the equivalent matrix form:\n",
    "  \n",
    "  $$Ax = b,$$\n",
    "  \n",
    "  \n",
    "  $$\\text{where } A = \n",
    "\\begin{bmatrix}\n",
    "\\alpha_{11} & \\alpha_{12} & \\cdots  & \\alpha_{1n} \\\\ \n",
    "\\alpha_{21} & \\alpha_{11} & \\cdots  & \\alpha_{2n} \\\\ \n",
    "\\vdots & \\vdots & \\ddots  & \\vdots \\\\ \n",
    "\\alpha_{n1} & \\alpha_{11} & \\cdots  & \\alpha_{nn} \n",
    "\\end{bmatrix}\n",
    "\\text{, }\n",
    "x = \n",
    "\\begin{bmatrix}\n",
    "x_1 \\\\ x_2 \\\\ \\vdots \\\\ x_n \\\\\n",
    "\\end{bmatrix}\n",
    "\\text{ and }\n",
    "b = \n",
    "\\begin{bmatrix}\n",
    "b_1 \\\\ b_2 \\\\ \\vdots \\\\ b_m \\\\\n",
    "\\end{bmatrix}\n",
    "$$"
   ]
  },
  {
   "cell_type": "markdown",
   "metadata": {
    "slideshow": {
     "slide_type": "subslide"
    }
   },
   "source": [
    "<h3 align=\"center\">Singular Value Decomposition (SVD)</h3>\n",
    "\n",
    "- The matrix $AA^T$ and $A^TA$ are very special in linear algebra, since they has next useful properties:\n",
    "  - they are symmetrical;\n",
    "  - they are square;\n",
    "  - both matrices have the same positive eigenvalues;\n",
    "  - both have the same rank: $\\rho(AA^T)=\\rho(A^TA)=\\rho(A)$;\n",
    "\n",
    "\n",
    "- Let $u_i$ and $v_i$ be the eigenvectors of $AA^T$ and $A^TA$ respectively: $(AA^T)u_i = \\sigma_i u_i$ and $(A^TA)v_i = \\sigma_i v_i$;\n",
    "\n",
    "\n",
    "- The eigenvectors $u_i$ and $v_i$ are called the $singular$ $vectors$ and the square roots of $\\sigma_i$ eigenvalues are called $singular$ $values$ of the matrix $A$."
   ]
  },
  {
   "cell_type": "markdown",
   "metadata": {
    "slideshow": {
     "slide_type": "subslide"
    }
   },
   "source": [
    "- **Theorem**:\n",
    "\n",
    "  Let $A$ be the matrix of the linear transformation $A$ over the $n$-dimensional vector space $\\mathcal{V}$. \n",
    "  \n",
    "  Then $A$ can be factorized as:\n",
    "\n",
    "  $$A = USV^T,$$\n",
    "  \n",
    "  where $U$ and $V$ are $m \\times r$ and $r \\times n$ orthogonal matrices.\n",
    "  \n",
    "  Matrices are orthogonal if $UU^T = U^TU = I$ and $VV^T = V^TV = I$, with eigenvectors chosen from $AA^T$ and $A^TA$ respectively.\n",
    "\n",
    "  $S$ is an $r \\times r$ diagonal matrix with elements equal to the **root of the positive eigenvalues** of $AA^T$ or $A^TA$."
   ]
  },
  {
   "cell_type": "markdown",
   "metadata": {
    "slideshow": {
     "slide_type": "fragment"
    }
   },
   "source": [
    "- **Proof**:\n",
    "\n",
    "  Lets consider the eigenvectors and eigenvalues of the matrix $AA^T$ and $A^TA$ :\n",
    "\n",
    "  $$AA^T u_i = \\sigma_i u_i \\text{, for } i =\\overline{1,m};$$\n",
    "  \n",
    "  $$A^TA v_i = \\sigma_i v_i \\text{, for } i =\\overline{1,n}.$$\n",
    "\n",
    "  We can write these equations in matrix form:\n",
    "\n",
    "  $$AA^T U = U S^2 \\text{ and } A^TA V = V S^2,$$\n",
    "\n",
    "  where $U = \\{u_1, ..., u_m\\}$, $V = \\{v_1, ..., v_n\\}$ and $S = diag(\\sigma_1, ... , \\sigma_r, 0, ..., 0).$<br>\n",
    "\n",
    "  Remembering, that $UU^T = I$ and $V^TV = I$, we have:\n",
    "\n",
    "  $$AA^T = U S^2 U^T = U S V^T V S U^T = (U S V^T)(U S V^T)^T.$$\n",
    "\n",
    "  Therefore, $A$ can be expressed in the form:\n",
    "\n",
    "  $$A = U S V^T.$$"
   ]
  },
  {
   "cell_type": "markdown",
   "metadata": {
    "slideshow": {
     "slide_type": "subslide"
    }
   },
   "source": [
    "<h3 align=\"center\">Visualisation of SVD</h3>\n",
    "\n",
    "- PCA can be thought of as **fitting** a $D$-**dimensional ellipsoid** to the data, where **each axis** of the ellipsoid represents a **principal component**. \n",
    "\n",
    "- If some **axis** of the ellipsoid is **small**, then the **variance** along that axis is **also small**.\n",
    "\n",
    "<img src=\"images/L12_SVD.jpg\" width=\"1500\" height=\"300\" alt=\"Example\" />"
   ]
  },
  {
   "cell_type": "markdown",
   "metadata": {
    "slideshow": {
     "slide_type": "subslide"
    }
   },
   "source": [
    "<h3 align=\"center\">Step by step computation of PCA</h3>\n",
    "\n",
    "The below steps need to be followed to perform dimensionality reduction using PCA:\n",
    "\n",
    "1. Standardization of the data set;\n",
    "\n",
    "2. Calculation of the covariance matrix;\n",
    "\n",
    "3. Calculation of the singular values and singular vectors and factorization of the covariance matrix;\n",
    "\n",
    "4. Calculation of the Prinipal omponents and reduction of the data set size;\n",
    "\n",
    "5. Data reconstruction from a reduced data set;\n",
    "\n",
    "6. Validation of the reconstricted data."
   ]
  },
  {
   "cell_type": "markdown",
   "metadata": {
    "slideshow": {
     "slide_type": "subslide"
    }
   },
   "source": [
    "<h3 align=\"center\">Step 1: Standardization of the data</h3>\n",
    "\n",
    "- The properties of PCA have some **undesirable features** when variables are measures in **different units**;\n",
    "\n",
    "\n",
    "- To **overcome** this undesirable feature, it is common practice to begin by **standardizing** the variables;\n",
    "\n",
    "\n",
    "- Standardization is carried out by replacing initial data matrix $X$ with the standardized data matrix $Y$;\n",
    "\n",
    "\n",
    "- Each data value $x_{ij}$ is both centered and divided by the standard deviation $s_j$ of the $n$ observations of the variable $j$:\n",
    "\n",
    "  $$y_{ij} = \\frac{x_{ij} - \\bar{x}_j}{s_j},$$\n",
    "\n",
    "  $$\\text{where } \\bar{x}_j = \\frac{1}{m}\\sum_{i=1}^{m} x_{ij} \\text{ and } s_j^2 = \\frac{1}{m-1} \\sum_{i=1}^{m}(x_{ij} - \\bar{x}_j)^2.$$"
   ]
  },
  {
   "cell_type": "markdown",
   "metadata": {
    "slideshow": {
     "slide_type": "subslide"
    }
   },
   "source": [
    "<h3 align=\"center\">Step 2: Computing the covariance matrix $\\Sigma$</h3>\n",
    "\n",
    "- A covariance matrix $\\Sigma$ expresses the **correlation between each two different features** in the data set:\n",
    "\n",
    "  $$\\Sigma =  \n",
    "\\begin{bmatrix}\n",
    "cov[y_1, y_1] & cov[y_1, y_2] & \\cdots & cov[y_1, y_n]\\\\\n",
    "cov[y_2, y_1] & cov[y_2, y_2] & \\cdots & cov[y_2, y_n]\\\\\n",
    "\\vdots & \\vdots & \\ddots & \\vdots\\\\ \n",
    "cov[y_n, y_1] & cov[y_m, y_2] & \\cdots & cov[y_n, y_n]\\\\ \n",
    "\\end{bmatrix}\n",
    ",$$\n",
    "\n",
    "  where where each element represents the **covariance between two features** (remember that $y_i$ are centered variables):\n",
    "$$cov[y_i, y_j] = \\frac{1}{m-1} \\sum_{k=1}^{m} (y_i)(y_j)^T.$$\n",
    "\n",
    "\n",
    "- If the covariance value is **negative**, then the respective features are **indirectly proportional** to each other;\n",
    "\n",
    "\n",
    "- A **positive** covariance denotes that the respective features are **directly proportional** to each other."
   ]
  },
  {
   "cell_type": "markdown",
   "metadata": {
    "slideshow": {
     "slide_type": "subslide"
    }
   },
   "source": [
    "<h3 align=\"center\">Step 3: Calculating the singular values and singular vectors</h3>\n",
    "\n",
    "- The next step is to factorize the matrix $\\Sigma$ using the SVD:\n",
    "\n",
    "  $$\\Sigma = U S V^T,$$\n",
    "\n",
    "\n",
    "- $U$ and $V$ are $n \\times n$ orthogonal matrices, i.e. $UU^T = U^TU = I$ and $VV^T = V^TV = I$,\n",
    "with singular vectors chosen from $\\Sigma\\Sigma^T$ and $\\Sigma^T\\Sigma$ respectively. \n",
    "\n",
    "\n",
    "-  The $S$ is an $n \\times n$ diagonal matrix with elements equal to the $\\sqrt{\\sigma_i}$ of the singular values of $\\Sigma\\Sigma^T$ or $\\Sigma^T\\Sigma$.\n",
    "\n",
    "\n",
    "-  Singular values are sorted in descending order: $\\sigma_1 \\geq \\sigma_2, .... \\geq \\sigma_n$."
   ]
  },
  {
   "cell_type": "markdown",
   "metadata": {
    "slideshow": {
     "slide_type": "subslide"
    }
   },
   "source": [
    "<h3 align=\"center\">Step 4: Computing the Principal Components (PC)</h3>\n",
    "\n",
    "- **Principal Components (PC)** are the new set of variables that are obtained from the initial set of variables;\n",
    "\n",
    "\n",
    "- Once we have computed the **singular values** and **singular vectors**, we order them in the **descending order**, where the singular vector with the **highest singular value** is the most significant and forms the first principal components.\n",
    "\n",
    "\n",
    "- The principal components of **lesser significances** can thus be **removed** in order to **reduce the dimensions** of the data.\n",
    "\n",
    "\n",
    "- Thus we take first $k \\leq n$ columns of $U$ and consider new matrix $U_k$:\n",
    "\n",
    "  $$U_k = \\{u_1, ..., u_k\\}.$$"
   ]
  },
  {
   "cell_type": "markdown",
   "metadata": {
    "slideshow": {
     "slide_type": "subslide"
    }
   },
   "source": [
    "<h3 align=\"center\">Step 5: Reducing the dimensions of the data set</h3>\n",
    "\n",
    "- The last step in performing PCA is to re-arrange the original data with the final principal components which represent the maximum and the most significant information of the data set. \n",
    "\n",
    "\n",
    "- In order to replace the original data axis with the newly formed Principal Components, you simply multiply the transpose of the original data set by the transpose of the obtained feature vector.\n",
    "\n",
    "\n",
    "- Thus newly formed Principal Components are:\n",
    "\n",
    "  $$z_i = U_k^T y_i.$$\n",
    "\n",
    "\n",
    "- Since $U_k^T \\in \\mathbb{R}^{k\\times n}$ and $y_i \\in \\mathbb{R}^{n}$, thus $z_i \\in \\mathbb{R}^{n}$."
   ]
  },
  {
   "cell_type": "markdown",
   "metadata": {
    "slideshow": {
     "slide_type": "subslide"
    }
   },
   "source": [
    "<h3 align=\"center\">Step 6: Validation of the reconstricted data</h3>\n",
    "\n",
    "- We can approximate the reconstruction of the original value by ${y_{i}}' = U_{k}z_{i}$ and compare it with the original value $y_i$:\n",
    "\n",
    "  $$\\frac{\n",
    "\\frac{1}{m}\\sum_{i=1}^{m} \\left \\| y_{i} - {y_{i}}' \\right \\|^{2}\n",
    "}{\n",
    "\\frac{1}{m}\\sum_{i=1}^{m} \\left \\| y_{i} \\right \\|^{2}\n",
    "} \\leq \\epsilon$$\n",
    "\n",
    "  where $\\epsilon$ is the $proportion \\text{ } of \\text{ } total \\text{ } variance$.\n",
    "\n",
    "  Using the next inequality:\n",
    "\n",
    "  $$\\frac{\n",
    "\\frac{1}{m}\\sum_{i=1}^{m}\\left \\| y_{i} - {y_{i}}' \\right \\|^{2}\n",
    "}{\n",
    "\\frac{1}{m}\\sum_{i=1}^{m}\\left \\| y_{i} \\right \\|^{2}\n",
    "} \\leq 1 -\n",
    "\\frac{\n",
    "\\sum_{i=1}^{k}S_{ii}\n",
    "}{\n",
    "\\sum_{j=1}^{n}S_{jj}\n",
    "},$$\n",
    "\n",
    "  we can write:\n",
    "\n",
    "  $$\\frac{\n",
    "\\sum_{i=1}^{k}S_{ii}\n",
    "}{\n",
    "\\sum_{j=1}^{n}S_{jj}\n",
    "} \\geq \\epsilon$$\n",
    "\n",
    "\n",
    "- It is common practice $\\epsilon = 70\\%$ is used to decide how many PCs should be retained."
   ]
  },
  {
   "cell_type": "code",
   "execution_count": 14,
   "metadata": {
    "scrolled": false
   },
   "outputs": [
    {
     "data": {
      "text/plain": [
       "<BarContainer object of 50 artists>"
      ]
     },
     "execution_count": 14,
     "metadata": {},
     "output_type": "execute_result"
    },
    {
     "data": {
      "image/png": "[encoded data removed]",
      "text/plain": [
       "<Figure size 432x288 with 1 Axes>"
      ]
     },
     "metadata": {
      "needs_background": "light"
     },
     "output_type": "display_data"
    }
   ],
   "source": []
  },
  {
   "cell_type": "markdown",
   "metadata": {
    "slideshow": {
     "slide_type": "slide"
    }
   },
   "source": [
    "\n",
    "<h1 align=\"center\">End of Lecture</h1>"
   ]
  }
 ],
 "metadata": {
  "kernelspec": {
   "display_name": "Python 3",
   "language": "python",
   "name": "python3"
  },
  "language_info": {
   "codemirror_mode": {
    "name": "ipython",
    "version": 3
   },
   "file_extension": ".py",
   "mimetype": "text/x-python",
   "name": "python",
   "nbconvert_exporter": "python",
   "pygments_lexer": "ipython3",
   "version": "3.7.3"
  }
 },
 "nbformat": 4,
 "nbformat_minor": 2
}
