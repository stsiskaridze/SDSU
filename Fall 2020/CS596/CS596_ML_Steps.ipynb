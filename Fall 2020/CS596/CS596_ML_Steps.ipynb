{
 "cells": [
  {
   "cell_type": "markdown",
   "metadata": {},
   "source": [
    "<h3 align=\"center\">ML Steps</h3>\n",
    "\n",
    "While we go into details, I would like to list the **steps** that ML go through in case of linear regression:\n",
    "\n",
    "1. **Loading the Data**, i.e. $\\mathbf{X}$ and $\\mathbf{y}$.\n",
    "\n",
    "\n",
    "2. **Exploring the Data**, i.e. perform **Exploratory Data Analysis (EDA)** for $\\mathbf{X}$ and $\\mathbf{y}$.\n",
    "\n",
    "\n",
    "3. **Slicing the Data**, i.e. split the data into **Train**, **Validation** and **Test** sets.\n",
    "\n",
    "\n",
    "4. **Choosing the Model**, i.e. identifying the form of the function $f(\\mathbf{x}, \\mathbf{w})$.\n",
    "\n",
    " \n",
    "5. **Defining the Cost function**, i.e. the way you measure the distance $E$ between observed $y$ and predicted $\\hat{y}$.\n",
    "\n",
    "\n",
    "6. **Finding the Extrema** of the Coss function, i.e. optimal values $\\hat{\\theta} = \\arg \\min_{\\theta} E(\\theta)$.\n",
    "\n",
    "\n",
    "7. **Evaluating the Accuracy**, i.e. run the model with optimal values of $\\hat{\\theta}$ on **Validation** set.\n",
    "\n",
    "\n",
    "8. **Revisiting Hyperparameters**, i.e. **optimize the hyperparameters** of the model and **re-run steps 4-7**.\n",
    "\n",
    "\n",
    "9. **Checking the Final Result**, i.e. run the obtained model on **Test** set and validate the accuracy."
   ]
  }
 ],
 "metadata": {
  "kernelspec": {
   "display_name": "Python 3",
   "language": "python",
   "name": "python3"
  },
  "language_info": {
   "codemirror_mode": {
    "name": "ipython",
    "version": 3
   },
   "file_extension": ".py",
   "mimetype": "text/x-python",
   "name": "python",
   "nbconvert_exporter": "python",
   "pygments_lexer": "ipython3",
   "version": "3.7.3"
  }
 },
 "nbformat": 4,
 "nbformat_minor": 2
}
