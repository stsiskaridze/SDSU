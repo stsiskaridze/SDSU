{
 "cells": [
  {
   "cell_type": "markdown",
   "metadata": {
    "slideshow": {
     "slide_type": "slide"
    }
   },
   "source": [
    "**CS596 - Machine Learning**\n",
    "<br>\n",
    "Date: **12 October 2020**\n",
    "<br>\n",
    "Title: **Seminar 5 - Midterm Exam 1A**\n",
    "<br>\n",
    "Speaker: **Dr. Shota Tsiskaridze**\n",
    "<br>\n",
    "Teaching Assistant: **Levan Sanadiradze**"
   ]
  },
  {
   "cell_type": "markdown",
   "metadata": {},
   "source": [
    "<h3 align=\"center\">Problem 1: Matrix Norms</h3>\n",
    "\n",
    "- Let's consider the matrix:\n",
    "\n",
    "$$A = \\begin{bmatrix}\n",
    "4 & 2 &  2 & 1\\\\ \n",
    "0 & 2 & -1 & -2 \n",
    "\\end{bmatrix}.$$\n",
    "\n",
    "\n",
    "- **Variant 1**. Calculate the following norms:\n",
    "  1. $\\left \\| A \\right \\|_1$\n",
    "  2. $\\left \\| A \\right \\|_{sum}$\n",
    "  3. $\\left \\| A \\right \\|_\\infty$\n",
    "  4. $\\left \\| A \\right \\|_{*}$\n",
    "  5. $\\left \\| A \\right \\|_{F}$\n",
    "  \n",
    "  \n",
    "- **Variant 3**. Calculate the following norms:\n",
    "  1. $\\left \\| A \\right \\|_1$\n",
    "  2. $\\left \\| A \\right \\|_\\infty$\n",
    "  3. $\\left \\| A \\right \\|_{sum}$\n",
    "  4. $\\left \\| A \\right \\|_{F}$\n",
    "  5. $\\left \\| A \\right \\|_{*}$"
   ]
  },
  {
   "cell_type": "markdown",
   "metadata": {},
   "source": [
    "<h3 align=\"center\">Problem 2: Naive Bayes Classifier</h3>\n",
    "\n",
    "- Given the symptoms and diagnoses of several examined patients:\n",
    "\n",
    "\n",
    "| Chills | Runny nose | Headache | Fever | Flu? |\n",
    "|:------:|------------|----------|-------|------|\n",
    "|   Yes  |     No     |   Mild   |  Yes  |  Yes  |\n",
    "|   Yes  |     Yes    |   Week   |   No  |  Yes |\n",
    "|   Yes  |     No     |  Strong  |  Yes  |  Yes |\n",
    "|   No   |     Yes    |   Mild   |  Yes  |  Yes |\n",
    "|   No   |     No     |   Week   |   No  |  No  |\n",
    "|   No   |     Yes    |  Strong  |  Yes  |  Yes |\n",
    "|   No   |     Yes    |  Strong  |   No  |  No  |\n",
    "|   Yes  |     Yes    |   Mild   |   No  |  Yes |\n",
    "\n",
    "- **Variant 1**. Suppose that we have a new patient with **chill**, **mild headache** and **no fever**, what is the probability that he has a **flu**?\n",
    "\n",
    "\n",
    "- **Variant 3**. Suppose that we have a new patient with **no chill**, **running nose**, **strong headache** and **fever**, what is the probability that he has a **flu**?\n",
    "\n",
    "- Perform the next steps:\n",
    "  1. Define the subsets $B_i$: $B = B_1 \\cup  B_2 \\cup \\cdots  \\cup  B_n$ and $A$;\n",
    "  2. Calculate the individual probabilities with respect to each feature of interest;\n",
    "  3. Apply **Laplace smoothing** if needed;\n",
    "  4. Calculate the total probability for $A$ and $\\overline{A}$;\n",
    "  5. Obtain the final probability."
   ]
  },
  {
   "cell_type": "markdown",
   "metadata": {
    "slideshow": {
     "slide_type": "subslide"
    }
   },
   "source": [
    "<h3 align=\"center\">Solution of Problem 2A</h3>\n",
    "\n",
    "0. Remember the Extended Naive Bayes's theorem:\n",
    "$$P(A|B) = \\frac{P(B|A)P(A)}{P(B|A)P(A) + P(B| \\overline{A})P(\\overline{A})};$$\n",
    "$$P(B|A) = P(B_1|A)\\times P(B_2|A)\\times P(B_3|A)\\times P(B_4|A)$$ \n",
    "$$P(B|\\overline{A}) = P(B_1|\\overline{A})\\times P(B_2|\\overline{A})\\times P(B_3|\\overline{A})\\times P(B_4|\\overline{A}).$$\n",
    "\n",
    "1. Define the subsets $B_i$: $B = B_1 \\cup  B_2 \\cup  B_3 \\cup  B_4$, where:\n",
    "\n",
    " - $B_1 : \\{ \\text{Text = \"A \"}\\}$;\n",
    " - $B_2 : \\{ \\text{Text = \"very\"}\\}$;\n",
    " - $B_3 : \\{ \\text{Text = \"close\"}\\}$;\n",
    " - $B_4 : \\{ \\text{Text = \"game\"}\\}$;\n",
    "\n",
    "2. Calculate the individual probabilities with respect to each feature of interest:\n",
    "\n",
    "|     Word    | Sports | Not Sports | P(Sports)         | P(Not Sports)         |\n",
    "|:-----------:|:---:|----|----------------|---------------|\n",
    "| a           |  2  |  1 | $\\frac{2}{11}$ | $\\frac{1}{9}$ |\n",
    "| great       |  1  |  0 |                |               |\n",
    "| very        |  1  |  0 | $\\frac{1}{11}$ | $\\frac{0}{9}$ |\n",
    "| over        |  0  |  1 |                |               |\n",
    "| it          |  0  |  1 |                |               |\n",
    "| but         |  1  |  0 |                |               |\n",
    "| game        |  2  |  0 | $\\frac{2}{11}$ | $\\frac{0}{9}$ |\n",
    "| election    |  0  |  2 |                |               |\n",
    "| clean       |  2  |  0 |                |               |\n",
    "| close       |  0  |  1 | $\\frac{0}{11}$ | $\\frac{1}{9}$ |\n",
    "| the         |  0  |  1 |                |               |\n",
    "| was         |  0  |  2 |                |               |\n",
    "| forgettable |  1  |  0 |                |               |\n",
    "| match       |  1  |  0 |                |               |\n",
    "| Total       |  11 |  9 |                |               |\n",
    "\n",
    "&emsp; &ensp; We run into a problem here: **“close” doesn’t appear in any Sports text**: \n",
    "<br> &emsp; &ensp; since in a multiplication **if one of the terms is zero**, the **whole probability is nullified**.\n",
    "\n",
    "3. Apply so called **Laplace smoothing**: we add $1$ to every count so it’s never zero:\n",
    "\n",
    "|     Word    | Sports | Not Sports | P(Sports)         | P(Not Sports)         |\n",
    "|:-----------:|:---:|----|----------------|---------------|\n",
    "| **a**       |  3  |  2 | $\\frac{3}{25}$ | $\\frac{2}{23}$ |\n",
    "| great       |  2  |  1 | $\\frac{2}{25}$ | $\\frac{1}{23}$ |\n",
    "| **very**    |  2  |  1 | $\\frac{2}{25}$ | $\\frac{1}{23}$ |\n",
    "| over        |  1  |  2 | $\\frac{1}{25}$ | $\\frac{2}{23}$ |\n",
    "| it          |  1  |  2 | $\\frac{1}{25}$ | $\\frac{2}{23}$ |\n",
    "| but         |  2  |  1 | $\\frac{2}{25}$ | $\\frac{1}{23}$ |\n",
    "| **game**    |  3  |  1 | $\\frac{3}{25}$ | $\\frac{1}{23}$ |\n",
    "| election    |  1  |  3 | $\\frac{1}{25}$ | $\\frac{3}{23}$ |\n",
    "| clean       |  3  |  1 | $\\frac{3}{25}$ | $\\frac{1}{23}$ |\n",
    "| **close**   |  1  |  2 | $\\frac{1}{25}$ | $\\frac{2}{23}$ |\n",
    "| the         |  1  |  2 | $\\frac{1}{25}$ | $\\frac{2}{23}$ |\n",
    "| was         |  1  |  3 | $\\frac{1}{25}$ | $\\frac{3}{23}$ |\n",
    "| forgettable |  2  |  1 | $\\frac{2}{25}$ | $\\frac{1}{23}$ |\n",
    "| match       |  2  |  1 | $\\frac{2}{25}$ | $\\frac{1}{23}$ |\n",
    "| Total       |  25 | 23 | 1 | 1 |\n",
    "\n",
    "4. Calculate the total probability for $A$ and $\\overline{A}$:\n",
    "\n",
    "|          | Tag    | Probability      |\n",
    "|:---------|:------:|:----------------:|\n",
    "| Sports   |   25   | $\\frac{25}{48}$  |\n",
    "|Not Sports|  23    | $\\frac{23}{48}$  |\n",
    "| Total    |   48   | 1                |\n",
    "\n",
    "\n",
    "5. Now we just multiply all the probabilities and obtain the result:\n",
    "\n",
    "$$P(A|B) = \\frac{ \\frac{3}{25} \\cdot \\frac{2}{25} \\cdot \\frac{3}{25} \\cdot \\frac{1}{25} \\cdot \\frac{25}{48} }\n",
    "{\\frac{3}{25} \\cdot \\frac{2}{25} \\cdot \\frac{3}{25} \\cdot \\frac{1}{25} \\frac{25}{48} + \n",
    " \\frac{2}{23} \\cdot \\frac{1}{23} \\cdot \\frac{1}{23} \\cdot \\frac{2}{23} \\frac{23}{48} } = 0.78$$\n",
    "\n",
    "&emsp; &ensp; Excellent! Our classifier gives “**A very close game**” the **Sports** tag with **78% probability**."
   ]
  },
  {
   "cell_type": "markdown",
   "metadata": {},
   "source": [
    "<h3 align=\"center\">Problem 3: The Multi-Class Cofusion Matrix</h3>\n",
    "\n",
    "- Given a **confusion matrix** for some classifier:\n",
    "\n",
    "![ME1_P1_1B.png](data:image/png;base64,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)\n",
    "\n",
    "- **Variant 2**. Calculate the following **metrics**:\n",
    "  1. **Sensitivity** (or **Recall**) of the classifier (**overall**);\n",
    "  2. **Specificity** of the classifier.\n",
    "  3. **Accuracy** of the classifier.\n",
    "  4. The **True Negative Rate** for the **class C**.\n",
    "  5. **Precision** for the **class B**.\n",
    "  \n",
    "\n",
    "\n",
    "- **Varian 4**.  Calculate the following **metrics**:\n",
    "  1. **Sensitivity** (or **Recall**) of the classifier (**overall**);\n",
    "  2. **Specificity** of the classifier.\n",
    "  3. **Accuracy** of the classifier.\n",
    "  4. The **True Negative Rate** for the **class A**.\n",
    "  5. **Precision** for the **class C**.\n",
    "\n",
    "\n",
    "- **Hint**: You can use the link: https://dev.to/overrideveloper/understanding-the-confusion-matrix-264i"
   ]
  },
  {
   "cell_type": "markdown",
   "metadata": {},
   "source": [
    "<h3 align=\"center\">Problem 4: Decision Tree</h3>\n",
    "\n",
    "- Problem will consist of classification problem which solution follows closely the Decision Tree algorithm described here:\n",
    "\n",
    "  https://medium.com/datadriveninvestor/decision-tree-algorithm-with-hands-on-example-e6c2afb40d38\n",
    "\n",
    "\n",
    "- Given the **symptoms** and **diagnoses** of several examined patients:\n",
    "\n",
    "| Runny nose | Headache | Fever | Flu? |\n",
    "|------------|----------|-------|------|\n",
    "|     No     |   Mild   |  Yes  |  Yes  |\n",
    "|     Yes    |   Week   |   No  |  Yes |\n",
    "|     No     |  Strong  |  Yes  |  Yes |\n",
    "|     Yes    |   Mild   |  Yes  |  Yes |\n",
    "|     No     |   Week   |   No  |  No  |\n",
    "|     Yes    |  Strong  |  Yes  |  Yes |\n",
    "|     Yes    |  Strong  |   No  |  No  |\n",
    "\n",
    "- **Problem Statement**:\n",
    "\n",
    "\n",
    "- **Varian 2**. Build **decision tree** using **ID3** algorithm for classification:\n",
    "\n",
    "\n",
    "- **Variant 4**. Build **decision tree** using **CART** algorithm for classification:\n",
    "\n",
    "  1. **Find** the **entropy** of class variable;\n",
    "  2. **Calculate** the **avarage weighted entropy** for each feature;\n",
    "  3. **Find** the **information gain** for each feature;\n",
    "  4. **Select** the **feature** having the **largest entropy gain** and **split** the **data table**.\n",
    "  5. **Repeat** the steps and  **find the next (all) nodes** in for the decision tree. **Build** the final **Decision Tree Diagramm**.\n",
    "  \n",
    "\n",
    "\n"
   ]
  },
  {
   "cell_type": "code",
   "execution_count": 2,
   "metadata": {},
   "outputs": [],
   "source": [
    "import numpy as np\n",
    "\n",
    "def Ent(x, y):\n",
    "    if x == 0 or y == 0:\n",
    "        z = 0\n",
    "    else:\n",
    "        z = -( x / (x + y) * np.log2(x / (x + y)) + y / (x + y) * np.log2(y / (x + y)))\n",
    "    return z"
   ]
  },
  {
   "cell_type": "code",
   "execution_count": 3,
   "metadata": {},
   "outputs": [
    {
     "data": {
      "text/plain": [
       "0.863120568566631"
      ]
     },
     "execution_count": 3,
     "metadata": {},
     "output_type": "execute_result"
    }
   ],
   "source": [
    "Y = 5\n",
    "N = 2\n",
    "T = Y + N\n",
    "\n",
    "E_S =  - ( Y/T * np.log2(Y/T) + N/T * np.log2(N/T) )\n",
    "E_S"
   ]
  },
  {
   "cell_type": "code",
   "execution_count": 5,
   "metadata": {
    "scrolled": true
   },
   "outputs": [
    {
     "data": {
      "text/plain": [
       "0.8571428571428571"
      ]
     },
     "execution_count": 5,
     "metadata": {},
     "output_type": "execute_result"
    }
   ],
   "source": [
    "YY = 3\n",
    "YN = 1\n",
    "NY = 1\n",
    "NN = 2\n",
    "\n",
    "YA = YY + YN\n",
    "NA = NY + NN\n",
    "TA = YA + NA\n",
    "\n",
    "E_SA =  YA/TA * Ent(YY, YN) + NA/TA * Ent(NY, NN)\n",
    "E_SA"
   ]
  },
  {
   "cell_type": "code",
   "execution_count": 7,
   "metadata": {
    "scrolled": true
   },
   "outputs": [
    {
     "data": {
      "text/plain": [
       "0.12808527889139443"
      ]
     },
     "execution_count": 7,
     "metadata": {},
     "output_type": "execute_result"
    }
   ],
   "source": [
    "IG = E_S - E_SA\n",
    "IG"
   ]
  },
  {
   "cell_type": "code",
   "execution_count": 13,
   "metadata": {},
   "outputs": [
    {
     "data": {
      "text/plain": [
       "0.9649839288804954"
      ]
     },
     "execution_count": 13,
     "metadata": {},
     "output_type": "execute_result"
    }
   ],
   "source": [
    "YY = 2\n",
    "YN = 1\n",
    "NY = 2\n",
    "NN = 2\n",
    "\n",
    "YA = YY + YN\n",
    "NA = NY + NN\n",
    "TA = YA + NA\n",
    "\n",
    "E_SA =  YA/TA * Ent(YY, YN) + NA/TA * Ent(NY, NN)\n",
    "E_SA"
   ]
  },
  {
   "cell_type": "code",
   "execution_count": 14,
   "metadata": {
    "scrolled": true
   },
   "outputs": [
    {
     "data": {
      "text/plain": [
       "0.020244207153756077"
      ]
     },
     "execution_count": 14,
     "metadata": {},
     "output_type": "execute_result"
    }
   ],
   "source": [
    "IG = E_S - E_SA\n",
    "IG"
   ]
  },
  {
   "cell_type": "code",
   "execution_count": 15,
   "metadata": {},
   "outputs": [],
   "source": [
    "WY = 1\n",
    "WN = 1\n",
    "MY = 1\n",
    "MN = 1\n",
    "SY = 2\n",
    "SN = 1\n",
    "\n",
    "WA = WY + WN\n",
    "MA = MY + MN\n",
    "SA = SY + SN\n",
    "TA = WA + MA + SA\n",
    "\n",
    "E_SA =  WA/TA * Ent(WY, WN) + MA/TA * Ent(MY, MN) + SA/TA * Ent(SY, SN)"
   ]
  },
  {
   "cell_type": "code",
   "execution_count": 16,
   "metadata": {
    "scrolled": true
   },
   "outputs": [
    {
     "data": {
      "text/plain": [
       "0.020244207153756077"
      ]
     },
     "execution_count": 16,
     "metadata": {},
     "output_type": "execute_result"
    }
   ],
   "source": [
    "IG = E_S - E_SA\n",
    "IG"
   ]
  },
  {
   "cell_type": "code",
   "execution_count": 17,
   "metadata": {},
   "outputs": [
    {
     "data": {
      "text/plain": [
       "0.8112781244591328"
      ]
     },
     "execution_count": 17,
     "metadata": {},
     "output_type": "execute_result"
    }
   ],
   "source": [
    "Y = 3\n",
    "N = 1\n",
    "T = Y + N\n",
    "\n",
    "E_S =  - ( Y/T * np.log2(Y/T) + N/T * np.log2(N/T) )\n",
    "E_S"
   ]
  },
  {
   "cell_type": "code",
   "execution_count": 18,
   "metadata": {
    "scrolled": true
   },
   "outputs": [
    {
     "data": {
      "text/plain": [
       "0.5"
      ]
     },
     "execution_count": 18,
     "metadata": {},
     "output_type": "execute_result"
    }
   ],
   "source": [
    "YY = 1\n",
    "YN = 1\n",
    "NY = 2\n",
    "NN = 0\n",
    "\n",
    "YA = YY + YN\n",
    "NA = NY + NN\n",
    "TA = YA + NA\n",
    "\n",
    "E_SA =  YA/TA * Ent(YY, YN) + NA/TA * Ent(NY, NN)\n",
    "E_SA"
   ]
  }
 ],
 "metadata": {
  "celltoolbar": "Slideshow",
  "kernelspec": {
   "display_name": "Python 3",
   "language": "python",
   "name": "python3"
  },
  "language_info": {
   "codemirror_mode": {
    "name": "ipython",
    "version": 3
   },
   "file_extension": ".py",
   "mimetype": "text/x-python",
   "name": "python",
   "nbconvert_exporter": "python",
   "pygments_lexer": "ipython3",
   "version": "3.7.3"
  }
 },
 "nbformat": 4,
 "nbformat_minor": 2
}
