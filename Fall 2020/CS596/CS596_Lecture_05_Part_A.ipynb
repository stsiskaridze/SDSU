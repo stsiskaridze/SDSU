{
 "cells": [
  {
   "cell_type": "markdown",
   "metadata": {
    "slideshow": {
     "slide_type": "slide"
    }
   },
   "source": [
    "**CS596 - Machine Learning**\n",
    "<br>\n",
    "Date: **23 September 2020**\n",
    "\n",
    "\n",
    "Title: **Lecture 5 - Part A**\n",
    "<br>\n",
    "Speaker: **Dr. Shota Tsiskaridze**\n",
    "<br>\n",
    "Teaching Assistant: **Levan Sanadiradze**\n",
    "\n",
    "Bibliography:\n"
   ]
  },
  {
   "cell_type": "markdown",
   "metadata": {
    "slideshow": {
     "slide_type": "slide"
    }
   },
   "source": [
    "<h1 align=\"center\">Naive Bayes Algorithm</h1>"
   ]
  },
  {
   "cell_type": "markdown",
   "metadata": {
    "slideshow": {
     "slide_type": "slide"
    }
   },
   "source": [
    "<h3 align=\"center\">Classification Problems</h3>\n",
    "\n",
    "- The goal in **classification** is to take an input vector $\\mathbf{x}$ and to assign it to one of $K$ discrete classes $\\mathcal{C}_k$ where $k = 1, ..., K$. \n",
    "\n",
    "\n",
    "- The classes are taken to be **disjoint**, so that each input is assigned to one and only one class.\n",
    "\n",
    "\n",
    "- The **input space** is thereby divided into **decision regions** whose boundaries are called **decision boundaries** or **decision surfaces**.\n",
    "\n",
    "\n",
    "- There are **three distinct approaches** to the classification problem:\n",
    "  - **constructing a discriminant function**, i.e. directly assigns each vector $\\mathbf{x}$  to a specific class. \n",
    "  - **directly modeling of the conditional probability$p(\\mathcal{C}_k |\\mathbf{x})$**, i.e. representing them as parametric models and then optimizing the parameters using a training set. \n",
    "  - **adopt a generative approach**, i.e. model the class-conditional densities given by $p(\\mathbf{x} |\\mathcal{C}_k)$, together with the prior probabilities $p(\\mathcal{C}_k)$ for the classes, and then compute the required posterior probabilities using Bayes’ theorem:\n",
    "  \n",
    "  $$p(\\mathcal{C}_k | \\mathbf{x}) = \\frac{p(\\mathbf{x} |\\mathcal{C}_k)p(\\mathcal{C}_k)}{p( \\mathbf{x})}$$"
   ]
  },
  {
   "cell_type": "markdown",
   "metadata": {
    "slideshow": {
     "slide_type": "slide"
    }
   },
   "source": [
    "<h3 align=\"center\">Conditional probability</h3>\n",
    "\n",
    "- Let $(\\Omega, \\Sigma, P)$ be a probability space and $A\\in \\Sigma$ and $B\\in \\Sigma$ are two events.\n",
    "\n",
    "\n",
    "- The **conditional probability** of $A$ given $B$ is defined as the quotient of the probability of the joint of events $A$ and $B$, and the probability of $B$.\n",
    "\n",
    "  In other words, if $P(B) \\gt 0$, then **conditional probability** of $A$ given $B$ is given as:\n",
    "\n",
    "  $$P(A|B) = \\frac{P(A\\cap B)}{P(B)}.$$"
   ]
  },
  {
   "cell_type": "markdown",
   "metadata": {
    "slideshow": {
     "slide_type": "slide"
    }
   },
   "source": [
    "<h3 align=\"center\">Bayes' Theorem</h3>\n",
    "\n",
    "- Let $(\\Omega, \\Sigma, P)$ be a probability space and $A\\in \\Sigma$ and $B\\in \\Sigma$ are two events.\n",
    "\n",
    "\n",
    "- **Bayes’ theorem** is stated mathematically as the following equation:\n",
    "\n",
    "  $$P(A|B) = \\frac{P(B|A)P(A)}{P(B)},$$\n",
    "  \n",
    "  where:\n",
    "    - $P(A|B)$ is a conditional probability of occurring $A$ given that $B$ is true;\n",
    "    - $P(B|A)$ is a conditional probability of occurring $B$ given that $A$ is true;\n",
    "    - $P(A)$ and $P(B)$ are the probabilities of observing $A$ and $B$ respectively.\n"
   ]
  },
  {
   "cell_type": "markdown",
   "metadata": {
    "slideshow": {
     "slide_type": "fragment"
    }
   },
   "source": [
    "- **Proof**. \n",
    "\n",
    "  We can rewrite the definitions of $P(A|B)$ and $P(B|A)$ in the following forms:\n",
    "\n",
    "  $$P(A|B)P(B) = P(A \\cap B) \\text{ and } P(B|A)P(A) = P(B \\cap A).$$\n",
    "\n",
    "  Equating the two yields, we get $P(A|B)P(B) = P(A \\cap B) = P(B \\cap A) = P(B|A)P(A)$, and thus: \n",
    "\n",
    "  $$P(A|B) = \\frac{P(B|A)P(A)}{P(B)}.$$"
   ]
  },
  {
   "cell_type": "markdown",
   "metadata": {
    "slideshow": {
     "slide_type": "subslide"
    }
   },
   "source": [
    "<h3 align=\"center\">Example</h3>\n",
    "\n",
    "- **Chris Wiggins**, an associate professor of applied mathematics at **Columbia University**, posed the following problem in an article in **Scientific American** (<a href = 'https://www.scientificamerican.com/article/what-is-bayess-theorem-an/'>Link to the article in Scientific American</a>):\n",
    "\n",
    "\n",
    "- **Problem**: A patient goes to see a doctor. The doctor performs a test with **99%** reliability - that is, **99%** of people who are sick test positive and **99%** of the healthy people test negative. The doctor knows that only **1%** of the people in the country are sick. Now the question is: **if the patient tests positive, what are the chances the patient is sick?**\n",
    "\n",
    "\n",
    "- The intuitive answer is **99 %**, but the correct answer is **50 %**."
   ]
  },
  {
   "cell_type": "markdown",
   "metadata": {
    "slideshow": {
     "slide_type": "subslide"
    }
   },
   "source": [
    "- **Solution**. \n",
    "\n",
    "  Wiggins's explanation can be summarized with the help of the following table which illustrates the scenario in a hypothetical population of $10,000$ people:\n",
    "\n",
    "|      | Diseased | Not Diseased |     |\n",
    "|:----:|:--------:|:------------:|:---:|\n",
    "|test +| 99       | 99           | 198 | \n",
    "|test -| 1        | 9801         | 9802| \n",
    "|      | 100      | 9900         |10000|\n",
    "\n",
    "\n",
    "- We want to know the probability of disease $(A)$ given that the patient has a positive test $(B)$, i.e. $P(A|B).$\n",
    "\n",
    "\n",
    "- We know that the unconditional probability of disease is $1\\%$, i.e. $P(A) = 0.01$;\n",
    "\n",
    "\n",
    "- The unconditional probability of a positive test is $P(B) = 198/10000 = 0.0198$;\n",
    "\n",
    "\n",
    "- We also know the sensitivity of the test is $99\\%$, i.e. $P(B | A) = 0.99$.\n",
    "\n",
    "\n",
    "- Using the Bayes's Theorem we get:\n",
    "\n",
    "  $$P(A|B)= \\frac{P(B|A)P(A)}{P(B)} = \\frac{0.99 \\cdot 0.01}{0.0198} = \\frac{1}{2} = 50\\%.$$\n",
    "\n",
    " "
   ]
  },
  {
   "cell_type": "markdown",
   "metadata": {
    "slideshow": {
     "slide_type": "subslide"
    }
   },
   "source": [
    "<h3 align=\"center\">Extended Bayes' Theorem</h3>\n",
    "\n",
    "- Let $(\\Omega, \\Sigma, P)$ be a probability space.\n",
    "\n",
    "\n",
    "- **Extended Bayes' theorem**:\n",
    "\n",
    "  If $B_1, B_2, \\dots, B_n$ are conditionally independent events given $A$, such that $P(B_i) > 0$ for each $i \\in \\{1, 2, 3, \\dots , n \\}$ and $P(A)>0$, then:\n",
    "\n",
    "  $$P(A | B) = \n",
    "\\frac{P(B_1|A) \\times \\cdots \\times  P(B_n|A) \\times P(A)}{P(B_1|A) \\times \\cdots \\times P(B_n|A) \\times P(A) + P(B_1|\\overline{A}) \\times \\cdots \\times  P(B_n|\\overline{A}) \\times P(\\overline{A})},$$\n",
    "\n",
    "  where $\\overline{A} = \\Omega \\setminus A$ and $B = B_1 \\cap B_2 \\cap \\dots \\cap B_n$."
   ]
  },
  {
   "cell_type": "markdown",
   "metadata": {
    "slideshow": {
     "slide_type": "subslide"
    }
   },
   "source": [
    "<h3 align=\"center\">Example</h3>\n",
    "\n",
    "- Suppose we have a data set that describes the weather conditions for playing a **game of golf**:\n",
    "  - Weather conditions: **Outlook, Temperature, Humidity, Wind**.\n",
    "  - Each tuple classifies the conditions as **fit** (**Yes**) or **unfit** (**No**) for **Playing** golf.\n",
    "\n",
    "| Day |  Outlook | Temperature | Humidity | Wind   | Play |\n",
    "|:---:|:--------:|:-----------:|:--------:|:------:|:----:|\n",
    "|  0  |   Sunny  |     Hot     | High     | Weak   | No   |\n",
    "|  1  |   Sunny  |     Hot     | High     | Strong | No   |\n",
    "|  2  | Overcast |     Hot     | High     | Weak   | Yes  |\n",
    "| 3   | Rain     | Mild        | High     | Weak   | Yes  |\n",
    "| 4   | Rain     | Cool        | Normal   | Weak   | Yes  |\n",
    "| 5   | Rain     | Cool        | Normal   | Strong | No   |\n",
    "| 6   | Overcast | Cool        | Normal   | Strong | Yes  |\n",
    "| 7   | Sunny    | Mild        | High     | Weak   | No   |\n",
    "| 8   | Sunny    | Cool        | Normal   | Weak   | Yes  |\n",
    "| 9   | Rain     | Mild        | Normal   | Weak   | Yes  |\n",
    "| 10  | Sunny    | Mild        | Normal   | Strong | Yes  |\n",
    "| 11  | Overcast | Mild        | High     | Strong | Yes  |\n",
    "| 12  | Overcast | Hot         | Normal   | Weak   | Yes  |\n",
    "| 13  | Rain     | Mild        | High     | Strong | No   |\n"
   ]
  },
  {
   "cell_type": "markdown",
   "metadata": {
    "slideshow": {
     "slide_type": "subslide"
    }
   },
   "source": [
    "- Now, suppose we have a **Day** with the following values:\n",
    "  - **Outlook** = **Sunny**\n",
    "  - **Temperature** = **Cool**\n",
    "  - **Humidity** = **High**\n",
    "  - **Windy** = **Strong**\n",
    "\n",
    "- So, with the data, we have to predict whether \"we can **Play** on that day or not.\""
   ]
  },
  {
   "cell_type": "markdown",
   "metadata": {
    "slideshow": {
     "slide_type": "fragment"
    }
   },
   "source": [
    "- **What are the events in our case?**\n",
    "  - $A \\text{  }: \\{ \\text{ Play = Yes}\\}$\n",
    "  - $B_1 : \\{ \\text{Outlook = Sunny}\\}$\n",
    "  - $B_2 : \\{ \\text{Temperature = Cool}\\}$\n",
    "  - $B_3 : \\{ \\text{Humidity = High}\\}$\n",
    "  - $B_4 : \\{ \\text{Wind = Strong}\\}$"
   ]
  },
  {
   "cell_type": "markdown",
   "metadata": {
    "slideshow": {
     "slide_type": "subslide"
    }
   },
   "source": [
    "- First, we need to calculate **individual probabilities** with respect to each weather conditions (feature):\n",
    "\n",
    "|  Outlook |     |    |               |               |$|$| Temperature |     |    |               |               |\n",
    "|:---------|:---:|:--:|:-------------:|:-------------:|---|:------------|:---:|:--:|:-------------:|:-------------:|\n",
    "|          | Yes | No |     P(Yes)    |     P(No)     |$|$|             | Yes | No |     P(Yes)    |     P(No)     |\n",
    "|   Sunny  |  2  |  3 | $\\frac{2}{9}$ | $\\frac{3}{5}$ |$|$|     Hot     |  2  |  2 | $\\frac{2}{9}$ | $\\frac{2}{5}$ |\n",
    "| Overcast |  4  |  0 | $\\frac{4}{9}$ | $\\frac{0}{5}$ |$|$|     Mild    |  4  |  2 | $\\frac{4}{9}$ | $\\frac{2}{5}$ |\n",
    "|   Rainy  |  3  |  2 | $\\frac{3}{9}$ | $\\frac{2}{5}$ |$|$|     Cool    |  3  |  1 | $\\frac{3}{9}$ | $\\frac{1}{5}$ |\n",
    "|   Total  |  9  |  5 |       1       |       1       |$|$|    Total    |  9  |  5 |       1       |       1       |\n",
    "\n",
    "| Humidity |     |    |               |               |$|$| Wind  |     |    |               |               |\n",
    "|:---------|:---:|:--:|:-------------:|:-------------:|---|:------|:---:|:--:|:-------------:|:-------------:|\n",
    "|          | Yes | No |     P(Yes)    |     P(No)     |$|$|       | Yes | No |     P(Yes)    |     P(No)     |\n",
    "|   High   |  3  |  4 | $\\frac{3}{9}$ | $\\frac{4}{5}$ |$|$|Strong |  3  |  3 | $\\frac{3}{9}$ | $\\frac{3}{5}$ |\n",
    "|   Norm   |  6  |  1 | $\\frac{6}{9}$ | $\\frac{1}{5}$ |$|$| Weak  |  6  |  2 | $\\frac{6}{9}$ | $\\frac{2}{5}$ |\n",
    "|   Total  |  9  |  5 |       1       |       1       |$|$| Total |  9  |  5 |       1       |       1       |\n",
    "\n",
    "|       | Play |   Probability  |\n",
    "|:-----:|:----:|:--------------:|\n",
    "|  Yes  |   9  | $\\frac{9}{14}$ |\n",
    "|   No  |   6  | $\\frac{5}{14}$ |\n",
    "| Total |  14  |        1       |"
   ]
  },
  {
   "cell_type": "markdown",
   "metadata": {
    "slideshow": {
     "slide_type": "subslide"
    }
   },
   "source": [
    "- Second, we need to write down the **conditional probabilites** for our instance:\n",
    "\n",
    "| | |\n",
    "|:-:|:-:|\n",
    "|$P(B_1|A) = \\frac{2}{9}$|  $P(B_1|\\overline{A}) = \\frac{3}{5}$|\n",
    "|$P(B_2|A) = \\frac{3}{9}$| $P(B_2|\\overline{A}) = \\frac{1}{5}$|\n",
    "|$P(B_3|A) = \\frac{3}{9}$| $P(B_3|\\overline{A}) = \\frac{4}{5}$|\n",
    "|$P(B_4|A) = \\frac{3}{9}$| $P(B_4|\\overline{A}) = \\frac{3}{5}$|\n",
    "|$P(A) = \\frac{9}{14}$| $P(\\overline{A}) = \\frac{5}{14}$|\n",
    "\n",
    "- Third, we use the **Extended Bayes' Theorem** and obtain the final probability:\n",
    "\n",
    "$$P(A|B) = \\frac{\n",
    "\\frac{2}{9} \\frac{3}{9} \\frac{3}{9} \\frac{3}{9} \\frac{9}{14}\n",
    "}{\n",
    "\\frac{2}{9} \\frac{3}{9} \\frac{3}{9} \\frac{3}{9} \\frac{9}{14} + \\frac{3}{5} \\frac{1}{5} \\frac{4}{5} \\frac{3}{5} \\frac{5}{14}\n",
    "} = 0.20$$\n"
   ]
  },
  {
   "cell_type": "code",
   "execution_count": 1,
   "metadata": {
    "slideshow": {
     "slide_type": "fragment"
    }
   },
   "outputs": [
    {
     "data": {
      "text/plain": [
       "0.204582651391162"
      ]
     },
     "execution_count": 1,
     "metadata": {},
     "output_type": "execute_result"
    }
   ],
   "source": [
    "P = (2/9 * 3/9 * 3/9 * 3/9 * 9/14)/(2/9 * 3/9 * 3/9 * 3/9 * 9/14 + 3/5 * 1/5 * 4/5 * 3/5 * 5/14)\n",
    "P"
   ]
  },
  {
   "cell_type": "markdown",
   "metadata": {
    "slideshow": {
     "slide_type": "slide"
    }
   },
   "source": [
    "\n",
    "<h1 align=\"center\">End of Part A</h1>"
   ]
  }
 ],
 "metadata": {
  "celltoolbar": "Slideshow",
  "kernelspec": {
   "display_name": "Python 3",
   "language": "python",
   "name": "python3"
  },
  "language_info": {
   "codemirror_mode": {
    "name": "ipython",
    "version": 3
   },
   "file_extension": ".py",
   "mimetype": "text/x-python",
   "name": "python",
   "nbconvert_exporter": "python",
   "pygments_lexer": "ipython3",
   "version": "3.7.3"
  }
 },
 "nbformat": 4,
 "nbformat_minor": 2
}
