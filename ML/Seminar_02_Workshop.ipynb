{
 "cells": [
  {
   "cell_type": "markdown",
   "metadata": {
    "slideshow": {
     "slide_type": "slide"
    }
   },
   "source": [
    "**CS596 - Machine Learning**\n",
    "<br>\n",
    "Date: **14 September 2020**\n",
    "\n",
    "\n",
    "Title: **Seminar 2: Linear Regression (Part 2)**\n",
    "<br>\n",
    "Speaker: **Dr. Shota Tsiskaridze**\n",
    "<br>\n",
    "Teaching Assistant: **Levan Sanadiradze**"
   ]
  },
  {
   "cell_type": "code",
   "execution_count": 1,
   "metadata": {},
   "outputs": [],
   "source": [
    "%load_ext autoreload\n",
    "%autoreload 2\n",
    "%matplotlib inline"
   ]
  },
  {
   "cell_type": "markdown",
   "metadata": {
    "slideshow": {
     "slide_type": "slide"
    }
   },
   "source": [
    "<h2 align=\"center\">Workshop</h2>"
   ]
  },
  {
   "cell_type": "markdown",
   "metadata": {
    "slideshow": {
     "slide_type": "slide"
    }
   },
   "source": [
    "<h3 align=\"center\">Land Price</h3>\n",
    "\n",
    "- Lets consider the **toy linear regression problem**.\n",
    "\n",
    "- We are going to predict a **land price** (for simplicity, suppose its **quadratic**, i.e **X by X square** meters) given the **length of its side** (in meters).\n",
    "\n",
    "- We assume that true **dependence** between the **length of land's side** and its **price** is given by **quadratic equation**:\n",
    "\n",
    "  $$y = f(x) = a \\cdot x^2 + b \\cdot x + c > 0,$$\n",
    "\n",
    "  where $x$ is the length of land's side and $y$ is its price.\n",
    "\n",
    "\n",
    "- We also assume that our **observations are noisy**, and we model this noise by adding a **normally distributed (Gaussian)** term $\\varepsilon$ to our quadratic equation."
   ]
  },
  {
   "cell_type": "markdown",
   "metadata": {},
   "source": [
    "- Your tast is to:\n",
    "  - Generate the dataset with size $n$ and some values of $a$, $b$ and $c$.\n",
    "  - Generate the **Gaussian Noise** $e$.\n",
    "  - Create the **target** variables.\n",
    "  - **Select** the Linear Regerssion **model**.\n",
    "  - **Fit** the data.\n",
    "  - Evaluate the accuracy.\n",
    "  - Plot Results!"
   ]
  }
 ],
 "metadata": {
  "kernelspec": {
   "display_name": "Python 3",
   "language": "python",
   "name": "python3"
  },
  "language_info": {
   "codemirror_mode": {
    "name": "ipython",
    "version": 3
   },
   "file_extension": ".py",
   "mimetype": "text/x-python",
   "name": "python",
   "nbconvert_exporter": "python",
   "pygments_lexer": "ipython3",
   "version": "3.8.5"
  }
 },
 "nbformat": 4,
 "nbformat_minor": 2
}
