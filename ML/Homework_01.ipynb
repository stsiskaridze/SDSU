{
 "cells": [
  {
   "cell_type": "markdown",
   "metadata": {
    "slideshow": {
     "slide_type": "slide"
    }
   },
   "source": [
    "Course: **Machine Learning**\n",
    "\n",
    "Title: **Homework 1**\n",
    "\n",
    "Homework will be evaluated maximum by **4 points**.\n",
    "<br>\n",
    "Each problem is **one point**. "
   ]
  },
  {
   "cell_type": "markdown",
   "metadata": {
    "slideshow": {
     "slide_type": "slide"
    }
   },
   "source": [
    "<h3 align=\"center\">Problem 1: Matrix Norms</h3>\n",
    "\n",
    "- Given the matrix from the form:\n",
    "\n",
    "  $$A = \\begin{bmatrix}\n",
    "2 & -1 &  0\\\\ \n",
    "-1 & 1 & 1 \\\\\n",
    "0 & 1 & 2 \n",
    "\\end{bmatrix}.$$\n",
    "\n",
    "- Calculate the following matrix norms:\n",
    "  1. $\\left \\| A \\right \\|_1$\n",
    "  2. $\\left \\| A \\right \\|_\\infty$\n",
    "  3. $\\left \\| A \\right \\|_{sum}$\n",
    "  4. $\\left \\| A \\right \\|_{F}$\n",
    "  5. $\\left \\| A \\right \\|_{*}$\n",
    " \n",
    " \n",
    "- **Hint**: you can use the <a href=\"https://sdsu.instructure.com/courses/92599/modules/items/1330214\">Revised materials.</a>"
   ]
  },
  {
   "cell_type": "markdown",
   "metadata": {
    "slideshow": {
     "slide_type": "slide"
    }
   },
   "source": [
    "<h3 align=\"center\">Problem 2: Vandermonde Matrix</h3>\n",
    "\n",
    "- In linear algebra, a **Vandermonde matrix**, is a an $m \\times n$ matrix with the terms of a geometric progression in each row\n",
    "\n",
    "  $$\n",
    "V = \n",
    "\\begin{bmatrix}\n",
    "1      & \\alpha_1 & \\alpha_1^2 & \\cdots & \\alpha_1^{n-1}\\\\ \n",
    "1      & \\alpha_2 & \\alpha_2^2 & \\cdots & \\alpha_2^{n-1}\\\\ \n",
    "1      & \\alpha_3 & \\alpha_2^2 & \\cdots & \\alpha_3^{n-1}\\\\ \n",
    "\\vdots & \\vdots   & \\vdots     & \\ddots & \\alpha_4^{n-1}\\\\ \n",
    "1      & \\alpha_m & \\alpha_m^2 & \\cdots & \\alpha_m^{n-1}\n",
    "\\end{bmatrix}.$$\n",
    "\n",
    "\n",
    "1. Derive the expression for the **determinant** of the **square Vandermonde matrix** (where $m = n$):\n",
    "\n",
    "  $$det(V) = \\prod_{1 \\leq i < j \\leq n} (\\alpha_i - \\alpha_j).$$\n",
    "\n",
    "\n",
    "2. Write **Python code** that demonstrates the **impossibility of computing the inverse of the Vandermonde matrix**.\n",
    "\n",
    "\n",
    "- **Hint**: Consider the case where $\\alpha_k = p^k$ for $k = 1, 2, \\cdots, m$ and $p\\in (0,1)$."
   ]
  },
  {
   "cell_type": "markdown",
   "metadata": {
    "slideshow": {
     "slide_type": "slide"
    }
   },
   "source": [
    "<h3 align=\"center\">Problem 3: The Multi-Class Cofusion Matrix</h3>\n",
    "\n",
    "- Given a **confusion matrix** for some classifier:\n",
    "\n",
    "  <img src=\"images/H1_CM3.png\" width=\"300\" alt=\"Example\" />\n",
    "\n",
    "\n",
    "- Calculate the following **metrics**:\n",
    "  1. The number of **True Positive** predictions (**overall**);\n",
    "  2. The number of **False Positive** predictions for **class A**.\n",
    "  3. The **True Positive Rate** for the **class A**.\n",
    "  4. **Precision** for the **class A**.\n",
    "  5. **Accuracy** of the classifier.\n",
    "  \n",
    "  \n",
    "- **Hint**: you can use the article <a href=\"https://sdsu.instructure.com/files/3727774/download?download_frd=1\">\"Confusion Matrix for Your Multi-Class Machine Learning Model\"</a>."
   ]
  },
  {
   "cell_type": "markdown",
   "metadata": {
    "slideshow": {
     "slide_type": "slide"
    }
   },
   "source": [
    "<h3 align=\"center\">Problem 4: Finding the Extrema</h3>\n",
    "\n",
    "- Find the **extrema** (i.e. **extreme values**) of the function:\n",
    "\n",
    "  $$z = x^2 - 4xy + 8 y^2$$\n",
    "\n",
    "  by performing the steps:\n",
    "\n",
    "  1. Compute the **gradient** of the function, i.e. the **first order partial derivatives**:\n",
    "\n",
    "    $$\\nabla z(x,y) = \\left [ \\frac{\\partial z(x,y)}{ \\partial x}, \\frac{\\partial z(x,y)}{ \\partial y} \\right ];$$\n",
    "\n",
    "  2. Validate that:\n",
    "\n",
    "    $$\\frac{\\partial^2 z}{ \\partial x \\partial y} = \\frac{\\partial^2 z}{ \\partial y \\partial x};$$\n",
    "\n",
    "  3. Find the **critical points** $z_i = (x_i, y_i)$ from the equation: \n",
    "\n",
    "    $$\n",
    "\\nabla z(x,y) = 0 \\Rightarrow\n",
    "\\left\\{\\begin{matrix}\n",
    "\\frac{\\partial z(x,y)}{\\partial x} = 0\\\\ \n",
    "\\frac{\\partial z(x,y)}{\\partial y} = 0\n",
    "\\end{matrix}\\right.\n",
    ";$$\n",
    "\n",
    "  4. Find the **second order partial derivatives** $\\frac{\\partial^2 z}{ \\partial x^2}$ and $\\frac{\\partial^2 z}{ \\partial y^2}$;\n",
    "\n",
    "  5. For each critical point $z_i = (x_i, y_i)$ build the **Hessian Matrix**: \n",
    "\n",
    "    $$\n",
    "H(x,y) = \\begin{bmatrix}\n",
    "\\frac{\\partial^2 z}{\\partial x^2}(x_i,y_i) & \\frac{\\partial^2 z}{\\partial y \\partial x}(x_i,y_i)\\\\ \n",
    "\\frac{\\partial^2 z}{\\partial x \\partial y}(x_i,y_i) & \\frac{\\partial^2 z}{\\partial y^2}(x_i,y_i) \n",
    "\\end{bmatrix}\n",
    ",$$\n",
    "\n",
    "    calculate the eigenvalues and categorize the critical points, i.e. **local minimum**, **local maximum** or **saddle point**.\n"
   ]
  },
  {
   "cell_type": "markdown",
   "metadata": {
    "slideshow": {
     "slide_type": "slide"
    }
   },
   "source": [
    "<h3 align=\"center\">Extra Problem: Gradient Descent Method</h3>\n",
    "\n",
    "- Given a function of two variables: \n",
    "\n",
    "  $$f(x,y) = x^2 + 2y^2 + e^{x+y}.$$\n",
    "\n",
    "\n",
    "- Find the minimum of this function using the gradient descent method. As an input data, take the following conditions:\n",
    "  - starting point: $(0,0)$;\n",
    "  - step size multiplier: $0.1$;\n",
    "  - precision (absolute value of gradient): $0.05$.\n",
    "\n",
    "\n",
    "- How many iterations are necessary to obtain the required precision? (**write python code**)."
   ]
  }
 ],
 "metadata": {
  "celltoolbar": "Slideshow",
  "kernelspec": {
   "display_name": "Python 3",
   "language": "python",
   "name": "python3"
  },
  "language_info": {
   "codemirror_mode": {
    "name": "ipython",
    "version": 3
   },
   "file_extension": ".py",
   "mimetype": "text/x-python",
   "name": "python",
   "nbconvert_exporter": "python",
   "pygments_lexer": "ipython3",
   "version": "3.8.5"
  }
 },
 "nbformat": 4,
 "nbformat_minor": 2
}
