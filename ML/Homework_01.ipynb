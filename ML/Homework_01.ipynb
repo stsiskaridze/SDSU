{
 "cells": [
  {
   "cell_type": "markdown",
   "metadata": {
    "slideshow": {
     "slide_type": "slide"
    }
   },
   "source": [
    "Coruse: **Algorithms and Their Analysis**\n",
    "\n",
    "Title: **Homework 1**\n",
    "\n",
    "\n",
    "Homework will be evaluated maximum by **4 points**.\n",
    "<br>\n",
    "Each problem is **one point**. "
   ]
  },
  {
   "cell_type": "markdown",
   "metadata": {
    "slideshow": {
     "slide_type": "slide"
    }
   },
   "source": [
    "<h3 align=\"center\">Problem 1: Common Big O Running Times</h3>\n",
    "\n",
    "- For each function $f(n)$ and time $t$ in the following table, determine the largest **size** $n$ of a problem that can be solved in **time** $t$, assuming that the algorithm to solve the problem takes $f(n)$ microseconds.\n",
    "\n",
    "|            | 1 second | 1 minute | 1 hour | 1 day | 1 month | 1 year | 1 century |\n",
    "|:----------:|----------|----------|--------|-------|---------|--------|-----------|\n",
    "|   $\\lg n$  |          |          |        |       |         |        |           |\n",
    "| $\\sqrt{n}$ |          |          |        |       |         |        |           |\n",
    "|     $n$    |          |          |        |       |         |        |           |\n",
    "|  $n \\lg n$ |          |          |        |       |         |        |           |\n",
    "|    $n^2$   |          |          |        |       |         |        |           |\n",
    "|    $n^3$   |          |          |        |       |         |        |           |\n",
    "|    $2^n$   |          |          |        |       |         |        |           |\n",
    "|    $n!$    |          |          |        |       |         |        |           |"
   ]
  },
  {
   "cell_type": "markdown",
   "metadata": {
    "slideshow": {
     "slide_type": "slide"
    }
   },
   "source": [
    "<h3 align=\"center\">Problem 2: Horner’s Rule</h3>\n",
    "\n",
    "- The following expression shows **Horner’s rule** for evaluating a polynomial:\n",
    "\n",
    "  $$p(x) = \\sum_{i=0}^n a_i x^i = a_0 + a_1 x + \\cdots + a_d x^n = $$\n",
    "  $$ = a_0 + x(a_1 + x(a_2 + \\cdots + x(a_{n-1} + a_d x)\\cdots )),$$\n",
    "  \n",
    "  given the coefficients $a_0, a_1, \\cdots , a_n$ and a value for $x$.\n",
    "\n",
    "\n",
    "1. **Write a code** to implement the **Horner’s rule** polynomial-evaluation algorithm.\n",
    "\n",
    "2. In terms of $\\Theta$-notation, what is the running time of your code?\n",
    "\n",
    "3. **Write a code** to implement the **naive** polynomial-evaluation algorithm that **computes each term of the polynomial** from scratch.\n",
    "\n",
    "4. What is the **running time** of this algorithm? How does it compare to **Horner’s rule**?"
   ]
  },
  {
   "cell_type": "markdown",
   "metadata": {
    "slideshow": {
     "slide_type": "slide"
    }
   },
   "source": [
    "<h3 align=\"center\">Problem 3: Towers of Hanoi</h3>\n",
    "\n",
    "- The **Tower of Hanoi** is a mathematical game or puzzle.\n",
    "\n",
    "<center><img src=\"images/H1_Hanoi_Tower.png\" width=\"400\" alt=\"Example\" /></center>\n",
    "\n",
    "\n",
    "- It consists of **three rods** and a number of **disks of different sizes**, which can slide onto any rod. \n",
    "- The **puzzle starts** with the disks in a neat stack in **ascending order of size** on one rod, the smallest at the top, thus making a conical shape.\n",
    "- The **objective of the puzzle** is to **move** the **entire stack to another rod**, obeying the following simple rules:\n",
    "  - Only one disk can be moved at a time.\n",
    "  - Each move consists of taking the upper disk from one of the stacks and placing it on top of another stack or on an empty rod.\n",
    "  - No larger disk may be placed on top of a smaller disk.\n",
    "\n",
    "\n",
    "- With **4 disks**, the puzzle can be solved in **15 moves**:\n",
    "\n",
    "\n",
    "<center><img src=\"images/H1_Hanoi_Tower.gif\" width=\"400\" alt=\"Example\" /></center>\n",
    "\n",
    "\n",
    "1. What is the **minimal number of moves**  required to solve a **Tower of Hanoi** puzzle? \n",
    "\n",
    "2. Write the code that solves the **Tower of Hanoi** puzzle using **recursion**."
   ]
  },
  {
   "cell_type": "markdown",
   "metadata": {
    "slideshow": {
     "slide_type": "slide"
    }
   },
   "source": [
    "<h3 align=\"center\">Problem 4: Inversions</h3>\n",
    "\n",
    "- Let $A[1..n]$ be an array of $n$ distinct numbers. \n",
    "\n",
    "\n",
    "- If $i < j$ and $A[i] > A[j]$, then the pair $(i,j)$ is called an **inversion** of $A$.\n",
    "\n",
    "\n",
    "1. List the **five inversions** of the array $\\left \\langle 2, 3, 8, 6, 1 \\right \\rangle$.\n",
    "   \n",
    "2. What array with elements from the set $\\{1, 2, ..., n\\}$ has the most inversions? How many does it have?\n",
    "  \n",
    "3. Give an algorithm that determines the **number of inversions** in any permutation on $n$ elements in $\\Theta(n \\lg n)$ worst-case time. \n",
    "\n",
    "  (**Hint**: Modify **Merge-Sort** algorithm.)"
   ]
  },
  {
   "cell_type": "markdown",
   "metadata": {
    "slideshow": {
     "slide_type": "slide"
    }
   },
   "source": [
    "<h3 align=\"center\">Extra Problem: Asymptotic Behavior of Polynomials</h3>\n",
    "\n",
    "- Let \n",
    "\n",
    "  $$p(n) = \\sum_{i=0}^d a_i n^i = a_0 + a_1 n + \\cdots + a_d n^d,$$\n",
    "  \n",
    "  where $a_d > 0$, be a degree-$d$ polynomial in $n$, and let $k\\in \\mathbb{N}$ be a constant. \n",
    "\n",
    "\n",
    "- Use the definitions of the asymptotic notations to prove the following properties:\n",
    "  \n",
    "  1. if $k \\geq d$, then $p(n) = O(n^k)$.\n",
    "  \n",
    "  2. if $k > d$, then $p(n) = o(n^k)$.\n",
    "  \n",
    "  3. if $k = d$, then $p(n) = \\Theta(n^k)$.\n",
    "  \n",
    "  4. if $k < d$, then $p(n) = \\omega(n^k)$.\n",
    "  \n",
    "  5. if $k \\leq d$, then $p(n) = \\Omega(n^k)$."
   ]
  },
  {
   "cell_type": "code",
   "execution_count": null,
   "metadata": {},
   "outputs": [],
   "source": []
  }
 ],
 "metadata": {
  "celltoolbar": "Slideshow",
  "kernelspec": {
   "display_name": "Python 3",
   "language": "python",
   "name": "python3"
  },
  "language_info": {
   "codemirror_mode": {
    "name": "ipython",
    "version": 3
   },
   "file_extension": ".py",
   "mimetype": "text/x-python",
   "name": "python",
   "nbconvert_exporter": "python",
   "pygments_lexer": "ipython3",
   "version": "3.8.5"
  }
 },
 "nbformat": 4,
 "nbformat_minor": 2
}
