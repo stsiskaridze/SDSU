{
 "cells": [
  {
   "cell_type": "markdown",
   "metadata": {
    "slideshow": {
     "slide_type": "slide"
    }
   },
   "source": [
    "**CS560 - Algorithms and Their Analysis**\n",
    "<br>\n",
    "\n",
    "Title: **Lecture 9**\n",
    "<br>\n",
    "Speaker: **Dr. Shota Tsiskaridze**\n",
    "<br>\n",
    "\n",
    "Bibliography:\n",
    "<br> \n",
    " **Chapter 16.4**. Cormen, Thomas H. and Leiserson, Charles Eric and Rivest, Ronald Linn and Stein, Clifford Seth, *Introduction to Algorithms, 3rd Edition*, MIT Press, 2009\n",
    " \n"
   ]
  },
  {
   "cell_type": "markdown",
   "metadata": {},
   "source": [
    "<h1 align=\"center\">Matroids</h1>\n",
    "\n",
    "- The word **matroid** is due to **Hassler Whitney**. \n",
    "\n",
    "\n",
    "- He was studying **matric matroids**, in which the **elements** of $S$ are the **rows** of a given matrix and a **set of rows** is **independent** if they are **linearly independent** in the usual sense.\n",
    "\n",
    "\n",
    "\n",
    "- More general, a **matroid** can be defined as an ordered pair $M = (S, I)$ satisfying the following conditions:\n",
    "\n",
    "\n",
    "1. $S$ is **finite set**.\n",
    "\n",
    "\n",
    "2. $I$ is a **nonempty** family of subsets of S, called the **independent** subsets of S:\n",
    "  \n",
    "   If $B \\in I$ and $A \\subseteq B$, then $A \\in I$. \n",
    "   \n",
    "   We say that $I$ is **hereditary** if it satisfies this property. \n",
    "   \n",
    "   Note that the set $\\varnothing$  is necessarily a member of $I$.\n",
    "\n",
    "\n",
    "3. If $A \\in I$, $B \\in I$, and $|A| < |B|$, then there exists some element $x \\in (B-A)$ such that $(A \\cup \\{x\\}) \\in I$.\n",
    "\n",
    "   $|A| < |B|$ means, that number of elements in $A$ is less than number of elements in $B$,\n",
    "   \n",
    "   We say that $M$ satisfies the **exchange property**."
   ]
  },
  {
   "cell_type": "markdown",
   "metadata": {},
   "source": [
    "<h3 align=\"center\">Matrix Example</h3>\n",
    "\n",
    "- Given an $ m \\times n$ **matrix** $M$ over some **field** $\\mathcal{F}$.\n",
    "  \n",
    "  **Ordered pair** $(S, I)$ is a **matroid**, where $S$ is the **set of columns** of $M$ and $A \\in I$ **if and only if** the **columns in $A$ are linearly independent**.\n",
    "  \n",
    "  In other words, suppose $M = [c_1, c_2, c_3, ..., c_n]$, where $c_i$ represents the **columns** of the matrix $M$.\n",
    "  \n",
    "  Then, $A = \\{c_{i_1}, c_{i_2}, ..., c_{i_k}\\} \\in I$, if from $\\alpha_1 [c_{i_1}] + \\alpha_2 [c_{i_2}] + \\cdots + \\alpha_k [c_{i_k}] = 0$, where $\\alpha \\in \\mathcal{F}$ leads that $\\alpha_1 = \\alpha_2 = \\cdots = \\alpha_k = 0$.\n",
    "\n",
    "\n",
    "- Lets **prove** it:\n",
    "\n",
    "\n",
    "1. $S$ consist of $n$ elements $\\{c_1, c_2, c_3, ..., c_n\\}$.\n",
    "  \n",
    "\n",
    "2. Suppose $B = \\{c_{b_1}, c_{b_2}, ..., c_{b_l}\\} \\in I$, and $A = \\{c_{a_1}, c_{a_2}, ..., c_{a_k} \\}\\subseteq B$.\n",
    " \n",
    "   Without braking the generality, we can assume that $c_{a_i} = c_{b_i}$ for $i = 1, 2, ..., k$.\n",
    "   \n",
    "   Now, lets assume that columns in $A$ are **linear dependent**, this means that there exists $\\alpha_1, \\alpha_2, ..., \\alpha_k$ such that $\\sum_{i=1}^k \\alpha_i c_{a_i} = 0$ and not all $\\alpha_i = 0$.\n",
    "   \n",
    "   But then, if we consider  $\\beta_1 = \\alpha_1, \\beta_2 = \\alpha_2, ..., \\beta_k = \\alpha_k, \\beta_{k+1} = 0, ..., \\beta_{l} = 0$, then $\\sum_{i=1}^k \\beta c_{b_i} = \\sum_{i = 1}^k \\alpha c_{a_i} + \\sum_{i = k+1}^l 0 c_{b_i} = 0$, thus $c_{b_1}, c_{b_2}, ..., c_{b_l}$ are **not linear indenpendent**. We've got a contradiction.\n",
    "   \n",
    "   Thus $c_{a_1}, c_{a_2}, ..., c_{a_k}$ are linear independent and $A \\in I$.\n",
    "   \n",
    "   \n",
    "3. Lets assume that $A = \\{c_{a_1}, c_{a_2}, ..., c_{a_k} \\}\\in I$ and $B = \\{c_{b_1}, c_{b_2}, ..., c_{b_l}\\} \\in I$ and $|A| < |B|$.\n",
    "\n",
    "   We need to show, that we can find such column $c \\in B$, that $c \\notin A$, and $(A \\cup \\{c\\}) \\in I $, i.e. $c_{a_1}, c_{a_2}, ..., c_{a_k}, c $ are **linear independent**.\n",
    "  \n",
    "   Lets assume the opposite, i.e. for every $c \\in B$ such that $c \\notin A$ the columns $c_{a_1}, c_{a_2}, ..., c_{a_k}, c $ are **linear dependent**.\n",
    "   \n",
    "   Thus, the set of columns $c_{a_1}, c_{a_2}, ..., c_{a_k}, c_{b_1}$ will be linear dependent, so we can express $c_{a_1}$ as a sum of rest, so the linear combination of $c_{a_2}, c_{a_3}, ..., c_{a_k}, c_{b_1}$ will still cover the same space as $c_{a_1}, c_{a_2}, ..., c_{a_k}, c_{b_1}$.\n",
    "   \n",
    "   This means, that if we now consider add $c_{b_2}$ the set of columns will be linear dependent again, i.e. we can express $c_{a_2}$ as a linear combination of  $c_{a_3}, ..., c_{a_k}, c_{b_1}, c_{b_2}$.\n",
    "   \n",
    "   We can repeate these step, replacing $a_i$ with $b_i$.\n",
    "   \n",
    "   Since the number of columns in $B$ is larger than number of columns in $A$, we get that we replace all $c_{a_i}$ and still will left elements $c_{b_k}, ..., c_{b_l}$ of $B$.\n",
    "   \n",
    "   And again, adding element $c_{b_{k+1}}$ will couse the linear dependent of the columnts $c_{b_1}, c_{b_2}, ..., c_{b_{k+1}}$, which contradicts the assumption that $B$ is linear independent. Q.E.D.\n",
    "   \n",
    "\n",
    "   "
   ]
  },
  {
   "cell_type": "markdown",
   "metadata": {
    "slideshow": {
     "slide_type": "slide"
    }
   },
   "source": [
    "<h3 align=\"center\">Matrix Example</h3>\n",
    "\n",
    "- Let's consider the **graph** $G = (V, E)$, which is the ordered pair of **verticies** ($V$) and **edged** ($E$).\n",
    "\n",
    "\n",
    "- Lets define the **orderes pair** $M_G = (S_G, I_G)$ as follows:\n",
    "  \n",
    "  - $S_G = E$, i.e. the set $S_G$ is the **set of all edges**.\n",
    "  \n",
    "  - $I_G$ is a set subset of $E$ and $A \\in I_G$ if and only if $A \\in E$ and $A$ is **acyclic**, i.e. $A \\in I_G$ if and only if the subgraph $G_A = (V, A)$ forms a **forest**.\n",
    "  \n",
    "  A forest is an **undirected**, **disconnected**, **acyclic graph**. Each component of a **forest** is **tree**, i.e a **disjoint** collection of **trees** is known as **forest**\n",
    "  \n",
    "  <img src=\"images/L9_Forest.png\" width=\"400\" alt=\"Example\" />\n",
    "\n",
    "\n",
    "- **Theorem**:  If $G = (V,E)$ is an **undirected graph**, then $M_G = (S_G, I_G)$ is a **matroid**.\n",
    "\n",
    "  To prove this theorem, we will need next **Lemme**:\n",
    "  \n",
    "  \n",
    "- **Lemma**:  If $F = (V_F,E_F)$ is **forest**, then it contains exactly $|V_F| - |E_F|$ **trees**."
   ]
  },
  {
   "cell_type": "markdown",
   "metadata": {},
   "source": [
    "<h3 align=\"center\">The Maximal Independent Subsets</h3>\n",
    "\n",
    "- Given a matroid $M = (S, I)$ we call an element $x \\in A$ an **extension** of $A \\in I$ if we **can add** $x$ to $A$ while **preserving independence**, i.e. if $(A \\cup \\{x\\}) \\in I$.\n",
    "\n",
    "\n",
    "- As an example, let's consider a **graphic matroid** $M_G$. \n",
    "\n",
    "  If $A$ is an **independent** set of edges, then edge $e$ is an **extension** of $A$ **if and only if** $e \\notin A$ and the addition of $e$ to $A$ does **not create a cycle**.\n",
    "  \n",
    "  \n",
    "- If $A$ is an **independent** subset in a matroid $M$, we say that $A$ is **maximal** if it has **no extensions**. \n",
    "\n",
    "  That is, $A$ is **maximal** if it is **not contained** in any **larger independent** subset of $M$.\n",
    "  \n",
    "  \n",
    "- **Theorem:** All **maximal independent subsets** in a matroid have the **same size**."
   ]
  },
  {
   "cell_type": "markdown",
   "metadata": {},
   "source": [
    "<h3 align=\"center\">A Weighted Matroid</h3>\n",
    "\n",
    "- We say that a **matroid** $M = (S, I)$ is **weighted** if it is associated with a **weight function** $w$ that assigns a **strictly positive weight** $w_x$ to each element $x \\in S$. \n",
    "\n",
    "\n",
    "- The **weight function** $w$ extends to subsets of $S$ by summation:\n",
    "\n",
    "  $$w(A) = \\sum_{x \\in A} w(x)$$\n",
    "  \n",
    "  for any $A \\subseteq S$.\n",
    "  \n",
    "  \n",
    "- Many problems for which a **greedy approach provides optimal solutions** can be formulated in terms of **finding a maximum-weight independent subset** in a **weighted matroid**:\n",
    "\n",
    "  Given a **weighted matroid** $M = (S, I)$ and we wish to **find** an **independent set** $A in I$ such that $w(A)$ is **maximized**. \n",
    "  \n",
    "  We call such a subset that is **independent** and has **maximum possible weight** an **optimal subset** of the matroid. \n",
    "  \n",
    "  \n",
    "- Because the **weight** $w(x)$ of **any element** $x \\in S$ is **positive**, an **optimal subset** is always a **maximal independent subset**."
   ]
  },
  {
   "cell_type": "markdown",
   "metadata": {},
   "source": [
    "<h3 align=\"center\">The Minimum-Spanning-Tree Problem</h3>\n",
    "\n",
    "- Given a **connected undirected graph** $G = (V, E)$ and a **length function** $w$ such that $w(e)$ is the (**positive**) **length of edge** $e$.\n",
    "\n",
    "\n",
    "- **Find** a **subset** of the edges that **connects all of the vertices** together and has **minimum total length**.\n",
    "\n",
    "  <img src=\"images/L9_Minimum_Spanning_Tree.png\" width=\"600\" alt=\"Example\" />\n",
    "\n",
    "\n",
    "- To **solve** this problem, we can **view** it as a problem of **finding an optimal subset of a matroid**:\n",
    "\n",
    "  Instead of considering $M_G$ with weights $w(e)$, we consider the weights $w'(e) = w_{sup} - w(e)$, where $w_{sup} = \\max_{e \\in E} {w(e)} +1$.\n",
    "  \n",
    "  In this weighted matroid, **all weights** are **positive** and an **optimal subset** is a **spanning tree of minimum total length** in the original graph.\n",
    "  \n",
    "  More specifically, each **maximal independent subset** $A$ corresponds to a **spanning tree** with $|V|-1$ edges, and since:\n",
    "  \n",
    "  $$w'(A) = \\sum_{e \\in A} w'(e) = \\sum_{e\\in A}(w_{\\sup} - w(e)) = (|V| - 1) w_{sup} - \\sum_{e \\in A} w(e) = (|V|-1) w_{sup} - w(A)$$\n",
    "  \n",
    "  for **any maximal independent subset** $A$, an **independent subset** that **maximizes the quantity** $w'(A)$ must **minimize** $w(A)$.\n",
    "  "
   ]
  },
  {
   "cell_type": "markdown",
   "metadata": {},
   "source": [
    "The *Pseudocode* for the **greedy algorithm** is looks as follows:"
   ]
  },
  {
   "cell_type": "code",
   "execution_count": null,
   "metadata": {},
   "outputs": [],
   "source": [
    "def greedy(M, w):\n",
    "A = np.empty\n",
    "sort M.S #into monotonically decreasing order by weight w\n",
    "for each x in M.S: #taken in monotonically decreasing order by weight w(x)\n",
    "    if (A U {x}) is in M.I:\n",
    "        A = (A U {x})\n",
    "return A"
   ]
  },
  {
   "cell_type": "markdown",
   "metadata": {},
   "source": [
    "- The **running time** of `greedy` is easy to analyze. \n",
    "\n",
    "  Let $n$ denote $|S|$. \n",
    "  \n",
    "  The **sorting phase** of `greedy` takes time $O(n \\lg n)$. \n",
    "  \n",
    "  **Line 5** executes exactly $n$ **times**, once for each element of $S$. \n",
    "  \n",
    "  Each execution of **line 5** requires a check on whether or not the set $A \\cup \\{x\\}$ is **independent**. \n",
    "  \n",
    "  If each such check takes time $O(f(n))$ the entire algorithm runs in time $O(n \\lg n + n f(n) )$."
   ]
  },
  {
   "cell_type": "markdown",
   "metadata": {},
   "source": [
    "- Lets consider the next **graph** and write the **Python code** for **greedy algorithm**:\n",
    "\n",
    "  <img src=\"images/L9_Graph.jpg\" width=\"600\" alt=\"Example\" />\n"
   ]
  },
  {
   "cell_type": "code",
   "execution_count": 2,
   "metadata": {
    "scrolled": true
   },
   "outputs": [
    {
     "name": "stdout",
     "output_type": "stream",
     "text": [
      "Edges in MST\n",
      "( 3, 4 )\n",
      "( 0, 7 )\n",
      "( 2, 3 )\n",
      "( 2, 5 )\n",
      "( 0, 1 )\n",
      "( 5, 6 )\n",
      "( 2, 8 )\n",
      "( 6, 7 )\n",
      "Total weight of MST is 37\n"
     ]
    }
   ],
   "source": [
    "class Graph: \n",
    "    def __init__(self, v): \n",
    "  \n",
    "        # number of vertices \n",
    "        self.v = v \n",
    "        self.adj = [0] * v \n",
    "        self.edges = [] \n",
    "        for i in range(v): \n",
    "            self.adj[i] = [] \n",
    "  \n",
    "    # Function to add an edge to graph \n",
    "    def addEdge(self, u: int, v: int, w: int): \n",
    "        self.adj[u].append(v) # Add w to v’s list. \n",
    "        self.adj[v].append(u) # Add w to v’s list. \n",
    "        self.edges.append((w, (u, v))) \n",
    "  \n",
    "    def dfs(self, v: int, visited: list): \n",
    "  \n",
    "        # Mark the current node as visited and print it \n",
    "        visited[v] = True\n",
    "  \n",
    "        # Recur for all the vertices adjacent to this vertex \n",
    "        for i in self.adj[v]: \n",
    "            if not visited[i]: \n",
    "                self.dfs(i, visited) \n",
    "  \n",
    "\n",
    "    # Returns true if given graph is connected, else false \n",
    "    def connected(self): \n",
    "        visited = [False] * self.v \n",
    "  \n",
    "        # Find all reachable vertices from first vertex \n",
    "        self.dfs(0, visited) \n",
    "  \n",
    "        # If set of reachable vertices includes all, return true. \n",
    "        for i in range(1, self.v): \n",
    "            if not visited[i]: \n",
    "                return False\n",
    "  \n",
    "        return True\n",
    "  \n",
    "    # Our greedy algorithm\n",
    "    def greedy(self): \n",
    "  \n",
    "        # Sort edges into monotonically decreasing order by weight w(x)\n",
    "        self.edges.sort(key = lambda a: a[0]) \n",
    "  \n",
    "        mst_wt = 0 # Initialize weight of MST \n",
    "  \n",
    "        print(\"Edges in MST\") \n",
    "  \n",
    "        # Iterate through all sorted edges in decreasing order by weight w(x)\n",
    "        for i in range(len(self.edges) - 1, -1, -1): \n",
    "            u = self.edges[i][1][0] \n",
    "            v = self.edges[i][1][1] \n",
    "  \n",
    "            # Remove edge from undirected graph \n",
    "            self.adj[u].remove(v) \n",
    "            self.adj[v].remove(u) \n",
    "  \n",
    "            # Adding the edge back if removing it causes disconnection. \n",
    "            # In this case this edge becomes part of MST. \n",
    "            if self.connected() == False: \n",
    "                self.adj[u].append(v) \n",
    "                self.adj[v].append(u) \n",
    "  \n",
    "                # This edge is part of MST \n",
    "                print(\"( %d, %d )\" % (u, v)) \n",
    "                mst_wt += self.edges[i][0] \n",
    "        print(\"Total weight of MST is\", mst_wt)\n",
    "\n",
    "if __name__ == \"__main__\": \n",
    "  \n",
    "    # Create the graph given in above fugure \n",
    "    V = 9\n",
    "    g = Graph(V) \n",
    "  \n",
    "    # making above shown graph \n",
    "    g.addEdge(0, 1, 4) \n",
    "    g.addEdge(0, 7, 8) \n",
    "    g.addEdge(1, 2, 8) \n",
    "    g.addEdge(1, 7, 11) \n",
    "    g.addEdge(2, 3, 7) \n",
    "    g.addEdge(2, 8, 2) \n",
    "    g.addEdge(2, 5, 4) \n",
    "    g.addEdge(3, 4, 9) \n",
    "    g.addEdge(3, 5, 14) \n",
    "    g.addEdge(4, 5, 10) \n",
    "    g.addEdge(5, 6, 2) \n",
    "    g.addEdge(6, 7, 1) \n",
    "    g.addEdge(6, 8, 6) \n",
    "    g.addEdge(7, 8, 7) \n",
    "  \n",
    "    g.greedy() "
   ]
  },
  {
   "cell_type": "markdown",
   "metadata": {},
   "source": [
    "- Lets consider the next **graph** and write the **Python code** for **greedy algorithm**:\n",
    "\n",
    "  <img src=\"images/L9_Graph2.jpg\" width=\"600\" alt=\"Example\" />\n"
   ]
  },
  {
   "cell_type": "markdown",
   "metadata": {
    "slideshow": {
     "slide_type": "slide"
    }
   },
   "source": [
    "<h1 align=\"center\">End of Lecture</h1>"
   ]
  }
 ],
 "metadata": {
  "kernelspec": {
   "display_name": "Python 3",
   "language": "python",
   "name": "python3"
  },
  "language_info": {
   "codemirror_mode": {
    "name": "ipython",
    "version": 3
   },
   "file_extension": ".py",
   "mimetype": "text/x-python",
   "name": "python",
   "nbconvert_exporter": "python",
   "pygments_lexer": "ipython3",
   "version": "3.8.5"
  }
 },
 "nbformat": 4,
 "nbformat_minor": 2
}
