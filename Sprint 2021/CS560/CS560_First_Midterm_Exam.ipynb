{
 "cells": [
  {
   "cell_type": "markdown",
   "metadata": {
    "slideshow": {
     "slide_type": "slide"
    }
   },
   "source": [
    "**CS560 - Algorithms and Their Analysis**\n",
    "<br>\n",
    "Date: **27 February 2021 from 14:00 to 17:00**\n",
    "<br>\n",
    "Title: **First Midterm Exam**\n",
    "\n",
    "You will receive a maximum of **20 points** distributed as follows:\n",
    "\n",
    "\n",
    "**Points are distributed as follows**:\n",
    "- Problem 1: **1 point**.\n",
    "- Problem 2: **1 point**.\n",
    "- Problem 3: **2 point**.\n",
    "- Problem 4: **3 point**.\n",
    "- Problem 5: **4 point**.\n",
    "- Problem 6: **9 point**."
   ]
  },
  {
   "cell_type": "markdown",
   "metadata": {},
   "source": [
    "<h3 align=\"center\">Students ID Number</h3>\n",
    "\n",
    "\n",
    "- In the table below you can see your **ID** number. \n",
    "\n",
    "- Each student has their own unique **ID**.\n",
    "\n",
    "| ID |           Student          |\n",
    "|:--:|:---------------------------|\n",
    "|  1 | Emil Ahmadov               |\n",
    "|  2 | Daviti Garuchava           |\n",
    "|  3 | Tamar Jalaghonia           |"
   ]
  },
  {
   "cell_type": "markdown",
   "metadata": {},
   "source": [
    "<h3 align=\"center\">Problem 1: Build a Heap from an Array</h3>\n",
    "\n",
    "- Below, a **random array** is generated for each student.\n",
    "\n",
    "\n",
    "- Build a **Heap** from an array matching your **ID** number.\n",
    "\n",
    "\n",
    "- **Note**: You need to **draw** the **binary tree**!"
   ]
  },
  {
   "cell_type": "code",
   "execution_count": 4,
   "metadata": {
    "scrolled": false
   },
   "outputs": [
    {
     "name": "stdout",
     "output_type": "stream",
     "text": [
      "Student ID = 1: A = [2, 8, 10, 6, 15, 3, 14, 7, 9, 12, 1, 5, 13, 11, 4]\n",
      "Student ID = 2: A = [3, 2, 7, 9, 4, 12, 5, 6, 13, 15, 10, 8, 14, 1, 11]\n",
      "Student ID = 3: A = [3, 14, 6, 1, 7, 5, 13, 2, 15, 10, 4, 8, 11, 9, 12]\n"
     ]
    }
   ],
   "source": []
  },
  {
   "cell_type": "markdown",
   "metadata": {},
   "source": [
    "<h3 align=\"center\">Problem 2: Build an array from a Heap</h3>\n",
    "\n",
    "- Below, a **random heap** is generated for each student.\n",
    "\n",
    "\n",
    "- Build an **Array** from a Heap matching your **ID** number.\n",
    "\n",
    "\n",
    "- **Note**: You need to **write down** the **array**!"
   ]
  },
  {
   "cell_type": "code",
   "execution_count": 11,
   "metadata": {
    "scrolled": false
   },
   "outputs": [
    {
     "name": "stdout",
     "output_type": "stream",
     "text": [
      "Student ID = 1: =======================================\n",
      "                7\n",
      "        13                  3\n",
      "  1          5          2       14 \n",
      "6    15    12    11    9    8    4    10\n",
      "======================================================= \n",
      " \n",
      "\n",
      "Student ID = 2: =======================================\n",
      "                9\n",
      "        11                  2\n",
      "  14          6          5       7 \n",
      "12    15    1    8    10    4    13    3\n",
      "======================================================= \n",
      " \n",
      "\n",
      "Student ID = 3: =======================================\n",
      "                7\n",
      "        3                  13\n",
      "  12          9          14       10 \n",
      "6    15    11    2    8    5    1    4\n",
      "======================================================= \n",
      " \n",
      "\n"
     ]
    }
   ],
   "source": []
  },
  {
   "cell_type": "markdown",
   "metadata": {},
   "source": [
    "<h3 align=\"center\">Problem 3: Build a Max-Heap</h3>\n",
    "\n",
    "- For the array from **Problem 1**, build the **Max-Heap**.\n",
    "\n",
    "\n",
    "- If it is already **Max-Heap** (it can happen!), then build **Min-Heap**!\n",
    "\n",
    "\n",
    "- **Note**: You need to **draw** the **binary tree** for each of the **Heapify step**!"
   ]
  },
  {
   "cell_type": "markdown",
   "metadata": {
    "slideshow": {
     "slide_type": "slide"
    }
   },
   "source": [
    "<h3 align=\"center\">Problem 4: Solving Recurrences</h3>\n",
    "\n",
    "- For the recurrence that matches your **ID** number, give an expression for the runtime $T (n)$ if the recurrence can be solved by the **Master Theorem**. \n",
    "\n",
    "- Otherwise, indicate that the Master Theorem **does not apply**!\n",
    "\n",
    "\n",
    "\n",
    "\n",
    "\n",
    "\n",
    "  \n",
    "  Student ID = 1: ========================================\n",
    "  \n",
    "  1. $T(n) = 16T(n/4) + n$\n",
    "  \n",
    "  2. $T(n) = 2^nT(n/2) + n^n$\n",
    "  \n",
    "  3. $T(n) = T(n-1) + 1/n$  (**Solve it anyway!**)\n",
    "\n",
    "====================================================\n",
    "  \n",
    "  \n",
    "  \n",
    "  Student ID = 2: ========================================\n",
    "  \n",
    "  1. $T(n) = 2T(n/2) + n \\log n$\n",
    "  \n",
    "  2. $T(n) = \\frac{5}{7} T(n/2) + n^2$\n",
    "  \n",
    "  3. $T(n) = T(n-1) + n^2$  (**Solve it anyway!**)\n",
    "\n",
    "====================================================\n",
    "  \n",
    "  \n",
    "  \n",
    "  Student ID = 3: ========================================\n",
    "  \n",
    "  1. $T(n) = 3T(n/3) + \\sqrt{n}$\n",
    "  \n",
    "  2. $T(n) = 64T(n/8) − n^2 \\log n$\n",
    "  \n",
    "  3. $T(n) = T(n/2) + T(n/4) + T(n/8) + n$ (**Solve it anyway!**)\n",
    "\n",
    "====================================================\n",
    "\n",
    "- **Note**: you can assume that $T(1) = c_0$.\n",
    "\n",
    "\n",
    "- **Note**: Do not forget to check **all conditions**!\n",
    "\n",
    "\n",
    "- **Note**: Do not forget about **non-polynomial difference** between $f(n)$ and  $n^{\\log_b a}$."
   ]
  },
  {
   "cell_type": "markdown",
   "metadata": {},
   "source": [
    "<h3 align=\"center\">Master Method</h3>\n",
    "\n",
    "- **Theorem**: Let $a \\geq1$ and $b > 1$ be constants, let $f(n)$ be a function, and let $T(n)$ be defined on the **nonnegative** integers by the recurrence:\n",
    "  \n",
    "  $$T(n) = aT(n/b) + f(n).$$\n",
    " \n",
    "  Then $T(n)$ has the following **asymptotic bounds**:\n",
    "  \n",
    "  1. If $f(n) = O(n^{\\log_b a-\\epsilon})$ for some constant $\\epsilon > 0$, then $T(n) = \\Theta(n^{\\log_b a})$.\n",
    "  2. If $f(n) = \\Theta(n^{\\log_b a})$, then $T(n) = \\Theta(n^{\\log_b a} \\lg n)$.\n",
    "  3. If $f(n) = \\Omega(n^{\\log_b a + \\epsilon})$ for some constant $\\epsilon > 0$, and if $af(n/b) \\leq cf(n)$ for some constant $c < 1$ and all sufficiently large $n$, then $T(n) = \\Theta(f(n))$.\n",
    "  \n",
    "\n",
    "- In otherwords, in each of the **three cases**, we compare the function $f(n)$ with the function $n^{\\log_b a}$.\n",
    "  - **Case 1**: If the function $n^{\\log_b a}$ is the larger, then the solution is $T(n) = \\Theta(n^{\\log_b a})$.\n",
    "  - **Case 2**: If the two functions are the same size, we multiply by a logarithmic factor, and the solution is $T(n) = \\Theta(n^{\\log_b a} \\lg n)$.\n",
    "  - **Case 3**: If the function $f(n)$ is the larger, then the solution is $T(n) = \\Theta(f(n))$.\n",
    "\n",
    "\n",
    "- **Note** that these three cases **do not cover** all the possibilities for $f(n)$:\n",
    "  - In the **first case**, not only must $f(n)$ be smaller than $n^{\\log_b a}$, it must be **polynomially smaller**.\n",
    "  - In the **third case**, not only must $f(n)$ be larger than $n^{\\log_b a}$, it also must be **polynomially larger** and in addition satisfy the **regularity** condition:\n",
    "    $$af(n/b) \\leq cf(n).$$ \n"
   ]
  },
  {
   "cell_type": "markdown",
   "metadata": {},
   "source": [
    "<h3 align=\"center\">Problem 5: Analyzing the Code Running Time</h3>\n",
    "\n",
    "- Given the code for the `partition` procedure:"
   ]
  },
  {
   "cell_type": "code",
   "execution_count": null,
   "metadata": {},
   "outputs": [],
   "source": [
    "# Student ID = 1:\n",
    "# Consider best-case scenario\n",
    "# For simplicity, you can assume that p = 0 and r = n-1, i.e. array consist of n elements.\n",
    "\n",
    "def partition(A, p, r):           \n",
    "    x = A[r]                    #c1\n",
    "    i = p-1                     #c2\n",
    "    for j in range(p, r):       #c3\n",
    "        if A[j] <= x:           #c4\n",
    "            i = i+1             #c5\n",
    "            exchange(A, i, j)   #c6\n",
    "    exchange(A, i+1, r)         #c7\n",
    "    return i+1                  #c8"
   ]
  },
  {
   "cell_type": "code",
   "execution_count": null,
   "metadata": {},
   "outputs": [],
   "source": [
    "# Student ID = 2:\n",
    "# Consider worst-case scenario\n",
    "# For simplicity, you can assume that p = 0 and r = n-1, i.e. array consist of n elements.\n",
    "\n",
    "def partition(A, p, r):           \n",
    "    x = A[r]                    #c1\n",
    "    i = p-1                     #c2\n",
    "    for j in range(p, r):       #c3\n",
    "        if A[j] <= x:           #c4\n",
    "            i = i+1             #c5\n",
    "            exchange(A, i, j)   #c6\n",
    "    exchange(A, i+1, r)         #c7\n",
    "    return i+1                  #c8"
   ]
  },
  {
   "cell_type": "code",
   "execution_count": 14,
   "metadata": {},
   "outputs": [],
   "source": [
    "# Student ID = 3:\n",
    "# A is a matrix of size lxm, B is a matrix of size mxn\n",
    "\n",
    "def squareMatrixMultiplication(A, B):\n",
    "    l = A.shape[0]                                                   #c1\n",
    "    m = A.shape[1]                                                   #c2\n",
    "    n = B.shape[1]                                                   #c3\n",
    "    C = np.empty((l, n))                                             #c4\n",
    "    for i in range(l):                                               #c5\n",
    "        for j in range(n):                                           #c6\n",
    "            C[[i],[j]] = 0                                           #c7\n",
    "            for k in range(m):                                       #c8\n",
    "                C[[i],[j]] = C[[i],[j]] + A[[i],[k]] *  B[[k],[j]]   #c9\n",
    "    return C                                                         #c10"
   ]
  },
  {
   "cell_type": "markdown",
   "metadata": {},
   "source": [
    "- For each line you can see the **constants** $c_1, ..., c_8$ that identifies the **time cost** of the line.\n",
    "\n",
    "\n",
    "- Tasks:\n",
    "  1. **Count** how many **times** each line was executed (**write** this as a comment to the **left of each line**).\n",
    "  \n",
    "  2. Write down the **running time equation** as the **sum of each line**.\n",
    "  \n",
    "  3. **Group up** and **simplify** the **running time equation**.\n",
    "  \n",
    "  4. Get **asymptotic notation**.\n"
   ]
  },
  {
   "cell_type": "markdown",
   "metadata": {},
   "source": [
    "<h1 align=\"center\">Problem 6</h1>\n"
   ]
  },
  {
   "cell_type": "markdown",
   "metadata": {
    "id": "LwmMFPgn590T"
   },
   "source": [
    "<h3 align=\"center\">Student ID 1: Max-Heap Check</h3>\n",
    "\n",
    "- Given an **array of integers**, check if it represents **Max-Heap** or not, i.e. if it violates the **Max-Heap Property**.\n",
    "\n",
    "- You need to **solve** this problem using **recursion**!\n",
    "\n",
    "\n",
    "- **Note**: **Max-Heap Property** states is that **priority of a node** is at least as **small** as that of its **parent**.\n",
    "\n",
    "\n",
    "$\n",
    "\\begin{matrix}\n",
    "\\text{Input: } & \\{15, 10, 5, 4, 3, 2\\}\\\\ \n",
    "\\text{ Output:} & \\text{Given array is a Max-Heap.} \n",
    "\\end{matrix}\n",
    "$ \n",
    "\n",
    "\n",
    "$\n",
    "\\begin{matrix}\n",
    "\\text{Input: } & \\{15, 3, 5, 4, 10, 2\\}\\\\ \n",
    "\\text{ Output:} & \\text{Given array is not a Max-Heap.} \n",
    "\\end{matrix}\n",
    "$  "
   ]
  },
  {
   "cell_type": "markdown",
   "metadata": {
    "id": "AdaOCbb0590U"
   },
   "source": [
    "<h3 align=\"center\">Student ID 2: Converting Max-Heap to Min-Heap</h3>\n",
    "\n",
    "- Given an **array of integers**, representing a **Max-Heap**, **in-place** convert the array into the Min-Heap in **linear time**.\n",
    "\n",
    "\n",
    "$\n",
    "\\begin{matrix}\n",
    "\\text{Input: } & \\{9, 4, 7, 1, -2, 6, 5\\}\\\\ \n",
    "\\text{ Output:} & \\{-2, 1, 5, 9, 4, 6, 7\\} \n",
    "\\end{matrix}\n",
    "$  "
   ]
  },
  {
   "cell_type": "markdown",
   "metadata": {
    "id": "abRVewTp5_Jv"
   },
   "source": [
    "<h3 align=\"center\">Student ID 3: Sorting a  Binary Array</h3>\n",
    "\n",
    "- Given an **binary array**, i.e. an array whose **elements** are $0$ or $1$, sort it in **linear time** and **constant space** by modifying partitioning logic of **quicksort**.\n",
    "\n",
    "\n",
    "- **Hint**: Use $1$ as pivot element and make one pass of partition process.\n",
    "\n",
    "\n",
    "$\n",
    "\\begin{matrix}\n",
    "\\text{Input: } & \\{1, 0, 1, 0, 1, 0\\}\\\\ \n",
    "\\text{ Output:} & \\{0, 0, 0, 1, 1, 1\\} \n",
    "\\end{matrix}\n",
    "$  "
   ]
  },
  {
   "cell_type": "markdown",
   "metadata": {},
   "source": [
    "<h1 align=\"center\">Wish you good luck!</h1>"
   ]
  }
 ],
 "metadata": {
  "kernelspec": {
   "display_name": "Python 3",
   "language": "python",
   "name": "python3"
  },
  "language_info": {
   "codemirror_mode": {
    "name": "ipython",
    "version": 3
   },
   "file_extension": ".py",
   "mimetype": "text/x-python",
   "name": "python",
   "nbconvert_exporter": "python",
   "pygments_lexer": "ipython3",
   "version": "3.8.5"
  }
 },
 "nbformat": 4,
 "nbformat_minor": 2
}
