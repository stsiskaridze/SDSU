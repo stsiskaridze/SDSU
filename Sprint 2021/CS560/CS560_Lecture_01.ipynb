{
 "cells": [
  {
   "cell_type": "markdown",
   "metadata": {
    "slideshow": {
     "slide_type": "slide"
    }
   },
   "source": [
    "**CS560 - Algorithms and Their Analysis**\n",
    "<br>\n",
    "Date: **23 January 2021**\n",
    "<br>\n",
    "\n",
    "Title: **Lecture 1: Intoduction**\n",
    "<br>\n",
    "Speaker: **Dr. Shota Tsiskaridze**\n",
    "\n",
    "Bibliography:\n",
    "<br> \n",
    "[1] Cormen, Thomas H. and Leiserson, Charles Eric and Rivest, Ronald Linn and Stein, Clifford Seth, *Introduction to Algorithms, 3rd Edition*, MIT Press, 2009\n",
    "<br> \n",
    "[2] Bhargava, Aditya Y., *Grokking Algorithms*, Manning, 2016"
   ]
  },
  {
   "cell_type": "markdown",
   "metadata": {
    "slideshow": {
     "slide_type": "slide"
    }
   },
   "source": [
    "<h1 align=\"center\">Lecture 1: Introduction</h1>"
   ]
  },
  {
   "cell_type": "markdown",
   "metadata": {
    "slideshow": {
     "slide_type": "slide"
    }
   },
   "source": [
    "<h3 align=\"center\">What is an Algorithm?</h3>\n",
    "\n",
    "- **Algorithm** is any well-defined computational procedure (or steps) that takes some value, or set of values, as an **input** and produces some value, or set of values, as an **output**.\n",
    "\n",
    "\n",
    "- For example, here is how we formally define the **sorting problem**:\n",
    "\n",
    "  **Input**: A sequence of $n$ numbers $\\left \\langle a_1, a_2, \\cdots, a_n \\right \\rangle$  \n",
    "  **Output**: A permutation (reordering) $\\left \\langle a_1, a_2, \\cdots, a_n \\right \\rangle$ of the input sequence such that $a'_1 \\leq a'_2 \\leq \\cdots \\leq a'_n$\n",
    "\n",
    "\n",
    "- Example: given the input sequence $\\left \\langle 5, 1, 4, 2, 4, 3 \\right \\rangle$, a sorting algorithm returns as output the sequence $\\left \\langle 1, 2, 3, 4, 4, 5 \\right \\rangle$.\n",
    "\n",
    "\n",
    "- Such an input sequence is called an **instance** of the sorting problem.\n",
    "\n",
    "\n",
    "- An algorithm is said to be **correct** if, for every input instance, it halts with the correct output."
   ]
  },
  {
   "cell_type": "markdown",
   "metadata": {
    "slideshow": {
     "slide_type": "subslide"
    }
   },
   "source": [
    "<h3 align=\"center\">What Kinds of Problems are Solved by Algorithms?</h3>\n",
    "\n",
    "- **Sorting** is by no means the **only computational problem** for which algorithms have been developed.\n",
    "\n",
    "- Practical applications of algorithms are ubiquitous, here are a few of them:\n",
    "  - The Human Genome Project;\n",
    "  - Search engine to quickly find pages in the Internet;\n",
    "  - Public-key cryptography and digital signatures;\n",
    "  - Allocation of resources.\n",
    "\n",
    "\n",
    "- This list is far from exhaustive, but exhibit **two characteristics** that are common to many interesting algorithmic problems:\n",
    "  - They have many candidate solutions;<br>\n",
    "    The overwhelming majority of these solutions  do not solve the problem at hand.<br>\n",
    "    Finding one that does, or one that is **best**, can present quite a challenge.<br>\n",
    "    \n",
    "  - They have practical applications.<br>\n",
    "    For example, a transportation firm, such as a trucking or railroad company, has a financial interest in finding shortest paths through a road or rail network because taking shorter paths results in lower labor and fuel costs.<br>\n",
    "    Or a routing node on the Internet may need to find the shortest path through the network in order to route a message quickly. \n",
    "\n",
    "\n",
    "\n"
   ]
  },
  {
   "cell_type": "markdown",
   "metadata": {
    "slideshow": {
     "slide_type": "subslide"
    }
   },
   "source": [
    "<h3 align=\"center\">Simple Search</h3>\n",
    "\n",
    "- Lets play a game:\n",
    "  - I’m **thinking of a number** between $1$ and $100$.\n",
    "  - You have to try to **guess my number** in the fewest tries possible.\n",
    "  - With every guess, I’ll tell you if your guess is **too low**, **too high**, or **correct**.\n",
    "\n",
    "- Suppose you start guessing like this: $1, 2, 3, 4, \\cdots $\n",
    "\n",
    "<center><img src=\"images/L1_Simple_Search.png\" width=\"600\" alt=\"Example\" /></center>\n",
    "\n",
    "- If my number was 100, it could take you **100 guesses** to get there!\n",
    "- This is **Simple Search** (maybe stupid search would be a better term...)"
   ]
  },
  {
   "cell_type": "markdown",
   "metadata": {},
   "source": [
    "<h3 align=\"center\">Binary Search</h3>\n",
    "- The better way to search is to start guessing with 50.\n",
    " \n",
    "<center><img src=\"images/L1_Binary_Search.png\" width=\"800\" alt=\"Example\" /></center>\n",
    "\n",
    "- Too low, but you just eliminated *half the numbers*!\n",
    "- Now you know that 1–50 are all too low. Next guess is 75.\n",
    "\n",
    "<center><img src=\"images/L1_Binary_Search_2.png\" width=\"400\" alt=\"Example\" /></center>\n",
    "\n",
    "- Too high, but again you cut down *half the remaining numbers*! \n",
    "- This is a **Binary Search**\n",
    "\n",
    "<center><img src=\"images/L1_Binary_Search_3.png\" width=\"700\" alt=\"Example\" /></center>\n",
    "\n",
    "- With **Binary Search** *you guess the middle number and eliminate half the remaining numbers every time.*\n",
    "\n",
    "<center><img src=\"images/L1_Binary_Search_4.png\" width=\"800\" alt=\"Example\" /></center>"
   ]
  },
  {
   "cell_type": "markdown",
   "metadata": {},
   "source": [
    "<h3 align=\"center\">Running Time and Big O Notation</h3>\n",
    "\n",
    "- Comparing the **Simple Search** and **Binary Search**, we can say that:\n",
    "  - The maximum number of guesses **Simple Search** is the same as the **size of the list**, i.e. **simple search** runs as *linear time*.\n",
    "  - **Binary Search** runs in *logarithmic time* (or *log time*).\n",
    "\n",
    "<center><img src=\"images/L1_Running_Time.png\" width=\"600\" alt=\"Example\" /></center>\n",
    "\n",
    "- **Big O notation** is special notation that tells you *how fast an algorithm is*.\n",
    "- We will discuss **Big O notations** in details on the **lecture 2**.\n",
    "\n"
   ]
  },
  {
   "cell_type": "markdown",
   "metadata": {},
   "source": [
    "<h3 align=\"center\">Common Big O Running Times</h3>\n",
    "\n",
    "- In general, there are **five** most commonly used **Big O running times**, these are (sorted from fastest to slowest):\n",
    "\n",
    "| ------Name------|------Running Time------ |        ------Algorithm------|\n",
    "|:----------------|:-----------------:|:----------------------|\n",
    "|     Log time    |  $\\Theta(\\log n)$ | Binary search         |\n",
    "|   Linear time   |    $\\Theta(n)$    | Simple search         |\n",
    "| Log linear time | $\\Theta(n\\log n)$ | Quicksort             |\n",
    "|  Quadratic time |   $\\Theta(n^2)$   | Insertion sort        |\n",
    "|  Factorial time |    $\\Theta(n!)$   | Traveling Salesperson |\n",
    "\n",
    "<center><img src=\"images/L1_Running_Time_2.png\" width=\"1500\" alt=\"Example\" /></center>\n"
   ]
  },
  {
   "cell_type": "markdown",
   "metadata": {
    "slideshow": {
     "slide_type": "subslide"
    }
   },
   "source": [
    "<h3 align=\"center\">Hard Problems</h3>\n",
    "\n",
    "- Our usual measure of **efficiency** is speed, i.e., how long an algorithm takes to produce its result.\n",
    "- You might think: **there’s no way I’ll ever run into an algorithm that takes $\\Theta(n!)$ time**.\n",
    "\n",
    "- However, there are some problems, known as **NP-complete**,  for which no efficient algorithms are known.\n",
    "\n",
    "- We'll cover this topic in the last week of the course (**Week 15**).\n",
    "\n",
    "\n",
    "- **Travelling salesman problem**, also known as *commis-voyageur problem*:\n",
    "\n",
    "  This **salesperson** wants to hit all cities while traveling the minimum distance.\n",
    "\n",
    "<center><img src=\"images/L1_Traveling Salesperson.png\" width=\"500\" alt=\"Example\" /></center>\n",
    "\n",
    "- It has no known efficient algorithm.\n",
    "- Only (known) way to do that: **look at every possible order in which he could travel to the cities**\n",
    "- In general, for $n$ items, it will take $n!$ ($n$ factorial) operations to find the minimum distance. \n",
    "- Thus, Running time of is $\\Theta(n!)$, or **factorial time**.\n",
    "\n",
    "| Cities | Operations |\n",
    "|:------:|:-----------|\n",
    "|    4   | 24         |\n",
    "|    5   | 120        |\n",
    "|    6   | 720        |\n",
    "|    7   | 5040       |\n",
    "|    8   | 40320      |\n",
    "|    9   | 362880     |\n",
    "|   10   | 3628800    |\n",
    "\n",
    "- However, under certain assumptions, there is an efficient algorithms that give an overall distance which is not too far above the smallest possible\n",
    "- These algorithms are known as **approximation algorithms**.\n",
    "\n",
    "\n",
    "- You can see for yourself a list of <a href=\"https://en.wikipedia.org/wiki/List_of_NP-complete_problems\">algorithmic problems that have yet to be solved</a>."
   ]
  },
  {
   "cell_type": "markdown",
   "metadata": {
    "slideshow": {
     "slide_type": "slide"
    }
   },
   "source": [
    "<h3 align=\"center\">Arrays and Linked Lists</h3>\n",
    "\n",
    "<center><img src=\"images/L1_How_Memory_Works.png\" width=\"1500\" alt=\"Example\" /></center>\n",
    "\n",
    "\n"
   ]
  },
  {
   "cell_type": "markdown",
   "metadata": {
    "slideshow": {
     "slide_type": "slide"
    }
   },
   "source": [
    "<h3 align=\"center\">Insertion-Sort</h3>\n",
    "\n",
    "- Lets consider the **sorting problem** introduced previously:<br>\n",
    "  **Input**: A sequence of $n$ numbers $\\left \\langle a_1, a_2, \\cdots, a_n \\right \\rangle$  \n",
    "  **Output**: A permutation (reordering) $\\left \\langle a_1, a_2, \\cdots, a_n \\right \\rangle$ of the input sequence such that $a'_1 \\leq a'_2 \\leq \\cdots \\leq a'_n$\n",
    "\n",
    "\n",
    "- The first algorithm we will consider is **Insertion-Sort**. Insertion sort works the way many people sort a hand of playing cards. \n",
    "\n",
    "<center><img src=\"images/L1_Insertion_Sort.png\" width=\"500\" alt=\"Example\" /></center>\n",
    "\n",
    "- **Insertion-Sort** operations:\n",
    "  - We start with the **cards in the left hand**, as show on the Figure;\n",
    "  - Then, starting from the second card from the left, we remove one card at a time sequentially and place it in the correct position;\n",
    "  - To find the correct position for the removed card, we compare it with each of the cards from right to left starting from the removed card position;\n",
    "  - At all times, the cards left from the removed card are sorted."
   ]
  },
  {
   "cell_type": "markdown",
   "metadata": {
    "slideshow": {
     "slide_type": "subslide"
    }
   },
   "source": [
    "<h3 align=\"center\">Insertion-Sort Example</h3>\n",
    "\n",
    "- For example, lets consider the array $A = \\left \\langle 5, 2, 4, 6, 1, 3 \\right \\rangle$. \n",
    "\n",
    "- The operation of **Insertion-Sort** will work as follows:\n",
    "\n",
    "<center><img src=\"images/L1_Insertion_Sort_Operation.png\" width=\"1000\" alt=\"Example\" /></center>\n",
    "\n",
    "- Here:\n",
    "  - Array indices are shown above the rectangle;\n",
    "  - Values stored in array positions are shown in rectangles."
   ]
  },
  {
   "cell_type": "markdown",
   "metadata": {
    "slideshow": {
     "slide_type": "subslide"
    }
   },
   "source": [
    "<h3 align=\"center\">Code for Insertion-Sort</h3>\n",
    "\n",
    "- $\\texttt{insertionSort(A)}$:"
   ]
  },
  {
   "cell_type": "code",
   "execution_count": null,
   "metadata": {
    "slideshow": {
     "slide_type": "-"
    }
   },
   "outputs": [],
   "source": [
    "A = [5, 2, 4, 6, 1, 3]"
   ]
  },
  {
   "cell_type": "code",
   "execution_count": 120,
   "metadata": {
    "slideshow": {
     "slide_type": "-"
    }
   },
   "outputs": [],
   "source": [
    "for j in range(1, len(A)):\n",
    "    key = A[j]\n",
    "    # Insert A[j] in the correct position into the sorted sequence A[1, ..., j-1]\n",
    "    i = j-1\n",
    "    while i >= 0 and A[i] > key:\n",
    "        A[i+1] = A[i]\n",
    "        i = i-1\n",
    "    A[i+1] = key"
   ]
  },
  {
   "cell_type": "code",
   "execution_count": 121,
   "metadata": {
    "slideshow": {
     "slide_type": "-"
    }
   },
   "outputs": [
    {
     "name": "stdout",
     "output_type": "stream",
     "text": [
      "[1, 2, 3, 4, 5, 6]\n"
     ]
    }
   ],
   "source": [
    "print(A)"
   ]
  },
  {
   "cell_type": "markdown",
   "metadata": {
    "slideshow": {
     "slide_type": "subslide"
    }
   },
   "source": [
    "<h3 align=\"center\">Loop Invariant and the Correctness of Insertion-Sort</h3>\n",
    "\n",
    "- Lets consider the **for** loop in the $\\texttt{insertionSort}$ procedure, which is indexed by $j$.\n",
    "\n",
    "- The subarray consisting of elements $A[0, \\cdots, j-1]$ constitutes the currently sorted hand.\n",
    "\n",
    "- We state this property of $A[0, \\cdots, j-1]$ formally as a **loop invariant**.\n",
    "\n",
    "\n",
    "- We use **loop invariants** to help us understand why an algorithm is correct. \n",
    "\n",
    "\n",
    "- We must show **three** things about a **loop invariant**:\n",
    "  - **Initialization**: It is true prior to the first iteration of the loop;\n",
    "  - **Maintenance**: If it is true before an iteration of the loop, it remains true before the next iteration;\n",
    "  - **Termination**: When the loop terminates, the invariant gives us a useful property that helps show that the algorithm is correct.\n",
    "\n"
   ]
  },
  {
   "cell_type": "markdown",
   "metadata": {
    "slideshow": {
     "slide_type": "slide"
    }
   },
   "source": [
    "<h3 align=\"center\">Selection Sort</h3>\n",
    "\n",
    "- The second algorithm we will consider is **Selection-Sort**. \n",
    "\n",
    "- The difference between **Selection-Sort** and **Insertion-Sort** is as follows.\n",
    "\n",
    "\n",
    "- **Selection-Sort** operations:\n",
    "  - We start with an **empty left hand** and the **cards on the table**;\n",
    "  - At a time, we remove the lowest suit card from the table and insert it in the rightmost position in your left hand;\n",
    "  - At all times, the cards held in the left hand are sorted.\n",
    "\n",
    "<center><img src=\"images/L1_Insertion_Sort.png\" width=\"500\" alt=\"Example\" /></center>"
   ]
  },
  {
   "cell_type": "markdown",
   "metadata": {
    "slideshow": {
     "slide_type": "subslide"
    }
   },
   "source": [
    "<h3 align=\"center\">Selection-Sort Example</h3>\n",
    "\n",
    "- Lets consider the linked list $A = \\left \\langle 5, 2, 4, 6, 1, 3 \\right \\rangle$. \n",
    "\n",
    "- The operation of **Insertion-Sort** will work as follows:\n",
    "\n",
    "<center><img src=\"images/L1_Selection_Sort_Operation.png\" width=\"1500\" alt=\"Example\" /></center>\n",
    "\n",
    "- Here:\n",
    "  - Linked list indices are shown above the rectangles for cards on table and in the left hand;\n",
    "  - Values stored in the linked list positions are shown in rectangles."
   ]
  },
  {
   "cell_type": "markdown",
   "metadata": {
    "slideshow": {
     "slide_type": "subslide"
    }
   },
   "source": [
    "<h3 align=\"center\">Another Example of Selection Sort</h3>\n",
    "\n",
    "- Suppose you have a bunch of music on your computer. For each artist, you have a play count.\n",
    "- You want to sort this list from most to least played, so that you can rank your favorite artists.\n",
    "\n",
    "- One way is to go through the list and find the most-played artist and add that artist to a new list, as shown below:\n",
    "\n",
    "<center><img src=\"images/L1_Selection_Sort_2.png\" width=\"1500\" alt=\"Example\" /></center>"
   ]
  },
  {
   "cell_type": "markdown",
   "metadata": {
    "slideshow": {
     "slide_type": "subslide"
    }
   },
   "source": [
    "<h3 align=\"center\">Code for Selection-Sort</h3>\n",
    "\n",
    "- $\\texttt{selectionSort(A)}$:"
   ]
  },
  {
   "cell_type": "code",
   "execution_count": 154,
   "metadata": {
    "slideshow": {
     "slide_type": "-"
    }
   },
   "outputs": [],
   "source": [
    "A = [5, 2, 4, 6, 1, 3]\n",
    "B = []"
   ]
  },
  {
   "cell_type": "code",
   "execution_count": 155,
   "metadata": {
    "slideshow": {
     "slide_type": "-"
    }
   },
   "outputs": [],
   "source": [
    "def findSmallest(A):\n",
    "    key = A[0] \n",
    "    key_index = 0 \n",
    "    for i in range(1, len(A)):\n",
    "        if A[i] < key:\n",
    "            key = A[i]\n",
    "            key_index = i\n",
    "    return key_index"
   ]
  },
  {
   "cell_type": "code",
   "execution_count": 156,
   "metadata": {},
   "outputs": [],
   "source": [
    "for i in range(len(A)):\n",
    "    key_index = findSmallest(A)\n",
    "    B.append(A.pop(key_index))"
   ]
  },
  {
   "cell_type": "code",
   "execution_count": 157,
   "metadata": {
    "slideshow": {
     "slide_type": "-"
    }
   },
   "outputs": [
    {
     "name": "stdout",
     "output_type": "stream",
     "text": [
      "[1, 2, 3, 4, 5, 6]\n"
     ]
    }
   ],
   "source": [
    "print(B)"
   ]
  },
  {
   "cell_type": "markdown",
   "metadata": {
    "slideshow": {
     "slide_type": "subslide"
    }
   },
   "source": [
    "<h3 align=\"center\">Loop Invariants and the Correctness of Selection-Sort</h3>\n",
    "\n",
    "- Lets consider the **for** loop in the $\\texttt{selectionSort}$ procedure, which is indexed by $i$.\n",
    "\n",
    "- The array consisting of elements $B[0, \\cdots, i]$ constitutes the currently sorted hand.\n",
    "\n",
    "- We state this property of $B[0, \\cdots, i]$ formally as a **loop invariant**.\n",
    "\n",
    "\n",
    "- Just as we did for **Inserction-Sort**, we can demonstrate all **three** properties of the **loop invariant**:\n",
    "  - **Initialization**: It is true prior to the first iteration of the loop;\n",
    "  - **Maintenance**: If it is true before an iteration of the loop, it remains true before the next iteration;\n",
    "  - **Termination**: When the loop terminates, the invariant gives us a useful property that helps show that the algorithm is correct.\n",
    "\n"
   ]
  },
  {
   "cell_type": "markdown",
   "metadata": {
    "slideshow": {
     "slide_type": "slide"
    }
   },
   "source": [
    "<h3 align=\"center\">Analyzing Algorithms</h3>\n",
    "\n",
    "- In general, the time taken by an algorithm grows with the size of the input.\n",
    "\n",
    "- Therefore, it is traditional to describe the **running time** of a program as a function of **input size**.\n",
    "\n",
    "\n",
    "- The best notion for **input size** depends on the **problem being studied**:\n",
    "  - **Number of items in the input**, for example, for sorting algorithms;\n",
    "  - **Total number of bits**, for example, for two integers multiplication algorithms;\n",
    "  - **Numbers of vertices and edges in the graph**, for example, for algorithms in graphs.\n",
    "\n",
    "- We assume, that:\n",
    "  - a constant amount of time is required to execute each line of our pseudocode;\n",
    "  - each execution of the $i$-th line takes time $c_i$, where $c_i$ is a constant.\n",
    "  \n",
    "\n",
    "- Using these assumptions, lets calculate the time taken by the $\\texttt{insertionSort}$ procedure."
   ]
  },
  {
   "cell_type": "markdown",
   "metadata": {
    "slideshow": {
     "slide_type": "subslide"
    }
   },
   "source": [
    "<h3 align=\"center\">Analysis Insertion-Sort</h3>\n",
    "\n",
    "- The **running time** of the the **Insertion-Sort** algorithm on a particular **input** is the number of primitive operations or **steps** executed:\n",
    " \n",
    "<center><img src=\"images/L1_Insertion_Sort_Analysis.png\" width=\"600\" alt=\"Example\" /></center>\n",
    "\n",
    "- Execution of the $i$-th line takes time $c_i$, where $c_i$ is a constant.\n",
    "- For each $j = 1, \\cdots, n$, where $n = len(A)-1$, we let $t_j$ denote the **number of times** the **while loop** test in **line 5** is executed for that value of $j$."
   ]
  },
  {
   "cell_type": "markdown",
   "metadata": {
    "slideshow": {
     "slide_type": "subslide"
    }
   },
   "source": [
    "<h3 align=\"center\">Running Time of Insertion-Sort</h3>\n",
    "\n",
    "- The **running time** of **Insertion-Sort** algorithm is the sum of running times for each statement executed:\n",
    "\n",
    "- A statement that takes $c_i$ steps to execute and executes $n$ times will contribute $c_in$ to the total running time\n",
    "\n",
    "- Thus, we can compute the **running time** $T(n)$ of **Insertion-Sort** on an input of $n$ values as follows:\n",
    "\n",
    "$$T(n) = c_1 n + c_2 (n-1) + c_4 (n-1) + c_5 \\sum_{j=1}^{n} t_j + c_6 \\sum_{j=1}^{n} (t_j-1) + c_7 \\sum_{j=1}^{n} (t_j-1) + c_8(n-1)$$\n",
    "\n"
   ]
  },
  {
   "cell_type": "markdown",
   "metadata": {
    "slideshow": {
     "slide_type": "subslide"
    }
   },
   "source": [
    "<h3 align=\"center\">Best-case and Worst-case Scenarios</h3>\n",
    "\n",
    "- The **best-case** scenario occures when the **array is already sorted**. \n",
    "- Thus $t_j = 1$ for $j = 1, .., n$, and the **running time** is:\n",
    "\n",
    "$$T(n) = c_1 n + c_2 (n-1) + c_4 (n-1) + c_5 (n-1) + c_8(n-1) =\\\\= (c_1 + c_2 + c_4 + c_5 + c_8) n - (c_2 + c_4 + c_5 + c_8)$$\n",
    "\n",
    "- it is thus a **linear function** of $n$.\n",
    "\n",
    "\n",
    "- The **worst-case** scenario occures when the array is in **decreasing order**.\n",
    "- We must compare each element $A[j]$ with each element in the entire sorted subarray $A[0, \\cdots, j-1]$, and so $t_j = j$ for $j = 1, \\cdots, n$.\n",
    "- Thus, the **running time** is: \n",
    "$$T(n) =  c_1 n + c_2 (n-1) + c_4 (n-1) + c_5 \\sum_{j=1}^{n} j + c_6 \\sum_{j=1}^{n} (j-1) + c_7 \\sum_{j=1}^{n} (j-1) + c_8(n-1)$$ \n",
    "  Using that: \n",
    "$$ \\sum_{j=1}^{n} j = \\frac{n(n-1)}{2},$$\n",
    "  we get\n",
    "$$= c_1 n + c_2 (n-1) + c_4 (n-1) + c_5 \\frac{n(n-1)}{2} + c_6 \\left ( \\frac{n(n-1)}{2} - n \\right )  + c_7 \\left ( \\frac{n(n-1)}{2} - n \\right ) + c_8(n-1)=$$\n",
    "$$\\left ( \\frac{1}{2}c_5 + \\frac{1}{2}c_6 + \\frac{1}{2}c_7 \\right ) n^2 + \\left (c_1 + c_2 + c_4 + \\frac{1}{2}c_5 - \\frac{3}{2}c_6 - \\frac{3}{2}c_7 + c_8 \\right) n - (c_1 + c_2 + c_4 + c_8) =$$ \n",
    "$$=  an^2 + bn + c$$\n",
    "\n",
    "\n",
    "- It is thus a **quadratic function** of $n$.\n"
   ]
  },
  {
   "cell_type": "markdown",
   "metadata": {
    "slideshow": {
     "slide_type": "slide"
    }
   },
   "source": [
    "<h1 align=\"center\">End of Lecture</h1>"
   ]
  }
 ],
 "metadata": {
  "kernelspec": {
   "display_name": "Python 3",
   "language": "python",
   "name": "python3"
  },
  "language_info": {
   "codemirror_mode": {
    "name": "ipython",
    "version": 3
   },
   "file_extension": ".py",
   "mimetype": "text/x-python",
   "name": "python",
   "nbconvert_exporter": "python",
   "pygments_lexer": "ipython3",
   "version": "3.8.5"
  }
 },
 "nbformat": 4,
 "nbformat_minor": 2
}
