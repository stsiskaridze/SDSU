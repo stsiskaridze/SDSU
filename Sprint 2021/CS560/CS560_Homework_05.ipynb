{
 "cells": [
  {
   "cell_type": "markdown",
   "metadata": {
    "slideshow": {
     "slide_type": "slide"
    }
   },
   "source": [
    "**CS560 - Algorithms and Their Analysis**\n",
    "\n",
    "Title: **Homework 5**\n",
    "\n",
    "Date: **16 April 2021**\n",
    "\n",
    "\n",
    "Deadline: **23 April 2021, 10:00**\n",
    "\n",
    "Homework will be evaluated maximum by **5 points**.\n",
    "\n",
    "Each problem is **one point**. "
   ]
  },
  {
   "cell_type": "markdown",
   "metadata": {},
   "source": [
    "<h3 align=\"center\">Problem 1: Transpose Directed Graph</h3>\n",
    "\n",
    "- The **transpose** of a **directed graph** $G = (V, E)$ is the graph $G^{T} = (V, E^T)$, where $E^T = \\{(v,u) \\in V \\times V: (u,v) \\in E\\}$.\n",
    "\n",
    "\n",
    "- Thus, $G^T$ is $G$ with all its edges reversed.\n",
    "\n",
    "\n",
    "- Describe efficient algorithms for computing $G^T$ from $G$, for both the **adjacency-list** and **adjacency-matrix** representations of $G$. \n",
    "\n",
    "\n",
    "- Analyze the running times of your algorithms."
   ]
  },
  {
   "cell_type": "markdown",
   "metadata": {},
   "source": [
    "<h3 align=\"center\">Problem 2: Breadth-First Search</h3>\n",
    "\n",
    "- Illustrate how **breadth-first search** works on an **undirected graph** starting from **vertex** $A$::\n",
    "\n",
    "  <img src=\"images/H4_P7.png\" width=\"300\" alt=\"Example\" />\n",
    "  \n",
    "**Hint**: Follow the **Figure 22.3.**"
   ]
  },
  {
   "cell_type": "markdown",
   "metadata": {},
   "source": [
    "<h3 align=\"center\">Problem 3: Depth-First Search</h3>\n",
    "\n",
    "- Illustrate how **deepth-first search** works on a **directed graph** assuming the following **vertex processing order**: $H, G, B, A$.\n",
    "\n",
    "<img src=\"images/H4_P8.png\" width=\"300\" alt=\"Example\" />\n",
    "  \n",
    "\n",
    "**Hint**: Follow the **Figure 22.4.**\n"
   ]
  },
  {
   "cell_type": "markdown",
   "metadata": {},
   "source": [
    "<h3 align=\"center\">Problem 4: Brush Tool</h3>\n",
    "\n",
    "- In **Paint**, when we take the **brush** to a pixel and click, the **color of the region** of that pixel is **replaced** with a **new selected color**. \n",
    "\n",
    "\n",
    "- Write the **Python** code for the **brush** tool.\n",
    "\n",
    "  I.e., for a given **2D image**, location of a **pixel** in the image and a **color**, replace color of the given pixel and all adjacent same colored pixels with the given color.\n",
    "  \n",
    "\n",
    "**Hint**:  Use modification of **breadth-first search** algorithm that runs in all four directions (North, East, South, West - ნესვი) using **queue**."
   ]
  },
  {
   "cell_type": "code",
   "execution_count": 5,
   "metadata": {},
   "outputs": [
    {
     "name": "stdout",
     "output_type": "stream",
     "text": [
      "Output:\n",
      "1 1 1 1 1 1 1 1 \n",
      "1 1 1 1 1 1 0 0 \n",
      "1 0 0 1 1 0 1 1 \n",
      "1 3 3 3 3 0 1 0 \n",
      "1 1 1 3 3 0 1 0 \n",
      "1 1 1 3 3 3 3 0 \n",
      "1 1 1 1 1 3 1 1 \n",
      "1 1 1 1 1 3 3 1 \n"
     ]
    }
   ],
   "source": [
    "# Input:  \n",
    "image = [[1, 1, 1, 1, 1, 1, 1, 1],  # The values in the given 2D image indicate colors of the pixels\n",
    "         [1, 1, 1, 1, 1, 1, 0, 0], \n",
    "         [1, 0, 0, 1, 1, 0, 1, 1], \n",
    "         [1, 2, 2, 2, 2, 0, 1, 0], \n",
    "         [1, 1, 1, 2, 2, 0, 1, 0], \n",
    "         [1, 1, 1, 2, 2, 2, 2, 0], \n",
    "         [1, 1, 1, 1, 1, 2, 1, 1], \n",
    "         [1, 1, 1, 1, 1, 2, 2, 1]]\n",
    "\n",
    "x, y = 4, 4   # x and y are coordinates of the brush\n",
    "newColor = 3  # The color that should replace the previous color on image[x][y] and all surrounding pixels with same color"
   ]
  },
  {
   "cell_type": "markdown",
   "metadata": {},
   "source": [
    "<h3 align=\"center\">Problem 5: Boogle Board Game</h3>\n",
    "\n",
    "- Write the **Python** code that **finds** the list of **all possible words** that can be formed by a sequence of adjacent characters on the $M \\times N$ **boogle** board.\n",
    "\n",
    "\n",
    "- You are allowed to search the word in **all eight directions**, i.e. **North**, North-East, **East**, South-East, **South**, South-West, **West**, North-West. \n",
    "  \n",
    "\n",
    "**Hint**:  Use modification of **depth-first search** algorithm that starts from each character in the matrix and explore all eight paths possible and recursively check if they leads to a solution or not."
   ]
  },
  {
   "cell_type": "code",
   "execution_count": 7,
   "metadata": {},
   "outputs": [
    {
     "name": "stdout",
     "output_type": "stream",
     "text": [
      "Output:\n",
      "['STAR', 'NOTE']\n"
     ]
    }
   ],
   "source": [
    "# Input:  \n",
    "board = [['M', 'S', 'E'],\n",
    "         ['R', 'A', 'T'],\n",
    "         ['L', 'O', 'N']]\n",
    "\n",
    "dictionary = [\"STAR\", \"NOTE\", \"SAND\", \"STONE\"] # Dictionary of valid words"
   ]
  }
 ],
 "metadata": {
  "kernelspec": {
   "display_name": "Python 3",
   "language": "python",
   "name": "python3"
  },
  "language_info": {
   "codemirror_mode": {
    "name": "ipython",
    "version": 3
   },
   "file_extension": ".py",
   "mimetype": "text/x-python",
   "name": "python",
   "nbconvert_exporter": "python",
   "pygments_lexer": "ipython3",
   "version": "3.8.5"
  }
 },
 "nbformat": 4,
 "nbformat_minor": 2
}
