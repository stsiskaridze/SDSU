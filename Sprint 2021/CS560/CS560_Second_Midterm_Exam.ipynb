{
 "cells": [
  {
   "cell_type": "markdown",
   "metadata": {},
   "source": [
    "**CS560 - Algorithms and Their Analysis**\n",
    "<br>\n",
    "Date: **4 April 2021 from 11:00 to 14:00**\n",
    "<br>\n",
    "Title: **Second Midterm Exam**\n",
    "\n",
    "You will receive a maximum of **20 points** distributed as follows:\n",
    "\n",
    "\n",
    "**Points are distributed as follows**:\n",
    "- Problem 1: **2 point**.\n",
    "- Problem 2: **2 point**.\n",
    "- Problem 3: **2 point**.\n",
    "- Problem 4: **2 point**.\n",
    "- Problem 5: **2 point**.\n",
    "- Problem 6: **5 point**.\n",
    "- Problem 7: **5 point**."
   ]
  },
  {
   "cell_type": "markdown",
   "metadata": {},
   "source": [
    "<h3 align=\"center\">Students ID Number</h3>\n",
    "\n",
    "\n",
    "- In the table below you can see your **ID** number. \n",
    "\n",
    "- Each student has their own unique **ID**.\n",
    "\n",
    "| ID |           Student          |\n",
    "|:--:|:---------------------------|\n",
    "|  1 | Emil Ahmadov               |\n",
    "|  2 | Daviti Garuchava           |\n",
    "|  3 | Tamar Jalaghonia           |"
   ]
  },
  {
   "cell_type": "markdown",
   "metadata": {},
   "source": [
    "<h3 align=\"center\">Problem 1: Rod Cutting</h3>\n",
    "\n",
    "- For a **price table** shown below determine the **optimal revenues** by inspection, with the corresponding **optimal decompositions**.\n"
   ]
  },
  {
   "cell_type": "code",
   "execution_count": 24,
   "metadata": {
    "scrolled": true
   },
   "outputs": [
    {
     "name": "stdout",
     "output_type": "stream",
     "text": [
      "\n",
      "\n",
      "Student ID = 1\n",
      "Prices = [ 3.  5.  7. 11. 14. 18. 20. 23. 26. 27.]\n",
      "\n",
      "\n",
      "Student ID = 2\n",
      "Prices = [ 3.  5.  7.  9. 10. 11. 15. 18. 22. 23.]\n",
      "\n",
      "\n",
      "Student ID = 3\n",
      "Prices = [ 3.  5.  7. 10. 11. 15. 16. 20. 22. 24.]\n",
      "\n"
     ]
    }
   ],
   "source": []
  },
  {
   "cell_type": "markdown",
   "metadata": {},
   "source": [
    "<h3 align=\"center\">Problem 2: Matrix Chain Multiplication</h3>\n",
    "\n",
    "- Find an **optimal parenthesization** of a **Matrix Chain Product** $A_1  A_2  A_3  A_4  A_5$:"
   ]
  },
  {
   "cell_type": "code",
   "execution_count": 25,
   "metadata": {
    "scrolled": false
   },
   "outputs": [
    {
     "name": "stdout",
     "output_type": "stream",
     "text": [
      "\n",
      "Student ID = 1\n",
      "A1 = 5 x 20\n",
      "A2 = 20 x 25\n",
      "A3 = 25 x 30\n",
      "A4 = 30 x 20\n",
      "A5 = 20 x 10\n",
      "\n",
      "Student ID = 2\n",
      "A1 = 25 x 30\n",
      "A2 = 30 x 15\n",
      "A3 = 15 x 10\n",
      "A4 = 10 x 10\n",
      "A5 = 10 x 15\n",
      "\n",
      "Student ID = 3\n",
      "A1 = 10 x 10\n",
      "A2 = 10 x 10\n",
      "A3 = 10 x 15\n",
      "A4 = 15 x 5\n",
      "A5 = 5 x 30\n"
     ]
    }
   ],
   "source": []
  },
  {
   "cell_type": "markdown",
   "metadata": {
    "slideshow": {
     "slide_type": ""
    }
   },
   "source": [
    "<h3 align=\"center\">Problem 3: Longest Common Subsequence</h3>\n",
    "\n",
    "- Given the result of the output produced by `lengthLCS(X,Y)` procedure on the **sequences** $X$ and $Y$. \n",
    "\n",
    "\n",
    "- For the given $X$ and $Y$ build the **similar** to the one shown below:\n",
    "\n",
    "  <center><img src=\"images/M2B_P2.png\" width=\"400\" alt=\"Example\" /></center>\n",
    "\n",
    "\n",
    "- Using this table, construct the **Longest Common Subsequence** solution. Expain the Answer!"
   ]
  },
  {
   "cell_type": "code",
   "execution_count": 27,
   "metadata": {
    "scrolled": false
   },
   "outputs": [
    {
     "name": "stdout",
     "output_type": "stream",
     "text": [
      "\n",
      "Student ID = 1\n",
      "X = ['C', 'A', 'C', 'B', 'D', 'C', 'C']\n",
      "Y = ['A', 'A', 'A', 'D', 'D', 'A', 'B']\n",
      "b = \n",
      " [['' '' '' '' '' '' '' '']\n",
      " ['' 'U' 'U' 'U' 'U' 'U' 'U' 'U']\n",
      " ['' 'D' 'D' 'D' 'L' 'L' 'D' 'L']\n",
      " ['' 'U' 'U' 'U' 'U' 'U' 'U' 'U']\n",
      " ['' 'U' 'U' 'U' 'U' 'U' 'U' 'D']\n",
      " ['' 'U' 'U' 'U' 'D' 'D' 'L' 'U']\n",
      " ['' 'U' 'U' 'U' 'U' 'U' 'U' 'U']\n",
      " ['' 'U' 'U' 'U' 'U' 'U' 'U' 'U']]\n",
      "c = \n",
      " [[0. 0. 0. 0. 0. 0. 0. 0.]\n",
      " [0. 0. 0. 0. 0. 0. 0. 0.]\n",
      " [0. 1. 1. 1. 1. 1. 1. 1.]\n",
      " [0. 1. 1. 1. 1. 1. 1. 1.]\n",
      " [0. 1. 1. 1. 1. 1. 1. 2.]\n",
      " [0. 1. 1. 1. 2. 2. 2. 2.]\n",
      " [0. 1. 1. 1. 2. 2. 2. 2.]\n",
      " [0. 1. 1. 1. 2. 2. 2. 2.]]\n",
      "\n",
      "Student ID = 2\n",
      "X = ['D', 'C', 'B', 'A', 'B', 'C', 'D']\n",
      "Y = ['D', 'B', 'D', 'A', 'C', 'D', 'D']\n",
      "b = \n",
      " [['' '' '' '' '' '' '' '']\n",
      " ['' 'D' 'L' 'D' 'L' 'L' 'D' 'D']\n",
      " ['' 'U' 'U' 'U' 'U' 'D' 'L' 'L']\n",
      " ['' 'U' 'D' 'L' 'L' 'U' 'U' 'U']\n",
      " ['' 'U' 'U' 'U' 'D' 'L' 'L' 'L']\n",
      " ['' 'U' 'D' 'U' 'U' 'U' 'U' 'U']\n",
      " ['' 'U' 'U' 'U' 'U' 'D' 'L' 'L']\n",
      " ['' 'D' 'U' 'D' 'U' 'U' 'D' 'D']]\n",
      "c = \n",
      " [[0. 0. 0. 0. 0. 0. 0. 0.]\n",
      " [0. 1. 1. 1. 1. 1. 1. 1.]\n",
      " [0. 1. 1. 1. 1. 2. 2. 2.]\n",
      " [0. 1. 2. 2. 2. 2. 2. 2.]\n",
      " [0. 1. 2. 2. 3. 3. 3. 3.]\n",
      " [0. 1. 2. 2. 3. 3. 3. 3.]\n",
      " [0. 1. 2. 2. 3. 4. 4. 4.]\n",
      " [0. 1. 2. 3. 3. 4. 5. 5.]]\n",
      "\n",
      "Student ID = 3\n",
      "X = ['A', 'D', 'D', 'D', 'B', 'B', 'A']\n",
      "Y = ['B', 'D', 'C', 'B', 'B', 'D', 'C']\n",
      "b = \n",
      " [['' '' '' '' '' '' '' '']\n",
      " ['' 'U' 'U' 'U' 'U' 'U' 'U' 'U']\n",
      " ['' 'U' 'D' 'L' 'L' 'L' 'D' 'L']\n",
      " ['' 'U' 'D' 'U' 'U' 'U' 'D' 'L']\n",
      " ['' 'U' 'D' 'U' 'U' 'U' 'D' 'U']\n",
      " ['' 'D' 'U' 'U' 'D' 'D' 'U' 'U']\n",
      " ['' 'D' 'U' 'U' 'D' 'D' 'L' 'L']\n",
      " ['' 'U' 'U' 'U' 'U' 'U' 'U' 'U']]\n",
      "c = \n",
      " [[0. 0. 0. 0. 0. 0. 0. 0.]\n",
      " [0. 0. 0. 0. 0. 0. 0. 0.]\n",
      " [0. 0. 1. 1. 1. 1. 1. 1.]\n",
      " [0. 0. 1. 1. 1. 1. 2. 2.]\n",
      " [0. 0. 1. 1. 1. 1. 2. 2.]\n",
      " [0. 1. 1. 1. 2. 2. 2. 2.]\n",
      " [0. 1. 1. 1. 2. 3. 3. 3.]\n",
      " [0. 1. 1. 1. 2. 3. 3. 3.]]\n"
     ]
    }
   ],
   "source": []
  },
  {
   "cell_type": "markdown",
   "metadata": {},
   "source": [
    "<h3 align=\"center\">Problem 4: An activity-Selection</h3>\n",
    "\n",
    "- Given a **set** $S = \\{a_1, a_2, ..., a_{10}\\}$ of $10$ proposed **activities** that wish to use a **resource**, such as a **lecture hall**.\n",
    "\n",
    "\n",
    "- The **lecture hall** can serve **only one activity at a time**.\n",
    "\n",
    "\n",
    "- Each **activity** $a_i$ has a **start time** $s_i$ and a **finish time** $_i$, where $0 \\leq s_i < f_i < \\infty$, and takes place during the half-open time interval $[s_i, f_i)$:\n",
    "\n",
    "\n",
    "- Activities $a_i$ and $a_j$ are **compatible** if the intervals $[s_i, f_i)$ and $[s_j, f_j)$ **do not overlap**, i.e. when $s_i \\geq f_j$ or $s_j \\geq f_i$.\n",
    "\n",
    "\n",
    "- **Find**  a **maximum-size subset** of **mutually compatible activities**. "
   ]
  },
  {
   "cell_type": "code",
   "execution_count": 28,
   "metadata": {},
   "outputs": [
    {
     "name": "stdout",
     "output_type": "stream",
     "text": [
      "\n",
      "Student ID = 1\n",
      "s_i = [6, 1, 0, 2, 3, 5, 3, 0, 4, 6]\n",
      "f_i = [9, 4, 2, 4, 4, 8, 4, 1, 6, 9]\n",
      "\n",
      "Student ID = 2\n",
      "s_i = [2, 6, 0, 2, 6, 6, 1, 4, 2, 3]\n",
      "f_i = [3, 7, 1, 3, 8, 8, 4, 6, 3, 5]\n",
      "\n",
      "Student ID = 3\n",
      "s_i = [0, 1, 6, 1, 0, 5, 3, 4, 6, 3]\n",
      "f_i = [1, 2, 7, 2, 3, 6, 6, 6, 9, 4]\n"
     ]
    }
   ],
   "source": []
  },
  {
   "cell_type": "markdown",
   "metadata": {},
   "source": [
    "<h3 align=\"center\">Problem 5: Huffman Code</h3>\n",
    "\n",
    "- Given a data file containing only the **characters** $A = [a, b, c, d, e, f, g]$ and the table giving how often each character occurs (**frequency** $f$).\n",
    "\n",
    "\n",
    "- **Encode** the characters using the **Huffman codes**.\n",
    "\n",
    "- **Do not forget** to show the **steps** of **Huffman’s algorithm**."
   ]
  },
  {
   "cell_type": "code",
   "execution_count": 29,
   "metadata": {
    "scrolled": true
   },
   "outputs": [
    {
     "name": "stdout",
     "output_type": "stream",
     "text": [
      "\n",
      "Student ID = 1\n",
      "A = ['a', 'b', 'c', 'd', 'e', 'f', 'g']\n",
      "f = ['4', '2', '5', '3', '4', '5', '5']\n",
      "\n",
      "Student ID = 2\n",
      "A = ['a', 'b', 'c', 'd', 'e', 'f', 'g']\n",
      "f = ['1', '7', '7', '3', '4', '1', '9']\n",
      "\n",
      "Student ID = 3\n",
      "A = ['a', 'b', 'c', 'd', 'e', 'f', 'g']\n",
      "f = ['9', '8', '5', '9', '7', '9', '1']\n"
     ]
    }
   ],
   "source": []
  },
  {
   "cell_type": "markdown",
   "metadata": {},
   "source": [
    "<h3 align=\"center\">Problem 6: Comparing two Strings</h3>\n",
    "\n",
    "- Given two strings $X$ and $Y$. \n",
    "\n",
    "  Determine the smallest set of $Z$ of deletion and insertion of the characters to get string $Y$ from the string $X$.\n",
    " \n",
    "- **Input**:\n",
    "\n",
    "  $X = \"kitten\"$\n",
    "  \n",
    "  $Y = \"sitting\"$\n",
    "\n",
    "-  **Output**:\n",
    "  \n",
    "   $\\text{-k +s i t t -e +i n +g}$\n",
    "  \n",
    "**Hint**: To solve this problem, use **Longest Common Subsequence** $Z$:\n",
    "\n",
    "- If a character is absent in the longest common subsequence $Z$, but present in the input $X$, it must have been **deleted** (indicated by the \"-\").\n",
    "  \n",
    "- If a character is present in the input $Y$, but absent in the longest common subsequence $Z$, it must have been  **inserted**  (indicated by the \"+\").\n",
    "  \n",
    "  \n",
    " \n",
    "\n"
   ]
  },
  {
   "cell_type": "markdown",
   "metadata": {},
   "source": [
    "<h3 align=\"center\">Problem 7: No Train Delay</h3>\n",
    "\n",
    "- Given a **schedule** containing **arrival** and **departure** time of trains in a station.\n",
    "\n",
    "  Find minimum number of platforms needed in the station to avoid any delay in arrival of the trains.\n",
    "  \n",
    "  \n",
    "- **Input**:\n",
    "\n",
    "  $arrival = \\{1.00, 1.10, 2.00, 2.20, 2.50, 4.00 \\}$\n",
    "  \n",
    "  $departure = \\{1.30, 2.40, 2.20, 3.30, 3.00, 4.20 \\}$\n",
    "  \n",
    "  \n",
    "- **Output**:\n",
    "\n",
    "  $\\text{ Minimum platform needed is 2}$\n",
    "  \n",
    "  \n",
    "**Hint** : **Merge** arrival and departure time of the trains and then **sort** them in ascending order. **Introduce** the **counter** representing the **number of platforms**.\n",
    " \n",
    "- If train is scheduled to **arrive** next, **increase** the counter **by $1$**.\n",
    "\n",
    "- If train is scheduled to **depart** next, **decrease** the counter **by $1$**.\n",
    "\n",
    "- If two trains are scheduled to **arrive** and **depart at the same time, depart** the train first.\n"
   ]
  },
  {
   "cell_type": "markdown",
   "metadata": {},
   "source": [
    "<h1 align=\"center\">Wish you good luck!</h1>"
   ]
  }
 ],
 "metadata": {
  "kernelspec": {
   "display_name": "Python 3",
   "language": "python",
   "name": "python3"
  },
  "language_info": {
   "codemirror_mode": {
    "name": "ipython",
    "version": 3
   },
   "file_extension": ".py",
   "mimetype": "text/x-python",
   "name": "python",
   "nbconvert_exporter": "python",
   "pygments_lexer": "ipython3",
   "version": "3.8.5"
  }
 },
 "nbformat": 4,
 "nbformat_minor": 2
}
