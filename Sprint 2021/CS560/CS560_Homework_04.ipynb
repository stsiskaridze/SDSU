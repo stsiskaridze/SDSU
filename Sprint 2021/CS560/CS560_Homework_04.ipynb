{
 "cells": [
  {
   "cell_type": "markdown",
   "metadata": {
    "slideshow": {
     "slide_type": "slide"
    }
   },
   "source": [
    "**CS560 - Algorithms and Their Analysis**\n",
    "\n",
    "Title: **Homework 4**\n",
    "\n",
    "Date: **26 March 2021**\n",
    "\n",
    "\n",
    "Deadline: **2 April 2021, 10:00**\n",
    "\n",
    "Homework will be evaluated maximum by **5 points**.\n",
    "\n",
    "Each problem is **one point**. "
   ]
  },
  {
   "cell_type": "markdown",
   "metadata": {},
   "source": [
    "<h3 align=\"center\">Problem 1: An Activity-Selection Problem</h3>\n",
    "\n",
    "- Given a **set** $S = \\{a_1, a_2, ..., a_{11}\\}$ of $11$ proposed **activities** that wish to use a **resource**, such as a **lecture hall**:\n",
    "\n",
    "\n",
    "- The **lecture hall** can serve **only one activity at a time**.\n",
    "\n",
    "\n",
    "- Each **activity** $a_i$ has a **start time** $s_i$ and a **finish time** $_i$, where $0 \\leq s_i < f_i < \\infty$, and takes place during the half-open time interval $[s_i, f_i)$:\n",
    "\n",
    "\n",
    "|  $i$  | 1 | 2 | 3 | 4 | 5 | 6 | 7  | 8  | 9  | 10 | 11 |\n",
    "|:-----:|:-:|:-:|:-:|:-:|---|---|----|----|----|----|----|\n",
    "| $s_i$ | 1 | 3 | 0 | 5 | 3 | 5 | 6  | 8  | 8  | 2  | 12 |\n",
    "| $f_i$ | 4 | 5 | 6 | 7 | 9 | 9 | 10 | 11 | 12 | 14 | 16 |\n",
    "\n",
    "\n",
    "- Activities $a_i$ and $a_j$ are **compatible** if the intervals $[s_i, f_i)$ and $[s_j, f_j)$ **do not overlap**, i.e. when $s_i \\geq f_j$ or $s_j \\geq f_i$.\n",
    "\n",
    "\n",
    "- **Find**  a **maximum-size subset** of **mutually compatible activities**. "
   ]
  },
  {
   "cell_type": "markdown",
   "metadata": {},
   "source": [
    "<h3 align=\"center\">Problem 2: Huffman Code</h3>\n",
    "\n",
    "- Some student introduced the **prefix code** that corresponds to the following **tree**:\n",
    "\n",
    "  <img src=\"images/H4_P2.png\" width=\"700\" alt=\"Example\" />\n",
    "\n",
    "\n",
    "1. Given the **codeword** $S = 0001000001110$, **tranlate it back** to the **original characters**.\n",
    "\n",
    "\n",
    "2. Is this **prefix code** is a **Hufman code**? Why? (**Explain your answer**)\n",
    "\n",
    "\n",
    "3. **Extract** the **frequency** information for **characters** from the tree and **re- encode** them using **Huffman code**."
   ]
  },
  {
   "cell_type": "markdown",
   "metadata": {},
   "source": [
    "<h3 align=\"center\">Problem 3: Matroids</h3>\n",
    "\n",
    "- Given an $M \\times N$ matrix $T$ over some field $\\mathcal{F}$ (such as the real numbers $\\mathbb{R}$).\n",
    "\n",
    "\n",
    "- Let's define **two sets**:\n",
    "\n",
    "  - $S$ is the **set of columns** of $T$;\n",
    "  \n",
    "  - $I$ is a **set of subsets** of $S$, so that $A \\in I$ **if and only if** the **columns** in $A$ are **linearly independent**.\n",
    "\n",
    "\n",
    "- Show that $(S, I)$ is a **matroid**.\n",
    "\n",
    "**Hint**:  A **matroid** is defined as an ordered pair $(S, I)$ satisfying the following conditions:\n",
    "\n",
    "\n",
    "1. $S$ is **finite set**.\n",
    "\n",
    "\n",
    "2. $I$ is a **nonempty** family of subsets of S, called the **independent** subsets of S:\n",
    "  \n",
    "   If $B \\in I$ and $A \\subseteq B$, then $A \\in I$. \n",
    "   \n",
    "   We say that $I$ is **hereditary** if it satisfies this property. \n",
    "   \n",
    "   Note that the set $\\varnothing$  is necessarily a member of $I$.\n",
    "\n",
    "\n",
    "3. If $A \\in I$, $B \\in I$, and $|A| < |B|$, then there exists some element $x \\in (B-A)$ such that $(A \\cup \\{x\\}) \\in I$.\n",
    "\n",
    "   $|A| < |B|$ means, that number of elements in $A$ is less than number of elements in $B$,\n",
    "   \n",
    "   We say that $M$ satisfies the **exchange property**."
   ]
  },
  {
   "cell_type": "markdown",
   "metadata": {},
   "source": [
    "<h3 align=\"center\">Problem 4: A Task-Scheduling roblem</h3>\n",
    "\n",
    "- Given a **set of tasks** $S = \\{a, b, c, ..., k\\}$, where every task has a **deadline** and associated **penalties** if the task is not finished before the deadline:\n",
    "\n",
    "| Task     |  a |  b |  c |  d |  e |  f |  g |  h |  i |  j |  k |\n",
    "|:---------|:--:|:--:|:--:|:--:|:--:|:--:|:--:|:--:|:--:|:--:|:--:|\n",
    "| Deadline |  4 |  3 |  1 |  4 |  3 |  1 |  4 |  6 |  8 |  2 |  7 |\n",
    "| Penalty  | 40 | 50 | 20 | 30 | 50 | 30 | 40 | 10 | 60 | 20 | 50 |\n",
    "\n",
    "\n",
    "- It is also given that **every task** takes the **single unit of time**.\n",
    "\n",
    "\n",
    "- The **first task** in the schedule **begins** at **time $0$** and **finishes** at **time** $1$, the **second task** begins at **time $1$** and **finishes** at **time $2$**, and so on.\n",
    "\n",
    "\n",
    "- **Find a schedule** for $S$ that **minimizes** the **total penalty** incurred for missed deadlines.\n",
    "\n",
    "**Hint**: Solve the problem using the **gready approach** discussed in **Chapter 16.5**"
   ]
  },
  {
   "cell_type": "markdown",
   "metadata": {},
   "source": [
    "<h3 align=\"center\">Problem 5: Change-Making Problem</h3>\n",
    "\n",
    "- Write **Python** code that solves the **change-making problem**.\n",
    "\n",
    "\n",
    "- The **change-making problem** addresses the question of finding the **minimum number of coins** (of certain **denominations**) that add up to a **given amount of money**.\n",
    "\n",
    "\n",
    "**Hint**: \n",
    "\n",
    "  1. Sort the array of coins in decreasing order.\n",
    "\n",
    "  2. Initialize result as empty.\n",
    "\n",
    "  3. Find the largest denomination that is smaller than current amount.\n",
    "\n",
    "  4. Add found denomination to result. Subtract value of found denomination from amount.\n",
    "\n",
    "  5. If amount becomes $0$, then print result.\n",
    "\n",
    "  6. Else repeat steps $3$ and $4$ for new value of $n$."
   ]
  },
  {
   "cell_type": "code",
   "execution_count": 10,
   "metadata": {},
   "outputs": [
    {
     "name": "stdout",
     "output_type": "stream",
     "text": [
      "Output:\n",
      "1000 500 100 100 100 100 50 20 10 5 "
     ]
    }
   ],
   "source": [
    "# Input:\n",
    "denominations = [1, 10, 100, 1000, 2, 20, 5, 50, 500] # Dominations\n",
    "n = 1985  # Given amount in cents"
   ]
  }
 ],
 "metadata": {
  "kernelspec": {
   "display_name": "Python 3",
   "language": "python",
   "name": "python3"
  },
  "language_info": {
   "codemirror_mode": {
    "name": "ipython",
    "version": 3
   },
   "file_extension": ".py",
   "mimetype": "text/x-python",
   "name": "python",
   "nbconvert_exporter": "python",
   "pygments_lexer": "ipython3",
   "version": "3.8.5"
  }
 },
 "nbformat": 4,
 "nbformat_minor": 2
}
