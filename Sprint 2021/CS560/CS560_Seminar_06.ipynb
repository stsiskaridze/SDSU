{
 "cells": [
  {
   "cell_type": "markdown",
   "metadata": {
    "slideshow": {
     "slide_type": "slide"
    }
   },
   "source": [
    "<h1 align=\"center\">Dynamic Programming</h1>\n",
    "\n",
    "- **Dynamic programming**, like the divide-and-conquer method, **solves problems recursively by combining the solutions to subproblems**.\n",
    "\n",
    "\n",
    "- The **main difference** is that dynamic programming applies when the **subproblems overlap**, i.e. when **subproblems share subsubproblems**.\n",
    "\n",
    "\n",
    "- The **dynamic programming** is applied to **optimization problems**.\n",
    "\n",
    "  In other words, a problem have **many possible solutions** and we wish to **find a solution** with the **optimal (minimum or maximum) value**.\n",
    "  \n",
    "\n",
    "- Since there may be several solutions that achieve the optimal value, we call such a solution **an optimal solution**, as opposed to **the optimal solution**.\n",
    "\n",
    "\n",
    "- When developing a **dynamic-programming algorithm**, we follow a sequence of **four steps**:\n",
    "  1. **Characterize** the structure of an optimal solution.\n",
    "  2. **Define** recursively  the value of an optimal solution.\n",
    "  3. **Compute** the value of an optimal solution (typically in a bottom-up fashion).\n",
    "  4. **Construct** an optimal solution from computed information.\n",
    "  \n",
    "\n",
    "- **Note**: If we **need only the value** of an optimal solution, and not the solution itself, then we **can omit step 4**."
   ]
  },
  {
   "cell_type": "markdown",
   "metadata": {},
   "source": [
    "<h2 align=\"center\">Matrix-Chain Multiplication</h2>\n",
    "\n",
    "- Our **next example** of **dynamic programming** is an algorithm that solves the problem of **matrix-chain multiplication**.\n",
    "\n",
    "\n",
    "- **Problem Statement**: We are given a **sequence** (**chain**) $\\left \\langle A_1, A_2, ..., A_n  \\right \\rangle $ of $n$ **matrices** to be multiplied, and **we wish to compute the product**:\n",
    "\n",
    "  $$A_1  A_2   A_3   \\cdots  A_n.$$\n",
    "\n",
    " \n",
    " \n",
    "- For example, if the chain of matrices is $\\left \\langle A_1, A_2, A_3, A_4\\right \\rangle $, then we can **fully parenthesize** the product $A_1  A_2   A_3   A_4.$ in **five distinct ways**:\n",
    "\n",
    "  $$(A_1  (A_2  (A_3  A_4))).$$\n",
    "  $$(A_1  ((A_2  A_3)  A_4)).$$\n",
    "  $$((A_1  A_2)  (A_3  A_4)).$$\n",
    "  $$((A_1  (A_2  A_3))  A_4).$$\n",
    "  $$(((A_1  A_2) A_3)  A_4).$$\n",
    "\n",
    "\n",
    "- The **standard algorithm** is given by the following procedure, which generalizes the `sqaureMatrixMultiplication` procedure:"
   ]
  },
  {
   "cell_type": "code",
   "execution_count": 7,
   "metadata": {},
   "outputs": [
    {
     "name": "stdout",
     "output_type": "stream",
     "text": [
      "8\n"
     ]
    },
    {
     "data": {
      "text/plain": [
       "array([[ 7., 10.],\n",
       "       [15., 22.]])"
      ]
     },
     "execution_count": 7,
     "metadata": {},
     "output_type": "execute_result"
    }
   ],
   "source": [
    "import numpy as np\n",
    "\n",
    "def matrixMultiply(A,B):\n",
    "    nrowsA, ncolsA = A.shape\n",
    "    nrowsB, ncolsB = B.shape\n",
    "    if ncolsA != nrowsB:\n",
    "        print(\"Incompatible dimensions!\")\n",
    "        return -1\n",
    "    else:\n",
    "        C = np.empty((nrowsA,ncolsB))\n",
    "        count = 0\n",
    "        for i in range(nrowsA):\n",
    "            for j in range(ncolsB):\n",
    "                C[[i],[j]] = 0\n",
    "                for k in range(ncolsA):\n",
    "                    C[[i],[j]] = C[[i],[j]] + A[[i],[k]] * B[[k],[j]]\n",
    "                    count = count + 1\n",
    "        print(count)\n",
    "        return C\n",
    "\n",
    "A = np.array([[1,2],[3,4]])\n",
    "B = np.array([[1,2],[3,4]])\n",
    "C = matrixMultiply(A,B)\n",
    "C"
   ]
  },
  {
   "cell_type": "markdown",
   "metadata": {},
   "source": [
    "- If $A$ is a $p \\times q$ matrix and $B$ is a $q \\times r$ matrix, the resulting matrix $C$ is a $p \\times r$ matrix. \n",
    "\n",
    "\n",
    "- The **time to compute** $C$ is dominated by the **number of scalar multiplications** in line 16, which is $p \\cdot q \\cdot r$.\n",
    "\n",
    "\n",
    "- For example, suppose that the dimensions of the matrices are $10 \\times 100$, $100 \\times 5$, and $5 \\times 50$, respectively.\n",
    "\n",
    "  If we multiply according to the parenthesization $((A_1  A_2) A_3 )$, we perform $10 \\cdot 100 \\cdot 5 = 5000$ scalar multiplications to compute the $10 \\times 5$ matrix product $A_1  A_2$, plus another $10 \\cdot 5  \\cdot 50 =  2500$ scalar multiplications to multiply this matrix by $A_3$, for a total of $7500$ scalar multiplications. \n",
    "  \n",
    "  If instead we multiply according to the parenthesization $(A_1  (A_2  A_3 ))$, we perform $100 \\cdot 5 \\cdot 50 = 25,000$ scalar multiplications to compute the $100\\times 50$ matrix product $A_2  A_3$, plus another $10 \\cdot 100 \\cdot 50 = 50,000$ scalar multiplications to multiply $A_1$ by this matrix, for a total of $75,000$ scalar  ultiplications. \n",
    "  \n",
    "  Thus, **computing the product** according to the **first parenthesization** is **$10$ times faster**."
   ]
  },
  {
   "cell_type": "markdown",
   "metadata": {},
   "source": [
    "<h3 align=\"center\">Using Dynamic Programming for Matrix-Chain Multiplication</h3>\n",
    "\n",
    "- We can state the **matrix-chain multiplication problem** as follows:\n",
    "\n",
    "  Given a **chain** $\\left \\langle A_1, A_2, ..., A_n  \\right \\rangle $ of $n$ matrices, where for $i = 1, 2, ..., n$, matrix $A_i$ has dimension $p_{i-1} \\times p_i$.\n",
    "  \n",
    "  **Fully parenthesize** the product $A_1  A_2  \\cdots  A_n$ in a way that **minimizes** the **number of scalar multiplications**.\n",
    "\n",
    "\n",
    "- Lets **count** the **number of parenthesizations**:\n",
    "\n",
    "  **Denote** the **number of alternative parenthesizations** of a sequence of $n$ matrices by $P(n)$.\n",
    "  \n",
    "  When $n = 1$, we have just **one matrix** and therefore **only one way** to fully parenthesize the matrix product.\n",
    "  \n",
    "  When $n \\geq 2$, a **fully parenthesized** matrix product **is** the **product** of **two fully parenthesized matrix subproducts**, and the split between the two subproducts may occur between the $k$-th and $(k+1)$-st matrices for any $k = 1, 2, ..., n-1$.\n",
    "  \n",
    "  Thus, we have:\n",
    "  \n",
    "  $$P(n) = \n",
    "\\left\\{\\begin{matrix}\n",
    "1 & \\text{ if } n=1, \\\\ \n",
    "\\sum_{k=1}^{n-1} P(k)P(n-k) & \\text{ if } n \\geq 2. \n",
    "\\end{matrix}\\right.$$\n",
    "\n",
    "  The solution of this recurrence is $\\Omega(2^n)$.\n",
    "  \n",
    "  \n",
    "- The **number of solutions** is thus **exponential in** $n$, and the **brute-force method** of exhaustive search **makes for a poor strategy** when determining how to optimally parenthesize a matrix chain.\n",
    "\n",
    "\n",
    "- Let's apply dynamic programming:\n",
    "\n",
    "  In so doing, we shall follow the four-step sequence that we stated at the beginning of this lecture:\n",
    "  \n",
    "  1. **Characterize** the structure of an optimal solution.\n",
    "  2. **Define** recursively  the value of an optimal solution.\n",
    "  3. **Compute** the value of an optimal solution (typically in a bottom-up fashion).\n",
    "  4. **Construct** an optimal solution from computed information.\n",
    "  \n",
    "  \n",
    "1. **The structure of an optimal parenthesization**.\n",
    "\n",
    "   For convenience, let us adopt the **notation** $A_{i..j}$, where $i \\leq j$, for the matrix that results from evaluating the product $A_i A_{i+1} \\cdots A_j$.\n",
    "   \n",
    "   The optimal substructure of this problem is as follows.\n",
    "   \n",
    "   Suppose that to optimally parenthesize $A_{i..j}$, we split the product between $A_k$ and $A_{k+1}$.\n",
    "   \n",
    "   Then the way we parenthesize the **prefix** subchain $A_{i..k}$ within this optimal parenthesization of $A_{i..i+1}$ must be an optimal parenthesization of $A_{i..k}k$. \n",
    "   \n",
    "   **Why**? If there were a less costly way to parenthesize $A_{i..k}$, then we could substitute that parenthesization in the optimal parenthesization of $A_{i..j}$ to produce another way to parenthesize $A_{i..j}$ whose cost was lower than the optimum: a contradiction. \n",
    "   \n",
    "   A similar observation holds for how we parenthesize the subchain $A_{k..j}$ in the optimal parenthesization of $A_{i..j}$: it must be an optimal parenthesization of $A_{k..j}$.\n",
    "   \n",
    "\n",
    "\n",
    "2. **A recursive solution**.\n",
    "\n",
    "   Let's $m[i,j]$ be the minimum number of scalar multiplications needed to compute the matrix $A_{i..j}$.\n",
    "   \n",
    "   We can define $m[i,j]$ recursively as follows.\n",
    "   \n",
    "   if $i = j$, the problem is trivial: the chain consists of just **one matrix** $A_{i..i} = A_i$, thus $m[i,i] = 0$ for $i = 1, 2, ..., n$.\n",
    "   \n",
    "   To compute $m[i, j]$ when $i < j,$ we **take advantage** of the structure of an **optimal solution** from **step 1**.\n",
    "   \n",
    "   Let us assume that to optimally parenthesize, we split the product $A_{i..j}$ bewteen $A_k$ and $A_{k+1}$, where $i \\leq k < j$. \n",
    "   \n",
    "   Then, $m[i,j]$ **equals** the minimum **cost** for **computing the subproducts** $A_{i..k}$ and $A_{k..j}$, **plus** the **cost** of **multiplying these two matrices** together:\n",
    "   \n",
    "   $$m[i,j] = m[i,k] + m[k+1, j] + p_{i-1} p_k p_j.$$\n",
    "   \n",
    "   Thus, our recursive definition for the minimum cost of parenthesizing the product $A_{i..j}$ becomes:\n",
    "   \n",
    "   $$m[i,j] = \n",
    "\\left\\{\\begin{matrix}\n",
    "0 & \\text{ if } i = j,\\\\ \n",
    "\\min_{i \\leq j < j} \\{m[i,k] + m[k+1, j] + p_{i-1} p_k p_j\\}& \\text{ if } i < j. \n",
    "\\end{matrix}\\right.$$ \n",
    " \n",
    "   The $m[i,j$ values give the costs of optimal solutions to subproblems, but they do not provide all the information we need to construct an optimal solution. \n",
    "  \n",
    "   To help us do so, we define $s[i,j]$ to be a value of $k$ at which we split the product $A_{i..j}$ in an optimal parenthesization. \n",
    "   \n",
    "   That is, $s[i,j]$ equals a value $k$ such that $m[i,j] = m[i,k] + m[k+1, j] + p_{i-1} p_k p_j$.\n",
    "   \n",
    "   \n",
    "3. **Computing the optimal costs**.\n",
    "\n",
    "   Instead of computing the solution to recurrence recursively, we **compute** the **optimal cost** by using a **bottom-up approach**.\n",
    "   \n",
    "   As an example, we will generate matrices of the following sizes:\n",
    "   \n",
    "| Matrix    |      $A_1$     |      $A_2$     |     $A_3$     |     $A_4$     |      $A_5$     |      $A_6$     |\n",
    "|-----------|:--------------:|:--------------:|:-------------:|:-------------:|:--------------:|:--------------:|\n",
    "| Dimension | $30 \\times 35$ | $35 \\times 15$ | $15 \\times 5$ | $5 \\times 10$ | $10 \\times 20$ | $20 \\times 25$ |"
   ]
  },
  {
   "cell_type": "code",
   "execution_count": 8,
   "metadata": {},
   "outputs": [],
   "source": [
    "import numpy as np\n",
    "\n",
    "def matrixChainOrder(p):\n",
    "    n = len(p)-1\n",
    "    m = np.zeros((n+1,n+1))\n",
    "    s = np.zeros((n+1,n+1))\n",
    "    for l in range(2, n+1):\n",
    "        for i in range(1, n - l + 2):\n",
    "            j = i + l - 1\n",
    "            m[i,j]= np.infty\n",
    "            for k in range(i, j):\n",
    "                q = m[i,k] + m[k+1,j] + p[i-1] * p[k] * p[j]\n",
    "                if q < m[i,j]:\n",
    "                    m[i,j] = q\n",
    "                    s[i,j] = k\n",
    "    return m, s"
   ]
  },
  {
   "cell_type": "code",
   "execution_count": 9,
   "metadata": {
    "scrolled": true
   },
   "outputs": [
    {
     "name": "stdout",
     "output_type": "stream",
     "text": [
      "[[    0.     0.     0.     0.     0.     0.     0.]\n",
      " [    0.     0. 15750.  7875.  9375. 11875. 15125.]\n",
      " [    0.     0.     0.  2625.  4375.  7125. 10500.]\n",
      " [    0.     0.     0.     0.   750.  2500.  5375.]\n",
      " [    0.     0.     0.     0.     0.  1000.  3500.]\n",
      " [    0.     0.     0.     0.     0.     0.  5000.]\n",
      " [    0.     0.     0.     0.     0.     0.     0.]]\n",
      "[[0. 0. 0. 0. 0. 0. 0.]\n",
      " [0. 0. 1. 1. 3. 3. 3.]\n",
      " [0. 0. 0. 2. 3. 3. 3.]\n",
      " [0. 0. 0. 0. 3. 3. 3.]\n",
      " [0. 0. 0. 0. 0. 4. 5.]\n",
      " [0. 0. 0. 0. 0. 0. 5.]\n",
      " [0. 0. 0. 0. 0. 0. 0.]]\n"
     ]
    }
   ],
   "source": [
    "A1 = np.random.rand(30, 35)\n",
    "A2 = np.random.rand(35, 15)\n",
    "A3 = np.random.rand(15,  5)\n",
    "A4 = np.random.rand( 5, 10)\n",
    "A5 = np.random.rand(10, 20)\n",
    "A6 = np.random.rand(20, 25)\n",
    "\n",
    "B = [A1, A2, A3, A4, A5, A6]\n",
    "\n",
    "p = np.empty(len(B)+1)\n",
    "p[0] = int(B[0].shape[0])\n",
    "for i in range(len(B)):\n",
    "    p[i+1] = int(B[i].shape[1])\n",
    "    \n",
    "m, s = matrixChainOrder(p)\n",
    "print(m)\n",
    "print(s)"
   ]
  },
  {
   "cell_type": "markdown",
   "metadata": {},
   "source": [
    "<center><img src=\"images/S6_Tables.png\" width=\"900\" alt=\"Example\" /></center>"
   ]
  },
  {
   "cell_type": "markdown",
   "metadata": {},
   "source": [
    "4. **Step 4: Constructing an optimal solution**.\n",
    "\n",
    "   Although `matrixChainOrder` procedure determines the optimal number of scalar multiplications needed to compute a matrix-chain product, it does not directly show how to multiply the matrices.\n",
    "   \n",
    "   The initial call `printOptimalParenthesis(s, 1, n)` procedure prints an optimal parenthesization of $\\left \\langle A_1, A_2, ..., A_n  \\right \\rangle $:"
   ]
  },
  {
   "cell_type": "code",
   "execution_count": 10,
   "metadata": {
    "scrolled": true
   },
   "outputs": [
    {
     "data": {
      "text/plain": [
       "array([[0., 0., 0., 0., 0., 0., 0.],\n",
       "       [0., 0., 1., 1., 3., 3., 3.],\n",
       "       [0., 0., 0., 2., 3., 3., 3.],\n",
       "       [0., 0., 0., 0., 3., 3., 3.],\n",
       "       [0., 0., 0., 0., 0., 4., 5.],\n",
       "       [0., 0., 0., 0., 0., 0., 5.],\n",
       "       [0., 0., 0., 0., 0., 0., 0.]])"
      ]
     },
     "execution_count": 10,
     "metadata": {},
     "output_type": "execute_result"
    }
   ],
   "source": [
    "s"
   ]
  },
  {
   "cell_type": "code",
   "execution_count": 11,
   "metadata": {},
   "outputs": [
    {
     "name": "stdout",
     "output_type": "stream",
     "text": [
      "( ( A1 ( A2 A3 ) ) ( ( A4 A5 ) A6 ) ) "
     ]
    }
   ],
   "source": [
    "import numpy as np\n",
    "\n",
    "def printOptimalParenthesis(s, i, j):\n",
    "    if i == j:\n",
    "        print(f\"A{i}\", end=' ')\n",
    "    else: \n",
    "        print(\"(\", end=' ')\n",
    "        printOptimalParenthesis(s, i, int(s[i,j]))\n",
    "        printOptimalParenthesis(s, int(s[i,j]+1), j)\n",
    "        print(\")\", end=' ')\n",
    "\n",
    "printOptimalParenthesis(s, 1, 6)"
   ]
  },
  {
   "cell_type": "markdown",
   "metadata": {
    "slideshow": {
     "slide_type": "slide"
    }
   },
   "source": [
    "<h1 align=\"center\">End of Seminar</h1>"
   ]
  }
 ],
 "metadata": {
  "kernelspec": {
   "display_name": "Python 3",
   "language": "python",
   "name": "python3"
  },
  "language_info": {
   "codemirror_mode": {
    "name": "ipython",
    "version": 3
   },
   "file_extension": ".py",
   "mimetype": "text/x-python",
   "name": "python",
   "nbconvert_exporter": "python",
   "pygments_lexer": "ipython3",
   "version": "3.8.5"
  }
 },
 "nbformat": 4,
 "nbformat_minor": 2
}
