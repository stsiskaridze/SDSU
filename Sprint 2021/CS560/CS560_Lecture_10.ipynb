{
 "cells": [
  {
   "cell_type": "markdown",
   "metadata": {
    "slideshow": {
     "slide_type": "slide"
    }
   },
   "source": [
    "**CS560 - Algorithms and Their Analysis**\n",
    "<br>\n",
    "Date: **16 April 2021**\n",
    "<br>\n",
    "\n",
    "Title: **Lecture 10**\n",
    "<br>\n",
    "Speaker: **Dr. Shota Tsiskaridze**\n",
    "\n",
    "Bibliography:\n",
    "<br> \n",
    " **Chapter 22**. Cormen, Thomas H. and Leiserson, Charles Eric and Rivest, Ronald Linn and Stein, Clifford Seth, *Introduction to Algorithms, 3rd Edition*, MIT Press, 2009\n",
    " \n"
   ]
  },
  {
   "cell_type": "markdown",
   "metadata": {},
   "source": [
    "<h1 align=\"center\">Elementary Graph Algorithms</h1>\n"
   ]
  },
  {
   "cell_type": "markdown",
   "metadata": {},
   "source": [
    "<h3 align=\"center\">Representations of graphs</h3>\n",
    "\n",
    "- There are **two standard ways** to represent a graph $G = (V, E)$:\n",
    "\n",
    "  - as a collection of **adjacency lists**.\n",
    "  \n",
    "  - as an **adjacency matrix**.\n",
    "  \n",
    "  \n",
    "- **Either way applies** to both **directed** graphs:\n",
    "\n",
    "  <img src=\"images/L10_Representation2.png\" width=\"1000\" alt=\"Example\" />\n",
    "  \n",
    "   and **undirected** graphs:\n",
    "  \n",
    "  <img src=\"images/L10_Representation.png\" width=\"1000\" alt=\"Example\" />\n",
    "\n",
    "\n",
    "- The **adjacency-list** representation provides a compact way to represent **sparse graphs**, i.e. those for which $E$ is much less than $|V|^2$.\n",
    "\n",
    "\n",
    "- The **adjacency-matrix** representation provides a compact way to represent **dense graphs**, i.e. those for which $E$ is close to $|V|^2$, or when we need to be able to **tell quickly if there is an edge connecting two given vertices**.\n",
    "\n",
    "\n",
    "- The **adjacency-list** representation of a graph $G = (V, E)$ consists of an array $Adj$ of $|V|$ lists, one for each vertex in $V$.\n",
    "\n",
    "  For each $u \\in V$, the adjacency list $Adj[u]$ contains all the vertices $v$ such that there is an edge $(u,v)\\in E$.\n",
    "  \n",
    "  That is, $Adj[u]$ consists of all the vertices adjacent to $u$ in $G$.\n",
    "  \n",
    "  \n",
    "- For the **adjacency-matrix** representation of a graph $G = (V, E)$, we assume that the vertices are numbered $1, 2, .., |V|$ in some arbitrary manner. \n",
    "\n",
    "  Then the adjacency-matrix representation of a graph $G$ consists of a $|V| \\times |V|$ matrix $A =(a_{ij})$ such that:\\\n",
    "  \n",
    "  $$a_{ij} = \n",
    "  \\left\\{\\begin{matrix}\n",
    "  1 &&\\text{ if } (i,j) \\in E, \\\\\n",
    "  0 && \\text{ otherwise}.\n",
    "  \\end{matrix}\\right.$$"
   ]
  },
  {
   "cell_type": "markdown",
   "metadata": {},
   "source": [
    "<h1 align=\"center\">Breadth-First Search</h1>\n",
    "\n",
    "\n",
    "- Given a graph $G = (V, E)$ and a distinguished **source vertex** $s$.\n",
    "\n",
    "\n",
    "- **Breadth-first search** systematically **explores** the edges of $G$ to **discover** every **vertex** that is **reachable from** $s$. \n",
    "\n",
    "\n",
    "- **It computes the distance** (smallest number of edges) from $s$ to each reachable vertex. \n",
    "\n",
    "\n",
    "- **It** also **produces** a **breadth-first tree** with root $s$ that contains all reachable vertices. \n",
    "\n",
    "\n",
    "- For any vertex $v$ reachable from $s$, the simple path in the breadth-first tree from $s$ to $v$ corresponds to a **shortest path** from $s$ to $v$ in G, that is, a path containing the smallest number of edges. \n",
    "\n",
    "\n",
    "- The **algorithm works** on both **directed** and **undirected graphs**."
   ]
  },
  {
   "cell_type": "markdown",
   "metadata": {},
   "source": [
    "- To keep track of progress, breadth-first search **colors** each vertex **white**, **gray**, or **black**. \n",
    "\n",
    "\n",
    "- All **vertices start out white** and may later **become gray** and **then black**.\n",
    "\n",
    "  <img src=\"images/L10_BFS_Pseudocode.png\" width=\"400\" alt=\"Example\" />\n",
    "\n",
    "\n",
    "- The **operation of BFS** on an **undirected graph** is show below:\n",
    "\n",
    "\n",
    "  <img src=\"images/L10_BFS_Operates.png\" width=\"1000\" alt=\"Example\" />"
   ]
  },
  {
   "cell_type": "markdown",
   "metadata": {},
   "source": [
    "<h3 align=\"center\">Analysis</h3>\n",
    "\n",
    "- **Analysis**: the **total running time** of the **BFS procedure** is $O(V + E)$.\n"
   ]
  },
  {
   "cell_type": "markdown",
   "metadata": {},
   "source": [
    "<h3 align=\"center\">Shortest paths</h3>\n",
    "\n",
    "- Lets define the shortest-path distance $\\delta (s, v)$ from $s$ to $v$ as the **minimum number of edges** in any path from vertex $s$ to vertex $v$.\n",
    "\n",
    "- If there is no path from $s$ to $v$, then $\\delta (s, v) = \\infty$.\n",
    "\n",
    "\n",
    "- **Lemme 1**:\n",
    "\n",
    "  Let $G = (V, E)$ be a **directed** or **undirected graph**, and let $s \\in V$ be an arbitrary vertex. \n",
    "  \n",
    "  Then, for any edge $(u, v) \\in E$ is valid:\n",
    "  \n",
    "  $$\\delta (s, v) \\leq \\delta(s, u) + 1.$$\n",
    "  \n",
    "  \n",
    "- **Lemme 2**:\n",
    "\n",
    "  Let $G = (V, E)$ be a **directed** or **undirected graph**, and suppose that BFS is run on $G$ from a given **source vertex** $s\\in V$. \n",
    "  \n",
    "  Then **upon termination**, for each vertex $v \\in V$, the value $v.d$ **computed by BFS** satisfies:\n",
    "  \n",
    "  $$v.d \\geq \\delta (s, v)$$\n",
    "\n",
    "\n",
    "- **Lemme 2**:\n",
    "\n",
    "  Suppose that during the execution of BFS on a graph $G = (V, E)$, the **queue $Q$** contains the vertices $\\left \\langle v_1, v_2, ..., v_r \\right \\rangle$, where $v_1$ is the head of $Q$ and $v_r$ is the tail.\n",
    "  \n",
    "  Then, $v_r.d \\leq v_1.d + 1$ and $v_i.d \\leq v_{i+1}.d$ for $i = 1, 2, 3, ..., r-1$.\n",
    "  \n",
    "  \n",
    "- **Theorem** (**Correctness of breadth-first search**):\n",
    "\n",
    "  Let $G = (V, E)$ be a **directed** or **undirected graph**, and suppose that BFS is run on $G$ from a given **source vertex** $s\\in V$. \n",
    "  \n",
    "  Then, **during its execution**, **BFS discovers** every vertex $v \\in V$ that is **reachable from the source** $s$, and **upon termination**, $v.d = \\delta (s, v)$ for all $v \\in V$. \n",
    "  \n",
    "  Also, for any vertex $v \\neq s$ that is reachable from $s$, one of the shortest paths from $s$ to $v$ is a shortest path from $s$ to $v.\\pi$ followed by the edge $(v.\\pi, v)$.\n"
   ]
  },
  {
   "cell_type": "markdown",
   "metadata": {},
   "source": [
    "<h3 align=\"center\">Breadth-first trees</h3>\n",
    "\n",
    "\n",
    "- The following procedure prints out the vertices on a shortest path from $s$ to $v$, assuming that **BFS** has already computed a breadth-first tree:\n",
    "\n",
    "\n",
    "  <img src=\"images/L10_BFS_Shortest_Path.png\" width=\"400\" alt=\"Example\" />"
   ]
  },
  {
   "cell_type": "markdown",
   "metadata": {},
   "source": [
    "<h1 align=\"center\">Depth-First Search</h1>\n",
    "\n",
    "\n",
    "  <img src=\"images/L10_DFS_Pseudocode.png\" width=\"600\" alt=\"Example\" />\n",
    "\n",
    "\n",
    "- The **operation of BFS** on an **undirected graph** is show below:\n",
    "\n",
    "\n",
    "  <img src=\"images/L10_DFS_Operates.png\" width=\"1000\" alt=\"Example\" />\n"
   ]
  },
  {
   "cell_type": "markdown",
   "metadata": {},
   "source": [
    "<h3 align=\"center\">Analysis</h3>\n",
    "\n",
    "- **Analysis**: the **total running time** of the **DFS procedure** is $\\Theta(V + E)$.\n"
   ]
  },
  {
   "cell_type": "markdown",
   "metadata": {},
   "source": [
    "<h3 align=\"center\">Properties of Depth-First Search</h3>\n",
    "\n",
    "- One of the **important property** of depth-first search is that discovery and finishing times have **parenthesis structure**.\n",
    "\n",
    "  <img src=\"images/L10_DFS_Parentheses.png\" width=\"600\" alt=\"Example\" />\n",
    "\n",
    "\n",
    "- Thus, vertex $v$ is a proper **descendant** of vertex $u$ in the **depth-first forest** for a directed or undirected graph $G$ **if and only if** $u.d < v.d < v.f < u.f$.\n",
    "\n",
    "\n",
    "- **Theorem** (**White-path theorem**):\n",
    "\n",
    "  In a depth-first forest of a **directed** or **undirected** graph $G = (V, E)$, vertex $v$ is a **descendant** of vertex $u$ **if and only if** at the time $u.d$ that the search discovers $u$, there is a **path** from $u$ to $v$ **consisting** entirely of **white vertices**.\n",
    "  \n",
    "  \n",
    "- **Another interesting property** of **depth-first search** is that the search **can be used** to **classify the edges of the input graph** $G = (V, E)$.\n",
    "\n",
    "  The **type of each edge** can provide **important information** about a graph.\n",
    "  \n",
    "  For example, a **directed graph** is **acyclic** **if and only if** a **depth-first search** **yields no back edges**.\n",
    "  \n",
    "  We can define **four edge types** in terms of the depth-first forest $G_\\pi$ produced by a depth-first search on $G$:\n",
    "  \n",
    "  1. **Tree edges** are edges in the depth-first forest $G_\\pi$. Edge $(u, v)$ is a tree edge if $v$ was first discovered by exploring edge $(u, v)$.\n",
    "  \n",
    "  2. **Back edges** are those edges $(u, v)$ connecting a vertex $u$ to an ancestor $v$ in a depth-first tree. We consider self-loops, which may occur in directed graphs, to be back edges.\n",
    "\n",
    "  3. **Forward edges** are those nontree edges $(u, v)$ connecting a vertex $u$ to a descendant $v$ in a depth-first tree. \n",
    "  \n",
    "  4. **Cross edges** are all other edges. They can go between vertices in the same depth-first tree, as long as one vertex is not an ancestor of the other, or they can go between vertices in different depth-first trees.\n",
    "  \n",
    "  The DFS algorithm has enough information to classify some edges as it encounters them. \n",
    "  \n",
    "  The key idea is that when we first explore an edge $(u, v)$ the color of vertex $v$ tells us something about the edge:\n",
    "  \n",
    "  1. **WHITE** indicates a **tree edge**.\n",
    "  \n",
    "  2. **GRAY** indicates a **back edge**.\n",
    "  \n",
    "  3. **BLACK** indicates a **forward** or **cross edge**.\n",
    "  \n",
    "  \n",
    "- **Theorem**:\n",
    "\n",
    "  In a depth-first search of an undirected graph $G$, every edge of $G$ is either a **tree edge** or a **back edge**."
   ]
  },
  {
   "cell_type": "markdown",
   "metadata": {
    "slideshow": {
     "slide_type": "slide"
    }
   },
   "source": [
    "<h1 align=\"center\">End of Lecture</h1>"
   ]
  }
 ],
 "metadata": {
  "kernelspec": {
   "display_name": "Python 3",
   "language": "python",
   "name": "python3"
  },
  "language_info": {
   "codemirror_mode": {
    "name": "ipython",
    "version": 3
   },
   "file_extension": ".py",
   "mimetype": "text/x-python",
   "name": "python",
   "nbconvert_exporter": "python",
   "pygments_lexer": "ipython3",
   "version": "3.8.5"
  }
 },
 "nbformat": 4,
 "nbformat_minor": 2
}
