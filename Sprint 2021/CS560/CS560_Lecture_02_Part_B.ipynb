{
 "cells": [
  {
   "cell_type": "markdown",
   "metadata": {
    "slideshow": {
     "slide_type": "slide"
    }
   },
   "source": [
    "**CS560 - Algorithms and Their Analysis**\n",
    "<br>\n",
    "Date: **30 January 2021**\n",
    "<br>\n",
    "\n",
    "Title: **Lecture 2: Part B**\n",
    "<br>\n",
    "Speaker: **Dr. Shota Tsiskaridze**\n",
    "\n",
    "\n",
    "Bibliography:\n",
    "<br> \n",
    "[1] Cormen, Thomas H. and Leiserson, Charles Eric and Rivest, Ronald Linn and Stein, Clifford Seth, *Introduction to Algorithms, 3rd Edition*, MIT Press, 2009"
   ]
  },
  {
   "cell_type": "markdown",
   "metadata": {
    "slideshow": {
     "slide_type": "slide"
    }
   },
   "source": [
    "<h1 align=\"center\">Part B: Asymptotic Notation</h1>"
   ]
  },
  {
   "cell_type": "markdown",
   "metadata": {
    "slideshow": {
     "slide_type": "slide"
    }
   },
   "source": [
    "<h3 align=\"center\">What is Asymptotic Notation?</h3>\n",
    "\n",
    "- **Asymptotic Notation** is the notations used to describe the **Running Time** of an algorithm and are defined in terms of functions whose **domains** are the **set of natural numbers** $\\mathbb{N} = \\{1, 2, \\cdots \\}$.\n",
    "\n",
    "- **Running time** function $T(n)$ usually is defined only on **integer input sizes**.\n",
    "\n",
    "- However, sometimes we might **abuse** asymptotic notation to **extend** the notation to the **domain of real numbers**. \n",
    "\n",
    "\n",
    "\n",
    "- Let's go back to our **sorting problem**:\n",
    "  - **Input**: A sequence of $n$ numbers $\\left \\langle a_1, a_2, \\cdots, a_n \\right \\rangle$\n",
    "  - **Output**: A permutation (reordering) $\\left \\langle a_1, a_2, \\cdots, a_n \\right \\rangle$ of the input sequence such that $a'_1 \\leq a'_2 \\leq \\cdots \\leq a'_n$\n",
    "\n",
    "\n",
    "- Recall that we characterized **Insertion-Sort** algorithm's **worst-case running time** as:\n",
    "\n",
    "  $$T(n) = an^2 + bn + c,$$\n",
    "\n",
    "  where $a$, $b$ and $c$ are constants. W\n",
    "  \n",
    "  \n",
    "- We said that **running time** of this algorithm is $\\Theta(n^2)$, but what this notation really means? \n",
    "  \n",
    "  \n",
    "- Did you ask yourself a questions like:\n",
    "  - if the running time of the algorithm takes not more than $a n^2$ steps than can you write also that $T(n) = \\Theta(n^3)$?\n",
    "  - if the running time of the algorithm is $\\Theta(n^2)$ why it can not be $\\Theta(n)$?\n",
    "\n",
    "- To answer these question we will introduce different notations and show the difference between them."
   ]
  },
  {
   "cell_type": "markdown",
   "metadata": {
    "slideshow": {
     "slide_type": "subslide"
    }
   },
   "source": [
    "<h3 align=\"center\">$\\Theta$-notation</h3>\n",
    "\n",
    "- Let us define what this notation means.\n",
    "\n",
    "- For a given function $g(n)$ we denote by $\\Theta(g(n))$ the **set of functions**:\n",
    "\n",
    "  $$\\Theta(g(n)) = \\left \\{f(n): \\exists \\text{ }c_1 > 0, c_2 >0 \\text{ and } n_0\\in\\mathbb{N} \\text{ such that } \\forall n > n_0 \\text{ is valid } 0 \\leq c_1 g(n) \\leq f(n) \\leq c_2 g(n) \\right \\}.$$\n",
    "\n",
    "<center><img src=\"images/L2_Theta_Notation.png\" width=\"300\" alt=\"Example\" /></center>\n",
    "\n",
    "\n",
    "- In other words, a function $f(n)$ belongs to the set $\\Theta(g(n))$, if there exist positive constants $c_1$ and $c_2$ such that it can be **sandwiched** between $c_1 g(n)$ and $c_2 g(n)$, for sufficiently large $n$.\n",
    "\n",
    "\n",
    "- We say that $g(n)$ is an **asymptotically tight bound** for $f(n)$.\n",
    "\n",
    "\n",
    "- Because $g(n)$ is a set, we could write $f(n) \\in \\Theta(g(n))$.\n",
    "- We usually write $f(n)  = \\Theta(g(n))$ to express the same notion\n",
    "\n"
   ]
  },
  {
   "cell_type": "markdown",
   "metadata": {},
   "source": [
    "<h3 align=\"center\">$\\Theta$-notation Example</h3>\n",
    "\n",
    "- Let's consider the function $f(n) = \\frac{1}{2}n^2 - 3n$ and show that $f(n) = \\Theta(n^2)$.\n",
    "\n",
    "\n",
    "- To do so, we must determine positive constants $c_1$, $c_2$, and $n_0$ such that:\n",
    "\n",
    "  $$c_1 n^2 \\leq \\frac{1}{2} n^2  - 3n \\leq c_2 n^2$$\n",
    "  \n",
    "  for all $n \\geq n_0.$\n",
    "  \n",
    "  \n",
    "- Dividing this inequality by $n^2$, we get:\n",
    "\n",
    "  $$c_1 \\leq \\frac{1}{2} - \\frac{3}{n} \\leq c_2.$$\n",
    "  \n",
    "- Choosing $c_1 = \\frac{1}{14}$, $c_2 = \\frac{1}{2}$, and $n_0 = 7$ we can make the left-hand and right-hand inequalities hold  for any value of $n\\geq n_0$.\n",
    "\n",
    "\n",
    "- Thus $f(n) = \\frac{1}{2}n^2 - 3n = \\Theta(n^2).$"
   ]
  },
  {
   "cell_type": "markdown",
   "metadata": {
    "slideshow": {
     "slide_type": "subslide"
    }
   },
   "source": [
    "<h3 align=\"center\">$O$-notation and $\\Omega$-notation</h3>\n",
    "\n",
    "- We use **$O$-notation** (pronounced **Big Oh**) if we have only we have only an **asymptotic upper bound**, \n",
    "\n",
    "  i.e., for a given function $g(n)$ we denote by $O(g(n))$ the **set of functions**:\n",
    "  \n",
    "\n",
    "  $$O(g(n)) = \\left \\{f(n): \\exists \\text{ }c > 0 \\text{ and } n_0\\in\\mathbb{N} \\text{ such that } \\forall n > n_0 \\text{ is valid } 0 \\leq f(n) \\leq c g(n) \\right \\}.$$\n",
    "\n",
    "\n",
    "\n",
    "- The same way we can introduce **$\\Omega$-notation** (pronounced **Big-Omega**) that provides an **asymptotic lower bound**, \n",
    "\n",
    "  i.e., for a given function $g(n)$ we denote by $\\Omega(g(n))$ the **set of functions**:\n",
    "  \n",
    "  $$\\Omega(g(n)) = \\left \\{f(n): \\exists \\text{ }c > 0 \\text{ and } n_0\\in\\mathbb{N} \\text{ such that } \\forall n > n_0 \\text{ is valid } 0 \\leq c g(n) \\leq f(n) \\right \\}.$$\n",
    "  \n",
    "  \n",
    "<center><img src=\"images/L2_Big_0_and_Omega_Notation.png\" width=\"600\" alt=\"Example\" /></center>\n",
    "\n",
    "\n",
    "- **Theorem**: For any two functions $f(n)$ and $g(n)$, we have $f(n) =  \\Theta(g(n))$ if and only if $f(n) = O(g(n))$ and $f(n) = \\Omega(g(n))$."
   ]
  },
  {
   "cell_type": "markdown",
   "metadata": {},
   "source": [
    "<h3 align=\"center\">Asymptotic Notation in Equations and Inequalities</h3>\n",
    "\n",
    "- This may seem strange to you, but we could write, for example, $n = O(n^2)$, and it is true.\n",
    "\n",
    "\n",
    "- Let's see how asymptotic notation can be used within mathematical formulas.\n",
    "\n",
    "\n",
    "- For example, we might also write $2n^2 + 3n + 1  = 2n^2 + \\Theta(n)$. \n",
    "\n",
    "  How do we interpret such formulas?\n",
    "\n",
    "  This formula means that $2n^2 + 3n + 1  = 2n^2 + f(n)$, where $f(n)$ is some function in the set $\\Theta(n)$.\n",
    "  \n",
    "  In this particular case, we let $f(n) = 3n + 1$ which indeed is $\\Theta(n)$.\n",
    "  \n",
    "\n",
    "- In some cases, asymptotic notation appears on the left-hand side of an equation:\n",
    "\n",
    "  $$2n^2 + \\Theta(n) = \\Theta(n^2).$$\n",
    "  \n",
    "  **We interpret such equations using the following rule**: *No matter how the anonymousfunctions are chosen on the left of the equal sign, there is a way to choose the anonymous functions on the right of the equal sign to make the equation valid*.\n",
    "\n"
   ]
  },
  {
   "cell_type": "markdown",
   "metadata": {
    "slideshow": {
     "slide_type": "subslide"
    }
   },
   "source": [
    "<h3 align=\"center\">$o$-notation and $\\omega$-notation</h3>\n",
    "\n",
    "- The **asymptotic upper bound** provided by **$O$-notation** may or may not be **asymptotically tight**.\n",
    "- For example, the bound $2n^2 = O(n^2)$ is **asymptotically tight**, but the bound $2n = O(n^2)$ **is not!**\n",
    "- To denote an upper bound that is **not asymptotically tight** we use $o$-notation (prononced **little-oh**), \n",
    "\n",
    "  which is formally defined as the **set of functions**:\n",
    "  \n",
    "  $$o(g(n)) = \\left \\{f(n): \\forall \\text{ } c > 0 \\text{, }  \\exists \\text{ } n_0 \\in \\mathbb{N} \\text{ such that } \\forall n > n_0 \\text{ is valid } 0 \\leq f(n) \\leq c g(n) \\right \\}.$$\n",
    " \n",
    " \n",
    "- By analogy, $\\omega$-notation is to $\\Omega$-notation as $o$-notation is to $O$-notation.\n",
    "\n",
    "- We use $\\omega$-notation to denote a **lower bound** that is **not asymptotically tight**.\n",
    "\n",
    "- Formally, we define $\\omega(g(n))$ (pronounced **little-omega of $g$ of $n$**) as the **set of functions**:\n",
    " \n",
    "  $$\\omega(g(n)) = \\left \\{f(n): \\forall \\text{ } c > 0 \\text{, }  \\exists \\text{ } n_0 \\in \\mathbb{N} \\text{ such that } \\forall n > n_0 \\text{ is valid } 0 \\leq cg(n) \\leq f(n) \\right \\}.$$\n",
    "  \n",
    "  \n",
    "- For example, $n^2 = \\omega(n)$, but $n^2 \\neq \\omega(n^2)$.\n",
    "\n",
    "\n",
    "- The releation $f(n) = o(g(n))$ implies that:\n",
    "\n",
    "  $$\\lim_{n\\rightarrow \\infty} \\frac{f(n)}{g(n)} = 0.$$\n",
    "\n",
    "\n",
    "- The releation $f(n) = \\omega(g(n))$ implies that:\n",
    "\n",
    "  $$\\lim_{n\\rightarrow \\infty} \\frac{f(n)}{g(n)} = \\infty.$$"
   ]
  },
  {
   "cell_type": "markdown",
   "metadata": {
    "slideshow": {
     "slide_type": "slide"
    }
   },
   "source": [
    "<h1 align=\"center\">End of Part B</h1>"
   ]
  }
 ],
 "metadata": {
  "kernelspec": {
   "display_name": "Python 3",
   "language": "python",
   "name": "python3"
  },
  "language_info": {
   "codemirror_mode": {
    "name": "ipython",
    "version": 3
   },
   "file_extension": ".py",
   "mimetype": "text/x-python",
   "name": "python",
   "nbconvert_exporter": "python",
   "pygments_lexer": "ipython3",
   "version": "3.8.5"
  }
 },
 "nbformat": 4,
 "nbformat_minor": 2
}
