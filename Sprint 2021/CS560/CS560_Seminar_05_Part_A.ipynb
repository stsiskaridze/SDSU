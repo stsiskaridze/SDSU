{
 "cells": [
  {
   "cell_type": "markdown",
   "metadata": {
    "slideshow": {
     "slide_type": "slide"
    }
   },
   "source": [
    "**CS560 - Algorithms and Their Analysis**\n",
    "<br>\n",
    "Date: **30 February 2021**\n",
    "\n",
    "\n",
    "Title: **Seminar 5 - Workshop**\n",
    "<br>\n",
    "Speaker: **Dr. Shota Tsiskaridze**\n"
   ]
  },
  {
   "cell_type": "markdown",
   "metadata": {
    "slideshow": {
     "slide_type": "slide"
    }
   },
   "source": [
    "<h1 align=\"center\">Quicksort</h1>"
   ]
  },
  {
   "cell_type": "markdown",
   "metadata": {},
   "source": [
    "- In previous lectures we introduced **quicksort** algorithms:"
   ]
  },
  {
   "cell_type": "code",
   "execution_count": 6,
   "metadata": {},
   "outputs": [],
   "source": [
    "def quicksort(A, p, r):\n",
    "    if p < r:\n",
    "        q = partition(A, p, r)\n",
    "        quicksort(A, p, q-1)\n",
    "        quicksort(A, q+1, r)"
   ]
  },
  {
   "cell_type": "code",
   "execution_count": 7,
   "metadata": {},
   "outputs": [],
   "source": [
    "def partition(A, p, r):\n",
    "    x = A[r]\n",
    "    i = p-1\n",
    "    for j in range(p, r):\n",
    "        if A[j] <= x:\n",
    "            i = i+1\n",
    "            exchange(A, i, j)\n",
    "    exchange(A, i+1, r)\n",
    "    return i+1"
   ]
  },
  {
   "cell_type": "code",
   "execution_count": 8,
   "metadata": {},
   "outputs": [],
   "source": [
    "def exchange(A, i, j):\n",
    "    temp = A[i]\n",
    "    A[i] = A[j]\n",
    "    A[j] = temp"
   ]
  },
  {
   "cell_type": "code",
   "execution_count": 9,
   "metadata": {},
   "outputs": [
    {
     "name": "stdout",
     "output_type": "stream",
     "text": [
      "[1, 2, 3, 4, 5, 6, 7, 8]\n"
     ]
    }
   ],
   "source": [
    "𝐴 = [2, 8, 7, 1, 3, 5, 6, 4]\n",
    "quicksort(A, 0, len(A)-1)\n",
    "print(A)"
   ]
  },
  {
   "cell_type": "markdown",
   "metadata": {
    "slideshow": {
     "slide_type": "slide"
    }
   },
   "source": [
    "<h3 align=\"center\">Task 1: Patition Procedure Illustration</h3>\n",
    "\n",
    "- Illustrate the operation of `partition` on the array $A[13, 19, 9, 5, 12, 8, 7, 4, 21, 2, 6, 11]$.\n",
    "\n",
    "<center><img src=\"images/S5_Partition.png\" width=\"800\" alt=\"Example\" /></center>"
   ]
  },
  {
   "cell_type": "markdown",
   "metadata": {},
   "source": [
    "- Let's **run** the `partition` procedure on array $A$ and check the correctness of our result."
   ]
  },
  {
   "cell_type": "code",
   "execution_count": 21,
   "metadata": {},
   "outputs": [
    {
     "data": {
      "text/plain": [
       "[9, 5, 8, 7, 4, 2, 6, 11, 21, 13, 19, 12]"
      ]
     },
     "execution_count": 21,
     "metadata": {},
     "output_type": "execute_result"
    }
   ],
   "source": [
    "A = [13, 19, 9, 5, 12, 8, 7, 4, 21, 2, 6, 11]\n",
    "partition(A, 0, 11)\n",
    "A"
   ]
  },
  {
   "cell_type": "markdown",
   "metadata": {
    "slideshow": {
     "slide_type": "slide"
    }
   },
   "source": [
    "<h3 align=\"center\">Task 2: Print the Partition Procedure Steps</h3>\n",
    "\n",
    "- Modify the `partition` procedure to print the array $A$, $i$ and $j$ after each step:"
   ]
  },
  {
   "cell_type": "code",
   "execution_count": 34,
   "metadata": {
    "scrolled": true
   },
   "outputs": [
    {
     "name": "stdout",
     "output_type": "stream",
     "text": [
      "[13, 19, 9, 5, 12, 8, 7, 4, 21, 2, 6, 11]\n",
      "[13, 19, 9, 5, 12, 8, 7, 4, 21, 2, 6, 11] -1 0\n",
      "[13, 19, 9, 5, 12, 8, 7, 4, 21, 2, 6, 11] -1 1\n",
      "[9, 19, 13, 5, 12, 8, 7, 4, 21, 2, 6, 11] 0 2\n",
      "[9, 5, 13, 19, 12, 8, 7, 4, 21, 2, 6, 11] 1 3\n",
      "[9, 5, 13, 19, 12, 8, 7, 4, 21, 2, 6, 11] 1 4\n",
      "[9, 5, 8, 19, 12, 13, 7, 4, 21, 2, 6, 11] 2 5\n",
      "[9, 5, 8, 7, 12, 13, 19, 4, 21, 2, 6, 11] 3 6\n",
      "[9, 5, 8, 7, 4, 13, 19, 12, 21, 2, 6, 11] 4 7\n",
      "[9, 5, 8, 7, 4, 13, 19, 12, 21, 2, 6, 11] 4 8\n",
      "[9, 5, 8, 7, 4, 2, 19, 12, 21, 13, 6, 11] 5 9\n",
      "[9, 5, 8, 7, 4, 2, 6, 12, 21, 13, 19, 11] 6 10\n",
      "[9, 5, 8, 7, 4, 2, 6, 11, 21, 13, 19, 12] 7 10\n"
     ]
    },
    {
     "data": {
      "text/plain": [
       "7"
      ]
     },
     "execution_count": 34,
     "metadata": {},
     "output_type": "execute_result"
    }
   ],
   "source": [
    "# Modify me\n",
    "def partition2(A, p, r):\n",
    "    print(A)\n",
    "    x = A[r]\n",
    "    i = p-1\n",
    "    for j in range(p, r):\n",
    "        if A[j] <= x:\n",
    "            i = i+1\n",
    "            exchange(A, i, j)\n",
    "        print(A, i, j)\n",
    "    exchange(A, i+1, r)\n",
    "    print(A, i+1, j)\n",
    "    return i+1\n",
    "\n",
    "A = [13, 19, 9, 5, 12, 8, 7, 4, 21, 2, 6, 11]\n",
    "partition2(A, 0, 11)"
   ]
  },
  {
   "cell_type": "markdown",
   "metadata": {
    "slideshow": {
     "slide_type": "slide"
    }
   },
   "source": [
    "<h3 align=\"center\">Task 3: Simplify Quicksort Procedure</h3>\n",
    "\n",
    " - Let's **modify** the `partition` procedure to make it look much simpler."
   ]
  },
  {
   "cell_type": "code",
   "execution_count": 35,
   "metadata": {},
   "outputs": [],
   "source": [
    "# Modify me\n",
    "def partition3(A, p, r):\n",
    "    x = A[r]\n",
    "    i = p-1\n",
    "    for j in range(p, r):\n",
    "        if A[j] <= x:\n",
    "            i = i+1\n",
    "            exchange(A, i, j)\n",
    "    exchange(A, i+1, r)\n",
    "    return i+1"
   ]
  },
  {
   "cell_type": "markdown",
   "metadata": {
    "slideshow": {
     "slide_type": "slide"
    }
   },
   "source": [
    "<h3 align=\"center\">Task 4: Quicksort with Equal Element Values</h3>\n",
    "\n",
    "- Let's assume that all elements in the array $A[p..r]$ have the same value.\n",
    "\n",
    "\n",
    "- What value of $q$ does `partition` return?\n",
    "\n",
    "\n",
    "- What is the **running time** of `quicksort` procedure?\n",
    "\n",
    "<center><img src=\"images/S5_Four_Regions.png\" width=\"600\" alt=\"Example\" /></center>\n",
    "\n",
    "\n",
    "- **Modify** `partition` so that $q = \\lfloor (p+r)/2 \\rfloor $."
   ]
  },
  {
   "cell_type": "code",
   "execution_count": 36,
   "metadata": {},
   "outputs": [],
   "source": [
    "# Modify me\n",
    "def partition4(A, p, r):\n",
    "    x = A[r]\n",
    "    i = p-1\n",
    "    for j in range(p, r):\n",
    "        if A[j] <= x:\n",
    "            i = i+1\n",
    "            exchange(A, i, j)\n",
    "    exchange(A, i+1, r)\n",
    "    return i+1"
   ]
  },
  {
   "cell_type": "markdown",
   "metadata": {
    "slideshow": {
     "slide_type": "slide"
    }
   },
   "source": [
    "<h3 align=\"center\">Task 5: Decreasing Order</h3>\n",
    "\n",
    "- How would you modify **quicksort** algorithm to sort into **decreasing order**?"
   ]
  },
  {
   "cell_type": "code",
   "execution_count": 39,
   "metadata": {},
   "outputs": [],
   "source": [
    "# Modify me\n",
    "\n",
    "def quicksort5(A, p, r):\n",
    "    if p < r:\n",
    "        q = partition(A, p, r)\n",
    "        quicksort(A, p, q-1)\n",
    "        quicksort(A, q+1, r)"
   ]
  },
  {
   "cell_type": "code",
   "execution_count": 40,
   "metadata": {},
   "outputs": [],
   "source": [
    "# Modify me\n",
    "def partition5(A, p, r):\n",
    "    x = A[r]\n",
    "    i = p-1\n",
    "    for j in range(p, r):\n",
    "        if A[j] <= x:\n",
    "            i = i+1\n",
    "            exchange(A, i, j)\n",
    "    exchange(A, i+1, r)\n",
    "    return i+1"
   ]
  },
  {
   "cell_type": "markdown",
   "metadata": {
    "slideshow": {
     "slide_type": "slide"
    }
   },
   "source": [
    "<h3 align=\"center\">Task 6: Hoare Partition</h3>\n",
    "\n",
    "- The version of given `partition` procedure **is not** the **original partitioning algorithm**.\n",
    "\n",
    "\n",
    "- Here is the **original partition algorithm**, which is due to **C. A. R. Hoare**:"
   ]
  },
  {
   "cell_type": "code",
   "execution_count": 58,
   "metadata": {},
   "outputs": [],
   "source": [
    "def hoarePartition(A, p, r):\n",
    "    x = A[p]\n",
    "    i = p-1\n",
    "    j = r+1\n",
    "    while True:\n",
    "        while True:\n",
    "            j = j-1\n",
    "            if A[j] <= x:\n",
    "                break\n",
    "        while True:\n",
    "            i = i+1\n",
    "            if A[i] >= x:\n",
    "                break\n",
    "        if i < j:\n",
    "            exchange(A, i, j)\n",
    "        else:\n",
    "            return j"
   ]
  },
  {
   "cell_type": "markdown",
   "metadata": {},
   "source": [
    "- Demonstrate the operation of `hoarePartition` on the array $A[13, 19, 9, 5, 12, 8, 7, 4, 21, 2, 6, 11]$.\n",
    "\n",
    "<center><img src=\"images/S5_Partition.png\" width=\"800\" alt=\"Example\" /></center>"
   ]
  },
  {
   "cell_type": "code",
   "execution_count": 59,
   "metadata": {},
   "outputs": [
    {
     "name": "stdout",
     "output_type": "stream",
     "text": [
      "[2, 4, 5, 6, 7, 8, 9, 11, 12, 13, 19, 21]\n"
     ]
    }
   ],
   "source": [
    "def hoareQuicksort(A, p, r):\n",
    "    if p < r:\n",
    "        q = hoarePartition(A, p, r)\n",
    "        hoareQuicksort(A, p, q)\n",
    "        hoareQuicksort(A, q+1, r)\n",
    "\n",
    "A = [13, 19, 9, 5, 12, 8, 7, 4, 21, 2, 6, 11]\n",
    "hoareQuicksort(A, 0, len(A)-1)\n",
    "print(A)"
   ]
  },
  {
   "cell_type": "markdown",
   "metadata": {
    "slideshow": {
     "slide_type": "slide"
    }
   },
   "source": [
    "<h3 align=\"center\">Task 7: Stack Depth for Quicksort</h3>\n",
    "\n",
    "- After `quicksort` calls `partition`, it **recursively sorts** the **left subarray** and then it **recursively sorts** the **right subarray**.\n",
    "\n",
    "\n",
    "- The **second** recursive call in `quicksort` **is not** really **necessary**!\n",
    "\n",
    "\n",
    "- We can **avoid it** by using an **iterative control structure**, known as **tail recursion**:"
   ]
  },
  {
   "cell_type": "code",
   "execution_count": 60,
   "metadata": {},
   "outputs": [
    {
     "data": {
      "text/plain": [
       "[2, 4, 5, 6, 7, 8, 9, 11, 12, 13, 19, 21]"
      ]
     },
     "execution_count": 60,
     "metadata": {},
     "output_type": "execute_result"
    }
   ],
   "source": [
    "def tailRecursiveQuicksort(A, p, r):\n",
    "    while p < r:\n",
    "        q = partition(A, p, r)\n",
    "        tailRecursiveQuicksort(A, p, q-1)\n",
    "        p = q+1\n",
    "\n",
    "A = [13, 19, 9, 5, 12, 8, 7, 4, 21, 2, 6, 11]\n",
    "tailRecursiveQuicksort(A, 0, 11)\n",
    "A"
   ]
  },
  {
   "cell_type": "markdown",
   "metadata": {},
   "source": [
    "- Explain the correctness of `tailRecursiveQuicksort` procedure."
   ]
  },
  {
   "cell_type": "markdown",
   "metadata": {
    "slideshow": {
     "slide_type": "slide"
    }
   },
   "source": [
    "<h1 align=\"center\">End of Seminar</h1>"
   ]
  }
 ],
 "metadata": {
  "kernelspec": {
   "display_name": "Python 3",
   "language": "python",
   "name": "python3"
  },
  "language_info": {
   "codemirror_mode": {
    "name": "ipython",
    "version": 3
   },
   "file_extension": ".py",
   "mimetype": "text/x-python",
   "name": "python",
   "nbconvert_exporter": "python",
   "pygments_lexer": "ipython3",
   "version": "3.8.5"
  }
 },
 "nbformat": 4,
 "nbformat_minor": 2
}
