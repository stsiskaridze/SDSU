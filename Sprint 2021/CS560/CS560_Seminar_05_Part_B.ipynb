{
 "cells": [
  {
   "cell_type": "markdown",
   "metadata": {
    "slideshow": {
     "slide_type": "slide"
    }
   },
   "source": [
    "**CS560 - Algorithms and Their Analysis**\n",
    "<br>\n",
    "Date: **30 February 2021**\n",
    "\n",
    "\n",
    "Title: **Seminar 5 - Summary**\n",
    "<br>\n",
    "Speaker: **Dr. Shota Tsiskaridze**"
   ]
  },
  {
   "cell_type": "markdown",
   "metadata": {
    "slideshow": {
     "slide_type": "slide"
    }
   },
   "source": [
    "<h1 align=\"center\">Summary</h1>"
   ]
  },
  {
   "cell_type": "markdown",
   "metadata": {},
   "source": [
    "<h3 align=\"center\">Sorting Algorithms</h3>\n",
    "\n",
    "- In previous lectures we introduced **several algorithms** that sort $n$ real numbers. Let's discuss the **advantages** and **disadvantages** of these algorithms.\n",
    "\n",
    "\n",
    "- **Insertion Sort**: takes $\\Theta(n^2)$ time in the **worst case**. Fast **in-place** sorting algorithm for **small input sizes**.\n",
    "\n",
    "\n",
    "- **Merge Sort**: uses **D&C** paradigm. Has a **better** asymptotic running time, $\\Theta(n \\lg n)$, but the it **does not** operate **in-place**.\n",
    "\n",
    "\n",
    "- **Heapsort**: uses an important **data structure**, called a heap, which also used in a **priority queue**. Sorts $n$ numbers **in-place** in $O(n \\lg n)$ time.\n",
    "\n",
    "\n",
    "- **Quicksort**: sorts $n$ numbers **in-place**, but its **worst-case** running time is $\\Theta(n^2)$. \n",
    "\n",
    "  Its **expected running time** is $\\Theta(n \\lg n)$, however, and it generally outperforms **Heapsort** in practice.<br>\n",
    "  It is a **popular** algorithm for sorting **large input arrays**.\n",
    "  \n",
    "  \n",
    "- All these algorithms are **comparison sorts**: they determine the sorted order of an input array by **comparing elements**.\n",
    "\n",
    "\n",
    "- It was proved that a **lower bound** of **comparison sort algorithms** is $\\Omega(n \\lg n)$ on the **worst-case** running time, i.e. **Heapsort** and **Merge Sort** are asymptotically **optimal comparison sorts**."
   ]
  },
  {
   "cell_type": "markdown",
   "metadata": {
    "slideshow": {
     "slide_type": "slide"
    }
   },
   "source": [
    "<h3 align=\"center\">Sorting in Linear Time</h3>\n",
    "\n",
    "- **We will not go through this in our course**, but there are cases when you can sort items in **linear time** (**Chapter 8**).\n",
    "\n",
    "\n",
    "- We can **beat** this **lower bound** of $\\Omega(n \\lg n)$ if we can **gather information** about the sorted order of the **input** by means other than **comparing elements**.\n",
    "\n",
    "\n",
    "- **Counting Sort**: if we can assume that the input numbers are in the set $\\{0, 1, .., k\\}$, then **counting sort** can sort $n$ numbers in $\\Theta(k+n)$ time.\n",
    "\n",
    "\n",
    "- **Radix Sort**: if there are $n$ **integers** to sort, each integer has $d$ **digits**, and each digit can **take** on up to $k$ **possible values**, then **Radix Sort** can sort the numbers in $\\Theta(d(n+k))$ time.\n",
    "\n",
    "\n",
    "- **Bucket Sort**: if there are $n$ **real numbers uniformly distributed** in the **half-open interval** $[0, 1)$ then **Bucket Sort** can sort these numbers in $O(n)$ time.\n",
    "\n",
    "\n",
    "- The following **table** summarizes the **running times** of the **sorting algorithms**:\n",
    "\n",
    "| Algorithm      |     Worst-case    |     Average-case/expected    |\n",
    "|----------------|:-----------------:|:----------------------------:|\n",
    "| Insertion Sort |   $\\Theta(n^2)$   |         $\\Theta(n^2)$        |\n",
    "| Merge Sort     | $\\Theta(n \\lg n)$ |       $\\Theta(n \\lg n)$      |\n",
    "| Heapsort       |    $O(n \\lg n)$   |                              |\n",
    "| Quicksort      |   $\\Theta(n^2)$   | $\\Theta(n \\lg n)$ (expected) |\n",
    "| Counting Sort  |   $\\Theta(k+n)$   |         $\\Theta(k+n)$        |\n",
    "| Radix Sort     |  $\\Theta(d(n+k))$ |       $\\Theta(d(k+n))$       |\n",
    "| Bucket Sort    |   $\\Theta(n^2)$   |  $\\Theta(n)$ (avarage-case)  |"
   ]
  },
  {
   "cell_type": "markdown",
   "metadata": {
    "slideshow": {
     "slide_type": "slide"
    }
   },
   "source": [
    "<h1 align=\"center\">End of Summary</h1>"
   ]
  }
 ],
 "metadata": {
  "kernelspec": {
   "display_name": "Python 3",
   "language": "python",
   "name": "python3"
  },
  "language_info": {
   "codemirror_mode": {
    "name": "ipython",
    "version": 3
   },
   "file_extension": ".py",
   "mimetype": "text/x-python",
   "name": "python",
   "nbconvert_exporter": "python",
   "pygments_lexer": "ipython3",
   "version": "3.8.5"
  }
 },
 "nbformat": 4,
 "nbformat_minor": 2
}
