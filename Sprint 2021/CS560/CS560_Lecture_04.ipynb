{
 "cells": [
  {
   "cell_type": "markdown",
   "metadata": {
    "slideshow": {
     "slide_type": "slide"
    }
   },
   "source": [
    "**CS560 - Algorithms and Their Analysis**\n",
    "<br>\n",
    "Date: **12 February 2021**\n",
    "<br>\n",
    "\n",
    "Title: **Lecture 4**\n",
    "<br>\n",
    "Speaker: **Dr. Shota Tsiskaridze**\n",
    "|\n",
    "Bibliography:\n",
    "<br> \n",
    " **Chapter 6** of Bhargava, Aditya Y., *Grokking Algorithms*, Manning, 2016  [2].\n",
    " \n"
   ]
  },
  {
   "cell_type": "markdown",
   "metadata": {
    "slideshow": {
     "slide_type": "slide"
    }
   },
   "source": [
    "<h1 align=\"center\">Heapsort</h1>"
   ]
  },
  {
   "cell_type": "markdown",
   "metadata": {},
   "source": [
    "<h3 align=\"center\">Sorting Algorithms</h3>\n",
    "\n",
    "- In previous lectures we introduced several algorithms that sort $n$ real numbers.\n",
    "\n",
    "\n",
    "- **Insertion-Sort**:\n",
    "  - Asymptotic **running time** is $\\Theta(n^2)$ in the **worst case**.\n",
    "  - It is a fast **in-place** sorting algorithm for small input sizes.\n",
    "\n",
    "- **Merge-Sort**:\n",
    "  - Asymptotic **running time** is $\\Theta(n \\lg n)$ in the **worst case**.\n",
    "  - It **does not** operate **in-place**.\n",
    "\n",
    "\n",
    "- Now we introduce another algorithm, called **heapsort**, that sorts arbitrary real numbers **in-place** in $O(n \\lg n)$ time.\n",
    "  \n",
    "  Thus, **heapsort** combines the better attributes of the two sorting algorithms.\n",
    "\n",
    "\n",
    "- **Note**: **In-place** means that **only a constant number** of array elements are **stored** outside the input array at any time."
   ]
  },
  {
   "cell_type": "markdown",
   "metadata": {
    "slideshow": {
     "slide_type": "slide"
    }
   },
   "source": [
    "<h3 align=\"center\">Heaps</h3>\n",
    "\n",
    "- **Heapsort** introduces another algorithm design technique: **heap** (გროვა), uses a data structure to manage information.\n",
    "\n",
    "\n",
    "- **Heap** data structure is useful not only for **heapsort**, but it also makes an efficient **priority queue**.\n",
    "\n",
    "\n",
    "- The (**binary**) **heap** data structure is an **array object** that we can view as a **nearly complete binary tree**:\n",
    "\n",
    "<center><img src=\"images/L4_Heap.png\" width=\"800\" alt=\"Example\" /></center>\n",
    "\n",
    "- Each **node** of the binary tree **corresponds** to an **element of the array** $A$.\n",
    "\n",
    "\n",
    "- The **binary tree** is completely **filled** on **all levels** except possibly the lowest, which is filled from the left up to a point.\n",
    "\n",
    "\n",
    "- An **array** $A$ that represents a heap is an object with **two attributes**:\n",
    "  - $A.lenght$, which gives the **number of elements** in the array $A$.\n",
    "  - $A.heapsize$, which represents **how many elements** in the heap are stored within array $A$.\n",
    "\n",
    "\n",
    "- Thus, only the elements in $A[0.. A.heapsize]$, where $0 \\leq A.heapsize \\leq A.length$, are **valid elements** of the heap.\n",
    "\n",
    "\n",
    "- We define the **height** of the **heap** to be the **height of its root**.\n",
    "\n",
    "- The **height** of a **node** in a heap is defined to be the **number of edges** on the longest simple **downward path** **from the node to a leaf**.\n",
    "\n",
    "\n",
    "- The root of the tree is $A[0]$, and given the index $i$ of a node, we can easily compute the indices of its **parent**, **left child**, and **right child**:"
   ]
  },
  {
   "cell_type": "code",
   "execution_count": 87,
   "metadata": {},
   "outputs": [],
   "source": [
    "def parent(i):\n",
    "    return (i-1)//2\n",
    "\n",
    "def left(i):\n",
    "    return 2*i + 1\n",
    "\n",
    "def right(i):\n",
    "    return 2*i + 2"
   ]
  },
  {
   "cell_type": "markdown",
   "metadata": {},
   "source": [
    "- **Questions**:\n",
    "  - What are the **minimum** and **maximum** **numbers of elements** in a heap of **height** $h$?\n",
    "  - If the heap has $n$-**elements**, what is its' **height**?"
   ]
  },
  {
   "cell_type": "markdown",
   "metadata": {},
   "source": [
    "<h3 align=\"center\">Heap Property</h3>\n",
    "\n",
    "- There are **two kinds** of binary heaps: **max-heaps** and **min-heaps**.\n",
    "\n",
    "\n",
    "- In both kinds, the values in the nodes satisfy a **heap property**, the specifics of which depend on the kind of heap.\n",
    "\n",
    "\n",
    "- In a **max-heap**, the **max-heap property** is that for every node $i$ other than the root:\n",
    "\n",
    "  $$A[parent(i)] \\geq A[i].$$\n",
    "  \n",
    "  Thus, the **largest element** in amax-heap is stored at the **root**.\n",
    "  \n",
    "  For the **heapsort** algorithm, we use **max-heaps**.\n",
    "\n",
    "\n",
    "- In a **min-heap**, the **min-heap property** is that for every node $i$ other than the root:\n",
    "\n",
    "  $$A[parent(i)] \\leq A[i].$$\n",
    "  \n",
    "  Thus, the **smallest element** in a min-heap is at the **root**.\n",
    "  \n",
    "  For the **priority queues**, we use **min-heaps**."
   ]
  },
  {
   "cell_type": "markdown",
   "metadata": {},
   "source": [
    "- **Questions**:\n",
    "  - Assuming that **all elements** are **distinct**, where in a **max-heap** might the **smallest element reside**?\n",
    "  - Is an **ascending sorted array** the **min-heap**?\n",
    "  - Is the array with values $A = [23, 17, 14, 6, 13, 10, 1, 5, 7, 12]$ a **max-heap**?\n",
    "  - If the heap has $n$-elements, what are the **leaf node indices**?"
   ]
  },
  {
   "cell_type": "markdown",
   "metadata": {},
   "source": [
    "<h3 align=\"center\">Basic Procedures</h3>\n",
    "\n",
    "- Let's present some **basic procedures** that are used in a **heapsort** algorithm and a **priority-queue** data structure:\n",
    "\n",
    "  - The **Max-Heapify** procedure, which runs in $O(\\lg n)$ time, is the **key** to maintaining the **max-heap property**.\n",
    "  - The **Build-Max-Heap** procedure, which runs in **linear time**, produces a **max-heap** from an **unordered input array**.\n",
    " - The **Heapsort** procedure, which runs in $O(n \\lg n)$ time, **sorts an array in place**.\n",
    " \n",
    " - The **Max-Heap-Insert, Heap-Extract-Max, Heap-Increase-Key**, and **Heap-Maximum** procedures, which run in $O(\\lg n)$ time, **allow the heap** data structure to **implement** a **priority queue**."
   ]
  },
  {
   "cell_type": "markdown",
   "metadata": {},
   "source": [
    "<h3 align=\"center\">Max-Heapify Procedure</h3>\n",
    "\n",
    "\n",
    "- In order to **maintain** the **max-heap property**, we call the procedure **Max-Heapify**:\n",
    "  - It assumes that the **binary trees rooted** at $left(i)$ and $right(i)$ are **max-heaps**, but the **element** $A[i]$ might be smaller than its children, thus **violating** the **max-heap property**.\n",
    "  - It lets the value at $A[i]$ **float down** in the **max-heap** so that the **subtree rooted** at index $i$ **obeys** the **max-heap property**.\n",
    "  \n"
   ]
  },
  {
   "cell_type": "code",
   "execution_count": 145,
   "metadata": {},
   "outputs": [],
   "source": [
    "def maxHeapify(A, i):\n",
    "    global heapsize\n",
    "    l = left(i)\n",
    "    r = right(i)\n",
    "    if l <= heapsize and A[l] > A[i]:\n",
    "        largest = l\n",
    "    else:\n",
    "        largest = i\n",
    "    if r <= heapsize and A[r] > A[largest]:\n",
    "        largest  = r\n",
    "    if largest != i:\n",
    "        exchange(A, i, largest)\n",
    "        maxHeapify(A, largest)"
   ]
  },
  {
   "cell_type": "code",
   "execution_count": 146,
   "metadata": {},
   "outputs": [],
   "source": [
    "def exchange(A, i, j):\n",
    "    temp = A[i]\n",
    "    A[i] = A[j]\n",
    "    A[j] = temp"
   ]
  },
  {
   "cell_type": "markdown",
   "metadata": {},
   "source": [
    "- The action of $\\texttt{maxHeapify(A,1)}$ procedure, where $A = [16, 4, 10, 14, 7, 9, 3, 2, 8, 1]$, is shown on the figure below:\n",
    "\n",
    "<center><img src=\"images/L4_MaxHeapify.png\" width=\"500\" alt=\"Example\" /></center>\n",
    "\n",
    "\n",
    "- The **running time** of **Max-Heapify** on a **subtree of size** $n$ rooted at a given **node** $i$ is a sum of:\n",
    "  - the $\\Theta(1)$ **time** to fix up the relationships among the elements $A[i]$, $A[left(i)]$, and $A[right(i)]$\n",
    "  - the **time to run MAX-HEAPIFY** on a subtree rooted at one of the children of node $i$ (assuming that the recursive call occurs).\n",
    "\n",
    "\n",
    "- The **children’s subtrees** each have **size** at most $2n/3$, where the **worst case** occurs when the **bottom level** of the tree is **exactly half full**.\n",
    "\n",
    "\n",
    "- Thus, we can describe the **running time** of **Max-Heapify** by the recurrence:\n",
    "\n",
    "  $$T(n) \\leq T(2n/3) + \\Theta(1).$$\n",
    "  \n",
    "- **Question**: Which **case** of the **Master Theorem** to use?\n",
    "\n",
    "\n",
    "- **Final Answer**: $T(n) = O(\\lg n)$."
   ]
  },
  {
   "cell_type": "markdown",
   "metadata": {},
   "source": [
    "<h3 align=\"center\">Build-Max-Heap Procedure</h3>\n",
    "\n",
    "- We can use the **Max-Heapify** procedure in a **bottom-up** manner to **convert** an array $A[0..n]$, where $n = len(A)-1$, into a **max-heap**.\n",
    "\n",
    "\n",
    "- As we have shown, the **elements** in the subarray $A \\left [ \\left ( \\lfloor n/2 \\rfloor + 1 \\right ) .. n \\right ]$ are all **leaves of the tree**, and so each is  a $1$-element heap to begin with.\n",
    "  \n",
    "  \n",
    "- The **Build-Max-Heap** procedure **goes through** the **remaining nodes** of the tree and runs **Max-Heapify** on **each one**.\n",
    "\n",
    "<center><img src=\"images/L4_BuildMaxHeapify.png\" width=\"500\" alt=\"Example\" /></center>\n"
   ]
  },
  {
   "cell_type": "code",
   "execution_count": 147,
   "metadata": {},
   "outputs": [],
   "source": [
    "def buildMaxHeap(A):\n",
    "    heapsize = len(A)-1\n",
    "    for i in range(len(A)//2-1, -1, -1):\n",
    "        maxHeapify(A, i)"
   ]
  },
  {
   "cell_type": "code",
   "execution_count": 148,
   "metadata": {
    "scrolled": true
   },
   "outputs": [
    {
     "name": "stdout",
     "output_type": "stream",
     "text": [
      "[16, 4, 10, 14, 7, 9, 3, 2, 8, 1]\n",
      "[16, 14, 10, 8, 7, 9, 3, 2, 4, 1]\n"
     ]
    }
   ],
   "source": [
    "A = [16, 4, 10, 14, 7, 9, 3, 2, 8, 1]\n",
    "print(A)\n",
    "heapsize = len(A)-1\n",
    "buildMaxHeap(A)\n",
    "print(A)"
   ]
  },
  {
   "cell_type": "markdown",
   "metadata": {},
   "source": [
    "- **Question:** What is the **loop invariant** of the **Build-Max-Heap** procedure?\n",
    "\n",
    "\n",
    "- At the start of **each iteration** of the **for** loop of **lines** $3–4$, each **node** $i+1, i+2, \\cdots, n$ is the **root** of the **max-heap**.\n",
    "\n",
    "\n",
    "- We can **compute** a simple **upper bound** on the **running time** of **Build-Max-Heap** procedure.\n",
    "\n",
    "\n",
    "- Each call to **Max-Heapify** costs $O(\\lg n)$ time, and  **Build-Max-Heap** makes $O(n)$ such calls. \n",
    " \n",
    " \n",
    "- Thus, the **running time** is $O(n \\lg n)$. This **upper bound**, though correct, is **not asymptotically tight**!"
   ]
  },
  {
   "cell_type": "markdown",
   "metadata": {},
   "source": [
    "<h3 align=\"center\">The Heapsort Algorithm</h3>\n",
    "\n",
    "- The heapsort algorithm starts by using **Build-Max-Heap** procedure to build a max-heap on the input array $A[0, ..n]$  where $n = len(A)-1$.\n",
    "\n",
    "\n",
    "- Since the **maximum element** of the array is stored at the **root** $A[0]$, we can **put it** into its **correct final position** by exchanging it with $A[n]$.\n",
    "\n",
    "\n",
    "- If we now discard **node** $n$ from the **heap**, we observe that the **children of the root** remain **max-heaps**.\n",
    "\n",
    "\n",
    "- We can do so by simply **decrementing** $heapsize$.\n",
    "\n",
    "\n",
    "- But the **new root element** might **violate** the **max-heap property**.\n",
    "\n",
    "\n",
    "- We need to call **Max-Heapify** to **restore** the **max-heap property**, which leaves a **max-heap** in $A[0..n-1]$\n",
    "\n",
    "\n",
    "- The **heapsort** algorithm then **repeats this process** for the **max-heap** of **size** $n-1$ down to a **heap** of **size** $2$.\n"
   ]
  },
  {
   "cell_type": "code",
   "execution_count": 150,
   "metadata": {},
   "outputs": [],
   "source": [
    "def heapsort(A):\n",
    "    buildMaxHeap(A)\n",
    "    print(A)\n",
    "    heapsize = len(A)-1\n",
    "    for i in range(len(A)-1, 0, -1):\n",
    "        exchange(A, 0, i)\n",
    "        heapsize = heapsize-1\n",
    "        maxHeapify(A, 0)\n",
    "        print(A)"
   ]
  },
  {
   "cell_type": "code",
   "execution_count": 151,
   "metadata": {
    "scrolled": true
   },
   "outputs": [
    {
     "name": "stdout",
     "output_type": "stream",
     "text": [
      "[4, 1, 3, 2, 16, 9, 10, 14, 8, 7]\n",
      "[16, 14, 10, 8, 7, 9, 3, 2, 4, 1]\n",
      "[14, 8, 10, 4, 7, 9, 3, 2, 1, 16]\n",
      "[10, 8, 9, 4, 7, 1, 3, 2, 14, 16]\n",
      "[9, 8, 3, 4, 7, 1, 2, 10, 14, 16]\n",
      "[8, 7, 3, 4, 16, 1, 9, 10, 14, 2]\n",
      "[7, 16, 3, 4, 2, 8, 9, 10, 14, 1]\n",
      "[16, 7, 3, 4, 2, 8, 9, 10, 14, 1]\n",
      "[7, 16, 3, 14, 2, 8, 9, 10, 4, 1]\n",
      "[16, 14, 7, 10, 2, 8, 9, 3, 4, 1]\n",
      "[16, 14, 7, 10, 2, 8, 9, 3, 4, 1]\n"
     ]
    }
   ],
   "source": [
    "A = [4, 1, 3, 2, 16, 9, 10, 14, 8, 7]\n",
    "print(A)\n",
    "heapsort(A)"
   ]
  },
  {
   "cell_type": "markdown",
   "metadata": {},
   "source": [
    "- **Heapsort** is an **excellent algorithm**, but a good implementation of **quicksort** usually **beats it in practice**.\n",
    "\n",
    "\n",
    "- Nevertheless, the **heap data structure** itself **has many uses**."
   ]
  },
  {
   "cell_type": "markdown",
   "metadata": {},
   "source": [
    "<h3 align=\"center\">Priority Queues</h3>\n",
    "\n",
    "- The **most popular** applications of a **heap**: as an efficient **priority queue**.\n",
    "\n",
    "\n",
    "- As with **heaps**, **priority queues** come in **two forms**: **max-priority queues** and **min-priority queues**.\n",
    "\n",
    "\n",
    "- We will **focus** onnly on how to implement **max-priority queues**.\n",
    "\n",
    "\n",
    "- A **priority queue** is a data structure for **maintaining** a **set** $S$ **of elements**, each with an associated value called a **key**.\n",
    "\n",
    "<center><img src=\"images/L4_Priority_Queue.jpg\" width=\"800\" alt=\"Example\" /></center>\n",
    "\n",
    "\n",
    "\n",
    "- A **max-priority queue** supports the following **operations**:\n",
    "  - $\\texttt{insert(S, x)}$: **inserts the element** $x$ into the set $S$, which is equivalent to the operation $S = S \\cup \\{x\\}$.\n",
    "  - $\\texttt{maximum(S)}$: **returns the element** of $S$ with the **largest key**.\n",
    "  - $\\texttt{extractMax(S)}$: **removes and returns** the **element** of $S$ with the **largest key**.\n",
    "  - $\\texttt{increaseKey(S, x, k)}$: **increase the value** of element $x$’s **key** to the **new value** $k$."
   ]
  },
  {
   "cell_type": "code",
   "execution_count": 203,
   "metadata": {},
   "outputs": [],
   "source": [
    "import numpy as np\n",
    "\n",
    "def insert(A, key):\n",
    "    global heapsize\n",
    "    heapsize = heapsize + 1\n",
    "    A[heapsize] = - np.inf\n",
    "    increaseKey(A, heapsize, key)"
   ]
  },
  {
   "cell_type": "code",
   "execution_count": 204,
   "metadata": {},
   "outputs": [],
   "source": [
    "def maximum(A):\n",
    "    return A[0]"
   ]
  },
  {
   "cell_type": "code",
   "execution_count": 205,
   "metadata": {},
   "outputs": [],
   "source": [
    "def extractMax(A):\n",
    "    global heapsize\n",
    "    if heapsize < 1:\n",
    "        return -1\n",
    "    max = A[0]\n",
    "    A[0] = A[heapsize]\n",
    "    heapsize = heapsize - 1\n",
    "    maxHeapify(A, 1)\n",
    "    return max"
   ]
  },
  {
   "cell_type": "code",
   "execution_count": 206,
   "metadata": {},
   "outputs": [],
   "source": [
    "def increaseKey(A, i, key):\n",
    "    if key < A[i]:\n",
    "        return -1\n",
    "    A[i] = key\n",
    "    while i > 0 and A[parent(i)] < A[i]:\n",
    "        exchange(A, i, parent(i))\n",
    "        i = parent(i)"
   ]
  },
  {
   "cell_type": "markdown",
   "metadata": {},
   "source": [
    "- Let's see these functions in use:"
   ]
  },
  {
   "cell_type": "code",
   "execution_count": 207,
   "metadata": {},
   "outputs": [
    {
     "name": "stdout",
     "output_type": "stream",
     "text": [
      "[1, 2, 4, 8, 16, 32, 64]\n"
     ]
    }
   ],
   "source": [
    "A = [1, 2, 4, 8, 16, 32, 64]\n",
    "print(A)"
   ]
  },
  {
   "cell_type": "code",
   "execution_count": 208,
   "metadata": {},
   "outputs": [
    {
     "name": "stdout",
     "output_type": "stream",
     "text": [
      "[64, 16, 32, 8, 2, 1, 4]\n"
     ]
    }
   ],
   "source": [
    "heapsize = len(A)-1\n",
    "buildMaxHeap(A)\n",
    "print(A)"
   ]
  },
  {
   "cell_type": "code",
   "execution_count": 209,
   "metadata": {
    "scrolled": true
   },
   "outputs": [
    {
     "name": "stdout",
     "output_type": "stream",
     "text": [
      "[128, 64, 32, 8, 16, 1, 4]\n"
     ]
    }
   ],
   "source": [
    "increaseKey(A, 4, 128)\n",
    "print(A)"
   ]
  },
  {
   "cell_type": "code",
   "execution_count": 210,
   "metadata": {
    "scrolled": true
   },
   "outputs": [
    {
     "name": "stdout",
     "output_type": "stream",
     "text": [
      "128\n"
     ]
    }
   ],
   "source": [
    "print(maximum(A))"
   ]
  },
  {
   "cell_type": "code",
   "execution_count": 211,
   "metadata": {},
   "outputs": [
    {
     "name": "stdout",
     "output_type": "stream",
     "text": [
      "4\n",
      "128\n",
      "3\n",
      "[16, 64, 32, 8, 16, 1, 4]\n"
     ]
    }
   ],
   "source": [
    "heapsize = 4\n",
    "print(heapsize)\n",
    "print(extractMax(A))\n",
    "print(heapsize)\n",
    "print(A)"
   ]
  },
  {
   "cell_type": "code",
   "execution_count": 212,
   "metadata": {},
   "outputs": [
    {
     "name": "stdout",
     "output_type": "stream",
     "text": [
      "[16, 5, 32, 8, 16, 1, 4]\n"
     ]
    }
   ],
   "source": [
    "heapsize = 0\n",
    "insert(A, 5)\n",
    "print(A)"
   ]
  },
  {
   "cell_type": "code",
   "execution_count": 218,
   "metadata": {},
   "outputs": [
    {
     "name": "stdout",
     "output_type": "stream",
     "text": [
      "[5, 2, 4, 0, 1, 0, 3]\n"
     ]
    }
   ],
   "source": [
    "B = [0, 0, 0, 0, 0, 0, 0]\n",
    "heapsize = 0\n",
    "for i in range(len(B)-1):\n",
    "    insert (B, i)\n",
    "print(B)"
   ]
  },
  {
   "cell_type": "markdown",
   "metadata": {
    "slideshow": {
     "slide_type": "slide"
    }
   },
   "source": [
    "<h1 align=\"center\">End of Lecture</h1>"
   ]
  }
 ],
 "metadata": {
  "kernelspec": {
   "display_name": "Python 3",
   "language": "python",
   "name": "python3"
  },
  "language_info": {
   "codemirror_mode": {
    "name": "ipython",
    "version": 3
   },
   "file_extension": ".py",
   "mimetype": "text/x-python",
   "name": "python",
   "nbconvert_exporter": "python",
   "pygments_lexer": "ipython3",
   "version": "3.8.5"
  }
 },
 "nbformat": 4,
 "nbformat_minor": 2
}
