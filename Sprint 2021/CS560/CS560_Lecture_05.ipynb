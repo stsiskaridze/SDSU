{
 "cells": [
  {
   "cell_type": "markdown",
   "metadata": {
    "slideshow": {
     "slide_type": "slide"
    }
   },
   "source": [
    "**CS560 - Algorithms and Their Analysis**\n",
    "<br>\n",
    "Date: **20 February 2021**\n",
    "<br>\n",
    "\n",
    "Title: **Lecture 5**\n",
    "<br>\n",
    "Speaker: **Dr. Shota Tsiskaridze**\n",
    "\n",
    "\n",
    "Bibliography:\n",
    "<br> \n",
    " **Chapter 7** of Bhargava, Aditya Y., *Grokking Algorithms*, Manning, 2016  [2].\n",
    " \n"
   ]
  },
  {
   "cell_type": "markdown",
   "metadata": {
    "slideshow": {
     "slide_type": "slide"
    }
   },
   "source": [
    "<h1 align=\"center\">Quicksort</h1>"
   ]
  },
  {
   "cell_type": "markdown",
   "metadata": {},
   "source": [
    "<h3 align=\"center\">Description of Quicksort</h3>\n",
    "\n",
    "- The **Quicksort** algorithm :\n",
    "\n",
    "  - applies the **divide-and-conquer** paradigm.\n",
    "  \n",
    "  - has the advantage of sorting **in-place**.\n",
    "\n",
    "  - has a **worst-case running time** of $\\Theta(n^2)$ on an input array of $n$ numbers.\n",
    "  \n",
    "  - **expected running time** is $\\Theta(n \\lg n)$, and the **constant factors** hidden in the $\\Theta(n \\lg n)$ notation are quite **small**.\n",
    "\n",
    "\n",
    "\n",
    "- Despite this slow worst-case running time, **quicksort** is often the **best practical choice for sorting** because it is remarkably efficient on the average.\n",
    "\n",
    "\n",
    "- There is the **three-step** process in **quicksort** algorithm for sorting a typical subarray $A[p..r]$:\n",
    "\n",
    "  - **Divide**: \n",
    "  \n",
    "    Partition the array $A[p..r]$ into **two** (**possibly empty**) subarrays $A[p..q-1]$ and $A[q+1..r]$ such that each element of $A[p..q-1]$ is **less than or equal** to $A[q]$, which is, in turn, **less than or equal** to each element of $A[q+1..r]$. \n",
    "    \n",
    "    Compute the **index $q$** as part of this **partitioning procedure**.<br><br>\n",
    "\n",
    "  - **Conquer**: Sort the two subarrays $A[p..q-1]$ and $A[q+1..r]$ by **recursive calls to quicksort**.<br><br>\n",
    "    \n",
    "  - **Combine**: Because the subarrays are already sorted, **no work is needed** to combine them.\n",
    "  \n",
    "\n",
    "- In other words, after each iteration **quicksort** algorithm **find** the **correct position** for element $q$.\n",
    "\n",
    "\n",
    "- The following procedure implements **quicksort**:\n"
   ]
  },
  {
   "cell_type": "code",
   "execution_count": 1,
   "metadata": {},
   "outputs": [],
   "source": [
    "def quicksort(A, p, r):\n",
    "    if p < r:\n",
    "        q = partition(A, p, r)\n",
    "        quicksort(A, p, q-1)\n",
    "        quicksort(A, q+1, r)"
   ]
  },
  {
   "cell_type": "markdown",
   "metadata": {},
   "source": [
    "<h3 align=\"center\">Partitioning the Array</h3>\n",
    "\n",
    "- The **key** to the algorithm is the `partition` procedure, which rearranges the subarray $A[p..r]$ **in-place**:"
   ]
  },
  {
   "cell_type": "code",
   "execution_count": 2,
   "metadata": {},
   "outputs": [],
   "source": [
    "def partition(A, p, r):\n",
    "    x = A[r]\n",
    "    i = p-1\n",
    "    for j in range(p, r):\n",
    "        if A[j] <= x:\n",
    "            i = i+1\n",
    "            exchange(A, i, j)\n",
    "    exchange(A, i+1, r)\n",
    "    return i+1"
   ]
  },
  {
   "cell_type": "code",
   "execution_count": 3,
   "metadata": {},
   "outputs": [],
   "source": [
    "def exchange(A, i, j):\n",
    "    temp = A[i]\n",
    "    A[i] = A[j]\n",
    "    A[j] = temp"
   ]
  },
  {
   "cell_type": "markdown",
   "metadata": {},
   "source": [
    "- `partition` procedure always selects an element $x = A[r]$ as a **Pivot** element around which to partition the subarray $A[p..r]$.\n",
    "\n",
    "\n",
    "- As the `partition` procedure runs, it partitions the array into **four** (**possibly empty**) **regions**:\n",
    "  - **Part 1**: elements that are already processed and **less than or equal** $A[r]$;\n",
    "  - **Part 2**: elements that are already processed and **larger than** $A[r]$;\n",
    "  - **Part 3**: elements that are not yet processed;\n",
    "  - **Part 4**: elements $A[r]$.\n",
    "  \n",
    "<center><img src=\"images/L5_Four_Regions.png\" width=\"800\" alt=\"Example\" /></center>\n",
    "\n",
    "\n",
    "- Thus, The **Loop Invariant** at the beginning of each iteration of the **for** loop of **lines 4–7**, for any array **index** $k$, is stated as the properties:\n",
    "\n",
    "  1. If $p \\leq k \\leq i$, then $A[k] \\leq x$;\n",
    "  2. If $i+1 \\leq k \\leq j-1$, then $A[k] > x$;\n",
    "  3. If $k = r$, then $A[k] = x$;\n",
    "\n",
    "\n",
    "- The action of  `partition`  procedure, where  $𝐴=[2, 8, 7, 1, 3, 5, 6, 4]$ , is shown on the figure below:\n",
    "\n",
    "<center><img src=\"images/L5_Partition.png\" width=\"400\" alt=\"Example\" /></center>\n",
    "\n",
    "\n",
    "\n",
    "- The **running time** of `partition`  procedure on the subarray $A[p..r]$ is $\\Theta(n)$, where $n = r - p + 1$."
   ]
  },
  {
   "cell_type": "markdown",
   "metadata": {},
   "source": [
    "<h3 align=\"center\">Performance of Quicksort</h3>\n",
    "\n",
    "- The **running time** of **quicksort** algorithm depends on **which elements** are used for **partitioning**.\n",
    "\n",
    "\n",
    "- Thus, the **running time** depends on whether the partitioning is **balanced** or **unbalanced**:\n",
    "  - If the **partitioning is balanced**, the algorithm runs asymptotically as **fast** as **merge sort**.\n",
    "  - If the **partitioning is unbalanced**, it can run asymptotically as **slowly** as **insertion sort**."
   ]
  },
  {
   "cell_type": "markdown",
   "metadata": {},
   "source": [
    "<h3 align=\"center\">Worst-case Partitioning</h3>\n",
    "\n",
    "- The **worst-case** behavior occurs when the **partitioning** routine produces **one subproblem with $n-1$ elements** and **one with $0$ elements**.\n",
    "\n",
    "<center><img src=\"images/L5_Worst_Case.png\" width=\"600\" alt=\"Example\" /></center>\n",
    "\n",
    "- The **recurrence** for the **running time** can be written as follows:\n",
    "\n",
    "  $$T(n) = T(n-1) + T(0) + \\Theta(n)$$\n",
    "  \n",
    "  and since $T(0) = \\Theta(1)$, we can write:\n",
    "  \n",
    "  $T(n) = T(n-1) + \\Theta(n)$.\n",
    "  \n",
    "\n",
    "- Let's use substitution method to resolve the reccurence:\n",
    "\n",
    "  $$T(n) = T(n-1) + \\Theta(n) = (T(n-2) + \\Theta(n-1)) + \\Theta(n) = \\cdots = (\\cdots(T(1) + \\Theta(2)) + \\Theta(3)) +   \\cdots \\Theta(n-1)) + \\Theta(n),$$\n",
    "  \n",
    "  Thus:\n",
    "  \n",
    "  $$T(n) = \\Theta(1) + \\Theta(2) + \\cdots + \\Theta(n) = \\Theta \\left ( \\frac{n(n-1)}{2} \\right ) = \\Theta(n^2).$$"
   ]
  },
  {
   "cell_type": "markdown",
   "metadata": {},
   "source": [
    "<h3 align=\"center\">Best-case Partitioning</h3>\n",
    "\n",
    "- In the **best-case** behavior, `partition` produces **two subproblems**, each of **size** no more than $n/2$, since one is of size $\\lfloor n/2 \\rfloor$ and one of size $\\lceil n/2 \\rceil - 1$. \n",
    "\n",
    "<center><img src=\"images/L5_Best_Case.png\" width=\"600\" alt=\"Example\" /></center>\n",
    "\n",
    "- In this case, **quicksort** runs **much faster** and the **recurrence** for the **running time** can be written as follows:\n",
    "\n",
    "\n",
    "  $$T(n) = 2 T(n/2) + \\Theta(n).$$\n",
    "  \n",
    "- By **case 2** of the **Master Theorem** this recurrence has the solution $T(n)= \\Theta(n \\lg n)$"
   ]
  },
  {
   "cell_type": "markdown",
   "metadata": {},
   "source": [
    "<h3 align=\"center\">Balanced Partitioning</h3>\n",
    "\n",
    "- The **average-case** running time of **quicksort** is much **closer** to the **best-case** than to the worst-case.\n",
    "\n",
    "\n",
    "- Suppose, for example, that the **partitioning** algorithm always **produces** a **9-to-1** proportional **split**, which at first blush **seems quite unbalanced**. \n",
    "\n",
    "\n",
    "- In this case, the **recurrence** for the **running time** can be written as follows:\n",
    "\n",
    "  $$T(n) = T(9/10) + T(n/10) + \\Theta(n).$$\n",
    "  \n",
    "\n",
    "- To solve this recurrence we will use **recursion tree** method:\n",
    "\n",
    "<center><img src=\"images/L5_Binary_Tree.png\" width=\"800\" alt=\"Example\" /></center>\n",
    "\n",
    "\n",
    "- Notice, that:\n",
    "  - the **recursion terminates** at depth $\\log_{10/9} = \\Theta(\\lg n)$;\n",
    "  - **every level** of the tree has **cost** $cn$.\n",
    "  \n",
    "  \n",
    "- The **running time** of **quicksort** is therefore $O (n \\lg n)$.\n",
    "\n",
    "\n",
    "- Thus, with a **9-to-1** proportional **split** at every level of recursion, **which** intuitively **seems quite unbalanced**, quicksort runs in $O(n \\lg n)$ time.\n",
    "\n",
    "\n",
    "- I.e. **asymptotically** the **same** as if the **split** were right down the **middle**."
   ]
  },
  {
   "cell_type": "markdown",
   "metadata": {},
   "source": [
    "<h3 align=\"center\">Balanced Partitioning</h3>\n",
    "\n",
    "- In the **averagecase**, `partition` produces a mix of **good** and **bad** splits. \n",
    "\n",
    "\n",
    "- In a **recursion tree** for an average-case execution of `partition`, the **good** and **bad** splits are **distributed randomly** throughout the tree.\n",
    "\n",
    "\n",
    "- Let's suppose, that the **good** and **bad** splits alternate levels in the tree, and that the **good** splits are **best-case** splits and the **bad** splits are **worst-case** splits.\n",
    "\n",
    "\n",
    "- The **combination of the **bad** split **followed** by the **good** split produces **three** subarrays of sizes $0$, $(n-1)/2 - 1$, and $(n-1)/2$ \n",
    "\n",
    "  I.e., **combined partitioning** cost $\\Theta(n) + \\Theta(n-1) = \\Theta(n)$\n",
    "  \n",
    "\n",
    "- Thus, the $\\Theta(n-1)$ cost of the **bad** split can be **absorbed** into the $\\Theta(n)$ cost of the **good** split, and the **resulting split** is **good**.\n",
    "\n",
    "<center><img src=\"images/L5_Avarage_Case.png\" width=\"800\" alt=\"Example\" /></center>\n"
   ]
  },
  {
   "cell_type": "markdown",
   "metadata": {},
   "source": [
    "<h3 align=\"center\">A Randomized Version of Quicksort</h3>\n",
    "\n",
    "\n",
    "- Now, instead of always using $A[r]$ as the **Pivot**, we will select a **randomly chosen element** from the subarray $A[p..r]$.\n",
    "\n",
    "\n",
    "- Because we **randomly choose** the **Pivot** element, we expect the split of the input array to be **reasonably well balanced** on average.\n",
    "\n",
    "\n",
    "- To do this, we first **exchange** the **element** $A[r]$ with an **element** chosen at **random** from $A[p..r]$.\n",
    "\n",
    "\n",
    "- The **changes** to `partition` and `quicksort` procedures are small:"
   ]
  },
  {
   "cell_type": "code",
   "execution_count": 4,
   "metadata": {},
   "outputs": [],
   "source": [
    "import numpy as np\n",
    "\n",
    "def randomizedPartition(A, p, r):\n",
    "    i = np.random.randint(p, r+1)\n",
    "    exchange(A, r, i)\n",
    "    return partition(A, p, r)"
   ]
  },
  {
   "cell_type": "code",
   "execution_count": 5,
   "metadata": {},
   "outputs": [],
   "source": [
    "def randomizedQuicksort(A, p, r):\n",
    "    if p < r:\n",
    "        q = randomizedPartition(A, p, r)\n",
    "        randomizedQuicksort(A, p, q-1)\n",
    "        randomizedQuicksort(A, q+1, r)"
   ]
  },
  {
   "cell_type": "code",
   "execution_count": 6,
   "metadata": {},
   "outputs": [
    {
     "name": "stdout",
     "output_type": "stream",
     "text": [
      "[1, 2, 3, 4, 5, 6, 7, 8]\n"
     ]
    }
   ],
   "source": [
    "𝐴 = [2, 8, 7, 1, 3, 5, 6, 4]\n",
    "randomizedQuicksort(A, 0, len(A)-1)\n",
    "print(A)"
   ]
  },
  {
   "cell_type": "markdown",
   "metadata": {},
   "source": [
    "<h3 align=\"center\">Analysis of Quicksort</h3>\n",
    "\n",
    "- The `quicksort` and `randomizedQuicksort` procedures differ only in **how they select pivot elements**, they are the same in all other respects. \n",
    "\n",
    "\n",
    "- We can therefore couch our analysis of `randomizedQuicksort` by discussing the `quicksort` and `partition` procedures, but with the assumption that **Pivot** elements are **selected randomly** from the subarray.\n",
    "\n",
    "\n",
    "- The **running time** of `quicksort` is **dominated** by the **time spent** in the `partition` **procedure**.\n",
    "\n",
    "\n",
    "- Each time the `partition` procedure is **called**, it **selects** a **Pivot** element, and **this element** is **never included** in any future procedures.\n",
    "\n",
    "\n",
    "- Thus, there can be **at most** $n$ **calls** to `partition` over the entire execution of the `quicksort` algorithm.\n",
    "\n",
    "\n",
    "- **One call** to `partition` takes $\\Theta(1)$ **time** plus an **amount of time** that is **proportional** to the **number of iterations** of the **for** loop in **lines 4–7**.\n",
    "\n",
    "\n",
    "- If we can **count** the **total number of times** that **line 5** is executed, we can **bound** the **total time** spent during the entire execution of `quicksort`.\n",
    "\n",
    "\n",
    "- **Lemme**: Let $X$ be the **number of comparisons** performed in **line 5** of `partition` over the **entire execution** of `quicksort` on an $n$-element array. Then the **running time** of `quicksort` is $O(n + X)$.\n",
    "  \n",
    "  \n",
    "- Thus, our goal is to compute $X$, i.e. the **total number of comparisons** performed in **all calls** to `partition`."
   ]
  },
  {
   "cell_type": "markdown",
   "metadata": {},
   "source": [
    "<h3 align=\"center\">Expected Running Time</h3>\n",
    "\n",
    "- For simplicity, lets denote $a_i = A[p+i]$ for $i = 1, ..., n$, where $n = r-p$, i.e. we have $a_1, ..,. a_n$.\n",
    "\n",
    "\n",
    "- We also define the set $A_{ij} = {a_i, .., a_j}$ to be the set of elements between $a_i$ and $a_j$, inclusive.\n",
    "\n",
    "\n",
    "- We must understand **when** the algorithm **compares two elements** $a_i$ and $a_j$ of the array and **when it does not**.\n",
    "\n",
    "\n",
    "- To answer this question, we first observe that **each pair** of elements is **compared at most once**.\n",
    "\n",
    "\n",
    "- Indeed, **elements** are **compared** only to the **Pivot** element and, after a particular call of `partition` finishes, the **pivot** element used in that call is **never again compared to any other elements**.\n",
    "\n",
    "\n",
    "- Thus, we can write:\n",
    "\n",
    "  $$X_{ij} = I\\{a_i \\text{ is compared to } a_j\\}$$\n",
    "  \n",
    "  where $I$ is an **indicator random vriable**:\n",
    "  \n",
    "  $$I\\{A\\} = \n",
    "\\left\\{\\begin{matrix}\n",
    "1 & \\text{ if } A \\text{ occurs,} \\\\ \n",
    "0 & \\text{ if } A \\text{ does not occur.} \n",
    "\\end{matrix}\\right.$$\n",
    "\n",
    "\n",
    "- Since **each pair** is **compared at most once**, we can easily characterize the **total number** of comparisons performed by the algorithm:\n",
    "\n",
    "  $$X = \\sum_{i=1}^{n-1}\\sum_{j=i+1}^{n} X_{ij}.$$\n",
    "  \n",
    "  \n",
    "- Taking **expectations** of both sides, and then using **linearity of expectation**, we obtain:\n",
    "\n",
    "  $$\\mathbb{E}[X] = \\mathbb{E} \\left [\\sum_{i=1}^{n-1}\\sum_{j=i+1}^{n} X_{ij} \\right ] = \\sum_{i=1}^{n-1}\\sum_{j=i+1}^{n} \\mathbb{E}[X_{ij}] = \\sum_{i=1}^{n-1}\\sum_{j=i+1}^{n} Pr\\{a_i \\text{ is compared to } a_j \\}.$$\n",
    "  \n",
    "  \n",
    "- It remains to compute $Pr\\{a_i \\text{ is compared to } a_j \\}$:\n",
    "\n",
    "\n",
    "- Let's think about **when two items are not compared**?!\n",
    "\n",
    "  Once a **Pivot** $x$ is chosen with $a_i < x < a_j$ , we know that $a_i$ and $a_j$ **cannot be compared** at any subsequent time.\n",
    "  \n",
    "  On the other hand, if $a_i$ is **chosen as a pivot** before any other item in $A_{ij}$, then $a_i$ will be compared to each item in $A_{ij}$.\n",
    "  \n",
    "  Similarly, if $a_j$ is **chosen as a pivot** before any other item in $A_{ij}$ , then $a_j$ will be compared to each item in $A_{ij}$ , except for itself.\n",
    "\n",
    "  Thus, $a_i$ and $a_j$ are compared **iff** the first **element** to be **chosen as a pivot** from $A_{ij}$ is either $a_i$ or $a_j$.\n",
    "\n",
    "\n",
    "- Since the set $A_{ij}$ has $j-i+1$ **elements** and since any element of $A_{ij}$ is **equally likely** to be the **first one chosen** as a **Pivot**, we have:\n",
    "\n",
    "  $$Pr\\{a_i \\text{ is compared to } a_j \\} = Pr\\{a_i \\text{ or } a_j \\text{ is first pivot chosen from } A_{ij} \\} = \\\\\n",
    "  = Pr\\{a_i  \\text{ is first Pivot chosen from } A_{ij}\\} +  Pr\\{a_j  \\text{ is first Pivot chosen from } A_{ij}\\} = \\\\\n",
    "  = \\frac{1}{j-i+1} + \\frac{1}{j-i+1} = \\frac{2}{j-i+1}.$$\n",
    " \n",
    "\n",
    "- Thus,\n",
    "\n",
    "  $$\\mathbb{E}[X] =  \\sum_{i=1}^{n-1}\\sum_{j=i+1}^{n} \\frac{2}{j-i+1}  \\\\\n",
    "   = \\sum_{i=1}^{n-1} \\sum_{k=1}^{n-i} \\frac{2}{k+1} \\\\\n",
    "   < \\sum_{i=1}^{n-1}\\sum_{k=1}^{n} \\frac{2}{k} \\\\\n",
    "    = \\sum_{i=1}^{n-1} O(\\lg n) \\\\\n",
    "    = O(n \\lg n).$$\n",
    "    \n",
    "    \n",
    " - Thus we conclude that, using `randomizedPartition`, the **expected running time** of **quicksort** is $O(n\\lg n)$ when element values are distinct."
   ]
  },
  {
   "cell_type": "markdown",
   "metadata": {
    "slideshow": {
     "slide_type": "slide"
    }
   },
   "source": [
    "<h1 align=\"center\">End of Lecture</h1>"
   ]
  }
 ],
 "metadata": {
  "kernelspec": {
   "display_name": "Python 3",
   "language": "python",
   "name": "python3"
  },
  "language_info": {
   "codemirror_mode": {
    "name": "ipython",
    "version": 3
   },
   "file_extension": ".py",
   "mimetype": "text/x-python",
   "name": "python",
   "nbconvert_exporter": "python",
   "pygments_lexer": "ipython3",
   "version": "3.8.5"
  }
 },
 "nbformat": 4,
 "nbformat_minor": 2
}
