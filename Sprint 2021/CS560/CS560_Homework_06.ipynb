{
 "cells": [
  {
   "cell_type": "markdown",
   "metadata": {
    "slideshow": {
     "slide_type": "slide"
    }
   },
   "source": [
    "**CS560 - Algorithms and Their Analysis**\n",
    "\n",
    "Title: **Homework 6**\n",
    "\n",
    "Date: **23 April 2021**\n",
    "\n",
    "\n",
    "Deadline: **30 April December 2021, 10:00**\n",
    "\n",
    "Homework will be evaluated maximum by **5 points**.\n",
    "\n",
    "Each problem is **one point**. "
   ]
  },
  {
   "cell_type": "markdown",
   "metadata": {},
   "source": [
    "<h3 align=\"center\">Problem 1: Kruskal’s Algorithm</h3>\n",
    "\n",
    "- Illustrate how **Kruskal’s algorithm** works on an **undirected graph** $G(V, E)$ with a **weight function** $w : E \\rightarrow \\mathbb{R}$ starting from **vertex** $A$::\n",
    "\n",
    "  <img src=\"images/H5_Graph.png\" width=\"300\" alt=\"Example\" />\n",
    "  \n",
    "\n",
    "- **Note**: Edges are stored **alphabetically** in the **adjacency list**.\n",
    "  \n",
    "**Hint**: Follow the **Figure 23.4.**"
   ]
  },
  {
   "cell_type": "markdown",
   "metadata": {},
   "source": [
    "<h3 align=\"center\">Problem 2: Kruskal's Algorithm Upside Down</h3>\n",
    "\n",
    "- In the lecture, we proposed **Kruskal's algorithm** using an **adjacency list** as input for edges.\n",
    "\n",
    "\n",
    "1. Write **Python** code that performs the same algorithm, but using an **adjacency matrix** as input for edges.\n",
    "\n",
    "\n",
    "2. Use **Problem 1** input to check the solution."
   ]
  },
  {
   "cell_type": "markdown",
   "metadata": {},
   "source": [
    "<h3 align=\"center\">Problem 3: Prim’s Algorithm</h3>\n",
    "\n",
    "- Illustrate how **Prim’s algorithm** works on an **undirected graph** $G(V, E)$ with a **weight function** $w : E \\rightarrow \\mathbb{R}$ starting from **vertex** $A$::\n",
    "\n",
    "\n",
    "<img src=\"images/H5_Graph.png\" width=\"300\" alt=\"Example\" />\n",
    "\n",
    "- **Note**: Edges are stored **alphabetically** in the **adjacency list**.\n",
    "\n",
    "**Hint**: Follow the **Figure 23.5.**\n"
   ]
  },
  {
   "cell_type": "markdown",
   "metadata": {},
   "source": [
    "<h3 align=\"center\">Problem 4: Prim's Algorithm Upside Down</h3>\n",
    "\n",
    "- In the lecture, we proposed **Prim's algorithm** using an **adjacency matrix** as input for edges.\n",
    "\n",
    "\n",
    "1. Write **Python** code that performs the same algorithm, but using an **adjacency lists** as input for edges.\n",
    "\n",
    "\n",
    "2. Use **Problem 3** input to check the solution."
   ]
  },
  {
   "cell_type": "markdown",
   "metadata": {},
   "source": [
    "<h3 align=\"center\">Problem 5: Alternative Minimum-Spanning-Tree Algorithms</h3>\n",
    "\n",
    "- In this problem, a **pseudocode** for **three different algorithms** are given. \n",
    "\n",
    "\n",
    "- Each one takes a **connected graph** and a **weight function** as input and returns a **set of edges** $T$. \n",
    "\n",
    "\n",
    "- For each algorithm, either **prove** that $T$ is a **minimum spanning tree** or **prove** that $T$ **is not** a **minimum spanning tree**."
   ]
  },
  {
   "cell_type": "code",
   "execution_count": null,
   "metadata": {},
   "outputs": [],
   "source": [
    "def MST_A(G,w):\n",
    "    sort the edges into nonincreasing order of edge weights w\n",
    "    T = E\n",
    "    for each edge e, taken in nonincreasing order by weight\n",
    "        if T - {e} is a connected graph:\n",
    "            T = T - {e}\n",
    "    return T"
   ]
  },
  {
   "cell_type": "code",
   "execution_count": null,
   "metadata": {},
   "outputs": [],
   "source": [
    "def MST_B(G,w):\n",
    "    T = []\n",
    "    for each edge e, taken in arbitrary order\n",
    "        if T + {e} has no cycles\n",
    "            T = T + {e}\n",
    "    return T"
   ]
  },
  {
   "cell_type": "code",
   "execution_count": null,
   "metadata": {},
   "outputs": [],
   "source": [
    "def MST_C(G,w):\n",
    "    T = []\n",
    "    for each edge e, taken in nonincreasing order by weight\n",
    "        T = T + {e}\n",
    "        if T has a cycle c\n",
    "            let e` be a maximum-weight edge on c\n",
    "            T = T - {e`}\n",
    "    return T"
   ]
  }
 ],
 "metadata": {
  "kernelspec": {
   "display_name": "Python 3",
   "language": "python",
   "name": "python3"
  },
  "language_info": {
   "codemirror_mode": {
    "name": "ipython",
    "version": 3
   },
   "file_extension": ".py",
   "mimetype": "text/x-python",
   "name": "python",
   "nbconvert_exporter": "python",
   "pygments_lexer": "ipython3",
   "version": "3.8.5"
  }
 },
 "nbformat": 4,
 "nbformat_minor": 2
}
