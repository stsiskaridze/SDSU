{
 "cells": [
  {
   "cell_type": "markdown",
   "metadata": {
    "slideshow": {
     "slide_type": "slide"
    }
   },
   "source": [
    "<h1 align=\"center\">The Real Problem of DNA Comparison</h1>\n",
    "\n",
    "- **Biological applications** often **need** to **compare** the **DNA** of **two different organisms**.\n",
    "\n",
    "\n",
    "- A strand of **DNA consists** of a string of molecules called **bases**, where the possible bases are **Adenine, Thymine, Cytosine**, and **Guanine**.\n",
    "\n",
    "\n",
    "  <center><img src=\"images/L7_DNA.png\" width=\"500\" alt=\"Example\" /></center>\n",
    "\n",
    "\n",
    "- **Representing** each of these **bases** by its **initial letter**, we **can express** a strand of **DNA** as a **string** over the finite set $\\{A, T, C, G\\}$.\n",
    "\n",
    "\n",
    "- For example, the DNA of two organisms may be:\n",
    "\n",
    "  $$S_1 = ACCGGTCGAGTGCGCGGAAGCCGGCCG,$$\n",
    "  \n",
    "  $$S_2 = GTCGTTCGGAATGCCGTTGCTCTGTAAA.$$\n",
    "  \n",
    "  \n",
    "- **One reason** to compare two strands of DNA is to **determine how similar** the two strands are.\n",
    "\n",
    "\n",
    "- One can **define similarity** in **many different ways**. Can you give an example?\n",
    "\n",
    "\n",
    "- We **measure the similarity** of strands $S_1$ and $S_2$ by **finding a third** strand $S_3$ in which the **bases** in $S_3$ **appear in each** of $S_1$ and $S_2$.  \n",
    "\n",
    "  These **bases must appear in the same order**, but **not necessarily consecutively**.\n",
    "\n",
    "\n",
    "- Thus, the longer the strand $S_3$ we can find in our example is $S_3 = GTCGTCGGAAGCCGGCCG$.\n",
    "\n",
    "\n",
    "- We **formalize** this last notion of similarity as the **longest-common-subsequence problem**.\n"
   ]
  },
  {
   "cell_type": "markdown",
   "metadata": {},
   "source": [
    "<h1 align=\"center\">Longest Common Subsequence</h1>\n",
    "\n",
    "\n",
    "- Given a sequence $X = \\left \\langle x_1, x_2, ..., x_m \\right \\rangle$. \n",
    "\n",
    "  Another sequence $Z = \\left \\langle z_1, z_2, ..., z_k \\right \\rangle$ is a **subsequence** of $X$ if there exists a strictly increasing sequence $\\left \\langle i_1, i_2, ..., i_k \\right \\rangle$ of indices of $X$ such that for all $j = 1, 2, ... , k$, we have $x_{i_j} = z_j$.\n",
    "  \n",
    "  \n",
    "- For example, $Z = \\left \\langle B, C, D, B \\right \\rangle$ is a **subsequence** of $X = \\left \\langle A, B, C, B, D, A, B \\right \\rangle$ with corresponding index sequence $\\left \\langle 2, 3, 5, 7\\right \\rangle$.\n",
    "\n",
    "\n",
    "- Given **two sequences** $X$ and $Y$, we say that a sequence $Z$ is a **common subsequence** of $X$ and $Y$ if $Z$ is a **subsequence** of both $X$ and  $Y$.\n",
    " \n",
    " \n",
    " - For example, if $X = \\left \\langle A, B, C, B, D, A, B \\right \\rangle$ and $Y = \\left \\langle B, D, C, A, B, A \\right \\rangle$, then the sequence $Z = \\left \\langle B,C, A\\right \\rangle$ is a **common subsequence** of $X$ and $Y$.\n",
    " \n",
    "   However, $Z$ is **not a Longest Common Subsequence** (**LCS**) of  $X$ and $Y$.\n",
    "   \n",
    "   \n",
    "- **Longest-Common-Subsequence problem**:\n",
    "\n",
    "  Given **two sequences** $X = \\left \\langle x_1, x_2, ..., x_m \\right \\rangle$ and $Y = \\left \\langle y_1, y_2, ..., y_n \\right \\rangle$, find a **maximumlength common subsequence** of $X$ and $Y$ .\n",
    "  \n",
    "\n",
    "- In a **brute-force approach** to solving the **LCS problem**, we would **enumerate all subsequences** of $X$ and **check each subsequence** to see whether **it is also a subsequence** of $Y$, keeping track of the longest subsequence we find. \n",
    "\n",
    "  Each subsequence of $X$ corresponds to a subset of the indices $\\{1, 2, ..., m\\}$ of $X$. \n",
    "\n",
    "  Because $X$ has $2^m$ **subsequences**, this approach requires **exponential time**, making it impractical for long sequences."
   ]
  },
  {
   "cell_type": "markdown",
   "metadata": {},
   "source": [
    "<h1 align=\"center\">Dynamic Programming for LCS</h1>\n",
    "\n",
    "- Lets show how to **efficiently solve** the **LCS** problem **using dynamic programming**.\n",
    "\n",
    "  For this we  need to follow a sequence of **four steps**:\n",
    "  1. **Characterize** the structure of an optimal solution.\n",
    "  2. **Define** recursively  the value of an optimal solution.\n",
    "  3. **Compute** the value of an optimal solution (typically in a bottom-up fashion).\n",
    "  4. **Construct** an optimal solution from computed information."
   ]
  },
  {
   "cell_type": "markdown",
   "metadata": {},
   "source": [
    "<h1 align=\"center\">Step 1: Characterizing the Optimal Solution of LCS</h1>\n",
    "\n",
    "- Lets introduce notations for simplicity. \n",
    "\n",
    "  To be precise, given a sequence $X = \\left \\langle x_1, x_2, ..., x_m \\right \\rangle$, we define the $i$-th **prefix** of $X$, for $i = 0, 1, ..., m$, as $X_i = \\left \\langle x_1, x_2, ..., x_i \\right \\rangle$.\n",
    "  \n",
    "\n",
    "- For example, if $X = \\left \\langle A, B, C, B, D, A, B \\right \\rangle$, then $X_4 = \\left \\langle A, B, C, B \\right \\rangle$ and $X_0 = \\{\\varnothing \\}$.\n",
    "\n",
    "\n",
    " - **Optimal substructure Theorem of an LCS**:\n",
    " \n",
    "   Let $X = \\left \\langle x_1, x_2, ..., x_m \\right \\rangle$ and $Y = \\left \\langle y_1, y_2, ..., y_n \\right \\rangle$ be sequences, and let $Z = \\left \\langle z_1, z_2, ..., z_k \\right \\rangle$ be any LCS of $X$ and $Y$.\n",
    "   \n",
    "   1. If $x_m = y_n$, then $z_k = x_m = y_n$ and $Z_{k-1}$ is an LCS of $X_{m-1}$ and $Y_{n-1}$.\n",
    "   2. If $x_m \\neq y_n$, then $z_k \\neq x_m$ implies that $Z$ is an LCS of $X_{m-1}$ and $Y$.\n",
    "   3. If $x_m \\neq y_n$, then $z_k \\neq y_n$ implies that $Z$ is an LCS of $X_{m}$ and $Y_{n-1}$.\n",
    "   \n",
    "\n",
    "- **Let's prove it!**"
   ]
  },
  {
   "cell_type": "markdown",
   "metadata": {},
   "source": [
    "- The way that **theorem** characterizes LCS **tells us** that an **LCS** of **two sequences** **contains** within it an **LCS** of **prefixes** of the **two sequences**.\n",
    "\n",
    "\n",
    "- Thus, the **LCS problem has an optimal-substructure property**."
   ]
  },
  {
   "cell_type": "markdown",
   "metadata": {},
   "source": [
    "<h1 align=\"center\">Step 2: Define the Recursive Solution of LCS</h1>\n",
    "\n",
    "- We can readily see the **overlapping-subproblems property** in the LCS problem.\n",
    "\n",
    "\n",
    "- If $x_m  = y_n$, we must find an LCS of $X_{m-1}$ and $Y_{n-1}$. Appending $x_m = y_n$ to this LCS yields an LCS of $X$ and $Y$.\n",
    "\n",
    "\n",
    "- In case $x_m \\neq y_n$, to find an LCS of $X$ and $Y$, we may **need to find** the LCSs of $X$ and $Y_{n-1}$ and of $X_{m-1}$ and $Y$. \n",
    "\n",
    "  **Whichever** of these **two LCSs** is **longer** is an **LCS** of $X$ and $Y$.\n",
    "\n",
    "  But each of these subproblems has the subsubproblem of finding an LCS of $X_{m-1}$ and $Y_{n-1}$. Many other subproblems share subsubproblems.\n",
    "  \n",
    "  \n",
    "- Let us define $c[i, j]$ to be the **length of an LCS** of the sequences $X_i$ and $Y_j$.\n",
    "\n",
    "  The optimal substructure of the LCS problem gives the recursive formula:\n",
    "  \n",
    "  $$c[i, j] = \n",
    "  \\left\\{\\begin{matrix}\n",
    "  0, & \\text{ if } i=0 \\text{ or } j=0, \\\\\n",
    "  c[i-1,j-1] + 1, & \\text{ if } i,j>0 \\text{ and } x_i = y_j, \\\\\n",
    "  \\max \\left ( c[i, j-1], c[i-1, j] \\right ), & \\text{ if } i,j >0 \\text{ and } x_i \\neq y_j. \n",
    "  \\end{matrix}\\right.  \n",
    "  $$\n",
    "  \n",
    "\n",
    "- The **main difference between** the **LCS dynamic programming algorithms** and the dynamic programming algorithms we have previously examined for **cutting rods** and **multiplying a matrix by a chain**, is that we **ruled out subproblems due to the conditions in the problem**."
   ]
  },
  {
   "cell_type": "markdown",
   "metadata": {},
   "source": [
    "<h1 align=\"center\">Step 3: Computing the Length of an LCS</h1>\n",
    "\n",
    "- Using the recurence equation, we **can use dynamic programming** to compute the solutions **bottom up**:\n",
    "\n",
    "  Procedure `lengthLCS(X,Y)` takes two sequences $X = \\left \\langle x_1, x_2, ..., x_m \\right \\rangle$ and $Y = \\left \\langle y_1, y_2, ..., y_n \\right \\rangle$ as inputs. \n",
    "\n",
    "  It stores the $c[i,j]$ values in a table $c[0..m, 0..n]$, and it computes the entries in **row-major** order.\n",
    "  \n",
    "  The procedure also maintains the table $b[1..m, 1..n]$ to help us **construct an optimal solution**."
   ]
  },
  {
   "cell_type": "code",
   "execution_count": 78,
   "metadata": {},
   "outputs": [],
   "source": [
    "import numpy as np\n",
    "\n",
    "\n",
    "def lengthLCS(X,Y):\n",
    "    m = len(X)\n",
    "    n = len(Y)\n",
    "    b = np.zeros((m+1,n+1), dtype = str)\n",
    "    c = np.zeros((m+1,n+1))\n",
    "    for i in range (0, m):\n",
    "        for j in range(0,n):\n",
    "            if X[i] == Y[j]:\n",
    "                c[i+1,j+1] = c[i,j] + 1\n",
    "                b[i+1,j+1] = 'D' # left up diagonal arrow\n",
    "            elif c[i,j+1] >= c[i+1,j]:\n",
    "                c[i+1,j+1] = c[i,j+1]\n",
    "                b[i+1,j+1] = 'U' # up arrow\n",
    "            else:\n",
    "                c[i+1,j+1] = c[i+1, j]\n",
    "                b[i+1,j+1] = 'L' # left arrow\n",
    "    return b, c\n",
    "                \n",
    "                    "
   ]
  },
  {
   "cell_type": "code",
   "execution_count": 82,
   "metadata": {},
   "outputs": [
    {
     "name": "stdout",
     "output_type": "stream",
     "text": [
      "b = \n",
      " [['' '' '' '' '' '' '']\n",
      " ['' 'U' 'U' 'U' 'D' 'L' 'D']\n",
      " ['' 'D' 'L' 'L' 'U' 'D' 'L']\n",
      " ['' 'U' 'U' 'D' 'L' 'U' 'U']\n",
      " ['' 'D' 'U' 'U' 'U' 'D' 'L']\n",
      " ['' 'U' 'D' 'U' 'U' 'U' 'U']\n",
      " ['' 'U' 'U' 'U' 'D' 'U' 'D']\n",
      " ['' 'D' 'U' 'U' 'U' 'D' 'U']] \n",
      " \n",
      " c = \n",
      " [[0. 0. 0. 0. 0. 0. 0.]\n",
      " [0. 0. 0. 0. 1. 1. 1.]\n",
      " [0. 1. 1. 1. 1. 2. 2.]\n",
      " [0. 1. 1. 2. 2. 2. 2.]\n",
      " [0. 1. 1. 2. 2. 3. 3.]\n",
      " [0. 1. 2. 2. 2. 3. 3.]\n",
      " [0. 1. 2. 2. 3. 3. 4.]\n",
      " [0. 1. 2. 2. 3. 4. 4.]]\n"
     ]
    }
   ],
   "source": [
    "X = ['A', 'B', 'C', 'B', 'D', 'A', 'B']\n",
    "Y = ['B', 'D', 'C', 'A', 'B', 'A']\n",
    "\n",
    "b,c  = lengthLCS(X,Y)\n",
    "print(\"b = \\n\", b, \"\\n \\n c = \\n\", c)"
   ]
  },
  {
   "cell_type": "markdown",
   "metadata": {},
   "source": [
    "- Figure below shows the tables produced by `lengthLCS(X,Y)` procedure on the sequences $X = \\left \\langle A, B, C, B, D, A, B\\right \\rangle$ and $Y = \\left \\langle B, D, C, A, B, A \\right \\rangle$. \n",
    "\n",
    "  The **running time** of the procedure is $\\Theta(mn)$, since each **table entry takes** $\\Theta(1)$ **time to compute**.\n",
    "  \n",
    "  \n",
    "<center><img src=\"images/L7_Table.png\" width=\"500\" alt=\"Example\" /></center>\n"
   ]
  },
  {
   "cell_type": "markdown",
   "metadata": {},
   "source": [
    "<h1 align=\"center\">Step 4: Constructing an LCS</h1>\n",
    "\n",
    "- The $b$ **table** returned by `lengthLCS(X,Y)` procedure  enables us to quickly **construct** an LCS of $X = \\left \\langle x_1, x_2, ..., x_m \\right \\rangle$ and $Y = \\left \\langle y_1, y_2, ..., y_n \\right \\rangle$.\n",
    "\n",
    "\n",
    "- We simply begin at $b[m,n]$ and **trace through the table** by **following** the **arrows**.\n",
    "\n",
    "  Whenever we encounter a \"$\\nwarrow$\" (or $1$)  in entry $b[i; j]$, it implies that $x_i = y_j$ is an element of the LCS that `lengthLCS(X,Y)` procedure found.\n",
    "  \n",
    "\n",
    "  With this method, we encounter the elements of this LCS in reverse order.\n",
    "  \n",
    "\n",
    "- The following recursive procedure **prints out** an LCS of $X$ and $Y$ in the proper, forward order.\n",
    "\n",
    "\n",
    "- The procedure takes time $O(m+n)$, since it decrements at least one of $i$ and $j$ in each recursive call.\n",
    "\n",
    "  \n",
    "- The **initial call** is `printLCS(b, X, len(X), len(Y) )`."
   ]
  },
  {
   "cell_type": "code",
   "execution_count": 83,
   "metadata": {},
   "outputs": [
    {
     "name": "stdout",
     "output_type": "stream",
     "text": [
      "B\n",
      "C\n",
      "B\n",
      "A\n"
     ]
    }
   ],
   "source": [
    "def printLCS(b, X, i, j):\n",
    "    if i == 0 or j == 0:\n",
    "        return\n",
    "    if b[i,j] == 'D':\n",
    "        printLCS(b, X, i-1, j-1)\n",
    "        print(X[i-1])\n",
    "    elif b[i,j] == \"U\":\n",
    "        printLCS(b, X, i-1, j)\n",
    "    else:\n",
    "        printLCS(b, X, i, j-1)\n",
    "        \n",
    "printLCS(b, X, len(X), len(Y))"
   ]
  },
  {
   "cell_type": "markdown",
   "metadata": {},
   "source": [
    "<h1 align=\"center\">Improving the Code</h1>\n",
    "\n",
    "- Once you have developed an algorithm, you will often find that **you can improve on** the **time** or **space** it uses.\n",
    "\n",
    "  **Some** changes **can** simplify the code and **improve constant factors** but otherwise **yield no asymptotic improvement** in performance. \n",
    "  \n",
    "  \n",
    "- In the **LCS algorithm**, for example, we **can eliminate** the $b$ **table** altogether.\n",
    "\n",
    "  Each $c[i,j]$ entry **depends on only three other $c$ table entries**: $c[i-1, j-1]$, $c[i-1, j]$, and $c[i,j-1]$. \n",
    "  \n",
    "  Given the value of $c[i,j]$, we can determine in $O(1)$ time which of these three values was used to compute $c[i,j]$, without inspecting table b. \n",
    "  \n",
    "  Thus, we can reconstruct an LCS in $O(m+n)$ time using a procedure similar to `printLCS`.\n",
    "  \n",
    "  Although we save $\\Theta(mn)$ space by this method, the **auxiliary space requirement** for computing an LCS **does not asymptotically decrease**, since **we need** $\\Theta(mn)$ **space** for the $c$ **table** anyway.\n",
    "\n",
    "\n",
    "- We **can**, however, **reduce the asymptotic space requirements for** `lengthLCS`, since **it needs only two rows of table** $c$ **at a time**.\n",
    "\n",
    "  This **improvement works** if we **need only** the **length** of an **LCS**.\n",
    "  \n",
    "  If we need to reconstruct the elements of an LCS, the smaller table does not keep enough information to retrace our steps in $O(m+n)$ time."
   ]
  },
  {
   "cell_type": "markdown",
   "metadata": {
    "slideshow": {
     "slide_type": "slide"
    }
   },
   "source": [
    "<h1 align=\"center\">End of Lecture</h1>"
   ]
  }
 ],
 "metadata": {
  "kernelspec": {
   "display_name": "Python 3",
   "language": "python",
   "name": "python3"
  },
  "language_info": {
   "codemirror_mode": {
    "name": "ipython",
    "version": 3
   },
   "file_extension": ".py",
   "mimetype": "text/x-python",
   "name": "python",
   "nbconvert_exporter": "python",
   "pygments_lexer": "ipython3",
   "version": "3.8.5"
  }
 },
 "nbformat": 4,
 "nbformat_minor": 2
}
