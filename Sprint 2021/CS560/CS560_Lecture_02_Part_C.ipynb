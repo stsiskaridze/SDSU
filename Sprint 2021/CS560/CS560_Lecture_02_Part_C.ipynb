{
 "cells": [
  {
   "cell_type": "markdown",
   "metadata": {
    "slideshow": {
     "slide_type": "slide"
    }
   },
   "source": [
    "**CS560 - Algorithms and Their Analysis**\n",
    "<br>\n",
    "Date: **30 January 2021**\n",
    "<br>\n",
    "\n",
    "Title: **Lecture 2:  Part C**\n",
    "<br>\n",
    "Speaker: **Dr. Shota Tsiskaridze**\n",
    "\n",
    "\n",
    "Bibliography:\n",
    "<br> \n",
    "[1] Cormen, Thomas H. and Leiserson, Charles Eric and Rivest, Ronald Linn and Stein, Clifford Seth, *Introduction to Algorithms, 3rd Edition*, MIT Press, 2009"
   ]
  },
  {
   "cell_type": "markdown",
   "metadata": {
    "slideshow": {
     "slide_type": "slide"
    }
   },
   "source": [
    "<h1 align=\"center\">Part C: Standard notations and Common functions</h1>\n",
    "\n",
    "\n",
    "- This section **reviews** some **standard mathematical functions** and notations and explores the relationships among them. \n",
    "\n",
    "- It also **illustrates** the **use of the asymptotic notations**."
   ]
  },
  {
   "cell_type": "markdown",
   "metadata": {
    "slideshow": {
     "slide_type": "slide"
    }
   },
   "source": [
    "<h3 align=\"center\">Monotonicity</h3>\n",
    "\n",
    "- A function $f(n)$ is **monotonically increasing** if $m\\leq n$ implies $f(m) \\leq f(n)$\n",
    "\n",
    "\n",
    "- Similarly, it is **monotonically decreasing** $m\\leq n$ implies $f(m) \\geq f(n)$\n",
    "\n",
    "\n",
    "- A function $f(n)$ is **strictly increasing** if $m < n$ implies $f(m) < f(n)$ and **strictly decreasing** if $m < n$ implies $f(m) > f(n)$.\n",
    "\n",
    "\n",
    "\n",
    "\n",
    "- **Exercise**. Indicate which of the following functions are:\n",
    "  - **monotonically increasing**?\n",
    "  - **monotonically decreasing**?\n",
    "  - **strictly increasing**?\n",
    "  - **strictly decreasing**?\n",
    "\n",
    "<center><img src=\"images/L2_Monotonic_Functions.png\" width=\"600\" alt=\"Example\" /></center>\n",
    "\n"
   ]
  },
  {
   "cell_type": "markdown",
   "metadata": {
    "slideshow": {
     "slide_type": "subslide"
    }
   },
   "source": [
    "<h3 align=\"center\">Floors and Ceilings</h3>\n",
    "\n",
    "- The $floor(x)$, or $\\lfloor x\\rfloor$, is a function that takes as input a **real number** $x$, and gives as output the **greatest integer less than or equal to** $x$.\n",
    "\n",
    "\n",
    "- The $ceiling(x)$, or $\\lceil x\\rceil$ is a function that takes as input a **real number** $x$ and gives as output the **least integer greater than or equal to** $x$.\n",
    "\n",
    "\n",
    "- The $frac(x)$, or $\\{x\\}$, is a function that takes as input a **real number** $𝑥$ and **throw away** the fractional part, i.e. $frac(x) = x - floor(x)$.\n",
    "\n",
    "<center><img src=\"images/L2_Floor_Ceiling_Frac.png\" width=\"500\" alt=\"Example\" /></center>\n",
    "\n",
    "\n",
    "- Thus,\n",
    "\n",
    "  $$x - 1  < \\lceil x\\rceil  \\leq x \\leq \\lfloor x\\rfloor < x + 1.$$\n",
    "  \n",
    "  \n",
    "- For example, for any integer $n$,\n",
    "\n",
    "  $$\\left \\lceil \\frac{n}{2} \\right \\rceil + \\left \\lfloor \\frac{n}{2} \\right \\rfloor = n,$$\n",
    "  \n",
    "  and for any real number $ \\geq 0$ and integers $a> 0$ and $b > 0$,\n",
    "  \n",
    "  $$\\left \\lceil \\frac{\\left \\lceil x/ a \\right \\rceil}{b} \\right \\rceil = \\left \\lceil \\frac{x}{ab} \\right \\rceil,$$\n",
    "  $$\\left \\lfloor \\frac{\\left \\lfloor x/ a \\right \\rfloor}{b} \\right \\rfloor = \\left \\lfloor \\frac{x}{ab} \\right \\rfloor.$$\n",
    "\n",
    "\n",
    "- Also, both **floor** and **ceiling** functions are **monotonically increasing** functions.\n"
   ]
  },
  {
   "cell_type": "markdown",
   "metadata": {},
   "source": [
    "<h3 align=\"center\">Modular Arithmetic</h3>\n",
    "\n",
    "- For any integer $a$ and any positive integer $n$, the value **$a$ module $n$** is the **remainder** of the quotient $a/n$:\n",
    "\n",
    "  $$a \\mod n = a - n \\left \\lfloor \\frac{a}{n} \\right \\rfloor$$\n",
    "  \n",
    "- For example, \n",
    "\n",
    "  $$2 \\mod 5 = 2,$$\n",
    "  $$7 \\mod 5 = 2,$$\n",
    "  $$10 \\mod 5 = 2.$$"
   ]
  },
  {
   "cell_type": "markdown",
   "metadata": {},
   "source": [
    "<h3 align=\"center\">Polynomials</h3>\n",
    "\n",
    "- Given a nonnegative integer $D$, a **polynomial in $n$ of degree $D$** is a function $p(n)$ of the form:\n",
    "\n",
    "  $$p(n) = \\sum_{k=0}^{D} a_j n^k = a_0 + a_1 n + a_2 n^2 + \\cdots + a_D n^D.$$\n",
    "\n",
    "  where the constants $a_0, a_1, \\cdots, a_D$ are the **coefficients** of the polynomial and $a_D \\neq 0$.\n",
    "\n",
    "\n",
    "- A polynomial is **asymptotically positive** if and only if $a_D > 0$.\n",
    "\n",
    "- For an **asymptotically positive polynomial** $p(n)$ of degree $D$, we have:\n",
    "\n",
    "  $$p(n) = \\Theta(n^D).$$\n",
    "  \n",
    "- A function f(n) is **polynomially bounded** if $f(n) = O(n^k)$ for some constant $k$."
   ]
  },
  {
   "cell_type": "markdown",
   "metadata": {},
   "source": [
    "<h3 align=\"center\">Factorials</h3>\n",
    "\n",
    "- The notation $n!$ (read **n factorial**) is defined for integers $n \\geq 0$  as\n",
    "\n",
    "  $$n! = \n",
    "\\left\\{\\begin{matrix}\n",
    " 1&  \\text{if } n=0, \\\\\n",
    " n \\cdot (n-1)!& \\text{if } n > 0.\n",
    "\\end{matrix}\\right.$$\n",
    "\n",
    "- Thus, $n! = 1 \\cdot 2 \\cdot 3  \\cdots n.$\n",
    "\n",
    "\n",
    "- **Stirling’s approximation** stands:\n",
    "\n",
    "  $$n! = \\sqrt{2 \\pi n} \\left ( \\frac{n}{e}\\right )^n \\left ( 1 + \\Theta \\left( \\frac{1}{n} \\right )\\right ).$$ \n",
    "  \n",
    "- **Stirling’s approximation** is **helpful** in proving equation:\n",
    "\n",
    "  $$n! = o(n^n),$$\n",
    "  $$n! = w(2^n),$$\n",
    "  $$lg(n!) = \\Theta(n \\lg n).$$\n",
    "  \n",
    "  \n",
    "- Factorials are often used in combinatorics:\n",
    "\n",
    "  - The number of combinations of $n$ over $k$ is equal to the **binomial coefficient**:\n",
    "  \n",
    "    $$C_n^k = \\frac{n!}{k!(n-k!)}.$$\n",
    "  "
   ]
  },
  {
   "cell_type": "markdown",
   "metadata": {},
   "source": [
    "<h3 align=\"center\">Exponentials</h3>\n",
    "\n",
    "- For all real $a > 0$, $m$, and $n$, we have the following identities:\n",
    "\n",
    "  $$a^0 = 1,$$\n",
    "  $$a^1 = a,$$\n",
    "  $$a^{-1} = \\frac{1}{a},$$\n",
    "  $$(a^m)^n = a^{mn},$$\n",
    "  $$(a^m)^n = (a^n)^m,$$\n",
    "  $$a^ma^n = a^{m+n}.$$\n",
    "\n",
    "\n",
    "- We can relate the rates of **growth of polynomials and exponentials** by the following fact:\n",
    "\n",
    "  For all real constants $a$ and $b$ such that $a > 1$,\n",
    "  \n",
    "  $$\\lim_{n\\rightarrow \\infty} \\frac{n^b}{a^n} = 0,$$\n",
    "  \n",
    "  from which we can conclude that\n",
    "  \n",
    "  $$n^b = o(a^n)$$\n",
    "  \n",
    "  \n",
    "- Using $e$ to denote $2,.71828 ...$ the **base of the natural logarithm function**, we have for all real x,\n",
    "\n",
    "  $$e^x = 1 + x + \\frac{x^2}{2!} + \\frac{x^3}{3!} + \\cdots  = \\sum_{k=0}^{\\infty} \\frac{x^k}{k!}.$$"
   ]
  },
  {
   "cell_type": "markdown",
   "metadata": {},
   "source": [
    "<h3 align=\"center\">Logarithms</h3>\n",
    "\n",
    "- We shall use the following notations:\n",
    "\n",
    "  - Binary logarithm: $\\lg n = \\log_2 n$;\n",
    "  - Natural logarithm: $\\ln n = \\log_e n$;\n",
    "  - Exponentiation logarithm: $\\lg^k n = (\\lg n)^k$.\n",
    "  \n",
    "  \n",
    "- There is a simple series expansion for $\\ln(1+x)$ when $|x| < 1$:\n",
    "\n",
    "  $$\\ln(1+x) = x - \\frac{x^2}{2} + \\frac{x^3}{3} - \\frac{x^4}{4} + \\frac{x^5}{5} - \\cdots.$$\n",
    "  \n",
    "  \n",
    "- We also have the following inequalities for $x > -1$:\n",
    "\n",
    "  $$\\frac{x}{1+x} \\leq \\ln(1+x) \\leq x,$$\n",
    "  \n",
    "  where equality holds only for $ x = 0$.\n",
    "  \n",
    "\n",
    "- A function $f(n)$ is **polylogarithmically bounded** if $f(n) = O(\\lg^k n)$ for some constant $k$.\n"
   ]
  },
  {
   "cell_type": "markdown",
   "metadata": {},
   "source": [
    "<h3 align=\"center\">Fibonacci Numbers</h3>\n",
    "\n",
    "- We define the **Fibonacci numbers** by the following recurrence:\n",
    "\n",
    "  $F_0 = 0,$\n",
    "  \n",
    "  $F_1 = 1,$\n",
    "  \n",
    "  $F_{n} = F_{n-1} + F_{n-2} \\text{ for } n \\geq 2.$\n",
    "  \n",
    "  \n",
    "- Thus, each Fibonacci number is the **sum of the two previous ones**, yielding the sequence:\n",
    "\n",
    "  $$0, 1, 1, 2, 3, 5, 8, 13, 21, 34, 55, \\cdots.$$\n",
    "  \n",
    "  \n",
    "\n",
    "- The Fibonacci numbers have a closed form expression, known as **Binet's formula**:\n",
    "\n",
    "  $$F_n = \\frac{\\varphi^n - \\psi^n}{\\sqrt{5}},$$\n",
    "  \n",
    "  where $\\varphi$ is a **golden ratio** and $\\psi$ is it's conjugate:\n",
    "  \n",
    "  $$\\varphi = \\frac{1 + \\sqrt{5}}{2};$$\n",
    "  $$\\psi = \\frac{1 - \\sqrt{5}}{2}.$$\n",
    "  \n",
    "  $\\varphi$ and $\\psi$ represents the two roots of the equation $x^2 = x + 1$."
   ]
  },
  {
   "cell_type": "markdown",
   "metadata": {
    "slideshow": {
     "slide_type": "slide"
    }
   },
   "source": [
    "<h1 align=\"center\">End of Lecture</h1>"
   ]
  }
 ],
 "metadata": {
  "kernelspec": {
   "display_name": "Python 3",
   "language": "python",
   "name": "python3"
  },
  "language_info": {
   "codemirror_mode": {
    "name": "ipython",
    "version": 3
   },
   "file_extension": ".py",
   "mimetype": "text/x-python",
   "name": "python",
   "nbconvert_exporter": "python",
   "pygments_lexer": "ipython3",
   "version": "3.8.5"
  }
 },
 "nbformat": 4,
 "nbformat_minor": 2
}
