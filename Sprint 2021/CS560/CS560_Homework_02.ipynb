{
 "cells": [
  {
   "cell_type": "markdown",
   "metadata": {
    "slideshow": {
     "slide_type": "slide"
    }
   },
   "source": [
    "**CS560 - Algorithms and Their Analysis**\n",
    "\n",
    "Title: **Homework 2**\n",
    "\n",
    "Date: **16 February 2021**\n",
    "<br>\n",
    "Deadline: **27 February 2021, 9:00**\n",
    "\n",
    "Homework will be evaluated maximum by **5 points**.\n",
    "<br>\n",
    "Each problem is **one point**. "
   ]
  },
  {
   "cell_type": "markdown",
   "metadata": {
    "slideshow": {
     "slide_type": "slide"
    }
   },
   "source": [
    "<h3 align=\"center\">Problem 1: Power of A</h3>\n",
    "\n",
    "\n",
    "- We need to calculate the power of $a$ for a given $n$, i.e. $a^n$.\n",
    "\n",
    "\n",
    "1. Write the code that takes $\\Theta(n)$ time using **brute force**.\n",
    "\n",
    "\n",
    "3. Write the code that takes $\\Theta(\\lg n)$ time using **recursion**.\n"
   ]
  },
  {
   "cell_type": "markdown",
   "metadata": {
    "slideshow": {
     "slide_type": "slide"
    }
   },
   "source": [
    "<h3 align=\"center\">Problem 2: Matrix Multiplication</h3>\n",
    "\n",
    "- In the lecture, we figured out how to **multiply two matrices** of size $2^n \\times 2^n$ using the Python.\n",
    "\n",
    "\n",
    "1. Write the code that **multiply two square matrix** of size $n \\times n$ for any $n\\in \\mathbb{N}$."
   ]
  },
  {
   "cell_type": "markdown",
   "metadata": {
    "slideshow": {
     "slide_type": "slide"
    }
   },
   "source": [
    "<h3 align=\"center\">Problem 3: Using the Master Method</h3>\n",
    "\n",
    "- For each of the following **recurrences**, give an **expression** for the **runtime** $T (n)$ if the recurrence **can be solved** with the **Master Theorem**.\n",
    "\n",
    "\n",
    "\n",
    "1. $T(n) = 4T(n/2) + c \\cdot n$\n",
    "\n",
    "\n",
    "2. $T(n) = 4T(n/2) + c \\cdot n^2$\n",
    "\n",
    "\n",
    "3. $T(n) = 16T(n/4) + n!$\n"
   ]
  },
  {
   "cell_type": "markdown",
   "metadata": {
    "slideshow": {
     "slide_type": "slide"
    }
   },
   "source": [
    "<h3 align=\"center\">Problem 4: Building a Heap Using Insertion</h3>\n",
    "\n",
    "- We can build a **heap** by repeatedly calling `insertMax` procedure introduced for **priority queue** to insert the elements into the heap.\n",
    "\n",
    "\n",
    "- To do this, lets consider the following variation on the `buildMaxHeap` procedure:"
   ]
  },
  {
   "cell_type": "code",
   "execution_count": 5,
   "metadata": {},
   "outputs": [],
   "source": [
    "def buildMaxHeap2(A):\n",
    "    heapsize = 1\n",
    "    for i in range (1, len(A)-1):\n",
    "        insertMax(A, A[i])"
   ]
  },
  {
   "cell_type": "code",
   "execution_count": 6,
   "metadata": {},
   "outputs": [],
   "source": [
    "import numpy as np\n",
    "def insertMax(A, key):\n",
    "    global heapsize\n",
    "    heapsize = heapsize + 1\n",
    "    A[heapsize] = - np.inf\n",
    "    increaseKey(A, heapsize, key)"
   ]
  },
  {
   "cell_type": "markdown",
   "metadata": {},
   "source": [
    "1. Do the procedures `buildMaxHeap` and `buildMaxHeap2` always create the same heap when run on the same input array? \n",
    "\n",
    "   **Note**: If they do not, provide a counterexample!"
   ]
  },
  {
   "cell_type": "markdown",
   "metadata": {
    "slideshow": {
     "slide_type": "slide"
    }
   },
   "source": [
    "<h3 align=\"center\">Problem 5: Merge Sorted Subsequences</h3>\n",
    "\n",
    "- One of the **real problems** with using **min heap** is **merging** a **large number of subsequences**, sorted in **ascending order**, into one such **sequence**.\n",
    "\n",
    "\n",
    "- After a **min heap** of $n$ elements has been built from the **first elements** of the $n$ **subsequences**, **min heap** provides the operations to **pop** the **minimum element** off the **min heap** and **heapify** the now $n-1$ **element heap**.\n",
    "\n",
    "\n",
    "- If the **sequence** from which that min element comes has **another element**, to **push** it onto the **min heap** and **heapify** the now $n$ **element heap**. \n",
    "\n",
    "\n",
    "\n",
    "1. Write a code that takes as an **input** the **multiple sorted subsequences** and **merge** them in **one** using **min heap**."
   ]
  }
 ],
 "metadata": {
  "celltoolbar": "Slideshow",
  "kernelspec": {
   "display_name": "Python 3",
   "language": "python",
   "name": "python3"
  },
  "language_info": {
   "codemirror_mode": {
    "name": "ipython",
    "version": 3
   },
   "file_extension": ".py",
   "mimetype": "text/x-python",
   "name": "python",
   "nbconvert_exporter": "python",
   "pygments_lexer": "ipython3",
   "version": "3.8.5"
  }
 },
 "nbformat": 4,
 "nbformat_minor": 2
}
