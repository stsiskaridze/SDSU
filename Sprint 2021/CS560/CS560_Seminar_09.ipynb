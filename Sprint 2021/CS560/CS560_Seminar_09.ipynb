{
 "cells": [
  {
   "cell_type": "markdown",
   "metadata": {
    "slideshow": {
     "slide_type": "slide"
    }
   },
   "source": [
    "**CS560 - Algorithms and Their Analysis**\n",
    "<br>\n",
    "\n",
    "Title: **Seminar 9**\n",
    "<br>\n",
    "Speaker: **Dr. Shota Tsiskaridze**\n",
    "<br>\n",
    "\n",
    "Bibliography:\n",
    "<br> \n",
    " **Chapter 16.5**. Cormen, Thomas H. and Leiserson, Charles Eric and Rivest, Ronald Linn and Stein, Clifford Seth, *Introduction to Algorithms, 3rd Edition*, MIT Press, 2009\n",
    " \n"
   ]
  },
  {
   "cell_type": "markdown",
   "metadata": {},
   "source": [
    "<h1 align=\"center\">A Task-Scheduling Problem</h1>"
   ]
  },
  {
   "cell_type": "markdown",
   "metadata": {},
   "source": [
    "<h3 align=\"center\">Reminder: Matroids</h3>\n",
    "\n",
    "A **matroid** is defined as an ordered pair $M = (S, I)$ satisfying the following conditions:\n",
    "\n",
    "\n",
    "1. $S$ is **finite set**.\n",
    "\n",
    "\n",
    "2. $I$ is a **nonempty** family of subsets of $S$, called the **independent** subsets of $S$, if for all $B \\in I$ and for any $A \\subseteq B$ is valid $A \\in I$. \n",
    "\n",
    "\n",
    "3. If $A \\in I$, $B \\in I$, and $|A| < |B|$, then there exists some element $x \\in (B-A)$ such that $(A \\cup \\{x\\}) \\in I$.\n",
    "\n",
    "   $|A| < |B|$ means, that number of elements in $A$ is less than number of elements in $B$,\n",
    "   "
   ]
  },
  {
   "cell_type": "markdown",
   "metadata": {},
   "source": [
    "<h3 align=\"center\">Problem Statement</h3>\n",
    "\n",
    "- An interesting problem that we **can solve using matroids** is the problem of **optimally scheduling unit-time tasks** on a **single processor**.\n",
    "\n",
    "\n",
    "- A **unit-time task** is a job, such as a program to be run on a computer, that **requires exactly one unit of time** to complete.\n",
    "\n",
    "\n",
    "- Each task has a **deadline**, along with a **penalty** paid if the task misses its deadline.\n",
    "\n",
    "\n",
    "- Given a **finite set** $S$ of **unit-time tasks**, a **schedule** for $S$ is a **permutation** of $S$ specifying the **order** in which to **perform these tasks**. \n",
    "  \n",
    "  The **first task** in the schedule **begins** at **time 0** and **finishes** at **time 1**.\n",
    " \n",
    "  The **second task** **begins** at **time 1** and **finishes** at **time 2**, and so on.\n",
    "  \n",
    "  \n",
    "- The problem of **scheduling unit-time tasks with deadlines and penalties** for a single processor has the following **inputs**:\n",
    "\n",
    "  - A set $S = \\{a_1, a_2, ..., a_n)\\}$ of $n$ unit-time taks;\n",
    "  \n",
    "  - A set of $n$ integer **deadlines** $d_1, d_2, ..., d_n$, such that each $d_i$ satisfies $1 \\leq d_i \\leq n$ and task $a_i$ is **supposed to finish by time** $d_i$;\n",
    "\n",
    "  - A set of $n$ **nonnegative weights** or **penalties** $w_1, w_2, ..., w_n$, such that we **incur a penalty** of $w_i$ if task $a_i$ is **not finished by time** $d_i$, and we **incur no penalty** if a task **finishes by its deadline**.\n",
    "  \n",
    "  \n",
    "- We wish to **find a schedule** for $S$ that **minimizes** the **total penalty** incurred for missed deadlines."
   ]
  },
  {
   "cell_type": "markdown",
   "metadata": {},
   "source": [
    "<h3 align=\"center\">Definitions</h3>\n",
    "\n",
    "- Let's consider a given **schedule** $C$, that consists of **tasks** $a_1, a_2, ..., a_n$ with **finish times** $f_1, f_2, ..., f_n$ and **deadlines** $d_1, d_2, ..., d_n$. \n",
    "\n",
    "\n",
    "- We say that a **task** $a_i \\in C$ is **late in this schedule** if it **finishes after its deadline**: $f_i > d_i$. \n",
    "\n",
    "\n",
    "- Otherwise, the **task** is **early in the schedule**, i.e. $f_i \\leq d_i$.\n",
    "\n",
    "\n",
    "- We say that a **schedule** $C$ is in **early-first form**, if the **early** tasks **precede** the **late** tasks, i.e. for all $i$, $j$ such that $f_i \\leq d_i$ and $f_j > d_j$ is valid $i < j$.\n",
    "\n",
    "\n",
    "- We **can always transform** any schedule into **early-first form**.\n",
    "\n",
    "  Indeed, if some **early task** $a_i$ follows some **late task** $a_j$, then we can **switch** the positions of $a_i$ and $a_j$, and $a_i$ will **still be early** and $a_j$ will **still be late**.\n",
    "\n",
    "\n",
    "- We say that a schedule is in **canonical form**, if it has **early-first form** and the **early tasks** is in **order of monotonically increasing deadlines**.\n",
    "\n",
    "\n",
    "- We **can always transform** any schedule into **canonical form**.\n",
    "\n",
    "  Indeed, first we **put** the **schedule** into **early-first form**. \n",
    "  \n",
    "  Then, as long as there exist **two early tasks** $a_i$ and $a_j$ **finishing** at respective times $f$ and $f + 1$ in the schedule such that $d_j$ < $d_i$, we **swap the positions** of $a_i$ and $a_j$. \n",
    "  \n",
    "  Since $a_j$ is early before the swap, $f + 1 \\leq d_j$.\n",
    "  \n",
    "  Therefore, $f + 1 \\leq d_i$, and so $a_i$ is **still early after the swap**. \n",
    "  \n",
    "  Because **task** $a_j$ is moved earlier in the schedule, it **remains early after the swap**."
   ]
  },
  {
   "cell_type": "markdown",
   "metadata": {},
   "source": [
    "<h3 align=\"center\">How to Define Matroid?</h3>\n",
    "\n",
    "\n",
    "- We say that a **set $A$ of tasks** is **independent** if there **exists a schedule** for these tasks such that **no tasks are late**.\n",
    "\n",
    "\n",
    "- Clearly, the **set of early tasks** for a schedule forms an **independent set of tasks**.\n",
    "\n",
    "\n",
    "- Let $I$ denote the set of **all independent** sets of tasks.\n",
    "\n",
    "\n",
    "- **Theorem**:\n",
    "\n",
    "  If $S$ is a **set** of **unit-time tasks** with **deadlines**, and $I$ is the **set of all independent sets of tasks**, then the corresponding system $(S, I)$ is a **matroid**.\n",
    "\n",
    "  By this **Theorem**, we can use a **greedy algorithm** to **find** a **maximum-weight independent** set of tasks $A$.\n",
    "\n",
    "\n",
    "\n",
    "- To prove the theorem, let's first **consider the problem** of determining **whether a given set** $A$ of tasks **is independent**.\n",
    "\n",
    "  For $t = 0, 1, 2, ..., n$, let $N_t(A)$ denote the **number of tasks** in $A$ whose **deadline is $t$ or earlier**.\n",
    "\n",
    "  **Lemma**: \n",
    "\n",
    "  For any set of tasks $A$, the following statements are **equivalent**:\n",
    "\n",
    "  1. The set $A$ is **independent**.\n",
    "  \n",
    "  2. For $t = 0, 1, 2, ..., n$, we have $N_t(A) \\leq t$\n",
    "  \n",
    "  3. If the tasks in $A$ are **scheduled in order of monotonically increasing deadlines**, then **no task is late**.\n",
    "\n",
    "  **Proof**:\n",
    "  \n",
    "  To show that (1) implies (2), we prove the contrapositive: if $N_t(A) > t$ for some $t$, then there is no way to make a schedule with no late tasks for set $A$, because more than $t$ tasks must finish before time $t$. Therefore, (1) implies (2). \n",
    "  \n",
    "  If (2) holds, then (3) must follow: there is no way to **get stuck** when scheduling the tasks in order of monotonically increasing deadlines, since (2) implies that the $i$-th largest deadline is at least $i$. \n",
    "  \n",
    "  Finally, (3) trivially implies (1).\n",
    "  \n",
    "\n",
    "- This method is an **efficient algorithm** for **scheduling unit-time tasks with deadlines and penalties** for a single processor.\n",
    "\n",
    "\n",
    "- The running time is $O(n^2)$ using **greedy algorithm**.\n"
   ]
  },
  {
   "cell_type": "markdown",
   "metadata": {},
   "source": [
    "<h3 align=\"center\">Example</h3>\n",
    "\n",
    "  \n",
    "  \n",
    "- As an example, lets consider the next instance:\n",
    "\n",
    "| $a_i$ |  1 |  2 |  3 |  4 |  5 |  6 | 7  |\n",
    "|:-----:|:--:|:--:|:--:|:--:|:--:|:--:|----|\n",
    "| $d_i$ |  4 |  2 |  4 |  3 |  1 |  4 | 6  |\n",
    "| $w_i$ | 70 | 60 | 50 | 40 | 30 | 20 | 10 |\n",
    "\n",
    "\n",
    "\n",
    "- ჭe can use a **greedy algorithm** to find a **maximum-weight independent set of tasks $A$**. \n",
    "\n",
    "\n",
    "- We can then **create an optimal schedule** having the **tasks** in $A$ as **its early tasks**.\n",
    "\n",
    "- In this example, the greedy algorithm **selects**, in order, tasks $a_1$, $a_2$, $a_3$, and $a_4$.\n",
    "  \n",
    "  Then it **rejects** $a_5$, since $N_4(\\{a_1, a_2, a_3, a_4, a_5\\}) = 5$ which is larger than $4$.\n",
    "  \n",
    "  It also **rejects** $a_6$, since $N_4(\\{a_1, a_2, a_3, a_4, a_6\\}) = 5$ which is also larger than $4$.\n",
    "  \n",
    "  Finally, it accepts $a_7$.\n",
    "  \n",
    "  The final **optimal schedule** is $\\{a_2, a_4, a_1, a_3, a_7, a_5, a_6\\}$, which has a **total penalty** incurred of $w_5 + w_6 = 50.$"
   ]
  },
  {
   "cell_type": "code",
   "execution_count": 23,
   "metadata": {
    "scrolled": true
   },
   "outputs": [
    {
     "name": "stdout",
     "output_type": "stream",
     "text": [
      "[0, 2, 4, 1, 3, 7, 7, 0]\n",
      "[0, 0, 0, 0, 0, 30, 20, 10]\n",
      "60\n"
     ]
    }
   ],
   "source": [
    "import numpy as np\n",
    "\n",
    "def greedy(a, w, t):\n",
    "    a[0] = 0\n",
    "    task[0] = 0\n",
    "    k = 1\n",
    "    task[1] = 1\n",
    "    \n",
    "    for i in range(2,len(a)):\n",
    "        r = k\n",
    "        while (a[task[r]] > a[i]) and (a[task[r]] != r):\n",
    "            r = r-1\n",
    "        if a[task[r]] <= a[i] and a[i] > r:\n",
    "            for m in range(k, r, -1):\n",
    "                task[m+1] = task[m]\n",
    "            task[r+1] = i\n",
    "            k = k+1\n",
    "                \n",
    "    for i in range(1,k):\n",
    "        w[task[i]] = 0\n",
    "        \n",
    "    s = 0\n",
    "    \n",
    "    for i in range(1,len(a)):\n",
    "        if w[i] > 0:\n",
    "            task[k+1] = i\n",
    "            s += w[i]\n",
    "            \n",
    "    return s\n",
    "\n",
    "a = [0, 4, 2, 4, 3, 1, 4, 6]\n",
    "w = [0, 70, 60, 50, 40, 30, 20, 10]\n",
    "task = []\n",
    "\n",
    "for i in a: task.append(0)\n",
    "\n",
    "s = greedy(a, w, task)\n",
    "\n",
    "print(task)\n",
    "print(w)\n",
    "print(s)"
   ]
  },
  {
   "cell_type": "markdown",
   "metadata": {
    "slideshow": {
     "slide_type": "slide"
    }
   },
   "source": [
    "<h1 align=\"center\">End of Seminar</h1>"
   ]
  }
 ],
 "metadata": {
  "kernelspec": {
   "display_name": "Python 3",
   "language": "python",
   "name": "python3"
  },
  "language_info": {
   "codemirror_mode": {
    "name": "ipython",
    "version": 3
   },
   "file_extension": ".py",
   "mimetype": "text/x-python",
   "name": "python",
   "nbconvert_exporter": "python",
   "pygments_lexer": "ipython3",
   "version": "3.8.5"
  }
 },
 "nbformat": 4,
 "nbformat_minor": 2
}
