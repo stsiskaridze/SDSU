{
 "cells": [
  {
   "cell_type": "markdown",
   "metadata": {
    "slideshow": {
     "slide_type": "slide"
    }
   },
   "source": [
    "**CS560 - Algorithms and Their Analysis**\n",
    "<br>\n",
    "Date: **12 February 2021**\n",
    "\n",
    "\n",
    "Title: **Seminar 4**\n",
    "<br>\n",
    "Speaker: **Dr. Shota Tsiskaridze**"
   ]
  },
  {
   "cell_type": "markdown",
   "metadata": {
    "slideshow": {
     "slide_type": "slide"
    }
   },
   "source": [
    "<h1 align=\"center\">Heapsort</h1>"
   ]
  },
  {
   "cell_type": "markdown",
   "metadata": {},
   "source": [
    "- In previous lectures we introduced **heapsort** algorithms:"
   ]
  },
  {
   "cell_type": "code",
   "execution_count": 1,
   "metadata": {},
   "outputs": [],
   "source": [
    "def parent(i):\n",
    "    return (i-1)//2\n",
    "\n",
    "def left(i):\n",
    "    return 2*i + 1\n",
    "\n",
    "def right(i):\n",
    "    return 2*i + 2"
   ]
  },
  {
   "cell_type": "code",
   "execution_count": 2,
   "metadata": {},
   "outputs": [],
   "source": [
    "def maxHeapify(A, i):\n",
    "    global heapsize\n",
    "    l = left(i)\n",
    "    r = right(i)\n",
    "    if l <= heapsize and A[l] > A[i]:\n",
    "        largest = l\n",
    "    else:\n",
    "        largest = i\n",
    "    if r <= heapsize and A[r] > A[largest]:\n",
    "        largest  = r\n",
    "    if largest != i:\n",
    "        exchange(A, i, largest)\n",
    "        maxHeapify(A, largest)"
   ]
  },
  {
   "cell_type": "code",
   "execution_count": 3,
   "metadata": {},
   "outputs": [],
   "source": [
    "def exchange(A, i, j):\n",
    "    temp = A[i]\n",
    "    A[i] = A[j]\n",
    "    A[j] = temp"
   ]
  },
  {
   "cell_type": "code",
   "execution_count": 4,
   "metadata": {},
   "outputs": [],
   "source": [
    "def buildMaxHeap(A):\n",
    "    heapsize = len(A)-1\n",
    "    for i in range(len(A)//2-1, -1, -1):\n",
    "        maxHeapify(A, i)"
   ]
  },
  {
   "cell_type": "code",
   "execution_count": 5,
   "metadata": {},
   "outputs": [
    {
     "name": "stdout",
     "output_type": "stream",
     "text": [
      "[16, 4, 10, 14, 7, 9, 3, 2, 8, 1]\n",
      "[16, 14, 10, 8, 7, 9, 3, 2, 4, 1]\n"
     ]
    }
   ],
   "source": [
    "A = [16, 4, 10, 14, 7, 9, 3, 2, 8, 1]\n",
    "print(A)\n",
    "heapsize = len(A)-1\n",
    "buildMaxHeap(A)\n",
    "print(A)"
   ]
  },
  {
   "cell_type": "markdown",
   "metadata": {
    "slideshow": {
     "slide_type": "slide"
    }
   },
   "source": [
    "<h3 align=\"center\">Task 1: Build a Heap from an Array</h3>\n",
    "\n",
    "- **Build** the **heap** from an **array**:\n",
    "\n",
    "<center><img src=\"images/S4_P1.png\" width=\"800\" alt=\"Example\" /></center>"
   ]
  },
  {
   "cell_type": "markdown",
   "metadata": {
    "slideshow": {
     "slide_type": "slide"
    }
   },
   "source": [
    "<h3 align=\"center\">Task 2: Build an Array from a Heap</h3>\n",
    "\n",
    "- **Build** the **heap** from an **array**:\n",
    "\n",
    "<center><img src=\"images/S4_P2.png\" width=\"800\" alt=\"Example\" /></center>"
   ]
  },
  {
   "cell_type": "markdown",
   "metadata": {
    "slideshow": {
     "slide_type": "slide"
    }
   },
   "source": [
    "<h3 align=\"center\">Task 3: Build the Max Heap</h3>\n",
    "\n",
    "- **Build** the **max heap**:\n",
    "\n",
    "<center><img src=\"images/S4_P3.png\" width=\"400\" alt=\"Example\" /></center>"
   ]
  },
  {
   "cell_type": "markdown",
   "metadata": {},
   "source": [
    "<h3 align=\"center\">Task 4: Perform the Heapsort</h3>\n",
    "\n",
    "- **Perform** the **heapsort** algorithm on **max heap**:\n",
    "\n",
    "<center><img src=\"images/S4_P4.png\" width=\"600\" alt=\"Example\" /></center>"
   ]
  },
  {
   "cell_type": "markdown",
   "metadata": {},
   "source": [
    "<h3 align=\"center\">Task 5: Perform the Heapsort</h3>\n",
    "\n",
    "- Starting with the procedure `maxHeapify`, write pseudocode for the procedure `minHeapify`, which performs the corresponding manipulation on a **min heap**."
   ]
  },
  {
   "cell_type": "code",
   "execution_count": 6,
   "metadata": {},
   "outputs": [],
   "source": [
    "def maxHeapify(A, i):\n",
    "    global heapsize\n",
    "    l = left(i)\n",
    "    r = right(i)\n",
    "    if l <= heapsize and A[l] > A[i]:\n",
    "        largest = l\n",
    "    else:\n",
    "        largest = i\n",
    "    if r <= heapsize and A[r] > A[largest]:\n",
    "        largest  = r\n",
    "    if largest != i:\n",
    "        exchange(A, i, largest)\n",
    "        maxHeapify(A, largest)"
   ]
  },
  {
   "cell_type": "code",
   "execution_count": 7,
   "metadata": {},
   "outputs": [],
   "source": [
    "def minHeapify(A,i):\n",
    "    # Fill me\n",
    "    return 0"
   ]
  },
  {
   "cell_type": "markdown",
   "metadata": {},
   "source": [
    "- How does the running time of `maxHeapify` compare to that of `minHeapify`?"
   ]
  },
  {
   "cell_type": "markdown",
   "metadata": {},
   "source": [
    "<h3 align=\"center\">Priority Queues</h3>\n",
    "\n",
    "- The **most popular** applications of a **heap**: as an efficient **priority queue**.\n",
    "\n",
    "\n",
    "- As with **heaps**, **priority queues** come in **two forms**: **max-priority queues** and **min-priority queues**.\n",
    "\n",
    "\n",
    "- We will **focus** onnly on how to implement **max-priority queues**.\n",
    "\n",
    "\n",
    "- A **priority queue** is a data structure for **maintaining** a **set** $S$ **of elements**, each with an associated value called a **key**.\n",
    "\n",
    "<center><img src=\"images/S4_Priority_Queue.jpg\" width=\"800\" alt=\"Example\" /></center>\n",
    "\n",
    "\n",
    "\n",
    "- A **max-priority queue** supports the following **operations**:\n",
    "  - $\\texttt{insertMax(S, x)}$: **inserts the element** $x$ into the set $S$, which is equivalent to the operation $S = S \\cup \\{x\\}$.\n",
    "  - $\\texttt{maximum(S)}$: **returns the element** of $S$ with the **largest key**.\n",
    "  - $\\texttt{extractMax(S)}$: **removes and returns** the **element** of $S$ with the **largest key**.\n",
    "  - $\\texttt{increaseKey(S, x, k)}$: **increase the value** of element $x$’s **key** to the **new value** $k$."
   ]
  },
  {
   "cell_type": "code",
   "execution_count": 8,
   "metadata": {},
   "outputs": [],
   "source": [
    "import numpy as np\n",
    "\n",
    "def insertMax(A, key):\n",
    "    global heapsize\n",
    "    heapsize = heapsize + 1\n",
    "    A[heapsize] = - np.inf\n",
    "    increaseKey(A, heapsize, key)"
   ]
  },
  {
   "cell_type": "code",
   "execution_count": 9,
   "metadata": {},
   "outputs": [],
   "source": [
    "def maximum(A):\n",
    "    return A[0]"
   ]
  },
  {
   "cell_type": "code",
   "execution_count": 10,
   "metadata": {},
   "outputs": [],
   "source": [
    "def extractMax(A):\n",
    "    global heapsize\n",
    "    if heapsize < 1:\n",
    "        return -1\n",
    "    max = A[0]\n",
    "    A[0] = A[heapsize]\n",
    "    heapsize = heapsize - 1\n",
    "    maxHeapify(A, 1)\n",
    "    return max"
   ]
  },
  {
   "cell_type": "code",
   "execution_count": 11,
   "metadata": {},
   "outputs": [],
   "source": [
    "def increaseKey(A, i, key):\n",
    "    if key < A[i]:\n",
    "        return -1\n",
    "    A[i] = key\n",
    "    while i > 0 and A[parent(i)] < A[i]:\n",
    "        exchange(A, i, parent(i))\n",
    "        i = parent(i)"
   ]
  },
  {
   "cell_type": "markdown",
   "metadata": {},
   "source": [
    "- Let's see these functions in use:"
   ]
  },
  {
   "cell_type": "code",
   "execution_count": 12,
   "metadata": {},
   "outputs": [
    {
     "name": "stdout",
     "output_type": "stream",
     "text": [
      "[1, 2, 4, 8, 16, 32, 64]\n"
     ]
    }
   ],
   "source": [
    "A = [1, 2, 4, 8, 16, 32, 64]\n",
    "print(A)"
   ]
  },
  {
   "cell_type": "code",
   "execution_count": 13,
   "metadata": {},
   "outputs": [
    {
     "name": "stdout",
     "output_type": "stream",
     "text": [
      "[64, 16, 32, 8, 2, 1, 4]\n"
     ]
    }
   ],
   "source": [
    "heapsize = len(A)-1\n",
    "buildMaxHeap(A)\n",
    "print(A)"
   ]
  },
  {
   "cell_type": "code",
   "execution_count": 14,
   "metadata": {
    "scrolled": true
   },
   "outputs": [
    {
     "name": "stdout",
     "output_type": "stream",
     "text": [
      "[128, 64, 32, 8, 16, 1, 4]\n"
     ]
    }
   ],
   "source": [
    "increaseKey(A, 4, 128)\n",
    "print(A)"
   ]
  },
  {
   "cell_type": "code",
   "execution_count": 15,
   "metadata": {
    "scrolled": true
   },
   "outputs": [
    {
     "name": "stdout",
     "output_type": "stream",
     "text": [
      "128\n"
     ]
    }
   ],
   "source": [
    "print(maximum(A))"
   ]
  },
  {
   "cell_type": "code",
   "execution_count": 16,
   "metadata": {},
   "outputs": [
    {
     "name": "stdout",
     "output_type": "stream",
     "text": [
      "4\n",
      "128\n",
      "3\n",
      "[16, 64, 32, 8, 16, 1, 4]\n"
     ]
    }
   ],
   "source": [
    "heapsize = 4\n",
    "print(heapsize)\n",
    "print(extractMax(A))\n",
    "print(heapsize)\n",
    "print(A)"
   ]
  },
  {
   "cell_type": "code",
   "execution_count": 17,
   "metadata": {},
   "outputs": [
    {
     "name": "stdout",
     "output_type": "stream",
     "text": [
      "[16, 5, 32, 8, 16, 1, 4]\n"
     ]
    }
   ],
   "source": [
    "heapsize = 0\n",
    "insertMax(A, 5)\n",
    "print(A)"
   ]
  },
  {
   "cell_type": "code",
   "execution_count": 19,
   "metadata": {
    "scrolled": true
   },
   "outputs": [
    {
     "name": "stdout",
     "output_type": "stream",
     "text": [
      "[5, 2, 4, 0, 1, 0, 3]\n"
     ]
    }
   ],
   "source": [
    "B = [0, 0, 0, 0, 0, 0, 0]\n",
    "heapsize = 0\n",
    "for i in range(len(B)-1):\n",
    "    insertMax(B, i)\n",
    "print(B)"
   ]
  },
  {
   "cell_type": "markdown",
   "metadata": {},
   "source": [
    "<h3 align=\"center\">Task 6: Insert Priority Queue </h3>\n",
    "\n",
    "- Illustrate the operation of `insertMax(A, 10)` on the heap $A[15, 13, 9, 5, 12, 8, 7, 4, 0, 6, 2, 1]$"
   ]
  },
  {
   "cell_type": "markdown",
   "metadata": {},
   "source": [
    "<h3 align=\"center\">Task 7: Min Priority Queue</h3>\n",
    "\n",
    "- Write the code for the procedures `minimum(A)`, `extractMin(A)`, `decreaseKey`, and `insertMin` that implement a **min** **priority queue** with a **min heap**."
   ]
  },
  {
   "cell_type": "markdown",
   "metadata": {},
   "source": [
    "<h3 align=\"center\">Task 8: D-ary Heaps</h3>\n",
    "\n",
    "- A **$D$-ary heap** is like a binary heap, but with one possible exception that **non-leaf** nodes have **$D$ children** instead of 2 children.\n",
    "\n",
    "\n",
    "1. How would you represent a $D$-ary heap in an array?\n",
    "\n",
    "\n",
    "2. What is the height of a $D$-ary heap of $n$ elements in terms of $n$ and $d$?\n",
    "\n",
    "\n",
    "3. Give an efficient implementation of `extractMax(A)` in a $D$-ary **max heap**. \n",
    "\n",
    "\n",
    "4. Give an efficient implementation of `insertMax(A)` in a $D$-ary **max heap**.\n",
    "\n",
    "\n",
    "5. Give an efficient implementation of `increaseKey(A)` in a $D$-ary **max heap**."
   ]
  },
  {
   "cell_type": "markdown",
   "metadata": {
    "slideshow": {
     "slide_type": "slide"
    }
   },
   "source": [
    "<h1 align=\"center\">End of Seminar</h1>"
   ]
  }
 ],
 "metadata": {
  "kernelspec": {
   "display_name": "Python 3",
   "language": "python",
   "name": "python3"
  },
  "language_info": {
   "codemirror_mode": {
    "name": "ipython",
    "version": 3
   },
   "file_extension": ".py",
   "mimetype": "text/x-python",
   "name": "python",
   "nbconvert_exporter": "python",
   "pygments_lexer": "ipython3",
   "version": "3.8.5"
  }
 },
 "nbformat": 4,
 "nbformat_minor": 2
}
