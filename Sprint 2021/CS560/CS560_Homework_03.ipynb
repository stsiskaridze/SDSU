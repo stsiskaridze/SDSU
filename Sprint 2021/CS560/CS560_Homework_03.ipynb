{
 "cells": [
  {
   "cell_type": "markdown",
   "metadata": {
    "slideshow": {
     "slide_type": "slide"
    }
   },
   "source": [
    "**CS560 - Algorithms and Their Analysis**\n",
    "\n",
    "Title: **Homework 3**\n",
    "\n",
    "Date: **12 March 2021**\n",
    "\n",
    "\n",
    "Deadline: **19 March 2021, 10:00**\n",
    "\n",
    "Homework will be evaluated maximum by **5 points**.\n",
    "\n",
    "Each problem is **one point**. \n",
    "\n"
   ]
  },
  {
   "cell_type": "markdown",
   "metadata": {
    "slideshow": {
     "slide_type": "slide"
    }
   },
   "source": [
    "<h3 align=\"center\">Problem 1: Rod Cutting</h3>\n",
    "\n",
    "- Given a **price table** for rods:\n",
    "\n",
    "| Length $i$  | 1 | 2 | 3  | 4  |  5 |  6 |  7 |  8 |  9 | 10 |\n",
    "|-------------|:-:|:-:|:--:|:--:|:--:|:--:|:--:|:--:|:--:|:--:|\n",
    "| price $p_i$ | 2 | 7 | 10 | 11 | 12 | 19 | 20 | 25 | 28 | 30 |\n",
    "\n",
    "\n",
    "- Determine the **optimal revenue** for $i = 1, 2, ..., 10$, **by inspection**, with the corresponding optimal decompositions.\n",
    "\n",
    "\n",
    "- **Double check** your answer by writhing and running the **dynamic programming** algorithm with **recursive top-down implementation**.\n"
   ]
  },
  {
   "cell_type": "markdown",
   "metadata": {
    "slideshow": {
     "slide_type": "slide"
    }
   },
   "source": [
    "<h3 align=\"center\">Problem 2: Cutting is Expensive</h3>\n",
    "\n",
    "- Consider a **modification** of the **rod-cutting problem** in which, in addition to a **price** $p_i$ for each rod, each **cut** incurs a **fixed cost** of $c$. \n",
    "\n",
    "\n",
    "- The **revenue** associated with a solution is now the **sum of the prices** of the pieces **minus the costs** of making the cuts. \n",
    "\n",
    "\n",
    "- **Write an algorithm** to solve this modified problem using the **dynamic-programming**."
   ]
  },
  {
   "cell_type": "markdown",
   "metadata": {
    "slideshow": {
     "slide_type": "slide"
    }
   },
   "source": [
    "<h3 align=\"center\">Problem 3: Fibonacci Numbers</h3>\n",
    "\n",
    "- The **Fibonacci numbers** are defined by recurrence:\n",
    "\n",
    "  - $F_0 = 0,$\n",
    "  - $F_1 = 1,$\n",
    "  - $F_n = F_{n-1} + F_{n-2}$ for all $n \\geq 2$.\n",
    "  \n",
    "\n",
    "- **Using dynamic programming**, write an algorithm that computes the $n$-th Fibonacci number in $O(n)$-time.\n",
    "  "
   ]
  },
  {
   "cell_type": "markdown",
   "metadata": {
    "slideshow": {
     "slide_type": "slide"
    }
   },
   "source": [
    "<h3 align=\"center\">Problem 4: Longest Palindrome Subsequence</h3>\n",
    "\n",
    "- A **palindrome** is a **nonempty string** over some **alphabet** that reads the same **forward** and **backward**. \n",
    "\n",
    "  For example **\"აი ია\"** is a **palindrome** (Assuming that **space** is also belongs to the alphabet).\n",
    "  \n",
    "  \n",
    "- **Using dynamic pgoramming**, write an efficient algorithm to find the **longest palindrome** that is a **subsequence** of a **given input string**.\n",
    "\n",
    "\n",
    "- For example:\n",
    "\n",
    "  - **Input**: \"ABBDCACB\".\n",
    "  - **output**: \"BCACB\"."
   ]
  },
  {
   "cell_type": "markdown",
   "metadata": {
    "slideshow": {
     "slide_type": "slide"
    }
   },
   "source": [
    "<h3 align=\"center\">Problem 5: 3-Partition Problem</h3>\n",
    "\n",
    "- Given a set $S$ of **positive integers**.\n",
    "\n",
    "\n",
    "- **Write a code** that **determines** if $S$ **can be partitioned** into **three disjoint subsets** that all have **same sum** and they **cover** $S$.\n",
    "\n",
    "\n",
    "- For example, \n",
    "\n",
    "  $S = \\{7, 3, 2, 1, 5, 4, 8\\}$\n",
    "  \n",
    "  We can partition $S$ into three partitions each having sum $10$:\n",
    "  \n",
    "  $S_1 = \\{7, 3\\},$\n",
    "  \n",
    "  $S_2 = \\{5, 4, 1\\},$\n",
    "  \n",
    "  $S_3 = \\{8, 2\\},$\n",
    "  \n",
    "  and\n",
    "  \n",
    "  $S = S_1 \\cup S_2 \\cup S_3$ and $S_i \\cap S_j = \\{\\varnothing\\}$ for all $i \\neq j$."
   ]
  }
 ],
 "metadata": {
  "celltoolbar": "Slideshow",
  "kernelspec": {
   "display_name": "Python 3",
   "language": "python",
   "name": "python3"
  },
  "language_info": {
   "codemirror_mode": {
    "name": "ipython",
    "version": 3
   },
   "file_extension": ".py",
   "mimetype": "text/x-python",
   "name": "python",
   "nbconvert_exporter": "python",
   "pygments_lexer": "ipython3",
   "version": "3.8.5"
  }
 },
 "nbformat": 4,
 "nbformat_minor": 2
}
