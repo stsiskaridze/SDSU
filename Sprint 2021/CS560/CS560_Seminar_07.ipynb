{
 "cells": [
  {
   "cell_type": "markdown",
   "metadata": {
    "slideshow": {
     "slide_type": "slide"
    }
   },
   "source": [
    "<h1 align=\"center\">Dynamic Programming</h1>\n",
    "\n",
    "- When developing a **dynamic-programming algorithm**, we follow a sequence of **four steps**:\n",
    "  1. **Characterize** the structure of an optimal solution.\n",
    "  2. **Define** recursively  the value of an optimal solution.\n",
    "  3. **Compute** the value of an optimal solution (typically in a bottom-up fashion).\n",
    "  4. **Construct** an optimal solution from computed information."
   ]
  },
  {
   "cell_type": "markdown",
   "metadata": {},
   "source": [
    "<h1 align=\"center\">Longest Common Subsequence</h1>\n",
    "\n",
    "\n",
    "\n",
    "  \n",
    "   \n",
    "- **Longest-Common-Subsequence problem**:\n",
    "\n",
    "  Given **two sequences** $X = \\left \\langle x_1, x_2, ..., x_m \\right \\rangle$ and $Y = \\left \\langle y_1, y_2, ..., y_n \\right \\rangle$, find a **maximum length common subsequence** of $X$ and $Y$ .\n",
    "  \n",
    "  \n",
    "- A sequence $Z$ is a **common subsequence** of $X$ and $Y$ if $Z$ is a **subsequence** of both $X$ and  $Y$.\n",
    "\n",
    "\n",
    "- We say that a sequence $Z = \\left \\langle z_1, z_2, ..., z_k \\right \\rangle$ is a **subsequence** of $X$ if there exists a strictly increasing sequence $\\left \\langle i_1, i_2, ..., i_k \\right \\rangle$ of indices of $X$ such that for all $j = 1, 2, ... , k$, we have $x_{i_j} = z_j$."
   ]
  },
  {
   "cell_type": "markdown",
   "metadata": {},
   "source": [
    "- Let us define $c[i, j]$ to be the **length of an LCS** of the sequences $X_i$ and $Y_j$.\n",
    "\n",
    "  The optimal substructure of the LCS problem gives the recursive formula:\n",
    "  \n",
    "  $$c[i, j] = \n",
    "  \\left\\{\\begin{matrix}\n",
    "  0, & \\text{ if } i=0 \\text{ or } j=0, \\\\\n",
    "  c[i-1,j-1] + 1, & \\text{ if } i,j>0 \\text{ and } x_i = y_j, \\\\\n",
    "  \\max \\left ( c[i, j-1], c[i-1, j] \\right ), & \\text{ if } i,j >0 \\text{ and } x_i \\neq y_j. \n",
    "  \\end{matrix}\\right.  \n",
    "  $$\n",
    "  \n",
    "\n",
    "- Using the recurence equation, we **can use dynamic programming** to compute the solutions **bottom up**:\n",
    "\n",
    "  Procedure `lengthLCS(X,Y)` takes two sequences $X = \\left \\langle x_1, x_2, ..., x_m \\right \\rangle$ and $Y = \\left \\langle y_1, y_2, ..., y_n \\right \\rangle$ as inputs. \n",
    "\n",
    "  It stores the $c[i,j]$ values in a table $c[0..m, 0..n]$, and it computes the entries in **row-major** order.\n",
    "  \n",
    "  The procedure also maintains the table $b[1..m, 1..n]$ to help us **construct an optimal solution**."
   ]
  },
  {
   "cell_type": "code",
   "execution_count": 143,
   "metadata": {},
   "outputs": [],
   "source": [
    "import numpy as np\n",
    "\n",
    "def lengthLCS(X,Y):\n",
    "    m = len(X)\n",
    "    n = len(Y)\n",
    "    b = np.zeros((m+1,n+1), dtype = str)\n",
    "    c = np.zeros((m+1,n+1))\n",
    "    for i in range (0, m):\n",
    "        for j in range(0,n):\n",
    "            if X[i] == Y[j]:\n",
    "                c[i+1,j+1] = c[i,j] + 1\n",
    "                b[i+1,j+1] = 'D' # left up diagonal arrow\n",
    "            elif c[i,j+1] >= c[i+1,j]:\n",
    "                c[i+1,j+1] = c[i,j+1]\n",
    "                b[i+1,j+1] = 'U' # up arrow\n",
    "            else:\n",
    "                c[i+1,j+1] = c[i+1, j]\n",
    "                b[i+1,j+1] = 'L' # left arrow\n",
    "    return b, c                "
   ]
  },
  {
   "cell_type": "code",
   "execution_count": 144,
   "metadata": {
    "scrolled": true
   },
   "outputs": [
    {
     "name": "stdout",
     "output_type": "stream",
     "text": [
      "b = \n",
      " [['' '' '' '' '' '' '']\n",
      " ['' 'U' 'U' 'U' 'D' 'L' 'D']\n",
      " ['' 'D' 'L' 'L' 'U' 'D' 'L']\n",
      " ['' 'U' 'U' 'D' 'L' 'U' 'U']\n",
      " ['' 'D' 'U' 'U' 'U' 'D' 'L']\n",
      " ['' 'U' 'D' 'U' 'U' 'U' 'U']\n",
      " ['' 'U' 'U' 'U' 'D' 'U' 'D']\n",
      " ['' 'D' 'U' 'U' 'U' 'D' 'U']] \n",
      " \n",
      " c = \n",
      " [[0. 0. 0. 0. 0. 0. 0.]\n",
      " [0. 0. 0. 0. 1. 1. 1.]\n",
      " [0. 1. 1. 1. 1. 2. 2.]\n",
      " [0. 1. 1. 2. 2. 2. 2.]\n",
      " [0. 1. 1. 2. 2. 3. 3.]\n",
      " [0. 1. 2. 2. 2. 3. 3.]\n",
      " [0. 1. 2. 2. 3. 3. 4.]\n",
      " [0. 1. 2. 2. 3. 4. 4.]]\n"
     ]
    }
   ],
   "source": [
    "X = ['A', 'B', 'C', 'B', 'D', 'A', 'B']\n",
    "Y = ['B', 'D', 'C', 'A', 'B', 'A']\n",
    "\n",
    "b,c  = lengthLCS(X,Y)\n",
    "print(\"b = \\n\", b, \"\\n \\n c = \\n\", c)"
   ]
  },
  {
   "cell_type": "markdown",
   "metadata": {},
   "source": [
    "- Figure below shows the tables produced by `lengthLCS(X,Y)` procedure on the sequences $X = \\left \\langle A, B, C, B, D, A, B\\right \\rangle$ and $Y = \\left \\langle B, D, C, A, B, A \\right \\rangle$. \n",
    "\n",
    "  The **running time** of the procedure is $\\Theta(mn)$, since each **table entry takes** $\\Theta(1)$ **time to compute**.\n",
    "  \n",
    "  \n",
    "<center><img src=\"images/S7_Table.png\" width=\"500\" alt=\"Example\" /></center>\n",
    "\n",
    "\n",
    "- The following recursive procedure **prints out** an LCS of $X$ and $Y$ in the proper, forward order."
   ]
  },
  {
   "cell_type": "code",
   "execution_count": 145,
   "metadata": {},
   "outputs": [
    {
     "name": "stdout",
     "output_type": "stream",
     "text": [
      "B\n",
      "C\n",
      "B\n",
      "A\n"
     ]
    }
   ],
   "source": [
    "def printLCS(b, X, i, j):\n",
    "    if i == 0 or j == 0:\n",
    "        return\n",
    "    if b[i,j] == 'D':\n",
    "        printLCS(b, X, i-1, j-1)\n",
    "        print(X[i-1])\n",
    "    elif b[i,j] == \"U\":\n",
    "        printLCS(b, X, i-1, j)\n",
    "    else:\n",
    "        printLCS(b, X, i, j-1)\n",
    "        \n",
    "printLCS(b, X, len(X), len(Y))"
   ]
  },
  {
   "cell_type": "markdown",
   "metadata": {
    "slideshow": {
     "slide_type": "slide"
    }
   },
   "source": [
    "<h1 align=\"center\">Exercise 1</h1>\n",
    "\n",
    "- Determine an **LCS** of $X = \\left \\langle 1, 0, 0, 1, 0, 1, 0, 1 \\right \\rangle$ and $Y = \\left \\langle 0, 1, 0, 1, 1, 0, 1, 1, 0 \\right \\rangle$.\n",
    "\n",
    "  1. Find a solution manually.\n",
    "  2. Write the code and get an answer."
   ]
  },
  {
   "cell_type": "code",
   "execution_count": 146,
   "metadata": {
    "scrolled": false
   },
   "outputs": [
    {
     "name": "stdout",
     "output_type": "stream",
     "text": [
      "b = \n",
      " [['' '' '' '' '' '' '' '' '' '']\n",
      " ['' 'U' 'D' 'L' 'D' 'D' 'L' 'D' 'D' 'L']\n",
      " ['' 'D' 'U' 'D' 'L' 'L' 'D' 'L' 'L' 'D']\n",
      " ['' 'D' 'U' 'D' 'U' 'U' 'D' 'L' 'L' 'D']\n",
      " ['' 'U' 'D' 'U' 'D' 'D' 'U' 'D' 'D' 'L']\n",
      " ['' 'D' 'U' 'D' 'U' 'U' 'D' 'U' 'U' 'D']\n",
      " ['' 'U' 'D' 'U' 'D' 'D' 'U' 'D' 'D' 'U']\n",
      " ['' 'D' 'U' 'D' 'U' 'U' 'D' 'U' 'U' 'D']\n",
      " ['' 'U' 'D' 'U' 'D' 'D' 'U' 'D' 'D' 'U']]\n",
      "c = \n",
      " [[0. 0. 0. 0. 0. 0. 0. 0. 0. 0.]\n",
      " [0. 0. 1. 1. 1. 1. 1. 1. 1. 1.]\n",
      " [0. 1. 1. 2. 2. 2. 2. 2. 2. 2.]\n",
      " [0. 1. 1. 2. 2. 2. 3. 3. 3. 3.]\n",
      " [0. 1. 2. 2. 3. 3. 3. 4. 4. 4.]\n",
      " [0. 1. 2. 3. 3. 3. 4. 4. 4. 5.]\n",
      " [0. 1. 2. 3. 4. 4. 4. 5. 5. 5.]\n",
      " [0. 1. 2. 3. 4. 4. 5. 5. 5. 6.]\n",
      " [0. 1. 2. 3. 4. 5. 5. 6. 6. 6.]]\n",
      "1\n",
      "0\n",
      "0\n",
      "1\n",
      "1\n",
      "0\n"
     ]
    }
   ],
   "source": [
    "X = [1, 0, 0, 1, 0, 1, 0, 1]\n",
    "Y = [0, 1, 0, 1, 1, 0, 1, 1, 0]\n",
    "\n",
    "b,c  = lengthLCS(X,Y)\n",
    "print(\"b = \\n\", b)\n",
    "print(\"c = \\n\", c)\n",
    "printLCS(b, X, len(X), len(Y))"
   ]
  },
  {
   "cell_type": "markdown",
   "metadata": {
    "slideshow": {
     "slide_type": "slide"
    }
   },
   "source": [
    "<h1 align=\"center\">Exercise 2</h1>\n",
    "\n",
    "- Write a code that **reconstruct an LCS** from the completed $c$ **table** and the **original sequences** $X$ and $Y$ in $O(m+n)$ time **without** using the $b$ **table**."
   ]
  },
  {
   "cell_type": "code",
   "execution_count": 148,
   "metadata": {},
   "outputs": [
    {
     "name": "stdout",
     "output_type": "stream",
     "text": [
      "1\n",
      "0\n",
      "1\n",
      "0\n",
      "1\n",
      "0\n"
     ]
    }
   ],
   "source": [
    "def printLCS2(c, X, i, j):\n",
    "    if i == 0 or j == 0:\n",
    "        return\n",
    "    if (c[i,j] == c[i-1,j] + 1) and (c[i,j] == c[i,j-1] + 1):\n",
    "        printLCS2(c, X, i-1, j-1)\n",
    "        print(X[i-1])\n",
    "    elif c[i,j] == c[i-1,j]:\n",
    "        printLCS2(c, X, i-1, j)\n",
    "    else:\n",
    "        printLCS2(c, X, i, j-1)\n",
    "\n",
    "X = [1, 0, 0, 1, 0, 1, 0, 1]\n",
    "Y = [0, 1, 0, 1, 1, 0, 1, 1, 0]        \n",
    "        \n",
    "printLCS2(c, X, len(X), len(Y))          "
   ]
  },
  {
   "cell_type": "code",
   "execution_count": 6,
   "metadata": {},
   "outputs": [
    {
     "data": {
      "text/plain": [
       "[1, 0, 0, 1, 0, 1, 0, 1]"
      ]
     },
     "execution_count": 6,
     "metadata": {},
     "output_type": "execute_result"
    }
   ],
   "source": [
    "X"
   ]
  },
  {
   "cell_type": "markdown",
   "metadata": {
    "slideshow": {
     "slide_type": "slide"
    }
   },
   "source": [
    "<h1 align=\"center\">Exercise 3</h1>\n",
    "\n",
    "- Show how to compute the **length of an LCS** using only $2 \\cdot min(m,n)$ entries in the $c$ table plus $O(1)$ additional space. "
   ]
  },
  {
   "cell_type": "markdown",
   "metadata": {},
   "source": [
    "- Since we need only two rows of $c$ table at a time, we can reduce the asymptotic space requirements for lenght of an LCS."
   ]
  },
  {
   "cell_type": "code",
   "execution_count": 64,
   "metadata": {
    "scrolled": true
   },
   "outputs": [
    {
     "name": "stdout",
     "output_type": "stream",
     "text": [
      "[0. 0. 0. 0. 0. 0. 0.]\n",
      "[0. 0. 0. 0. 1. 1. 1.]\n",
      "[0. 1. 1. 1. 1. 2. 2.]\n",
      "[0. 1. 1. 2. 2. 2. 2.]\n",
      "[0. 1. 1. 2. 2. 3. 3.]\n",
      "[0. 1. 2. 2. 2. 3. 3.]\n",
      "[0. 1. 2. 2. 3. 3. 4.]\n",
      "[0. 1. 2. 2. 3. 4. 4.]\n"
     ]
    }
   ],
   "source": [
    "import numpy as np\n",
    "\n",
    "def lengthLCS2(X,Y):\n",
    "    if len(X) < len(Y):\n",
    "        X, Y = Y, X\n",
    "    m = len(X)\n",
    "    n = len(Y)\n",
    "    c = np.zeros((2, n+1))\n",
    "    k = 0\n",
    "    l = 1\n",
    "    for i in range (0, m):\n",
    "        print(c[k])\n",
    "        for j in range(0,n):\n",
    "            if X[i] == Y[j]:\n",
    "                c[l,j+1] = c[k,j] + 1\n",
    "            elif c[l,j] <= c[k,j+1]:\n",
    "                c[l,j+1] = c[k,j+1]\n",
    "            else:\n",
    "                c[l,j+1] = c[l, j]\n",
    "        k , l = l , k\n",
    "    print(c[k])\n",
    "    return c   \n",
    "\n",
    "X = ['A', 'B', 'C', 'B', 'D', 'A', 'B']\n",
    "Y = ['B', 'D', 'C', 'A', 'B', 'A']\n",
    "\n",
    "c  = lengthLCS2(X,Y)"
   ]
  },
  {
   "cell_type": "markdown",
   "metadata": {
    "slideshow": {
     "slide_type": "slide"
    }
   },
   "source": [
    "<h1 align=\"center\">Exercise 4</h1>\n",
    "\n",
    "- Now show how to do **the same thing**, but using $min(m,n)$ entries plus $O(1)$ additional space."
   ]
  },
  {
   "cell_type": "code",
   "execution_count": 80,
   "metadata": {},
   "outputs": [
    {
     "name": "stdout",
     "output_type": "stream",
     "text": [
      "[0. 0. 0. 0. 0. 0. 0.]\n",
      "[0. 0. 0. 0. 1. 1. 1.]\n",
      "[0. 1. 1. 1. 1. 2. 2.]\n",
      "[0. 1. 1. 2. 2. 2. 2.]\n",
      "[0. 1. 1. 2. 2. 3. 3.]\n",
      "[0. 1. 2. 2. 2. 3. 3.]\n",
      "[0. 1. 2. 2. 3. 3. 4.]\n",
      "[0. 1. 2. 2. 3. 4. 4.]\n"
     ]
    }
   ],
   "source": [
    "import numpy as np\n",
    "\n",
    "def lengthLCS3(X,Y):\n",
    "    if len(X) < len(Y):\n",
    "        X, Y = Y, X\n",
    "    m = len(X)\n",
    "    n = len(Y)\n",
    "    c = np.zeros(n+1)\n",
    "    D, U, L  = 0, 0, 0\n",
    "    for i in range (0, m):\n",
    "        print(c)\n",
    "        D, U, L = 0, 0, 0\n",
    "        for j in range(0,n):\n",
    "            U = c[j+1]\n",
    "            if X[i] == Y[j]:\n",
    "                c[j+1] = D + 1\n",
    "                L = c[j+1]\n",
    "            elif L >= U:\n",
    "                c[j+1] = L\n",
    "            else:\n",
    "                c[j+1] = U\n",
    "            D = U\n",
    "    print(c)\n",
    "    return c   \n",
    "\n",
    "X = ['A', 'B', 'C', 'B', 'D', 'A', 'B']\n",
    "Y = ['B', 'D', 'C', 'A', 'B', 'A']\n",
    "\n",
    "c  = lengthLCS3(X,Y)"
   ]
  },
  {
   "cell_type": "markdown",
   "metadata": {
    "slideshow": {
     "slide_type": "slide"
    }
   },
   "source": [
    "<h1 align=\"center\">Exercise 5</h1>\n",
    "\n",
    "- Given a sequence $X$ of $n$ numbers.\n",
    "\n",
    "\n",
    "- Write an algorithm that finds the **longest monotonically increasing subsequence** of $X$ in $O(n^2)$ time."
   ]
  },
  {
   "cell_type": "code",
   "execution_count": 124,
   "metadata": {},
   "outputs": [
    {
     "name": "stdout",
     "output_type": "stream",
     "text": [
      "[2. 1. 5. 4. 3. 2. 1. 1. 1.]\n",
      "2 5\n",
      "[1, 2, 3, 4, 9]\n"
     ]
    }
   ],
   "source": [
    "import numpy as np\n",
    "\n",
    "def longestMIS(X):\n",
    "    n = len(X)\n",
    "    c = np.ones(n)\n",
    "    a = 0\n",
    "    m = 1\n",
    "    for i in range(0, n-1):\n",
    "        j = i+1\n",
    "        while X[j-1] <= X[j] and j < n-1:\n",
    "            c[i] = c[i] + 1\n",
    "            j = j + 1\n",
    "        if j - i > m:\n",
    "            m = j - i\n",
    "            a = i\n",
    "    return c, a, m\n",
    "\n",
    "X = [5, 6, 1, 2, 3, 4, 9, 8, 7]\n",
    "\n",
    "c, a, m = longestMIS(X)\n",
    "print(c)\n",
    "print(a, m)\n",
    "b = a+m\n",
    "print(X[a:b])"
   ]
  },
  {
   "cell_type": "markdown",
   "metadata": {
    "slideshow": {
     "slide_type": "slide"
    }
   },
   "source": [
    "<h1 align=\"center\">Exercise 6</h1>\n",
    "\n",
    "- Given a sequence $X$ of $n$ numbers.\n",
    "\n",
    "\n",
    "- **Usind Dynamic Programming**, write an algorithm that finds the **longest monotonically increasing subsequence** of $X$ in $O(n)$ time."
   ]
  },
  {
   "cell_type": "code",
   "execution_count": 149,
   "metadata": {},
   "outputs": [
    {
     "name": "stdout",
     "output_type": "stream",
     "text": [
      "[1. 2. 1. 2. 3. 4. 5. 1. 1.]\n",
      "6 5\n",
      "[1, 2, 3, 4, 9]\n"
     ]
    }
   ],
   "source": [
    "import numpy as np\n",
    "\n",
    "def longestMIS2(X, c, n):\n",
    "    if n == 0:\n",
    "        return\n",
    "    if X[n] >= X[n-1]:\n",
    "        longestMIS(X, c, n-1)\n",
    "        c[n] = c[n-1] + 1\n",
    "    else:\n",
    "        longestMIS(X, c, n-1)\n",
    "\n",
    "X = [5, 6, 1, 2, 3, 4, 9, 8, 7]\n",
    "\n",
    "c = np.ones(len(X))\n",
    "longestMIS2(X, c, len(X)-1)\n",
    "print(c)\n",
    "\n",
    "b = np.argmax(c)\n",
    "m = int(np.max(c))\n",
    "print(b,m)\n",
    "a = b-m\n",
    "print(X[a+1:b+1])"
   ]
  },
  {
   "cell_type": "markdown",
   "metadata": {
    "slideshow": {
     "slide_type": "slide"
    }
   },
   "source": [
    "<h1 align=\"center\">End of Seminar</h1>"
   ]
  }
 ],
 "metadata": {
  "kernelspec": {
   "display_name": "Python 3",
   "language": "python",
   "name": "python3"
  },
  "language_info": {
   "codemirror_mode": {
    "name": "ipython",
    "version": 3
   },
   "file_extension": ".py",
   "mimetype": "text/x-python",
   "name": "python",
   "nbconvert_exporter": "python",
   "pygments_lexer": "ipython3",
   "version": "3.8.5"
  }
 },
 "nbformat": 4,
 "nbformat_minor": 2
}
