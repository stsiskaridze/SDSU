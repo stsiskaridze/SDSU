{
 "cells": [
  {
   "cell_type": "markdown",
   "metadata": {
    "slideshow": {
     "slide_type": "slide"
    }
   },
   "source": [
    "**CS550 - Artificial Intelligence**\n",
    "\n",
    "Title: **Final Project**\n",
    "\n",
    "Presentation day: **6 May 2021**\n",
    "\n",
    "The **Final Project** will be evaluated at a maximum **30 points.**"
   ]
  },
  {
   "cell_type": "markdown",
   "metadata": {},
   "source": [
    "<h3 align=\"center\">List fo Groups (Before Rearrangement)</h3>\n",
    "\n",
    "- **Group 1:**\n",
    "  - Aleksandre Begiashvili\n",
    "  - Tornike Jajanidze\n",
    "  - Saba Kalmakhelidze \n",
    "  \n",
    "  \n",
    "\n",
    "- **Group 2:**\n",
    "  - Beka Aivazashvili\n",
    "  - Nikoloz Gabunia\n",
    "  - Tornike Iarajuli\n",
    "  - Tinatin Kotolashvili  \n",
    "  \n",
    "  \n",
    "- **Group 3:**\n",
    "  - Gocha Gunashvili\n",
    "  - Nineli Lashkarashvili\n",
    "  - Giorgi Sharmiashvili\n",
    "  \n",
    "  \n",
    "- **Group 4:**\n",
    "  - Levan Berelidze\n",
    "  - Giorgi Meladze\n",
    "  - Giorgi Natroshvili\n",
    "  - Giorgi Sandroshvili\n",
    "  \n",
    "  \n",
    "- **Group 5:**\n",
    "  - Iza Akhuashvili\n",
    "  - Nino Giorgadze\n",
    "  - Ana Maludze\n",
    "  \n",
    "- **Group 6:**\n",
    "  - Giorgi Chankseliani\n",
    "  - Giorgi Machavariani\n",
    "  - Giorgi Turdziladze\n",
    "  \n",
    "  \n",
    "- **Group 7:**\n",
    "  - Alexander Kutaladze\n",
    "  - Guga Mirotadze\n",
    "  - Ketevan Shartava"
   ]
  },
  {
   "cell_type": "markdown",
   "metadata": {},
   "source": [
    "<h3 align=\"center\">Grade Evaluation Criteria</h3>\n",
    "\n",
    "- The **Final Project** will be evaluated at a maximum **30 points.**\n",
    "- Points are distributed as follows:\n",
    "\n",
    "<img src=\"images/FE_Criteria.png\" width=\"900\" alt=\"Criteria\" />\n",
    "\n",
    "\n"
   ]
  },
  {
   "cell_type": "markdown",
   "metadata": {},
   "source": [
    "<h3 align=\"center\">List of Projects</h3>\n",
    "\n",
    "- **Project 1:** Georgian Numbers (Recurrent Neural Network)  \n",
    "\n",
    "\n",
    "- **Project 2:** Jester Dataset (Collaborative Filtering)\n",
    "\n",
    "\n",
    "- **Project 3:** Shark Attack Analysis (Random Forest)\n",
    "\n",
    "\n",
    "- **Project 4:** SMS Spam Collection (Natural Language Processing, Naive Bayes, Random Forest)\n",
    "\n",
    "\n",
    "- **Project 5:** Intel Image Classification (Convolutional Neural Network) \n",
    "\n",
    "\n",
    "- **Project 6:** Super Image Resolution (U-net)"
   ]
  },
  {
   "cell_type": "markdown",
   "metadata": {},
   "source": [
    "<h3 align=\"center\">Project 1: Georgian Numbers</h3>\n",
    "\n",
    "- **Description**: \n",
    "\n",
    "  In **Chapter 12** we considered **Human Numbers** dataset, which simply contains the first 10,000 numbers written out in English. \n",
    "  \n",
    "  Then we train the dataset using the basic Recurrent Neural Network with Weight-Tied Regularized LSTM.\n",
    "  \n",
    "  Your task is to perform the same actions but using **Georgian Numbers**, written in georgian. \n",
    "  \n",
    "  You will need to create the dataset yourself!\n"
   ]
  },
  {
   "cell_type": "markdown",
   "metadata": {},
   "source": [
    "<h3 align=\"center\">Project 2: Jester Dataset</h3>\n",
    "\n",
    "- **Description:**\n",
    "\n",
    "  You can find all the information about Jester Datasets for Recommender Systems and Collaborative Filtering Research <a href=\"http://eigentaste.berkeley.edu/dataset/\">here</a>.\n",
    "  \n",
    "  For training use **Dataset 4** collected from April 2015 - Nov 2019:  <a href=\"http://eigentaste.berkeley.edu/dataset/JesterDataset4.zip\"> jester_dataset_4.zip</a> \n",
    "\n",
    "\n",
    "- **Note:** Dataset is freely available for research use when acknowledged with the following reference:\n",
    "\n",
    "  <a href=\"https://goldberg.berkeley.edu/pubs/eigentaste.pdf\">Eigentaste:A Constant Time Collaborative Filtering Algorithm.</a> Ken Goldberg, Theresa Roeder, Dhruv Gupta, and Chris Perkins. Information Retrieval, 4(2), 133-151. July 2001.\n",
    "\n"
   ]
  },
  {
   "cell_type": "markdown",
   "metadata": {},
   "source": [
    "<h3 align=\"center\">Project 3: Shark Attack Analysis</h3>\n",
    "\n",
    "- **Description:**\n",
    "\n",
    "  You can find all the information about Global Shark Attack File <a href=\"http://www.sharkattackfile.net/index.htm\">here</a>.\n",
    "  \n",
    "  Dataset file is availabe on <a href=\"https://www.kaggle.com/teajay/global-shark-attacks\">Kaggle</a>.\n",
    "  \n",
    "  Your task is to predict shark attacks based on the variables like Salinity, Turbidity, DissovedO2, Temperature, precipitation state etc.\n",
    "  \n",
    "  \n",
    "- **Useful Links:**\n",
    "  - <a href=\"http://rstudio-pubs-static.s3.amazonaws.com/235161_31605f684ff2479890c1eac7d927cec8.html#data:\">Global Shark Attack Analysis</a>"
   ]
  },
  {
   "cell_type": "markdown",
   "metadata": {},
   "source": [
    "<h3 align=\"center\">Project 4: SMS Spam Collection</h3>\n",
    "\n",
    "- **Description:**\n",
    "\n",
    "  You can find all the information about SMS Spam Collection Dataset <a href=\"https://www.kaggle.com/uciml/sms-spam-collection-dataset\">here</a>.\n",
    "\n",
    "  This dataset contains one set of SMS messages in English of 5,574 messages, tagged acording being ham (legitimate) or spam.\n",
    "  \n",
    "  Dataset file is availabe on <a href=\"https://www.kaggle.com/uciml/sms-spam-collection-dataset/download\">Kaggle</a>.\n",
    "\n",
    "  Your task is to Classify text messages on spam or ham."
   ]
  },
  {
   "cell_type": "markdown",
   "metadata": {},
   "source": [
    "<h3 align=\"center\">Project 5: Intel Image Classification</h3>\n",
    "\n",
    "\n",
    "- **Description:**\n",
    "\n",
    "  You can find all the information about Intel Image Classification Dataset <a href=\"https://www.kaggle.com/puneet6060/intel-image-classification\">here</a>. This is image data of Natural Scenes around the world.\n",
    "\n",
    "  This Data contains around $25$k images of size $150\\times150$ distributed under $6$ categories:\n",
    "  - 0: buildings\n",
    "  - 1: forest\n",
    "  - 2: glacier\n",
    "  - 3: mountain\n",
    "  - 4: sea\n",
    "  - 5: street\n",
    "\n",
    "  Dataset file is availabe on <a href=\"https://www.kaggle.com/puneet6060/intel-image-classification/download\">Kaggle</a>.\n",
    "\n",
    "  The Train, Test and Prediction data is separated in each zip files. There are around 14k images in Train, 3k in Test and 7k in Prediction.\n",
    "\n",
    "  Your task is to build the classification model using CNN transer learning based **FastAI/ library."
   ]
  },
  {
   "cell_type": "markdown",
   "metadata": {},
   "source": [
    "<h3 align=\"center\">Project 6: Super Image Resolution</h3>\n",
    "\n",
    "- **Description:**\n",
    "\n",
    "  You can find all the information about Super Image Resolution Dataset <a href=\"https://www.kaggle.com/akhileshdkapse/super-image-resolution\">here</a>. \n",
    "  \n",
    "  Your task is to upscale and improve the quality of low resolution images.\n",
    "\n",
    "  Dataset file is availabe on <a href=\"https://www.kaggle.com/akhileshdkapse/super-image-resolution/download\">Kaggle</a>.\n",
    "\n",
    "\n",
    "- **Useful Links:**\n",
    "  - <a href=\"https://arxiv.org/pdf/1511.05666.pdf\">Super-Resolution with Deep Convolutional Sufficient Statistics</a>\n",
    "  - <a href=\"https://arxiv.org/pdf/1609.04802.pdf\">Photo-Realistic Single Image Super-Resolution Using a Generative Adversarial\n",
    "Network</a>"
   ]
  },
  {
   "cell_type": "markdown",
   "metadata": {},
   "source": [
    "<h1 align=\"center\">Wish you Good Luck!</h1>\n"
   ]
  }
 ],
 "metadata": {
  "kernelspec": {
   "display_name": "Python 3",
   "language": "python",
   "name": "python3"
  },
  "language_info": {
   "codemirror_mode": {
    "name": "ipython",
    "version": 3
   },
   "file_extension": ".py",
   "mimetype": "text/x-python",
   "name": "python",
   "nbconvert_exporter": "python",
   "pygments_lexer": "ipython3",
   "version": "3.8.5"
  }
 },
 "nbformat": 4,
 "nbformat_minor": 2
}
