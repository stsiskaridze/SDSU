{
 "cells": [
  {
   "cell_type": "markdown",
   "metadata": {
    "slideshow": {
     "slide_type": "slide"
    }
   },
   "source": [
    "Course: **Algorithms and Their Analysis**\n",
    "<br>\n",
    "\n",
    "Title: **Lecture 3 - The Maximum-Subarray Problem**\n",
    "<br>\n",
    "Speaker: **Dr. Shota Tsiskaridze**\n",
    "\n",
    "\n",
    "Bibliography:\n",
    "<br> \n",
    "[1] Cormen, Thomas H. and Leiserson, Charles Eric and Rivest, Ronald Linn and Stein, Clifford Seth, *Introduction to Algorithms, 3rd Edition*, MIT Press, 2009 \n"
   ]
  },
  {
   "cell_type": "markdown",
   "metadata": {
    "slideshow": {
     "slide_type": "slide"
    }
   },
   "source": [
    "<h1 align=\"center\">The Maximum-Subarray Problem</h1>"
   ]
  },
  {
   "cell_type": "markdown",
   "metadata": {},
   "source": [
    "<h3 align=\"center\">Problem Statement</h3>\n",
    "\n",
    "\n",
    "- Let's say you are **playing on the stock exchange** (You are the wolf of wall street).\n",
    "\n",
    "\n",
    "- You **know** what the **price** of the stock will be **in the future** (The Oracle told you).\n",
    "\n",
    "\n",
    "- You are allowed to **buy one unit** of stock **only one time** and then **sell it** at a **later** date (Tough restriction).\n",
    "\n",
    "\n",
    "- Your **goal** is to **maximize** your **profit** (You are greedy!).\n"
   ]
  },
  {
   "cell_type": "markdown",
   "metadata": {},
   "source": [
    "<h3 align=\"center\">Example</h3>\n",
    "\n",
    "- The **price** stock over a **17-day period** is shown below as an example:\n",
    "\n",
    "<center><img src=\"images/L3_Prices.png\" width=\"800\" alt=\"Example\" /></center>\n",
    "\n",
    "\n",
    "- You may **buy** the stock at **any one time**, starting after **day 0**, when the price is $100$ per share.\n",
    "\n",
    "\n",
    "- Of course, you would want to **buy low, sell high**.\n",
    "\n",
    "\n",
    "- Unfortunately, you might **not be able** to **buy at the lowest price** and then **sell at the highest price** within a given period.\n",
    "\n",
    "\n",
    "- You **might think** that you can always **maximize profit** by either **buying at the lowest price** or **selling at the highest price**, but here is the counterexample:\n",
    "\n",
    "<center><img src=\"images/L3_Counterexample.png\" width=\"350\" alt=\"Example\" /></center>\n"
   ]
  },
  {
   "cell_type": "markdown",
   "metadata": {},
   "source": [
    "<h3 align=\"center\">A Brute-Force Solution</h3>\n",
    "\n",
    "- We can easily devise a **brute-force** solution to this problem:\n",
    "\n",
    "  **just try every possible pair of buy and sell dates in which the buy date precedes the sell date.**\n",
    "\n",
    "\n",
    "- A period of $n$ days has $\\binom{n}{2} = \\frac{n(n-1)}{2}$ such pairs of dates.\n",
    "\n",
    "\n",
    "- Since  $\\binom{n}{2}$ is $\\Theta(n^2)$ and the **best** we can hope for is to evaluate each pair of dates in constant time, this approach would take $\\Omega(n^2)$.\n",
    "\n",
    "\n",
    "- Can we do better?"
   ]
  },
  {
   "cell_type": "markdown",
   "metadata": {},
   "source": [
    "<h3 align=\"center\">A Brute-Force Solution</h3>\n",
    "\n",
    "- We can easily devise a **brute-force** solution to this problem:\n",
    "\n",
    "  **just try every possible pair of buy and sell dates in which the buy date precedes the sell date.**\n",
    "\n",
    "\n",
    "- A period of $n$ days has $\\binom{n}{2} = \\frac{n(n-1)}{2}$ such pairs of dates.\n",
    "\n",
    "\n",
    "- Since  $\\binom{n}{2}$ is $\\Theta(n^2)$ and the **best** we can hope for is to evaluate each pair of dates in constant time, this approach would take $\\Omega(n^2)$.\n",
    "\n",
    "\n",
    "- Can we do better?"
   ]
  },
  {
   "cell_type": "markdown",
   "metadata": {},
   "source": [
    "<h3 align=\"center\">A Transformation</h3>\n",
    "\n",
    "- **Instead** of looking at the **daily prices**, let us instead consider the **daily change in price**, where the change on day $i$ is the difference between the prices after day $i-1$ and after day $i$, as shown below:\n",
    "\n",
    "\n",
    "<center><img src=\"images/L3_Prices_Difference.png\" width=\"800\" alt=\"Example\" /></center>\n",
    "\n",
    "\n",
    "- If we treat this row as an array $A$, we now want to **find the nonempty, contiguous subarray of $A$** whose values have the **largest sum**. \n",
    "\n",
    "\n",
    "- This subarray is called the **maximum subarray**.\n",
    "\n",
    "\n",
    "- At first glance, this transformation does not help, we still need to check $\\binom{n-1}{2} = \\Theta(n^2)$ subarrays for a period of $n$ days.\n",
    "\n",
    "\n",
    "- **However...**"
   ]
  },
  {
   "cell_type": "markdown",
   "metadata": {},
   "source": [
    "<h3 align=\"center\">A Solution Using Divide-and-Conquer</h3>\n",
    "\n",
    "- Suppose we want to find a maximum subarray of the subarray $A[low..high]$.\n",
    "\n",
    "\n",
    "- Divide-and-conquer suggests that we divide the subarray into two subarrays of as equal size as possible.\n",
    "\n",
    "\n",
    "- That is, we find the **midpoint**, of the subarray, and consider the subarrays $A[low..mid]$ and $A[mid+1..high]$:\n",
    "\n",
    "\n",
    "- Any contiguous subarray $A[i..j]$ of $A[low..mid]$ must lie in exactly one of the following places:\n",
    "\n",
    "  - entirely in the subarray $A[low..mid]$, so that $low \\leq i \\leq j \\leq mid$;\n",
    "  - entirely in the subarray $A[mid+1..high]$, so that $mid < i \\leq j \\leq high$;\n",
    "  - crossing the midpoint, so that $low \\leq i \\leq mid < j \\leq high$.\n",
    " \n",
    " \n",
    " - Therefore, a **maximum subarray** of $A[low..mid]$ must lie in exactly **one of these places**.\n",
    "\n",
    "<center><img src=\"images/L3_Maximum_Subarray_DC.png\" width=\"1000\" alt=\"Example\" /></center>\n",
    "\n",
    "\n",
    "- We can find **maximum subarrays** of $A[low..mid]$ and $A[mid+1..high]$ **recursively**.\n",
    "\n",
    "\n",
    "- We can find a maximum subarray **crossing the midpoint** in **linear time** in the size of the subarray $A[low..high]$..\n",
    "\n",
    "\n",
    "- Thus, all that is left to do is **find a maximum subarray** that **crosses the midpoint**, and take a subarray with the largest **sum of the three**."
   ]
  },
  {
   "cell_type": "markdown",
   "metadata": {},
   "source": [
    "- $\\texttt{findMaxCrossingSubarray(A, low, mid, high)}$:"
   ]
  },
  {
   "cell_type": "code",
   "execution_count": 6,
   "metadata": {},
   "outputs": [],
   "source": [
    "import numpy as np"
   ]
  },
  {
   "cell_type": "code",
   "execution_count": 7,
   "metadata": {},
   "outputs": [],
   "source": [
    "def findMaxCrossingSubarray(A, low, mid, high):\n",
    "    left_sum = -np.inf\n",
    "    sum = 0\n",
    "    max_left = mid\n",
    "    for i in range(mid, low, -1):\n",
    "        sum = sum + A[i]\n",
    "        if sum > left_sum:\n",
    "            left_sum = sum\n",
    "            max_left = i\n",
    "    right_sum = -np.inf\n",
    "    sum = 0\n",
    "    max_right = mid + 1\n",
    "    for j in range(mid + 1, high):\n",
    "        sum = sum + A[j]\n",
    "        if sum > right_sum:\n",
    "            right_sum = sum\n",
    "            max_right = j            \n",
    "    return max_left, max_right, left_sum + right_sum       "
   ]
  },
  {
   "cell_type": "markdown",
   "metadata": {},
   "source": [
    "- If the subarray $A[low..mid]$ contains $n$ entries, then the $\\texttt{findMaxCrossingSubarray}$ procedure takes $\\Theta(n)$ time.\n",
    "\n",
    "\n",
    "- With a **linear-time** $\\texttt{findMaxCrossingSubarray}$ procedure in hand, we can write code for a **D&C** algorithm to solve the **maximum subarray** problem.\n",
    "\n",
    "- $\\texttt{findMaximumSubarray(A, low, high)}$"
   ]
  },
  {
   "cell_type": "code",
   "execution_count": 8,
   "metadata": {},
   "outputs": [],
   "source": [
    "def findMaximumSubarray(A, low, high):\n",
    "    if high == low:\n",
    "        return low, high, A[low]\n",
    "    else:\n",
    "        mid = (low + high)//2\n",
    "        left_low,  left_high,  left_sum  = findMaximumSubarray(A, low,    mid )\n",
    "        right_low, right_high, right_sum = findMaximumSubarray(A, mid+1 , high)\n",
    "        cross_low, cross_high, cross_sum = findMaxCrossingSubarray(A, low, mid, high)\n",
    "    if left_sum >= right_sum and left_sum >= cross_sum:\n",
    "        return left_low, left_high, left_sum\n",
    "    if right_sum >= left_sum and right_sum >= cross_sum:\n",
    "        return right_low, right_high, right_sum\n",
    "    if cross_sum >= left_sum and cross_sum >= right_sum:\n",
    "        return cross_low, cross_high, cross_sum"
   ]
  },
  {
   "cell_type": "markdown",
   "metadata": {},
   "source": [
    "- The initial call $\\texttt{findMaximumSubarray(A, 1, len(A))}$ will find a maximum subarray of $A[1..n]$."
   ]
  },
  {
   "cell_type": "code",
   "execution_count": 9,
   "metadata": {},
   "outputs": [
    {
     "name": "stdout",
     "output_type": "stream",
     "text": [
      "B = [100, 113, 110, 85, 105, 102, 86, 63, 81, 101, 94, 106, 101, 79, 94, 90, 97]\n",
      "A = [13, -3, -25, 20, -3, -16, -23, 18, 20, -7, 12, -5, -22, 15, -4, 7]\n"
     ]
    }
   ],
   "source": [
    "B = [100, 113, 110, 85, 105, 102, 86, 63, 81, 101, 94, 106, 101, 79, 94, 90, 97]\n",
    "A = [B[i+1]-B[i] for i in range(len(B)-1)]\n",
    "print(f\"B = {B}\")\n",
    "print(f\"A = {A}\")"
   ]
  },
  {
   "cell_type": "code",
   "execution_count": 10,
   "metadata": {},
   "outputs": [
    {
     "name": "stdout",
     "output_type": "stream",
     "text": [
      " Low index = 7\n",
      " High index = 10\n",
      " Sum  = 43\n"
     ]
    }
   ],
   "source": [
    "low, high, sum = findMaximumSubarray(A, 0, len(A)-1)\n",
    "print(f\" Low index = {low}\")\n",
    "print(f\" High index = {high}\")\n",
    "print(f\" Sum  = {sum}\")"
   ]
  },
  {
   "cell_type": "markdown",
   "metadata": {
    "slideshow": {
     "slide_type": "slide"
    }
   },
   "source": [
    "<h1 align=\"center\">End of Appendix A</h1>"
   ]
  }
 ],
 "metadata": {
  "kernelspec": {
   "display_name": "Python 3",
   "language": "python",
   "name": "python3"
  },
  "language_info": {
   "codemirror_mode": {
    "name": "ipython",
    "version": 3
   },
   "file_extension": ".py",
   "mimetype": "text/x-python",
   "name": "python",
   "nbconvert_exporter": "python",
   "pygments_lexer": "ipython3",
   "version": "3.8.5"
  }
 },
 "nbformat": 4,
 "nbformat_minor": 2
}
