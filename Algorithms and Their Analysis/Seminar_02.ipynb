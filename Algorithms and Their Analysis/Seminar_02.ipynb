{
 "cells": [
  {
   "cell_type": "markdown",
   "metadata": {
    "slideshow": {
     "slide_type": "slide"
    }
   },
   "source": [
    "Course: **Algorithms and Their Analysis**\n",
    "<br>\n",
    "\n",
    "Title: **Seminar 2**\n",
    "<br>\n",
    "Speaker: **Dr. Shota Tsiskaridze**"
   ]
  },
  {
   "cell_type": "markdown",
   "metadata": {
    "slideshow": {
     "slide_type": "slide"
    }
   },
   "source": [
    "<h2 align=\"center\">Recursion</h2>"
   ]
  },
  {
   "cell_type": "markdown",
   "metadata": {
    "slideshow": {
     "slide_type": "slide"
    }
   },
   "source": [
    "<h2 align=\"center\">Root Finding</h2>"
   ]
  },
  {
   "cell_type": "markdown",
   "metadata": {},
   "source": [
    "<h3 align=\"center\">Binary Search with Recursion</h3>\n",
    "\n",
    "- Let's consider the **searching problem** introduced previously:\n",
    "\n",
    "  **Input**: A sorted sequence of $n$ numbers $A = \\left \\langle a_1, a_2, \\cdots, a_n \\right \\rangle$ and a value $v$.\n",
    "  \n",
    "  **Output**: An index $i$ such that $v = A[i]$ or the special value $\\texttt{None}$ if $v$ does not appear in $A$.\n",
    "  \n",
    "\n",
    "- Let's write the **Binary Search** algorithm that uses **ecursion**:"
   ]
  },
  {
   "cell_type": "code",
   "execution_count": 59,
   "metadata": {},
   "outputs": [
    {
     "name": "stdout",
     "output_type": "stream",
     "text": [
      "0\n",
      "1\n",
      "2\n",
      "3\n",
      "4\n"
     ]
    }
   ],
   "source": [
    "def binarySearch(A, v, a, b):\n",
    "    m = int((a + b)/2)\n",
    "    if a > b or a < 0 or b< 0 or a > len(A) or b > len(A): # stop condition\n",
    "        return -1\n",
    "    elif A[m] == v:\n",
    "        return m\n",
    "    elif a == b:\n",
    "        return None\n",
    "    elif A[m] > v:\n",
    "        return binarySearch(A, v, a, m)\n",
    "    else:\n",
    "        return binarySearch(A, v, m+1, b)\n",
    "    \n",
    "A = [0, 15, 33, 37, 42]\n",
    "\n",
    "for i in range(len(A)):\n",
    "    print(binarySearch(A, A[i], 0, len(A)-1))"
   ]
  },
  {
   "cell_type": "markdown",
   "metadata": {},
   "source": [
    "- How would you improve this code? Explain the answer!"
   ]
  },
  {
   "cell_type": "markdown",
   "metadata": {
    "slideshow": {
     "slide_type": "slide"
    }
   },
   "source": [
    "<h3 align=\"center\">Root Finding</h3>\n",
    "\n",
    "- **Root Finding Problem.**\n",
    " - Refers to the general problem of **searching for a solution** of an equation $f(x) = 0$  for some function $f(x)$.\n",
    " - This is a very general problem and it comes up a lot in mathematics!\n",
    " - For example, if we want to optimize a function $f(x)$ then we need to find critical points and therefore solve the equation ${f}'(x)=0$.\n",
    " \n",
    "\n",
    "- **Analytical solution.**\n",
    " - There are **few examples** where there exist exact methods for finding solutions. \n",
    " - You can find the roots of the **quadratic equation**: $$ax^2 + bx + c =0,$$\n",
    "   simply by applying the formula: $$x = \\frac{-b \\pm \\sqrt{b^2 - 4ac}}{2a}.$$\n",
    " - There is a general formula to solve a **cubic equation** and even a **quartic equation**, but the formula is too complicated to be useful.\n",
    "\n",
    "\n",
    "- **What can we do when no analytical solution is known?** \n",
    " - Use numerical methods to find approximate solutions.\n"
   ]
  },
  {
   "cell_type": "markdown",
   "metadata": {
    "slideshow": {
     "slide_type": "slide"
    }
   },
   "source": [
    "<h3 align=\"center\">Bisection Method</h3>\n",
    "\n",
    "- The **Bisection Method**:\n",
    " - divides the interval in two, selects the subinterval where the sign of $f(x)$ changes and repeats.\n",
    " - is based on the **Intermediate Value Theorem**;\n",
    " - does not (in general) produce an exact solution of an equation $f(x)=0$;\n",
    " - give an estimate of the absolute error in the approxiation;\n",
    "  - always converges to a root of $f(x) = 0$.\n",
    "  \n",
    "<center><img src=\"images/S2_Bisection.gif\" width=\"400\" height=\"300\" alt=\"Example\" /></center>\n",
    "  \n",
    "  \n",
    "- **Applicability:** The algorithm applies to any continuous function $f(x)$ on an interval $[a,b]$ where the function $f(x)$ changes sign, i.e. $f(a)\\cdot f(b) < 0$\n",
    "\n"
   ]
  },
  {
   "cell_type": "markdown",
   "metadata": {},
   "source": [
    "<h3 align=\"center\">Bisection Method: Implementation</h3>\n",
    "  \n",
    "- Lets writhe a code for **Bisection Method**.\n",
    "\n",
    "\n",
    "- For this, lets first define the $\\texttt{bisection}$ procedure:\n",
    "  1. Choose a starting interval $[a_0, b_0]$ such that $f(a_0)\\cdot f(b_0) < 0$;\n",
    "  2. For each sub-interval $[a_n, b_n]$ take a midpoint of $m_n = (a_n + b_n)/2$ and compute $f(m_n)$;\n",
    "  3. Determine the next sub-interval $[a_{n+1}, b_{n+1}]$:\n",
    "   - if $f(a_n)\\cdot f(m_n) < 0$, then $[a_{n+1}, b_{n+1}] = [a_n, m_n]$;\n",
    "   - if $f(b_n)\\cdot f(m_n) < 0$, then $[a_{n+1}, b_{n+1}] = [m_n, b_n]$;\n",
    "  4. Repeat (2) and (3) until the interval $[a_N, b_N]$ reaches some predetermined length;\n",
    "  5. Return the midpoint value $m_N$."
   ]
  },
  {
   "cell_type": "code",
   "execution_count": 63,
   "metadata": {},
   "outputs": [
    {
     "name": "stdout",
     "output_type": "stream",
     "text": [
      "1\n",
      "4\n",
      "0.01\n",
      "2.001953125\n"
     ]
    }
   ],
   "source": [
    "def bisection(a, b, e, f):\n",
    "    if f(a) * f(b) < 0:      \n",
    "        m =(a+b)/2\n",
    "        if (b-a)/2 < e:\n",
    "            return m\n",
    "        if f(m) == 0:\n",
    "            return m\n",
    "        else:\n",
    "            if f(a)*f(m) < 0:\n",
    "                return bisection(a,m,e,f)\n",
    "            else:\n",
    "                return bisection(m,b,e,f)\n",
    "    else:\n",
    "        return -1\n",
    "\n",
    "a=float(input())         # a of interval [a,b]\n",
    "b=float(input())         # b of interval [a,b]\n",
    "e=float(input())         # precision of the method\n",
    "f = lambda x: x**2 - 4   # function of interest\n",
    "\n",
    "print (bisection(a,b,e,f))"
   ]
  },
  {
   "cell_type": "markdown",
   "metadata": {},
   "source": [
    "<h3 align=\"center\">Bubblesort</h3>\n",
    "\n",
    "- **Bubblesort** is a popular, but inefficient, sorting algorithm. \n",
    "\n",
    "- It works by repeatedly **swapping adjacent elements** that are **out of order**.\n",
    "\n",
    "<center><img src=\"images/S2_Bubblesort.gif\" width=\"400\" alt=\"Example\" /></center>\n",
    "\n"
   ]
  },
  {
   "cell_type": "code",
   "execution_count": 33,
   "metadata": {},
   "outputs": [
    {
     "name": "stdout",
     "output_type": "stream",
     "text": [
      "[1, 2, 3, 4, 5, 6, 7, 8]\n"
     ]
    }
   ],
   "source": [
    "def bubbleSort(A): \n",
    "    for i in range(len(A)-1):                 #c1\n",
    "        for j in range(0, len(A) - 1 - i):    #c2\n",
    "            if A[j] > A[j+1] :                #c3\n",
    "                swap(A, j, j+1)               #c4\n",
    "\n",
    "def swap(A, i, j):\n",
    "    A[i] = A[i] + A[j]\n",
    "    A[j] = A[i] - A[j]\n",
    "    A[i] = A[i] - A[j]                 \n",
    "                \n",
    "A = [6, 5, 3, 1, 8, 7, 2, 4]\n",
    "  \n",
    "bubbleSort(A) \n",
    "  \n",
    "print(A)               "
   ]
  },
  {
   "cell_type": "markdown",
   "metadata": {},
   "source": [
    "- In order to show that $\\texttt{bubbleSort}$ procedure actually sorts, what do we need to prove?\n",
    "\n",
    "  1. We must state precisely a **loop invariant** for the **for** loop (**lines 3-5**).\n",
    "  2. We must show **three** things about a **loop invariant**:\n",
    "     - **Initialization**: It is true prior to the first iteration of the loop;\n",
    "     - **Maintenance**: If it is true before an iteration of the loop, it remains true before the next iteration;\n",
    "     - **Termination**: When the loop terminates, the invariant gives us a useful property that helps show that the algorithm is correct."
   ]
  },
  {
   "cell_type": "markdown",
   "metadata": {},
   "source": [
    "- What is the loop invariant in case of $\\texttt{bubbleSort}$ procedure?\n",
    "\n",
    "  **Answer**: loop invariant is that at the end of $i$-th iteration right most $i$ elements are sorted and in place.\n",
    "\n",
    "\n",
    "- What is the **worst-case running** time of **Bubblesort**? \n",
    "\n",
    "  **Answer**: \n",
    "    - Worst-case for **Bubblesort** is when for each **for** loop in **lines 3-5** he swaps the elements, i.e. when the array is sorted in **descending order**.\n",
    "    - Running time is: \n",
    "    \n",
    "    $$T(n) = \\sum_{i=0}^{n-2} c_1 + \\sum_{i = 0}^{n-2} \\sum_{j=0}^{n-i-2}(c_2+c_3+c_4) = c_1 (n-1) + (c_2 + c_3 + c_4)\\sum_{i=0}^{n-2} (n-1-i)= $$\n",
    "    $$ = c_1 (n-1) + (c_2 + c_3 + c_4)(n-1)(n-1) - (c_2 + c_3 + c_4) \\sum_{i=0}^{n-2} i = $$\n",
    "    $$ = c_1 (n-1) + (c_2 + c_3 + c_4)(n-1)(n-1) - (c_2 + c_3 + c_4) \\frac{(n-2)(n-3)}{2}= $$\n",
    "    $$ = \\left ( \\frac{c_2 + c_3 + c_4}{2} \\right ) n^2 + \\left ( c_1 - \\frac{c_2 + c_3 + c_4}{2} \\right ) n  - (c_1 + 2c_2 + 2c_3 + 2c_4) = \\Theta(n^2)$$ "
   ]
  },
  {
   "cell_type": "markdown",
   "metadata": {},
   "source": [
    "<h3 align=\"center\">Running Time of the Polynomial</h3>\n",
    "\n",
    "- Given a nonnegative integer $D$, a **polynomial in $n$ of degree $D$** is a function $p(n)$ of the form:\n",
    "\n",
    "  $$p(n) = \\sum_{k=0}^{D} a_j n^k = a_0 + a_1 n + a_2 n^2 + \\cdots + a_D n^D.$$\n",
    "\n",
    "  where the constants $a_0, a_1, \\cdots, a_D$ are the **coefficients** of the polynomial and $a_D > 0 $.\n",
    "\n",
    "\n",
    "- Lets prove, that:\n",
    "\n",
    "  $$p(n) = \\Theta(n^D).$$\n",
    "\n",
    "\n",
    "- According to the definition of $\\Theta$-notation:\n",
    "\n",
    "  $$\\Theta(g(n)) = \\left \\{f(n): \\exists \\text{ }c_1 > 0, c_2 >0 \\text{ and } n_0\\in\\mathbb{N} \\text{ such that } \\forall n > n_0 \\text{ is valid } 0 \\leq c_1 g(n) \\leq f(n) \\leq c_2 g(n) \\right \\},$$\n",
    "  \n",
    "  we need to find $c_1$, $c_2$ and $n_0$ such that \n",
    "  \n",
    "  $$0 \\leq c_1 n^D \\leq p(n) \\leq c_2 n^D.$$\n",
    "  \n",
    "- Lets first solve the **right side** of inequality, i.e. \n",
    "\n",
    "  $$p(n) < c_2 n^D.$$\n",
    "  \n",
    "  Since $n$ is a natural number, then $a_k n^k \\leq |a_k| n^k \\leq |a_k| \\leq n^D \\leq a_{\\max} n^D$, where $a_{\\max} = \\max_k |a_k|$ for $k = 0, 1, \\cdots, D$.\n",
    "  \n",
    "  Therefore, we can write:\n",
    "  \n",
    "  $$p(n) = a_0 + a_1 n + \\cdots + a_D n^D \\leq a_{\\max} n^D + a_{\\max} n^D + \\cdots + a_{\\max} n^D = ((D+1)\\cdot a_{\\max}) n^D \\equiv c_2 n^D,$$\n",
    "  \n",
    "  i.e. as $c_2$ we can take $(D+1) \\cdot a_\\max$ and $n_0 = 1$.\n",
    "  \n",
    "  \n",
    "- Finding the $c_1$ and $n_0$ for the **left side** of inequality is much **tricky**.\n",
    "\n",
    "  The main problem is that $a_k$ may be negative numbers, i.e. $p(n)$ < 0.\n",
    "  \n",
    "  Thus, first we need to choose such $n_0$ that $p(n)$ becomes **stricly positive**!\n",
    "  \n",
    "  - Without breaking the generality, we can assume that $a_D = 1$, otherwise we can devide everything on $a_D$ (remember that by definition $a_D >0$) and then redefine $a_k' = \\frac{a_k}{a_D}$.\n",
    "\n",
    "  - Without breaking the generality, we can assume, that all $a_k$ is negative numbers, that will give us the worst case scenario, i.e.:\n",
    "  \n",
    "  $$p(n) = n^D - a_{D-1} n^{D-1} - \\cdots  - a_1 n  - a_0.$$\n",
    "  \n",
    "  - Lets split the highest degree term on $D$ parts and group it with prevouse terms, i.e. rewrite:\n",
    "  \n",
    "  $$p(n) = n^D - a_{D-1} n^{D-1} - \\cdots  - a_1 n  - a_0 = $$\n",
    "  $$= \\frac{D}{D}n^D - a_{D-1} n^{D-1} - \\cdots  - a_1 n  - a_0.$$\n",
    "  $$= \\left (\\frac{n^D}{D} - a_{D-1} n^{D-1}\\right ) + \\cdots  + \\left (\\frac{n^D}{D}  - a_1 n \\right ) + \\left (\\frac{n^D}{D} a_0\\right ).$$\n",
    "\n",
    "  - Lets consider each term separately:\n",
    "  \n",
    "    $$\\frac{n^D}{D} - a_k n^k= n^k \\left ( \\frac{n^{D-k}}{D} - a_k \\right ).$$\n",
    "  \n",
    "    Taking $n_0 =\\lfloor a_\\max \\cdot D \\rfloor + 1$, where $a_\\max = \\max_k |a_k|$, we get that:\n",
    "    \n",
    "    $$\\left ( \\frac{n^{D-k}}{D} - a_k \\right ) \\geq \\frac{1}{D} \\text{ for each } k = 0, 1, \\cdots, D-1.$$\n",
    "  \n",
    "  - Thus, for $n_0 =\\lfloor a_\\max \\cdot D \\rfloor + 1$ the next inequality is valid:\n",
    "  \n",
    "    $$p(n) \\geq \\frac{1}{D} + \\cdots + \\frac{1}{D} = 1. \\text{, i.e. } c_1 = 1 \\text{ is a good choise}$$\n",
    "\n",
    "\n",
    " - Therefore, for $c_1 = 1$, $c_2 = (D+1) \\cdot a_\\max  $ and $n_0 =\\lfloor a_\\max \\cdot D \\rfloor + 1$ we get:\n",
    "    \n",
    "  $$0 \\leq c_1 n^D \\leq p(n) \\leq c_2 n^D, \\text { Q.E.D.}$$\n",
    "  \n"
   ]
  },
  {
   "cell_type": "markdown",
   "metadata": {},
   "source": [
    "<h3 align=\"center\">Workshop Questions/Exercises</h3>\n",
    "\n",
    "1. What does the **f2 (a, b)** method do?"
   ]
  },
  {
   "cell_type": "code",
   "execution_count": null,
   "metadata": {},
   "outputs": [],
   "source": [
    "def f(x,  y)\n",
    "    if y == 0:\n",
    "        return 0\n",
    "    return x + f(x, y-1)\n",
    "\n",
    "\n",
    "def f2(a, b)\n",
    "    if b == 0:\n",
    "        return 1;\n",
    "    return f(a, f2(a, b-1))"
   ]
  },
  {
   "cell_type": "markdown",
   "metadata": {},
   "source": [
    "2. Using **recursion**, write the code that prints the **Fibonachi Numbers**."
   ]
  },
  {
   "cell_type": "markdown",
   "metadata": {},
   "source": [
    "3. You want to calculate the **factorial** of a number using the **D&C technique**. \n",
    "\n",
    "  Complete the missing line in the following code snippet to do this."
   ]
  },
  {
   "cell_type": "code",
   "execution_count": null,
   "metadata": {},
   "outputs": [],
   "source": [
    "def factorial(n):\n",
    "    if n == 1 or n == 0:\n",
    "        return 1\n",
    "    else:\n",
    "        # fill me\n",
    "        \n",
    "factorial(10)"
   ]
  },
  {
   "cell_type": "markdown",
   "metadata": {},
   "source": [
    "4. Lets consider the function $f(n) = \\sin (\\varphi n)$, where $\\varphi \\in (0, \\pi/2)$.\n",
    "\n",
    "  What is the **asymptotically tight bound** for $f(n)$:\n",
    "  \n",
    "  $$f(n) = \\Theta(?)$$\n",
    "  \n",
    "  \n",
    "5. Assume an algorithm $A$, that solves problems by **dividing** them into **5 sub-problems** of half the size. \n",
    "\n",
    "  Then, recursively solving each sub-problem and **combining** the solution in **linear time** $\\Theta(n)$. \n",
    "  \n",
    "  What is the **recurrence relation** of the algorithm $A$ (**fill the squares**)? \n",
    "  \n",
    "  $$T(n) = \\square \\cdot T(\\square\\cdot n) + \\Theta(\\square)$$"
   ]
  }
 ],
 "metadata": {
  "kernelspec": {
   "display_name": "Python 3",
   "language": "python",
   "name": "python3"
  },
  "language_info": {
   "codemirror_mode": {
    "name": "ipython",
    "version": 3
   },
   "file_extension": ".py",
   "mimetype": "text/x-python",
   "name": "python",
   "nbconvert_exporter": "python",
   "pygments_lexer": "ipython3",
   "version": "3.8.5"
  }
 },
 "nbformat": 4,
 "nbformat_minor": 2
}
