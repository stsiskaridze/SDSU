{
 "cells": [
  {
   "cell_type": "markdown",
   "metadata": {
    "slideshow": {
     "slide_type": "slide"
    }
   },
   "source": [
    "Course: **Algorithms and Their Analysis**\n",
    "<br>\n",
    "\n",
    "Title: **Lecture 3 - Divide-and-Conquer**\n",
    "<br>\n",
    "\n",
    "Speaker: **Dr. Shota Tsiskaridze**\n",
    "\n",
    "Bibliography:\n",
    "<br> \n",
    "[1] Cormen, Thomas H. and Leiserson, Charles Eric and Rivest, Ronald Linn and Stein, Clifford Seth, *Introduction to Algorithms, 3rd Edition*, MIT Press, 2009 \n"
   ]
  },
  {
   "cell_type": "markdown",
   "metadata": {
    "slideshow": {
     "slide_type": "slide"
    }
   },
   "source": [
    "<h1 align=\"center\">Divide-and-Conquer</h1>"
   ]
  },
  {
   "cell_type": "markdown",
   "metadata": {},
   "source": [
    "<h3 align=\"center\">The Divide-and-Conquer Approach</h3>\n",
    "\n",
    "- Recall that in **Divide-and-Conquer** (**D&C**), we solve a problem **recursively**, applying **three steps** at each level of the recursion:\n",
    "\n",
    "  - **Divide** the problem into a number of subproblems that are smaller instances of the same problem.\n",
    "  - **Conquer** the subproblems by solving them recursively.\n",
    "  - **Combine** the solutions to the subproblems into the solution for the original problem.\n",
    "  \n",
    "-  Let's apply the **D&C** to solve the **sorting problem**."
   ]
  },
  {
   "cell_type": "markdown",
   "metadata": {
    "slideshow": {
     "slide_type": "slide"
    }
   },
   "source": [
    "<h3 align=\"center\">Merge-Sort</h3>\n",
    "\n",
    "- Let's consider the **sorting problem**:\n",
    "\n",
    "  **Input**: A sequence of $n$ numbers $\\left \\langle a_1, a_2, \\cdots, a_n \\right \\rangle$  \n",
    "  **Output**: A permutation (reordering) $\\left \\langle a_1, a_2, \\cdots, a_n \\right \\rangle$ of the input sequence such that $a'_1 \\leq a'_2 \\leq \\cdots \\leq a'_n$\n",
    "\n",
    "\n",
    "- The **Merge-Sort** algorithm closely follows the **D&C** paradigm. \n",
    "\n",
    "- Intuitively, it operates as follows:\n",
    "\n",
    "   - **Divide**: Divide the $n$-element sequence to be sorted into two subsequences of $\\frac{n}{2}$ elements each.\n",
    "   - **Conquer**: Sort the two subsequences recursively using merge sort.\n",
    "   - **Combine**: Merge the two sorted subsequences to produce the sorted answer.\n",
    "   \n",
    "   \n"
   ]
  },
  {
   "cell_type": "markdown",
   "metadata": {},
   "source": [
    "<h3 align=\"center\">Merge Procedure</h3>\n",
    "\n",
    "- The **key operation** of the **Merge-Sort** algorithm is the merging of two sorted sequences in the **Combine** step.\n",
    "\n",
    "\n",
    "- $\\texttt{merge(A, p, q, r)}$:"
   ]
  },
  {
   "cell_type": "code",
   "execution_count": 1,
   "metadata": {},
   "outputs": [],
   "source": [
    "import numpy as np"
   ]
  },
  {
   "cell_type": "code",
   "execution_count": 2,
   "metadata": {},
   "outputs": [],
   "source": [
    "def merge(A, p, q, r):\n",
    "    n1 = q - p + 1\n",
    "    n2 = r - q\n",
    "    L = [None]*(n1+1)\n",
    "    R = [None]*(n2+1)\n",
    "    for i in range(n1):\n",
    "        L[i] = A[p + i]\n",
    "    for j in range(n2):\n",
    "        R[j] = A[q + 1 + j]\n",
    "    L[n1] = np.inf\n",
    "    R[n2] = np.inf\n",
    "    i = 0\n",
    "    j = 0\n",
    "    for  k in range(p,r+1):\n",
    "        if L[i] <= R[j]:\n",
    "            A[k] = L[i]\n",
    "            i = i + 1\n",
    "        else:\n",
    "            A[k] = R[j]\n",
    "            j = j + 1"
   ]
  },
  {
   "cell_type": "markdown",
   "metadata": {},
   "source": [
    "- In detail, the $\\texttt{merge}$ procedure works as follows.\n",
    "\n",
    "\n",
    "- **Line 2**: We computes the length $n_1$ of the subarray $A[p..q]$;\n",
    "\n",
    "\n",
    "- **Line 3**: We computes the length $n_2$ of the subarray $A[q+1 .. r]$;\n",
    "\n",
    "\n",
    "- **Line 4-5**: We declare two empty helper arrays $L$ and $R$, of lengths $n_1 +1$ and $n_2 + 1$, respectively. The extra position in each array will hold the sentinel; \n",
    "\n",
    "\n",
    "- **Line 6-7**: The for loops copy the subarray $A[p..q]$ into $L[0..(n_1-1)]$;\n",
    "\n",
    "\n",
    "- **Line 8-9**: The for loops copy the subarray $A[q+1..r]$ into $R[0..(n_2-1)]$;\n",
    "\n",
    "\n",
    "- **Lines 10-11**: We put the sentinels (**None**) at the ends of the arrays $L$ and $R$;\n",
    "\n",
    "\n",
    "- **Lines 14-20**: We do the merging of two sorted subarrays.\n",
    "\n",
    "\n",
    "- **Loop invariant**: At the start of each iteration of the **for** loop, the subarray $A[p..k-1]$ contains the $k-p$ smallest elements of $L[0..n_1]$ and $R[0..n_2]$, in sorted order. \n",
    "  Moreover, $L[i]$ and $R[j]$ are the smallest elements of their arrays that have not been copied back into $A$.\n",
    " \n",
    " \n",
    "- The operation of **Lines 2–20** in the call $\\texttt{merge(A, 9, 12, 16)}$, when the subarray $A[9..16]$ contains the sequence $\\left \\langle 2, 4, 5, 7, 1, 2, 3, 6 \\right \\rangle$ is shown below: \n",
    "\n",
    "\n",
    "<center><img src=\"images/L3_Merge.png\" width=\"1000\" alt=\"Example\" /></center>\n",
    "\n",
    "- Now, We must show that (**You can prove this your own**):\n",
    "  - The **loop invariant** holds prior to the first iteration (**Initialization**) of the **for** loop of **Lines 14-20**;\n",
    "  - Each iteration of the loop maintains the loop invariant (**Meintenance**);\n",
    "  - The **loop invariant** provides a useful property to show correctness when the loop terminates (**Termination**).\n",
    "  \n",
    "  \n",
    "- What is the **running time** of the $\\texttt{merge}$ procedure?\n",
    "\n",
    "  - One can observe, that each **Lines 1-5** and **10–13** takes constant time;\n",
    "  \n",
    "  - The **for** loops of **Lines 6–9** take $\\Theta(n_1 + n_2) = \\Theta(n)$;\n",
    "  \n",
    "  - There are $n$ iterations of the **for** loop of **lines 14-20**, each of which takes constant time;\n",
    "  \n",
    "  - Thus, the **running time** of the $\\texttt{merge}$ procedure is $\\Theta(n)$."
   ]
  },
  {
   "cell_type": "markdown",
   "metadata": {},
   "source": [
    "<h3 align=\"center\">Merge-Sort Procedure</h3>\n",
    "\n",
    "- We can now use the $\\texttt{merge}$ procedure as a subroutine in the $\\texttt{mergeSort}$ algorithm.\n",
    "\n",
    "\n",
    "- $\\texttt{mergeSort(A, p, r)}$:"
   ]
  },
  {
   "cell_type": "code",
   "execution_count": 3,
   "metadata": {},
   "outputs": [],
   "source": [
    "def mergeSort(A, p, r):\n",
    "    if p < r:\n",
    "        q = (p + r)//2\n",
    "        mergeSort(A, p, q)\n",
    "        mergeSort(A, q+1, r)\n",
    "        merge(A, p, q, r)"
   ]
  },
  {
   "cell_type": "markdown",
   "metadata": {},
   "source": [
    "- To sort the entire sequence $A = \\left \\langle A[0], A[1], \\cdots, A[n-1]  \\right \\rangle$ we make the initial call:"
   ]
  },
  {
   "cell_type": "code",
   "execution_count": 4,
   "metadata": {},
   "outputs": [
    {
     "name": "stdout",
     "output_type": "stream",
     "text": [
      "[1, 2, 2, 3, 4, 5, 6, 7]\n"
     ]
    }
   ],
   "source": [
    "A = [5, 4, 2, 7, 1, 3, 2, 6]\n",
    "mergeSort(A, 0, len(A)-1)\n",
    "print(A)"
   ]
  },
  {
   "cell_type": "markdown",
   "metadata": {},
   "source": [
    "<center><img src=\"images/L3_Merge_Sort.png\" width=\"1000\" alt=\"Example\" /></center>"
   ]
  },
  {
   "cell_type": "markdown",
   "metadata": {
    "slideshow": {
     "slide_type": "subslide"
    }
   },
   "source": [
    "<h3 align=\"center\">Running time of Merge-Sort Algorithms</h3>\n",
    "\n",
    "- When an algorithm contains a recursive call to itself, we can often describe its **running time** by a **recurrence equation** or **recurrence**.\n",
    "\n",
    "\n",
    "- A **recurrence** for the running time $T(n)$ of a **D&C** algorithm can be written as follows:\n",
    "\n",
    "  $$\n",
    "T(n) = \n",
    "\\left\\{\\begin{matrix}\n",
    "\\Theta(1) & \\text{ if } n \\leq c,\\\\\n",
    "aT(n/b) + D(n) + C(n) & \\text{ otherwise.}\n",
    "\\end{matrix}\\right.$$\n",
    "\n",
    "  where:\n",
    "  \n",
    "  - $c$ is some constant such that, if the problem size is small enough say $n \\leq c$ for some constant c, the straightforward solution takes constant time, which we write as $\\Theta(1)$.\n",
    "  - The **number of subproblems** that our division of the problem yields is denoted as $a$;\n",
    "  - The **size of subproblem** is denoted as $1/b$;\n",
    "  - $D(n)$ is **time to divide** the problem into subproblems;\n",
    "  - $C(n)$ is **time to combine** the solutions to the subproblems into the solution to the original problem.\n",
    "\n",
    "\n",
    "\n",
    "- Although the code for **Merge-Sort** works correctly for any number of elements, our **recurrence-based analysis** is simplified if we **assume** that the original **problem size** is a **power of $2$**, i.e. $n = 2^k$ for some $k\\in \\mathbb{N}$.\n",
    "\n",
    "  We shall see that this assumption does not affect the order of growth of the solution to the recurrence.\n",
    "  \n",
    "\n",
    "- To set up the **recurrence** for $T(n)$ we consider the **worst-case running time** of **merge sort** on $n$ numbers.\n",
    "\n",
    "- We also assume that **Merge-Sort** on just **one element** takes **constant time**.\n",
    "\n",
    "\n",
    "- Then, for $n > 1$ elements, we break down the **running time** as follows.\n",
    "\n",
    "  - **Divide**: The divide step just computes the middle of the subarray, which takes constant time. Thus, $D(n) = \\Theta(1)$.\n",
    "      \n",
    "  - **Conquer**: We recursively solve two subproblems, each of size $n=2$, which contributes $2T(n/2)$ to the running time.\n",
    "  \n",
    "  - **Combine**: We have already noted that the $\\texttt{merge}$ procedure on an $n$-element subarray takes time $\\Theta(n)$ and so $C(n) = \\Theta(n)$.\n",
    "  \n",
    "  \n",
    "- We will show that $T(n) = \\Theta(n \\lg n)$.\n",
    "\n",
    "- However, there are different ways to demonstrate it. Let's discuss them.\n"
   ]
  },
  {
   "cell_type": "markdown",
   "metadata": {},
   "source": [
    "<h3 align=\"center\">Recurrences</h3>\n",
    "\n",
    "- There are **three methods** for solving **recurrences**:\n",
    "  - **Substitution method**: guess a bound and then use mathematical induction to prove our guess correct.\n",
    "  - **Recursion-tree method**: converts the recurrence into a tree whose nodes represent the costs incurred at various levels of the recursion.\n",
    "  - **Master method**: provides bounds for recurrences of the form:\n",
    "  \n",
    "    $$T(n) = aT(n/b) + f(n)$$\n",
    "  \n",
    "    where $a \\geq 1$, $b > 1$, and $f(n)$ is a given function.\n",
    "  \n",
    "\n",
    "- The recurrences of the form used in the **master method** arise frequently.\n",
    "\n",
    "  A recurrence of such form in equation characterizes a **D&C** algorithm that creates $a$ **subproblems**, each of which is $1/b$ the **size** of the original problem, and in which the **divide** and **combine** steps together take $f(n)$ time."
   ]
  },
  {
   "cell_type": "markdown",
   "metadata": {},
   "source": [
    "<h3 align=\"center\">Recursion-Tree Method</h3>\n",
    "\n",
    "\n",
    "- The **recurrence** for the **worst-case running time** $T(n)$ of **Merge-Sort** can be written as follows:\n",
    "\n",
    "  $$\n",
    "T(n) = \n",
    "\\left\\{\\begin{matrix}\n",
    "c & \\text{ if } n = 1,\\\\\n",
    "2T(n/2) + cn & \\text{ if} n > 1.\n",
    "\\end{matrix}\\right.$$\n",
    "\n",
    "  where the **constant** $c$ represents the **time** required to solve problems of **size 1** as well as the **time** per array element of the **divide** and **combine** steps.\n",
    "\n",
    "\n",
    "\n",
    "\n",
    "- However, to **intuitively** understand why the solution to the recurrence is $\\Theta(n \\lg n)$, we can use **recursion tree**:"
   ]
  },
  {
   "cell_type": "markdown",
   "metadata": {},
   "source": [
    "<center><img src=\"images/L3_Merge_Sort_Recurence_Tree.png\" width=\"1000\" alt=\"Example\" /></center>"
   ]
  },
  {
   "cell_type": "markdown",
   "metadata": {},
   "source": [
    "<h3 align=\"center\">Master Method</h3>\n",
    "\n",
    "- The **Master method** depends on the following **Theorem**:\n",
    "\n",
    "  **Theorem**: Let $a \\geq1$ and $b > 1$ be constants, let $f(n)$ be a function, and let $T(n)$ be defined on the nonnegative integers by the recurrence:\n",
    "  \n",
    "  $$T(n) = aT(n/b) + f(n).$$\n",
    "  \n",
    "  where we interpret $n/b$ to mean either $\\lfloor n/b \\rfloor$ or $\\lceil n/b \\rceil$.\n",
    "  \n",
    "  Then $T(n)$ has the following **asymptotic bounds**:\n",
    "  \n",
    "  1. If $f(n) = O(n^{\\log_b a-\\epsilon})$ for some constant $\\epsilon > 0$, then $T(n) = \\Theta(n^{\\log_b a})$.\n",
    "  2. If $f(n) = \\Theta(n^{\\log_b a})$, then $T(n) = \\Theta(n^{\\log_b a} \\lg n)$.\n",
    "  3. If $f(n) = \\Omega(n^{\\log_b a + \\epsilon})$ for some constant $\\epsilon > 0$, and if $af(n/b) \\leq cf(n)$ for some constant $c < 1$ and all sufficiently large $n$, then $T(n) = \\Theta(f(n))$.\n",
    "  \n",
    "  \n",
    "- **Before applying** the master theorem to some examples, let’s spend a moment trying to **understand what it says**:\n",
    "\n",
    "  - In each of the **three cases**, we compare the function $f(n)$ with the function $n^{\\log_b a}$.\n",
    "  - **Case 1**: If the function $n^{\\log_b a}$ is the larger, then the solution is $T(n) = \\Theta(n^{\\log_b a})$.\n",
    "  - **Case 2**: If the two functions are the same size, we multiply by a logarithmic factor, and the solution is $T(n) = \\Theta(n^{\\log_b a} \\lg n)$.\n",
    "  - **Case 3**: If the function $f(n)$ is the larger, then the solution is $T(n) = \\Theta(f(n))$.\n",
    "\n",
    "\n",
    "- **Note**: \n",
    "  - In the **first case**, not only must $f(n)$ be smaller than $n^{\\log_b a}$, it must be **polynomially smaller**.\n",
    "  - In the **third case**, not only must $f(n)$ be larger than $n^{\\log_b a}$, it also must be **polynomially larger** and in addition satisfy the **regularity** condition:\n",
    "    $$af(n/b) \\leq cf(n).$$\n",
    "    \n",
    "  - Thus, **these three cases do not cover** all the possibilities for $f(n)$.\n",
    "  \n",
    "  - However, this **condition is satisfied** by **most of the polynomially bounded functions** that we shall encounter.\n"
   ]
  },
  {
   "cell_type": "markdown",
   "metadata": {},
   "source": [
    "<h3 align=\"center\">Using the Master Method</h3>\n",
    "\n",
    "- **Example 1** using **Case 1**:\n",
    "\n",
    "  Let's consider:\n",
    "\n",
    "  $$T(n) = 9T(n/3) + n.$$\n",
    "  \n",
    "  For this recurrence, we have $a = 9$, $b = 3$, $f(n)= n$.\n",
    "  \n",
    "  Thus, we have that $n^{\\log_b a} = n^{\\log_3 9} = n^2$.\n",
    "  \n",
    "  Lets compare it with $f(n)$:\n",
    "  \n",
    "  $$f(n) \\equiv n^{\\log_3 9-\\epsilon} \\Rightarrow n \\equiv n^{2 -\\epsilon},$$\n",
    "  \n",
    "  i.e. $\\epsilon = 1$ and we can apply the **Case 1** of the master theorem and conclude that the solution is $T(n) = \\Theta(n^{\\log_b a}) = \\Theta(n^{2})$.\n",
    " \n",
    " \n",
    " \n",
    "- **Example 2** using **Case 2**:\n",
    "\n",
    "  Let's consider:\n",
    " \n",
    "  $$T(n) = T(2n/3) + 1.$$\n",
    "\n",
    "  For this recurrence, we have $a = 1$, $b = 3/2$, $f(n)= 1$.\n",
    "  \n",
    "  Thus, we have that $n^{\\log_b a} = n^{\\log_{3/2} 1} = n^0 = 1$.\n",
    "  \n",
    "  **Case 2** applies, since $f(n) = \\Theta(n^{\\log_b a}) = \\Theta(1)$, and thus the solution to the recurrence is $T(n) = \\Theta(\\lg n)$.\n",
    "  \n",
    "\n",
    "\n",
    "- **Example 3** using **Case 3**:\n",
    "\n",
    "  Let's consider:\n",
    " \n",
    "  $$T(n) = 3T(n/4) + n \\lg n.$$\n",
    "\n",
    "  For this recurrence, we have $a = 3$, $b = 4$, $f(n)= n \\lg n$.\n",
    "  \n",
    "  Thus, we have that $n^{\\log_b a} = n^{\\log_{4} 3} \\approx n^{0.793}$.\n",
    "\n",
    "  Lets show that $f(n) = \\Omega(n^{log_4 3 + \\epsilon})$.\n",
    "  \n",
    "  By definition,\n",
    "  \n",
    "    $$\\Omega(g(n)) = \\left \\{f(n): \\exists \\text{ }c > 0 \\text{ and } n_0\\in\\mathbb{N} \\text{ such that } \\forall n > n_0 \\text{ is valid } 0 \\leq c  g(n) \\leq f(n) \\right \\},$$\n",
    "\n",
    "  i.e. we need to show that for some $c > 0$ and sufficiently large $n$, there valid:\n",
    "  \n",
    "  $$0 \\leq c \\cdot n^{0.793 + \\epsilon} \\leq n \\lg n.$$\n",
    "  \n",
    "  This inequality is satisfied for $\\epsilon = 0.2$ and any $0 < c < 1$.\n",
    "  \n",
    "  We also need to check that for sufficiently large $n$:\n",
    "  \n",
    "  $$af(n/b) \\leq c f(n)$$\n",
    "  \n",
    "  for some $c<1$.\n",
    "  \n",
    "  Lets find $c$:\n",
    "  \n",
    "  $$af(n/b) = 3(n/4) \\lg(n/4) \\leq (3/4) n \\lg n  = cf(n),$$\n",
    "  \n",
    "  i.e. $c = 3/4$ is a good candidate.\n",
    "  \n",
    "  \n",
    " - Consequently, by **Case 3**, the solution to the recurrence is $T(n) = \\Theta(n \\lg n)$\n",
    " \n",
    " \n",
    " \n",
    "- **Example 4** when the master method **does not apply** to the recurrence:\n",
    "\n",
    "  Let's consider:\n",
    "\n",
    "  $$T(n) = 2T(n/2) + n \\lg n.$$\n",
    "  \n",
    "  Even though it appears to have the proper form:\n",
    "  \n",
    "  $$a = 2 \\text{, } b = 2 \\text{, } f(n) = n \\lg n \\text{, and } n^{\\log_b a} = n,$$\n",
    "  \n",
    "  you **can not apply the master method**.\n",
    "    \n",
    "  You might **mistakenly think** that **Case 3** should apply, since $f(n) = n \\lg n$ is asymptotically larger than $n^{\\log_b a} = n$.\n",
    "  \n",
    "  The problem is that it is **not polynomially larger**.\n",
    "  \n",
    "  The ratio $f(n)/n^{\\log_b a} = (n \\lg n)/n = \\lg n$ is asymptotically less than $n^{\\epsilon}$ for any $\\epsilon > 0$.\n",
    "  \n",
    "  \n",
    "\n",
    "\n",
    "  "
   ]
  },
  {
   "cell_type": "markdown",
   "metadata": {},
   "source": [
    "<h3 align=\"center\">Master Method for Merge-Sort</h3>\n",
    "\n",
    "- Let’s use the master method to solve the recurrence:\n",
    "\n",
    "  $$T(n) = 2T(n/2) + \\Theta(n),$$\n",
    "  \n",
    "  that characterizes the **running times** of the **D&C** algorithm for both the **Maximum-Subarray Problem** and **Merge-Sort**.\n",
    "  \n",
    "  Here, we have $a =2$, $b = 2$ and $f(n)=\\Theta(n).$\n",
    "\n",
    "  Thus, we have that $n^{\\log_b a} = n^{\\log_2 2} = n.$\n",
    "  \n",
    "  **Case 2** applies, since $f(n)=\\Theta(n)$ and so we have the solution $T(n) = \\Theta(n \\lg n).$\n"
   ]
  },
  {
   "cell_type": "markdown",
   "metadata": {},
   "source": [
    "<h3 align=\"center\">Master Method for Matrix Multiplication</h3>\n",
    "\n",
    "- Let's describe the **running time** of the **first D&C** algorithm for **Mmatrix Multiplication**:\n",
    "\n",
    "  $$T(n) = 8T(n/2) + \\Theta(n^2).$$\n",
    "\n",
    "\n",
    "  Here, we have $a = 8$, $b = 2$ and $f(n)=\\Theta(n^2).$\n",
    "\n",
    "  Thus, we have that $n^{\\log_b a} = n^{\\log_2 8} = n^3.$\n",
    "\n",
    "  Lets compare it with $f(n)$:\n",
    "\n",
    "  $$f(n) \\equiv n^{3 - \\epsilon} \\Rightarrow n^2 \\equiv n^{3 - \\epsilon},$$\n",
    "  \n",
    "  i.e. $\\epsilon = 1$ is a good candidate.\n",
    "  \n",
    "  We can apply the **Case 1** of the master theorem and conclude that the solution is:\n",
    "\n",
    "  $$T(n) = \\Theta(n^3).$$\n",
    "\n",
    "\n",
    "- Let's describe the **running time** of the **Strassen’s** algorithm for **Mmatrix Multiplication**:\n",
    "\n",
    "  $$T(n) = 7T(n/2) + \\Theta(n^2).$$\n",
    "\n",
    "\n",
    "  Here, we have $a = 7$, $b = 2$ and $f(n)=\\Theta(n^2).$\n",
    "\n",
    "  Thus, we have that $n^{\\log_b a} = n^{\\log_2 7} \\approx n^{2.80}.$\n",
    "\n",
    "  Lets compare it with $f(n)$:\n",
    "\n",
    "  $$f(n) \\equiv n^{2.80 - \\epsilon} \\Rightarrow n^2 \\equiv n^{2.80 - \\epsilon},$$\n",
    "  \n",
    "  i.e. $\\epsilon = 0.8$ is a good candidate.\n",
    "  \n",
    "  Again, **Case 1 applies**, and we have the solution:\n",
    "\n",
    "  $$T(n) = \\Theta(n^{\\lg 7}).$$\n"
   ]
  },
  {
   "cell_type": "code",
   "execution_count": null,
   "metadata": {},
   "outputs": [],
   "source": [
    "import numpy as np\n",
    "\n",
    "a = np.log(7,2)\n",
    "a"
   ]
  },
  {
   "cell_type": "markdown",
   "metadata": {
    "slideshow": {
     "slide_type": "slide"
    }
   },
   "source": [
    "<h1 align=\"center\">End of Lecture</h1>"
   ]
  },
  {
   "cell_type": "code",
   "execution_count": null,
   "metadata": {},
   "outputs": [],
   "source": []
  }
 ],
 "metadata": {
  "kernelspec": {
   "display_name": "Python 3",
   "language": "python",
   "name": "python3"
  },
  "language_info": {
   "codemirror_mode": {
    "name": "ipython",
    "version": 3
   },
   "file_extension": ".py",
   "mimetype": "text/x-python",
   "name": "python",
   "nbconvert_exporter": "python",
   "pygments_lexer": "ipython3",
   "version": "3.8.5"
  }
 },
 "nbformat": 4,
 "nbformat_minor": 2
}
