{
 "cells": [
  {
   "cell_type": "markdown",
   "metadata": {
    "slideshow": {
     "slide_type": "slide"
    }
   },
   "source": [
    "Course: **Algorithms and Their Analysis**\n",
    "<br>\n",
    "\n",
    "Title: **Seminar 1**\n",
    "<br>\n",
    "\n",
    "Speaker: **Dr. Shota Tsiskaridze**\n",
    "<br>"
   ]
  },
  {
   "cell_type": "markdown",
   "metadata": {
    "slideshow": {
     "slide_type": "slide"
    }
   },
   "source": [
    "<h2 align=\"center\">Preparing the local environment</h2>"
   ]
  },
  {
   "cell_type": "markdown",
   "metadata": {
    "slideshow": {
     "slide_type": "slide"
    }
   },
   "source": [
    "- Throughout this course, we will use 3 programming languages (C++, Java, and Python) to understand algorithms and try to use them in practice. \n",
    "\n",
    "\n",
    "- For this, you need to prepare your local environment as follows:"
   ]
  },
  {
   "cell_type": "markdown",
   "metadata": {},
   "source": [
    "<h3 align=\"center\">Downloads</h3>\n",
    "\n",
    "We will need the following files:\n",
    "\n",
    "- Visual Studio Code - A lightweight and powerful code editor:\n",
    " \n",
    "  https://code.visualstudio.com/?wt.mc_id=vscom_downloads\n",
    "\n",
    "- Visual Studio Build Tools 2019 - For C++ support, Download Build Tools for Visual Studio 2019:\n",
    " \n",
    "  https://visualstudio.microsoft.com/downloads/#build-tools-for-visual-studio-2019\n",
    "\n",
    "\n",
    "- OpenJDK 14 - For Java support, Download jdk-14.0.2-x64 MSI:\n",
    "\n",
    "  https://developers.redhat.com/products/openjdk/download\n",
    "\n",
    "\n",
    "- Python - For Python support:\n",
    "\n",
    "  https://www.python.org/downloads/"
   ]
  },
  {
   "cell_type": "markdown",
   "metadata": {},
   "source": [
    "<h3 align=\"center\">Installation</h3>\n",
    "\n",
    "- Installation of Visual Studio Code and OpenJDK is a very straightforward process - just follow the instructions.\n",
    "\n",
    "\n",
    "- When installing Python, you should check the Add Python 3.8 to PATH checkbox:\n",
    "\n",
    "\n",
    "  <center><img src=\"images/S1_Installation1.png\" width=\"800\" alt=\"Example\" /></center>\n",
    "\n",
    "\n",
    "- When installing Build Tools, make sure your window looks similar to this and just follow the instructions to install it:\n",
    "\n",
    "\n",
    "  <center><img src=\"images/S1_Installation2.jpg\" width=\"1000\" alt=\"Example\" /></center>"
   ]
  },
  {
   "cell_type": "markdown",
   "metadata": {
    "slideshow": {
     "slide_type": "slide"
    }
   },
   "source": [
    "<h3 align=\"center\">Visual Studio Code Extensions</h3>\n",
    "\n",
    "You will need to install the following Visual Studio Code (vscode) extensions:\n",
    "\n",
    "- C/C++ by Microsoft:\n",
    "\n",
    "  https://marketplace.visualstudio.com/items?itemName=ms-vscode.cpptools\n",
    "\n",
    "\n",
    "- Java Extension Pack by Microsoft:\n",
    "\n",
    "  https://marketplace.visualstudio.com/items?itemName=vscjava.vscode-java-pack\n",
    "\n",
    "\n",
    "- Python by Microsoft:\n",
    "\n",
    "  https://marketplace.visualstudio.com/items?itemName=ms-python.python\n"
   ]
  }
 ],
 "metadata": {
  "kernelspec": {
   "display_name": "Python 3",
   "language": "python",
   "name": "python3"
  },
  "language_info": {
   "codemirror_mode": {
    "name": "ipython",
    "version": 3
   },
   "file_extension": ".py",
   "mimetype": "text/x-python",
   "name": "python",
   "nbconvert_exporter": "python",
   "pygments_lexer": "ipython3",
   "version": "3.8.5"
  }
 },
 "nbformat": 4,
 "nbformat_minor": 2
}
