{
 "cells": [
  {
   "cell_type": "markdown",
   "metadata": {
    "slideshow": {
     "slide_type": "slide"
    }
   },
   "source": [
    "Course: **Algorithms and Their Analysis**\n",
    "<br>\n",
    "\n",
    "Title: **Lecture 3 - Matrix Multiplication**\n",
    "<br>\n",
    "Speaker: **Dr. Shota Tsiskaridze**\n",
    "\n",
    "\n",
    "Bibliography:\n",
    "<br> \n",
    "[1] Cormen, Thomas H. and Leiserson, Charles Eric and Rivest, Ronald Linn and Stein, Clifford Seth, *Introduction to Algorithms, 3rd Edition*, MIT Press, 2009 \n"
   ]
  },
  {
   "cell_type": "markdown",
   "metadata": {
    "slideshow": {
     "slide_type": "slide"
    }
   },
   "source": [
    "<h1 align=\"center\">Matrix Multiplication</h1>"
   ]
  },
  {
   "cell_type": "markdown",
   "metadata": {
    "slideshow": {
     "slide_type": "subslide"
    }
   },
   "source": [
    "- If $A = (a_{ij})$ and $B = (b_{ij})$ are square $n \\times n$ matrices, then in the product $C = A \\cdot B$ we define the entry $c_{ij}$, for $i, j = 1, 2, \\cdots, n$ by:\n",
    "\n",
    "  $$c_{ij} = \\sum_{k=1}^{n} a_{ik} b_{kj}.$$\n",
    "  \n",
    "  \n",
    "<img src=\"images/L3_Matrix_Multiplication.png\" width=\"800\" alt=\"Example\"  align=\"center\"/>\n"
   ]
  },
  {
   "cell_type": "markdown",
   "metadata": {},
   "source": [
    "<h3 align=\"center\">A Square Matrix Multiplicaton</h3>\n",
    "\n",
    "- Let's write the code that calculates $C$ directly.\n",
    "\n",
    "\n",
    "- $\\texttt{squareMatrixMultiply(A, B)}$:"
   ]
  },
  {
   "cell_type": "code",
   "execution_count": 1,
   "metadata": {},
   "outputs": [],
   "source": [
    "import numpy as np"
   ]
  },
  {
   "cell_type": "code",
   "execution_count": 2,
   "metadata": {},
   "outputs": [],
   "source": [
    "def squareMatrixMultiply(A, B):\n",
    "    l = A.shape[0]\n",
    "    m = A.shape[1]\n",
    "    n = B.shape[1]\n",
    "    C = np.empty((l, n))\n",
    "    for i in range(l):\n",
    "        for j in range(n):\n",
    "            C[[i],[j]] = 0\n",
    "            for k in range(m):\n",
    "                C[[i],[j]] = C[[i],[j]] + A[[i],[k]] *  B[[k],[j]] \n",
    "    return C            "
   ]
  },
  {
   "cell_type": "code",
   "execution_count": 3,
   "metadata": {
    "scrolled": true
   },
   "outputs": [
    {
     "name": "stdout",
     "output_type": "stream",
     "text": [
      "[[1.30536617 1.37436726 0.63359249 1.63995262 1.14679841 0.79734518]\n",
      " [1.83908714 0.99807115 0.88654619 1.83688413 1.17454512 1.07896399]\n",
      " [1.45295066 0.97567939 0.64912126 1.52339553 0.94051801 0.73005506]\n",
      " [1.89562212 1.23861608 0.97481515 2.03347646 1.40126533 1.25359771]\n",
      " [1.6855145  1.13716599 0.84016285 1.69900975 1.08610528 1.18754499]\n",
      " [1.77678019 1.18816424 0.89238952 1.80780758 1.12047863 1.1614089 ]\n",
      " [1.54486376 1.30747314 0.76723733 1.85510932 1.27262391 0.82871169]\n",
      " [1.27145929 0.90313446 0.58866707 1.36692471 0.90967374 0.74613316]\n",
      " [1.7597874  0.99836772 0.95208401 1.79639246 1.18990893 1.21182407]\n",
      " [1.3602556  1.14532438 0.46087023 1.29883249 0.77201665 0.88139486]]\n"
     ]
    }
   ],
   "source": [
    "l = 10\n",
    "m = 5\n",
    "n = 6\n",
    "\n",
    "A = np.random.random(size=(l, m))\n",
    "B = np.random.random(size=(m, n))\n",
    "\n",
    "C = squareMatrixMultiply(A,B)\n",
    "print(C)"
   ]
  },
  {
   "cell_type": "markdown",
   "metadata": {},
   "source": [
    "- We must compute $n^2$ matrix entries, and each is the sum of $n$ values, thus the $\\texttt{squareMatrixMultiply}$ procedure takes $\\Theta(n^3)$ time."
   ]
  },
  {
   "cell_type": "markdown",
   "metadata": {},
   "source": [
    "<h3 align=\"center\">A Simple Divide-and-Conquer Algorithm</h3>\n",
    "\n",
    "- Suppose that we partition each of $A$, $B$, and $C$ into four $\\frac{n}{2} \\cdot \\frac{n}{2}$ matricies:\n",
    "\n",
    "  $$A = \n",
    "\\begin{pmatrix}\n",
    "A_{11} & A_{12}\\\\ \n",
    "A_{21} & A_{22}\n",
    "\\end{pmatrix},\n",
    "B = \n",
    "\\begin{pmatrix}\n",
    "B_{11} & B_{12}\\\\ \n",
    "B_{21} & B_{22}\n",
    "\\end{pmatrix},\n",
    "C = \n",
    "\\begin{pmatrix}\n",
    "C_{11} & C_{12}\\\\ \n",
    "C_{21} & C_{22}\n",
    "\\end{pmatrix},\n",
    "$$\n",
    "\n",
    "  so that we rewrite the equation $C = A \\cdot B$ as:\n",
    "  \n",
    "  $$\n",
    "\\begin{pmatrix}\n",
    "C_{11} & C_{12}\\\\ \n",
    "C_{21} & C_{22}\n",
    "\\end{pmatrix} = \n",
    "\\begin{pmatrix}\n",
    "A_{11} & A_{12}\\\\ \n",
    "A_{21} & A_{22}\n",
    "\\end{pmatrix} \\cdot \n",
    "\\begin{pmatrix}\n",
    "B_{11} & B_{12}\\\\ \n",
    "B_{21} & B_{22}\n",
    "\\end{pmatrix}\n",
    ".$$\n",
    "\n",
    "- This corresponds to the four equations:\n",
    "\n",
    "  $$C_{11} = A_{11} \\cdot B_{11} + A_{12} \\cdot B_{21},$$\n",
    "  $$C_{12} = A_{11} \\cdot B_{12} + A_{12} \\cdot B_{22},$$\n",
    "  $$C_{21} = A_{21} \\cdot B_{11} + A_{22} \\cdot B_{21},$$\n",
    "  $$C_{22} = A_{21} \\cdot B_{12} + A_{22} \\cdot B_{22},$$\n",
    "  \n",
    "  or in matrix form:\n",
    "  \n",
    "  $$\\begin{pmatrix}\n",
    "C_{11} & C_{12}\\\\ \n",
    "C_{21} & C_{22}\n",
    "\\end{pmatrix} = \n",
    "\\begin{pmatrix}\n",
    "A_{11} \\cdot B_{11} + A_{12} \\cdot B_{21} & A_{11} \\cdot B_{12} + A_{12} \\cdot B_{22}\\\\ \n",
    "A_{21} \\cdot B_{11} + A_{22} \\cdot B_{21} & A_{21} \\cdot B_{12} + A_{22} \\cdot B_{22}\n",
    "\\end{pmatrix}$$\n",
    "  \n",
    "  \n",
    "  \n",
    "- $\\texttt{squareMatrixMultiplicationRecursive(A, B)}$:"
   ]
  },
  {
   "cell_type": "code",
   "execution_count": 4,
   "metadata": {},
   "outputs": [],
   "source": [
    "A = np.array([[1, 2, 3, 4], [5, 6, 7, 8], [9, 10, 11, 12], [13, 14, 15, 16]])\n",
    "B = np.array([[1, 2, 3, 4], [5, 6, 7, 8], [9, 10, 11, 12], [13, 14, 15, 16]])"
   ]
  },
  {
   "cell_type": "code",
   "execution_count": 5,
   "metadata": {},
   "outputs": [],
   "source": [
    "def divide(A): \n",
    "    \"\"\" \n",
    "    Divide a given matrix A into four matricies. \n",
    "    Input: n x n matrix \n",
    "    Output: tuple containing four n/2 x n/2 matrices corresponding to A11, A12, A21, A22\n",
    "    \"\"\"\n",
    "    m, n = A.shape \n",
    "    row, col = m//2, n//2\n",
    "    A11 = A[:row, :col]\n",
    "    A12 = A[:row, col:]\n",
    "    A21 = A[row:, :col]\n",
    "    A22 = A[row:, col:] \n",
    "    return A11, A12, A21, A22"
   ]
  },
  {
   "cell_type": "code",
   "execution_count": 6,
   "metadata": {},
   "outputs": [],
   "source": [
    "def squareMatrixMultiplicationRecursive(A, B): \n",
    "    \"\"\" \n",
    "    Computes matrix product by D&C approach, recursively. \n",
    "    Input: n x n matrix A and n x n marix Y \n",
    "    Output: n x n matrix, product of A and B \n",
    "    \"\"\"\n",
    "    # Base case when size of matrices is 1x1 \n",
    "    if len(A) == 1: \n",
    "        return A * B \n",
    "  \n",
    "    # Splitting the matrices into quadrants recursively.\n",
    "    A11, A12, A21, A22 = divide(A) \n",
    "    B11, B12, B21, B22 = divide(B) \n",
    "      \n",
    "    # Computing the values of the 4 quadrants of the final matrix c \n",
    "    C11 = squareMatrixMultiplicationRecursive(A11, B11) + squareMatrixMultiplicationRecursive (A12, B21)\n",
    "    C12 = squareMatrixMultiplicationRecursive(A11, B12) + squareMatrixMultiplicationRecursive (A12, B22)\n",
    "    C21 = squareMatrixMultiplicationRecursive(A21, B11) + squareMatrixMultiplicationRecursive (A22, B21)\n",
    "    C22 = squareMatrixMultiplicationRecursive(A21, B22) + squareMatrixMultiplicationRecursive (A22, B22)\n",
    "  \n",
    "    # Combining the 4 quadrants into a single matrix by stacking horizontally and vertically. \n",
    "    C = np.vstack((np.hstack((C11, C12)), np.hstack((C21, C22))))  \n",
    "  \n",
    "    return C"
   ]
  },
  {
   "cell_type": "code",
   "execution_count": 7,
   "metadata": {
    "scrolled": true
   },
   "outputs": [
    {
     "name": "stdout",
     "output_type": "stream",
     "text": [
      "[[ 90 100 110 120]\n",
      " [202 276 254 328]\n",
      " [314 356 550 592]\n",
      " [426 596 758 928]]\n"
     ]
    }
   ],
   "source": [
    "C = squareMatrixMultiplicationRecursive(A,B)\n",
    "print(C)"
   ]
  },
  {
   "cell_type": "markdown",
   "metadata": {},
   "source": [
    "- In $\\texttt{squareMatrixMultiplicationRecursive}$ procedure we do $8$ **multiplications** for matrices of size $n/2 \\times n/2$ and $4$ **additions**. \n",
    "\n",
    "\n",
    "- **Addition of two matrices** takes $\\Theta(n^2)$ time, so the running time of this procedure can be written as follows:\n",
    "\n",
    "  $$T(n) = 8T(n/2) + \\Theta(n^2).$$\n",
    "  \n",
    "  \n",
    "- From **Master's Theorem** we can obtain that **running time** of this procedure is $\\Theta(n^3)$, which is unfortunately same as the above naive algorithm."
   ]
  },
  {
   "cell_type": "markdown",
   "metadata": {},
   "source": [
    "<h3 align=\"center\">Strassen’s Method</h3>\n",
    "\n",
    "- In the above **D&C** algorithm, the main component for high running time is **8 recursive calls**.\n",
    "\n",
    "\n",
    "- The idea of **Strassen’s Method** is to **reduce** the **number** of recursive calls **to $7$**. \n",
    "\n",
    "\n",
    "- **Strassen’s Method** is similar to above simple **D&C** algorithmin the sense that this method also divide matrices to sub-matrices of size $n/2 \\times n/2$ as shown in the above diagram, but in **Strassen’s Method**, the four sub-matrices of result are calculated using following formula:\n",
    "\n",
    "  $$S_1  = B_{12} - B_{22},$$\n",
    "  $$S_2  = A_{11} + A_{12},$$\n",
    "  $$S_3  = A_{21} - A_{22},$$\n",
    "  $$S_4  = B_{21} - B_{11},$$\n",
    "  $$S_5  = A_{11} + A_{22},$$\n",
    "  $$S_6  = B_{11} + B_{22},$$\n",
    "  $$S_7  = A_{12} - A_{22},$$\n",
    "  $$S_8  = B_{21} + B_{22},$$\n",
    "  $$S_9  = A_{11} - A_{21},$$\n",
    "  $$S_{10} = B_{11} + B_{12},$$\n",
    " \n",
    "  and\n",
    "  \n",
    "  $$P_1 = A_{11} \\cdot S_1,$$\n",
    "  $$P_2 = S_2 \\cdot B_{22},$$\n",
    "  $$P_3 = S_3 \\cdot B_{11},$$\n",
    "  $$P_4 = A_{22} \\cdot S_4,$$\n",
    "  $$P_5 = S_5 \\cdot S_6,$$\n",
    "  $$P_6 = S_7 \\cdot S_8,$$\n",
    "  $$P_7 = S_9 \\cdot S_{10}.$$\n",
    "  \n",
    "  \n",
    "  \n",
    "  \n",
    "  \n",
    "- The $C = A \\cdot B$ can be calculated using this seven values:\n",
    "\n",
    "  $$\\begin{pmatrix}\n",
    "C_{11} & C_{12}\\\\ \n",
    "C_{21} & C_{22}\n",
    "\\end{pmatrix} = \n",
    "\\begin{pmatrix}\n",
    "P_5 + P_4 - P_2 + P_6 & P_1 + P_2\\\\ \n",
    "P_3 + P_4  & P_5 + P_1 - P_3 + P_7\n",
    "\\end{pmatrix}$$\n",
    "\n",
    "\n",
    "- Lets write the code for **Strassen's Method**.\n",
    "\n",
    "\n",
    "- $\\texttt{squareMatrixMultiplicationStrassen(A, B)}$:"
   ]
  },
  {
   "cell_type": "code",
   "execution_count": 8,
   "metadata": {},
   "outputs": [],
   "source": [
    "def squareMatrixMultiplicationStrassen(A, B): \n",
    "    \"\"\" \n",
    "    Computes matrix product by D&C approach, recursively. \n",
    "    Input: n x n matrix A and n x n marix Y \n",
    "    Output: n x n matrix, product of A and B \n",
    "    \"\"\"\n",
    "    # Base case when size of matrices is 1x1 \n",
    "    if len(A) == 1: \n",
    "        return A * B \n",
    "  \n",
    "    # Splitting the matrices into quadrants recursively.\n",
    "    A11, A12, A21, A22 = divide(A) \n",
    "    B11, B12, B21, B22 = divide(B) \n",
    "\n",
    "    # Computing the 7 products, recursively (p1, p2...p7) \n",
    "    p1 = squareMatrixMultiplicationStrassen(A11, B12 - B22)\n",
    "    p2 = squareMatrixMultiplicationStrassen(A11 + A12, B22)\n",
    "    p3 = squareMatrixMultiplicationStrassen(A21 + A22, B11)\n",
    "    p4 = squareMatrixMultiplicationStrassen(A22, B21 - B11)\n",
    "    p5 = squareMatrixMultiplicationStrassen(A11 + A22, B11 + B22)\n",
    "    p6 = squareMatrixMultiplicationStrassen(A12 - A22, B21 + B22)\n",
    "    p7 = squareMatrixMultiplicationStrassen(A11 - A21, B11 + B12)\n",
    "    \n",
    "\n",
    "    # Computing the values of the 4 quadrants of the final matrix c \n",
    "    C11 = p5 + p4 - p2 + p6   \n",
    "    C12 = p1 + p2            \n",
    "    C21 = p3 + p4             \n",
    "    C22 = p1 + p5 - p3 - p7   \n",
    "  \n",
    "    # Combining the 4 quadrants into a single matrix by stacking horizontally and vertically. \n",
    "    C = np.vstack((np.hstack((C11, C12)), np.hstack((C21, C22))))  \n",
    "  \n",
    "    return C"
   ]
  },
  {
   "cell_type": "code",
   "execution_count": 9,
   "metadata": {},
   "outputs": [
    {
     "name": "stdout",
     "output_type": "stream",
     "text": [
      "[[ 90 100 110 120]\n",
      " [202 228 254 280]\n",
      " [314 356 398 440]\n",
      " [426 484 542 600]]\n"
     ]
    }
   ],
   "source": [
    "C = squareMatrixMultiplicationStrassen(A,B)\n",
    "print(C)"
   ]
  },
  {
   "cell_type": "markdown",
   "metadata": {},
   "source": [
    "- In $\\texttt{squareMatrixMultiplicationStrassen}$ procedure we do $7$ **multiplications** for matrices of size $n/2 \\times n/2$, so the running time of this procude can be written as follows:\n",
    "\n",
    "  $$T(n) = 7T(n/2) + \\Theta(n^2).$$\n",
    "\n",
    "\n",
    "- - From **Master's Theorem** we can obtain that **running time** of this procedure is $\\Theta(n^{\\lg 7 })$, which is approximately $\\Theta(n^{2.807})$."
   ]
  },
  {
   "cell_type": "markdown",
   "metadata": {
    "slideshow": {
     "slide_type": "slide"
    }
   },
   "source": [
    "<h1 align=\"center\">End of Appendix B</h1>"
   ]
  }
 ],
 "metadata": {
  "kernelspec": {
   "display_name": "Python 3",
   "language": "python",
   "name": "python3"
  },
  "language_info": {
   "codemirror_mode": {
    "name": "ipython",
    "version": 3
   },
   "file_extension": ".py",
   "mimetype": "text/x-python",
   "name": "python",
   "nbconvert_exporter": "python",
   "pygments_lexer": "ipython3",
   "version": "3.8.5"
  }
 },
 "nbformat": 4,
 "nbformat_minor": 2
}
